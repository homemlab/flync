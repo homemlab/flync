{
 "cells": [
  {
   "cell_type": "code",
   "execution_count": 2,
   "metadata": {},
   "outputs": [],
   "source": [
    "from sklearn.ensemble import RandomForestClassifier\n",
    "from sklearn.model_selection import KFold, GridSearchCV\n",
    "from sklearn.metrics import accuracy_score, precision_score, recall_score, f1_score, roc_auc_score, RocCurveDisplay, make_scorer, mean_squared_error, auc, confusion_matrix, ConfusionMatrixDisplay, precision_recall_curve, PrecisionRecallDisplay, roc_curve, average_precision_score\n",
    "import matplotlib.pyplot as plt\n",
    "import pandas as pd\n",
    "import numpy as np\n",
    "from numpy import interp\n",
    "import pickle\n",
    "from pathlib import Path\n",
    "import scikitplot as skplt\n",
    "import matplotlib as mpl\n",
    "%matplotlib inline"
   ]
  },
  {
   "cell_type": "code",
   "execution_count": 3,
   "metadata": {},
   "outputs": [],
   "source": [
    "# Be sure that final script is absolutely one level down repo root directory (e.g. /scripts/)\n",
    "cwd = Path.cwd()\n",
    "appdir = cwd.parents[0]\n",
    "model_path = appdir/\"model\"\n",
    "lncrna_path = model_path/\"lncrna\"\n",
    "not_lncrna_path = appdir/\"not_lncrna\""
   ]
  },
  {
   "cell_type": "code",
   "execution_count": 4,
   "metadata": {},
   "outputs": [
    {
     "name": "stdout",
     "output_type": "stream",
     "text": [
      "Dropped 0.032% of rows from the original dataset due to NA values\n"
     ]
    }
   ],
   "source": [
    "lncrna=pd.read_csv(model_path/'X_train_lncrna.csv')\n",
    "lncrna[\"lncRNA\"] = True\n",
    "not_lncrna=pd.read_csv(model_path/'X_train_not_lncrna.csv')\n",
    "not_lncrna[\"lncRNA\"] = False\n",
    "lncrna.drop([\"mfe\", \"cov_me3\", \"mean_pPcons27\"], axis=1, inplace=True)\n",
    "not_lncrna.drop([\"mfe\", \"cov_me3\", \"mean_pPcons27\"], axis=1, inplace=True)\n",
    "features = pd.DataFrame({})\n",
    "features = pd.concat([lncrna, not_lncrna], ignore_index=True)\n",
    "features.sort_values(ascending=True, by=[\"start\", \"end\", \"name\"], inplace=True)\n",
    "\n",
    "# I previously thought that droping NaN values was best, but it doesn't seem right.\n",
    "# Where there is no record for any of the UCSC tracks we will substitute NaN to 0.0\n",
    "# The following code was removed\n",
    "# features_clean = features.dropna(axis=0, how='any')\n",
    "# dropped = 1 - len(features_clean) / len(features)\n",
    "# print('Dropped ' + str(round(dropped, 3) * 100) + '% of rows from the original dataset due to NA values')\n",
    "\n",
    "# Fill NA values with zeros\n",
    "features_clean = features.fillna(0)\n",
    "\n",
    "# Drop rows that only have zeros for UCSC features (columns 4-11)\n",
    "features_clean = features_clean[features_clean.iloc[:,4:12].sum(axis=1) != 0]\n",
    "dropped = 1 - len(features_clean) / len(features)\n",
    "print('Dropped ' + str(round(dropped, 5) * 100) + '% of rows from the original dataset due to NA values')\n",
    "\n",
    "features_clean.reset_index(inplace=True, drop=True)\n",
    "\n",
    "X = features_clean.iloc[:,3:-1]\n",
    "y = features_clean.iloc[:,-1]"
   ]
  },
  {
   "cell_type": "code",
   "execution_count": 5,
   "metadata": {},
   "outputs": [
    {
     "data": {
      "text/plain": [
       "((236275, 13), (236199, 13))"
      ]
     },
     "execution_count": 5,
     "metadata": {},
     "output_type": "execute_result"
    }
   ],
   "source": [
    "features.shape, features_clean.shape"
   ]
  },
  {
   "cell_type": "code",
   "execution_count": 6,
   "metadata": {},
   "outputs": [
    {
     "data": {
      "text/plain": [
       "False    228535\n",
       "True       7664\n",
       "Name: lncRNA, dtype: int64"
      ]
     },
     "execution_count": 6,
     "metadata": {},
     "output_type": "execute_result"
    }
   ],
   "source": [
    "y.value_counts()"
   ]
  },
  {
   "cell_type": "code",
   "execution_count": 7,
   "metadata": {},
   "outputs": [
    {
     "data": {
      "text/html": [
       "<div>\n",
       "<style scoped>\n",
       "    .dataframe tbody tr th:only-of-type {\n",
       "        vertical-align: middle;\n",
       "    }\n",
       "\n",
       "    .dataframe tbody tr th {\n",
       "        vertical-align: top;\n",
       "    }\n",
       "\n",
       "    .dataframe thead th {\n",
       "        text-align: right;\n",
       "    }\n",
       "</style>\n",
       "<table border=\"1\" class=\"dataframe\">\n",
       "  <thead>\n",
       "    <tr style=\"text-align: right;\">\n",
       "      <th></th>\n",
       "      <th>length</th>\n",
       "      <th>bestTSS</th>\n",
       "      <th>bestTSS_inside</th>\n",
       "      <th>mean_gc</th>\n",
       "      <th>mean_remap</th>\n",
       "      <th>cov_tfbs</th>\n",
       "      <th>cov_pol2</th>\n",
       "      <th>mean_pcons27</th>\n",
       "      <th>mean_pPcons124</th>\n",
       "    </tr>\n",
       "  </thead>\n",
       "  <tbody>\n",
       "    <tr>\n",
       "      <th>0</th>\n",
       "      <td>201</td>\n",
       "      <td>1.0</td>\n",
       "      <td>1.0</td>\n",
       "      <td>29.2537</td>\n",
       "      <td>83.5622</td>\n",
       "      <td>0.990050</td>\n",
       "      <td>0.000000</td>\n",
       "      <td>0.843677</td>\n",
       "      <td>3.25700</td>\n",
       "    </tr>\n",
       "    <tr>\n",
       "      <th>1</th>\n",
       "      <td>4161</td>\n",
       "      <td>1.0</td>\n",
       "      <td>534.0</td>\n",
       "      <td>35.3232</td>\n",
       "      <td>255.9110</td>\n",
       "      <td>0.958904</td>\n",
       "      <td>0.187455</td>\n",
       "      <td>0.907409</td>\n",
       "      <td>7.34410</td>\n",
       "    </tr>\n",
       "    <tr>\n",
       "      <th>2</th>\n",
       "      <td>267</td>\n",
       "      <td>1.0</td>\n",
       "      <td>6.0</td>\n",
       "      <td>39.0262</td>\n",
       "      <td>228.8610</td>\n",
       "      <td>1.000000</td>\n",
       "      <td>0.000000</td>\n",
       "      <td>0.996745</td>\n",
       "      <td>8.21004</td>\n",
       "    </tr>\n",
       "    <tr>\n",
       "      <th>3</th>\n",
       "      <td>2084</td>\n",
       "      <td>2.0</td>\n",
       "      <td>48.0</td>\n",
       "      <td>39.3186</td>\n",
       "      <td>257.7330</td>\n",
       "      <td>0.941939</td>\n",
       "      <td>0.201056</td>\n",
       "      <td>0.997004</td>\n",
       "      <td>10.21450</td>\n",
       "    </tr>\n",
       "    <tr>\n",
       "      <th>4</th>\n",
       "      <td>175</td>\n",
       "      <td>1.0</td>\n",
       "      <td>4.0</td>\n",
       "      <td>37.3714</td>\n",
       "      <td>405.5890</td>\n",
       "      <td>0.977143</td>\n",
       "      <td>0.480000</td>\n",
       "      <td>0.998274</td>\n",
       "      <td>9.99439</td>\n",
       "    </tr>\n",
       "    <tr>\n",
       "      <th>...</th>\n",
       "      <td>...</td>\n",
       "      <td>...</td>\n",
       "      <td>...</td>\n",
       "      <td>...</td>\n",
       "      <td>...</td>\n",
       "      <td>...</td>\n",
       "      <td>...</td>\n",
       "      <td>...</td>\n",
       "      <td>...</td>\n",
       "    </tr>\n",
       "    <tr>\n",
       "      <th>236194</th>\n",
       "      <td>569</td>\n",
       "      <td>0.0</td>\n",
       "      <td>0.0</td>\n",
       "      <td>46.1160</td>\n",
       "      <td>0.0000</td>\n",
       "      <td>0.949033</td>\n",
       "      <td>0.000000</td>\n",
       "      <td>0.000000</td>\n",
       "      <td>0.00000</td>\n",
       "    </tr>\n",
       "    <tr>\n",
       "      <th>236195</th>\n",
       "      <td>90</td>\n",
       "      <td>0.0</td>\n",
       "      <td>0.0</td>\n",
       "      <td>56.6667</td>\n",
       "      <td>0.0000</td>\n",
       "      <td>0.966667</td>\n",
       "      <td>0.000000</td>\n",
       "      <td>0.000000</td>\n",
       "      <td>0.00000</td>\n",
       "    </tr>\n",
       "    <tr>\n",
       "      <th>236196</th>\n",
       "      <td>90</td>\n",
       "      <td>0.0</td>\n",
       "      <td>0.0</td>\n",
       "      <td>56.6667</td>\n",
       "      <td>0.0000</td>\n",
       "      <td>0.966667</td>\n",
       "      <td>0.000000</td>\n",
       "      <td>0.000000</td>\n",
       "      <td>0.00000</td>\n",
       "    </tr>\n",
       "    <tr>\n",
       "      <th>236197</th>\n",
       "      <td>30</td>\n",
       "      <td>0.0</td>\n",
       "      <td>0.0</td>\n",
       "      <td>29.3333</td>\n",
       "      <td>0.0000</td>\n",
       "      <td>1.000000</td>\n",
       "      <td>0.000000</td>\n",
       "      <td>0.000000</td>\n",
       "      <td>0.00000</td>\n",
       "    </tr>\n",
       "    <tr>\n",
       "      <th>236198</th>\n",
       "      <td>30</td>\n",
       "      <td>0.0</td>\n",
       "      <td>0.0</td>\n",
       "      <td>29.3333</td>\n",
       "      <td>0.0000</td>\n",
       "      <td>1.000000</td>\n",
       "      <td>0.000000</td>\n",
       "      <td>0.000000</td>\n",
       "      <td>0.00000</td>\n",
       "    </tr>\n",
       "  </tbody>\n",
       "</table>\n",
       "<p>236199 rows × 9 columns</p>\n",
       "</div>"
      ],
      "text/plain": [
       "        length  bestTSS  bestTSS_inside  mean_gc  mean_remap  cov_tfbs  \\\n",
       "0          201      1.0             1.0  29.2537     83.5622  0.990050   \n",
       "1         4161      1.0           534.0  35.3232    255.9110  0.958904   \n",
       "2          267      1.0             6.0  39.0262    228.8610  1.000000   \n",
       "3         2084      2.0            48.0  39.3186    257.7330  0.941939   \n",
       "4          175      1.0             4.0  37.3714    405.5890  0.977143   \n",
       "...        ...      ...             ...      ...         ...       ...   \n",
       "236194     569      0.0             0.0  46.1160      0.0000  0.949033   \n",
       "236195      90      0.0             0.0  56.6667      0.0000  0.966667   \n",
       "236196      90      0.0             0.0  56.6667      0.0000  0.966667   \n",
       "236197      30      0.0             0.0  29.3333      0.0000  1.000000   \n",
       "236198      30      0.0             0.0  29.3333      0.0000  1.000000   \n",
       "\n",
       "        cov_pol2  mean_pcons27  mean_pPcons124  \n",
       "0       0.000000      0.843677         3.25700  \n",
       "1       0.187455      0.907409         7.34410  \n",
       "2       0.000000      0.996745         8.21004  \n",
       "3       0.201056      0.997004        10.21450  \n",
       "4       0.480000      0.998274         9.99439  \n",
       "...          ...           ...             ...  \n",
       "236194  0.000000      0.000000         0.00000  \n",
       "236195  0.000000      0.000000         0.00000  \n",
       "236196  0.000000      0.000000         0.00000  \n",
       "236197  0.000000      0.000000         0.00000  \n",
       "236198  0.000000      0.000000         0.00000  \n",
       "\n",
       "[236199 rows x 9 columns]"
      ]
     },
     "execution_count": 7,
     "metadata": {},
     "output_type": "execute_result"
    }
   ],
   "source": [
    "X.reset_index(inplace=True, drop=True)\n",
    "X"
   ]
  },
  {
   "cell_type": "markdown",
   "metadata": {},
   "source": [
    "## Finding best parameters for the Random Forest Classifier"
   ]
  },
  {
   "cell_type": "code",
   "execution_count": 6,
   "metadata": {},
   "outputs": [
    {
     "name": "stdout",
     "output_type": "stream",
     "text": [
      "Fitting 5 folds for each of 320 candidates, totalling 1600 fits\n",
      "[CV 5/5] END max_depth=3, min_samples_leaf=1, min_samples_split=4, n_estimators=10;, score=0.667 total time=   5.6s\n",
      "[CV 2/5] END max_depth=3, min_samples_leaf=1, min_samples_split=4, n_estimators=10;, score=0.882 total time=   5.8s\n",
      "[CV 1/5] END max_depth=3, min_samples_leaf=1, min_samples_split=2, n_estimators=10;, score=0.846 total time=   5.9s\n",
      "[CV 4/5] END max_depth=3, min_samples_leaf=1, min_samples_split=2, n_estimators=10;, score=0.895 total time=   5.9s\n",
      "[CV 3/5] END max_depth=3, min_samples_leaf=1, min_samples_split=2, n_estimators=10;, score=0.877 total time=   6.1s\n",
      "[CV 3/5] END max_depth=3, min_samples_leaf=1, min_samples_split=4, n_estimators=10;, score=0.877 total time=   6.1s\n",
      "[CV 1/5] END max_depth=3, min_samples_leaf=1, min_samples_split=4, n_estimators=10;, score=0.846 total time=   6.3s\n",
      "[CV 4/5] END max_depth=3, min_samples_leaf=1, min_samples_split=4, n_estimators=10;, score=0.895 total time=   6.4s\n",
      "[CV 2/5] END max_depth=3, min_samples_leaf=1, min_samples_split=2, n_estimators=10;, score=0.882 total time=   6.5s\n",
      "[CV 5/5] END max_depth=3, min_samples_leaf=1, min_samples_split=2, n_estimators=10;, score=0.667 total time=   6.6s\n",
      "[CV 1/5] END max_depth=3, min_samples_leaf=1, min_samples_split=2, n_estimators=25;, score=0.847 total time=   6.8s\n",
      "[CV 2/5] END max_depth=3, min_samples_leaf=1, min_samples_split=4, n_estimators=25;, score=0.887 total time=   6.9s\n",
      "[CV 5/5] END max_depth=3, min_samples_leaf=1, min_samples_split=2, n_estimators=25;, score=0.330 total time=   6.9s\n",
      "[CV 3/5] END max_depth=3, min_samples_leaf=1, min_samples_split=2, n_estimators=25;, score=0.881 total time=   6.9s\n",
      "[CV 3/5] END max_depth=3, min_samples_leaf=1, min_samples_split=4, n_estimators=25;, score=0.881 total time=   7.0s\n",
      "[CV 1/5] END max_depth=3, min_samples_leaf=1, min_samples_split=4, n_estimators=25;, score=0.847 total time=   7.1s\n",
      "[CV 2/5] END max_depth=3, min_samples_leaf=1, min_samples_split=2, n_estimators=25;, score=0.887 total time=   7.2s\n",
      "[CV 4/5] END max_depth=3, min_samples_leaf=1, min_samples_split=2, n_estimators=25;, score=0.898 total time=   7.4s\n",
      "[CV 4/5] END max_depth=3, min_samples_leaf=1, min_samples_split=4, n_estimators=25;, score=0.898 total time=   7.6s\n",
      "[CV 5/5] END max_depth=3, min_samples_leaf=1, min_samples_split=4, n_estimators=25;, score=0.330 total time=   7.7s\n",
      "[CV 1/5] END max_depth=3, min_samples_leaf=1, min_samples_split=2, n_estimators=50;, score=0.847 total time=   8.4s\n",
      "[CV 2/5] END max_depth=3, min_samples_leaf=1, min_samples_split=2, n_estimators=50;, score=0.890 total time=   8.4s\n",
      "[CV 3/5] END max_depth=3, min_samples_leaf=1, min_samples_split=2, n_estimators=50;, score=0.886 total time=   8.7s\n",
      "[CV 5/5] END max_depth=3, min_samples_leaf=1, min_samples_split=2, n_estimators=50;, score=0.303 total time=   8.7s\n",
      "[CV 2/5] END max_depth=3, min_samples_leaf=1, min_samples_split=4, n_estimators=50;, score=0.890 total time=   8.7s\n",
      "[CV 4/5] END max_depth=3, min_samples_leaf=1, min_samples_split=2, n_estimators=50;, score=0.899 total time=   8.9s\n",
      "[CV 1/5] END max_depth=3, min_samples_leaf=1, min_samples_split=4, n_estimators=50;, score=0.847 total time=  10.1s\n",
      "[CV 1/5] END max_depth=3, min_samples_leaf=1, min_samples_split=6, n_estimators=10;, score=0.846 total time=   5.3s\n",
      "[CV 3/5] END max_depth=3, min_samples_leaf=1, min_samples_split=2, n_estimators=100;, score=0.885 total time=  12.4s\n",
      "[CV 1/5] END max_depth=3, min_samples_leaf=1, min_samples_split=2, n_estimators=100;, score=0.850 total time=  12.8s\n",
      "[CV 4/5] END max_depth=3, min_samples_leaf=1, min_samples_split=6, n_estimators=10;, score=0.895 total time=   5.8s\n",
      "[CV 2/5] END max_depth=3, min_samples_leaf=1, min_samples_split=6, n_estimators=10;, score=0.882 total time=   6.1s\n",
      "[CV 5/5] END max_depth=3, min_samples_leaf=1, min_samples_split=2, n_estimators=100;, score=0.279 total time=  14.5s\n",
      "[CV 5/5] END max_depth=3, min_samples_leaf=1, min_samples_split=6, n_estimators=10;, score=0.667 total time=   7.7s\n",
      "[CV 4/5] END max_depth=3, min_samples_leaf=1, min_samples_split=2, n_estimators=100;, score=0.900 total time=  14.9s\n",
      "[CV 3/5] END max_depth=3, min_samples_leaf=1, min_samples_split=6, n_estimators=10;, score=0.877 total time=   8.1s\n",
      "[CV 2/5] END max_depth=3, min_samples_leaf=1, min_samples_split=2, n_estimators=100;, score=0.891 total time=  16.3s\n",
      "[CV 2/5] END max_depth=3, min_samples_leaf=1, min_samples_split=6, n_estimators=25;, score=0.887 total time=  10.2s\n",
      "[CV 1/5] END max_depth=3, min_samples_leaf=1, min_samples_split=6, n_estimators=25;, score=0.847 total time=  10.2s\n",
      "[CV 5/5] END max_depth=3, min_samples_leaf=1, min_samples_split=4, n_estimators=50;, score=0.303 total time=  11.2s\n",
      "[CV 3/5] END max_depth=3, min_samples_leaf=1, min_samples_split=6, n_estimators=25;, score=0.881 total time=  10.6s\n",
      "[CV 5/5] END max_depth=3, min_samples_leaf=1, min_samples_split=6, n_estimators=25;, score=0.330 total time=  10.4s\n",
      "[CV 4/5] END max_depth=3, min_samples_leaf=1, min_samples_split=4, n_estimators=50;, score=0.899 total time=  12.2s\n",
      "[CV 3/5] END max_depth=3, min_samples_leaf=1, min_samples_split=4, n_estimators=50;, score=0.886 total time=  12.3s\n",
      "[CV 4/5] END max_depth=3, min_samples_leaf=1, min_samples_split=6, n_estimators=25;, score=0.898 total time=  10.8s\n",
      "[CV 5/5] END max_depth=3, min_samples_leaf=1, min_samples_split=4, n_estimators=100;, score=0.279 total time=  12.9s\n",
      "[CV 2/5] END max_depth=3, min_samples_leaf=1, min_samples_split=4, n_estimators=100;, score=0.891 total time=  13.2s\n",
      "[CV 1/5] END max_depth=3, min_samples_leaf=1, min_samples_split=6, n_estimators=50;, score=0.847 total time=  11.4s\n",
      "[CV 4/5] END max_depth=3, min_samples_leaf=1, min_samples_split=6, n_estimators=50;, score=0.899 total time=  11.0s\n",
      "[CV 2/5] END max_depth=3, min_samples_leaf=1, min_samples_split=8, n_estimators=10;, score=0.882 total time=   7.2s\n",
      "[CV 3/5] END max_depth=3, min_samples_leaf=1, min_samples_split=6, n_estimators=50;, score=0.886 total time=  11.4s\n",
      "[CV 3/5] END max_depth=3, min_samples_leaf=1, min_samples_split=4, n_estimators=100;, score=0.885 total time=  13.7s\n",
      "[CV 4/5] END max_depth=3, min_samples_leaf=1, min_samples_split=4, n_estimators=100;, score=0.900 total time=  13.8s\n",
      "[CV 1/5] END max_depth=3, min_samples_leaf=1, min_samples_split=8, n_estimators=10;, score=0.846 total time=   8.0s\n",
      "[CV 3/5] END max_depth=3, min_samples_leaf=1, min_samples_split=8, n_estimators=10;, score=0.877 total time=   7.9s\n",
      "[CV 1/5] END max_depth=3, min_samples_leaf=1, min_samples_split=4, n_estimators=100;, score=0.850 total time=  14.6s\n",
      "[CV 2/5] END max_depth=3, min_samples_leaf=1, min_samples_split=6, n_estimators=50;, score=0.890 total time=  12.6s\n",
      "[CV 5/5] END max_depth=3, min_samples_leaf=1, min_samples_split=6, n_estimators=50;, score=0.303 total time=  12.5s\n"
     ]
    },
    {
     "name": "stderr",
     "output_type": "stream",
     "text": [
      "/users3/chlab/rsantos/anaconda3/envs/predictMod/lib/python3.10/site-packages/joblib/externals/loky/process_executor.py:702: UserWarning: A worker stopped while some jobs were given to the executor. This can be caused by a too short worker timeout or by a memory leak.\n",
      "  warnings.warn(\n"
     ]
    },
    {
     "name": "stdout",
     "output_type": "stream",
     "text": [
      "[CV 4/5] END max_depth=3, min_samples_leaf=1, min_samples_split=8, n_estimators=10;, score=0.895 total time=   9.0s\n",
      "[CV 5/5] END max_depth=3, min_samples_leaf=1, min_samples_split=8, n_estimators=10;, score=0.667 total time=   7.6s\n",
      "[CV 3/5] END max_depth=3, min_samples_leaf=1, min_samples_split=6, n_estimators=100;, score=0.885 total time=  13.6s\n",
      "[CV 3/5] END max_depth=3, min_samples_leaf=1, min_samples_split=8, n_estimators=25;, score=0.881 total time=   7.8s\n",
      "[CV 1/5] END max_depth=3, min_samples_leaf=1, min_samples_split=8, n_estimators=25;, score=0.847 total time=   8.5s\n",
      "[CV 5/5] END max_depth=3, min_samples_leaf=1, min_samples_split=8, n_estimators=25;, score=0.330 total time=   6.8s\n",
      "[CV 2/5] END max_depth=3, min_samples_leaf=1, min_samples_split=6, n_estimators=100;, score=0.891 total time=  14.9s\n",
      "[CV 2/5] END max_depth=3, min_samples_leaf=1, min_samples_split=8, n_estimators=25;, score=0.887 total time=   9.1s\n",
      "[CV 1/5] END max_depth=3, min_samples_leaf=1, min_samples_split=6, n_estimators=100;, score=0.850 total time=  15.5s\n",
      "[CV 4/5] END max_depth=3, min_samples_leaf=1, min_samples_split=8, n_estimators=25;, score=0.898 total time=   8.2s\n",
      "[CV 4/5] END max_depth=3, min_samples_leaf=1, min_samples_split=6, n_estimators=100;, score=0.900 total time=  15.0s\n",
      "[CV 5/5] END max_depth=3, min_samples_leaf=1, min_samples_split=6, n_estimators=100;, score=0.279 total time=  14.4s\n",
      "[CV 1/5] END max_depth=3, min_samples_leaf=1, min_samples_split=10, n_estimators=10;, score=0.846 total time=   5.5s\n",
      "[CV 3/5] END max_depth=3, min_samples_leaf=1, min_samples_split=8, n_estimators=50;, score=0.886 total time=   8.5s\n",
      "[CV 3/5] END max_depth=3, min_samples_leaf=1, min_samples_split=10, n_estimators=10;, score=0.877 total time=   4.5s\n",
      "[CV 2/5] END max_depth=3, min_samples_leaf=1, min_samples_split=8, n_estimators=50;, score=0.890 total time=   8.8s\n",
      "[CV 1/5] END max_depth=3, min_samples_leaf=1, min_samples_split=8, n_estimators=50;, score=0.847 total time=   9.5s\n",
      "[CV 2/5] END max_depth=3, min_samples_leaf=1, min_samples_split=10, n_estimators=10;, score=0.882 total time=   5.6s\n",
      "[CV 4/5] END max_depth=3, min_samples_leaf=1, min_samples_split=10, n_estimators=10;, score=0.895 total time=   4.9s\n",
      "[CV 5/5] END max_depth=3, min_samples_leaf=1, min_samples_split=8, n_estimators=50;, score=0.303 total time=   8.9s\n",
      "[CV 4/5] END max_depth=3, min_samples_leaf=1, min_samples_split=8, n_estimators=50;, score=0.899 total time=  10.3s\n",
      "[CV 5/5] END max_depth=3, min_samples_leaf=1, min_samples_split=10, n_estimators=10;, score=0.667 total time=   5.7s\n",
      "[CV 1/5] END max_depth=3, min_samples_leaf=1, min_samples_split=10, n_estimators=25;, score=0.847 total time=   6.5s\n",
      "[CV 2/5] END max_depth=3, min_samples_leaf=1, min_samples_split=8, n_estimators=100;, score=0.891 total time=  10.9s\n",
      "[CV 5/5] END max_depth=3, min_samples_leaf=1, min_samples_split=8, n_estimators=100;, score=0.279 total time=  10.2s\n",
      "[CV 2/5] END max_depth=3, min_samples_leaf=1, min_samples_split=10, n_estimators=25;, score=0.887 total time=   7.6s\n",
      "[CV 3/5] END max_depth=3, min_samples_leaf=1, min_samples_split=8, n_estimators=100;, score=0.885 total time=  11.2s\n",
      "[CV 1/5] END max_depth=3, min_samples_leaf=1, min_samples_split=8, n_estimators=100;, score=0.850 total time=  11.7s\n",
      "[CV 3/5] END max_depth=3, min_samples_leaf=1, min_samples_split=10, n_estimators=25;, score=0.881 total time=   8.4s\n",
      "[CV 4/5] END max_depth=3, min_samples_leaf=1, min_samples_split=10, n_estimators=25;, score=0.898 total time=   8.3s\n",
      "[CV 5/5] END max_depth=3, min_samples_leaf=1, min_samples_split=10, n_estimators=25;, score=0.330 total time=   8.3s\n",
      "[CV 4/5] END max_depth=3, min_samples_leaf=1, min_samples_split=8, n_estimators=100;, score=0.900 total time=  12.3s\n",
      "[CV 1/5] END max_depth=3, min_samples_leaf=1, min_samples_split=10, n_estimators=50;, score=0.847 total time=   8.7s\n",
      "[CV 2/5] END max_depth=3, min_samples_leaf=2, min_samples_split=2, n_estimators=10;, score=0.882 total time=   5.0s\n",
      "[CV 3/5] END max_depth=3, min_samples_leaf=2, min_samples_split=2, n_estimators=10;, score=0.877 total time=   5.2s\n",
      "[CV 1/5] END max_depth=3, min_samples_leaf=2, min_samples_split=2, n_estimators=10;, score=0.847 total time=   5.8s\n",
      "[CV 4/5] END max_depth=3, min_samples_leaf=2, min_samples_split=2, n_estimators=10;, score=0.895 total time=   5.0s\n",
      "[CV 3/5] END max_depth=3, min_samples_leaf=1, min_samples_split=10, n_estimators=50;, score=0.886 total time=   9.6s\n",
      "[CV 2/5] END max_depth=3, min_samples_leaf=1, min_samples_split=10, n_estimators=50;, score=0.890 total time=   9.7s\n",
      "[CV 4/5] END max_depth=3, min_samples_leaf=1, min_samples_split=10, n_estimators=50;, score=0.899 total time=   9.8s\n",
      "[CV 5/5] END max_depth=3, min_samples_leaf=1, min_samples_split=10, n_estimators=50;, score=0.303 total time=   9.8s\n",
      "[CV 5/5] END max_depth=3, min_samples_leaf=2, min_samples_split=2, n_estimators=10;, score=0.667 total time=   5.9s\n",
      "[CV 1/5] END max_depth=3, min_samples_leaf=1, min_samples_split=10, n_estimators=100;, score=0.850 total time=  11.1s\n",
      "[CV 1/5] END max_depth=3, min_samples_leaf=2, min_samples_split=2, n_estimators=25;, score=0.848 total time=   6.9s\n",
      "[CV 4/5] END max_depth=3, min_samples_leaf=1, min_samples_split=10, n_estimators=100;, score=0.900 total time=  10.9s\n",
      "[CV 3/5] END max_depth=3, min_samples_leaf=1, min_samples_split=10, n_estimators=100;, score=0.885 total time=  11.3s\n",
      "[CV 5/5] END max_depth=3, min_samples_leaf=1, min_samples_split=10, n_estimators=100;, score=0.279 total time=  11.1s\n",
      "[CV 5/5] END max_depth=3, min_samples_leaf=2, min_samples_split=2, n_estimators=25;, score=0.323 total time=   7.4s\n",
      "[CV 1/5] END max_depth=3, min_samples_leaf=2, min_samples_split=2, n_estimators=50;, score=0.847 total time=   7.6s\n",
      "[CV 2/5] END max_depth=3, min_samples_leaf=1, min_samples_split=10, n_estimators=100;, score=0.891 total time=  12.8s\n",
      "[CV 2/5] END max_depth=3, min_samples_leaf=2, min_samples_split=2, n_estimators=50;, score=0.889 total time=   7.8s\n",
      "[CV 5/5] END max_depth=3, min_samples_leaf=2, min_samples_split=2, n_estimators=50;, score=0.331 total time=   7.8s\n",
      "[CV 3/5] END max_depth=3, min_samples_leaf=2, min_samples_split=2, n_estimators=50;, score=0.886 total time=   8.8s\n",
      "[CV 2/5] END max_depth=3, min_samples_leaf=2, min_samples_split=4, n_estimators=10;, score=0.882 total time=   5.2s\n",
      "[CV 5/5] END max_depth=3, min_samples_leaf=2, min_samples_split=4, n_estimators=10;, score=0.667 total time=   5.1s\n",
      "[CV 4/5] END max_depth=3, min_samples_leaf=2, min_samples_split=4, n_estimators=10;, score=0.895 total time=   5.5s\n",
      "[CV 4/5] END max_depth=3, min_samples_leaf=2, min_samples_split=2, n_estimators=50;, score=0.899 total time=   9.6s\n",
      "[CV 1/5] END max_depth=3, min_samples_leaf=2, min_samples_split=4, n_estimators=10;, score=0.847 total time=   7.2s\n",
      "[CV 3/5] END max_depth=3, min_samples_leaf=2, min_samples_split=4, n_estimators=10;, score=0.877 total time=   7.3s\n",
      "[CV 4/5] END max_depth=3, min_samples_leaf=2, min_samples_split=4, n_estimators=25;, score=0.898 total time=   7.6s\n",
      "[CV 5/5] END max_depth=3, min_samples_leaf=2, min_samples_split=4, n_estimators=25;, score=0.323 total time=   7.8s\n",
      "[CV 4/5] END max_depth=3, min_samples_leaf=2, min_samples_split=2, n_estimators=100;, score=0.900 total time=  11.9s\n",
      "[CV 1/5] END max_depth=3, min_samples_leaf=2, min_samples_split=2, n_estimators=100;, score=0.850 total time=  13.0s\n",
      "[CV 3/5] END max_depth=3, min_samples_leaf=2, min_samples_split=6, n_estimators=10;, score=0.877 total time=   4.4s\n",
      "[CV 3/5] END max_depth=3, min_samples_leaf=2, min_samples_split=2, n_estimators=100;, score=0.885 total time=  12.9s\n",
      "[CV 1/5] END max_depth=3, min_samples_leaf=2, min_samples_split=6, n_estimators=10;, score=0.847 total time=   5.1s\n",
      "[CV 1/5] END max_depth=3, min_samples_leaf=2, min_samples_split=4, n_estimators=50;, score=0.847 total time=   9.1s\n",
      "[CV 2/5] END max_depth=3, min_samples_leaf=2, min_samples_split=6, n_estimators=10;, score=0.882 total time=   5.1s\n",
      "[CV 5/5] END max_depth=3, min_samples_leaf=2, min_samples_split=2, n_estimators=100;, score=0.299 total time=  12.5s\n",
      "[CV 2/5] END max_depth=3, min_samples_leaf=2, min_samples_split=4, n_estimators=50;, score=0.889 total time=   9.2s\n",
      "[CV 2/5] END max_depth=3, min_samples_leaf=2, min_samples_split=2, n_estimators=100;, score=0.891 total time=  13.7s\n",
      "[CV 3/5] END max_depth=3, min_samples_leaf=2, min_samples_split=4, n_estimators=50;, score=0.886 total time=   9.3s\n",
      "[CV 4/5] END max_depth=3, min_samples_leaf=2, min_samples_split=4, n_estimators=50;, score=0.899 total time=   9.2s\n",
      "[CV 5/5] END max_depth=3, min_samples_leaf=2, min_samples_split=4, n_estimators=50;, score=0.331 total time=   8.6s\n",
      "[CV 5/5] END max_depth=3, min_samples_leaf=2, min_samples_split=6, n_estimators=10;, score=0.667 total time=   6.7s\n",
      "[CV 1/5] END max_depth=3, min_samples_leaf=2, min_samples_split=6, n_estimators=25;, score=0.848 total time=   6.9s\n",
      "[CV 2/5] END max_depth=3, min_samples_leaf=2, min_samples_split=6, n_estimators=25;, score=0.887 total time=   6.8s\n",
      "[CV 4/5] END max_depth=3, min_samples_leaf=2, min_samples_split=4, n_estimators=100;, score=0.900 total time=  11.5s\n",
      "[CV 1/5] END max_depth=3, min_samples_leaf=2, min_samples_split=4, n_estimators=100;, score=0.850 total time=  13.7s\n",
      "[CV 3/5] END max_depth=3, min_samples_leaf=2, min_samples_split=6, n_estimators=25;, score=0.881 total time=   7.8s\n",
      "[CV 5/5] END max_depth=3, min_samples_leaf=2, min_samples_split=6, n_estimators=25;, score=0.323 total time=   7.1s\n",
      "[CV 2/5] END max_depth=3, min_samples_leaf=2, min_samples_split=8, n_estimators=10;, score=0.882 total time=   6.4s\n",
      "[CV 4/5] END max_depth=3, min_samples_leaf=2, min_samples_split=6, n_estimators=25;, score=0.898 total time=   8.1s\n",
      "[CV 3/5] END max_depth=3, min_samples_leaf=2, min_samples_split=2, n_estimators=25;, score=0.881 total time=   6.2s\n",
      "[CV 3/5] END max_depth=3, min_samples_leaf=2, min_samples_split=4, n_estimators=100;, score=0.885 total time=  14.1s\n",
      "[CV 2/5] END max_depth=3, min_samples_leaf=2, min_samples_split=4, n_estimators=100;, score=0.891 total time=  14.3s\n",
      "[CV 1/5] END max_depth=3, min_samples_leaf=2, min_samples_split=8, n_estimators=10;, score=0.847 total time=   7.0s\n",
      "[CV 5/5] END max_depth=3, min_samples_leaf=2, min_samples_split=4, n_estimators=100;, score=0.299 total time=  13.2s\n",
      "[CV 3/5] END max_depth=3, min_samples_leaf=2, min_samples_split=6, n_estimators=50;, score=0.886 total time=   8.3s\n",
      "[CV 1/5] END max_depth=3, min_samples_leaf=2, min_samples_split=6, n_estimators=50;, score=0.847 total time=   8.8s\n",
      "[CV 3/5] END max_depth=3, min_samples_leaf=2, min_samples_split=8, n_estimators=10;, score=0.877 total time=   6.5s\n",
      "[CV 4/5] END max_depth=3, min_samples_leaf=2, min_samples_split=2, n_estimators=25;, score=0.898 total time=   8.2s\n",
      "[CV 4/5] END max_depth=3, min_samples_leaf=2, min_samples_split=8, n_estimators=10;, score=0.895 total time=   5.5s\n",
      "[CV 5/5] END max_depth=3, min_samples_leaf=2, min_samples_split=6, n_estimators=50;, score=0.331 total time=   9.4s\n",
      "[CV 2/5] END max_depth=3, min_samples_leaf=2, min_samples_split=2, n_estimators=25;, score=0.887 total time=   8.5s\n",
      "[CV 4/5] END max_depth=3, min_samples_leaf=2, min_samples_split=6, n_estimators=50;, score=0.899 total time=   9.8s\n",
      "[CV 5/5] END max_depth=3, min_samples_leaf=2, min_samples_split=8, n_estimators=10;, score=0.667 total time=   6.7s\n",
      "[CV 1/5] END max_depth=3, min_samples_leaf=2, min_samples_split=8, n_estimators=25;, score=0.848 total time=   6.7s\n",
      "[CV 2/5] END max_depth=3, min_samples_leaf=2, min_samples_split=8, n_estimators=25;, score=0.887 total time=   6.9s\n",
      "[CV 4/5] END max_depth=3, min_samples_leaf=2, min_samples_split=8, n_estimators=25;, score=0.898 total time=   6.9s\n",
      "[CV 1/5] END max_depth=3, min_samples_leaf=2, min_samples_split=6, n_estimators=100;, score=0.850 total time=  13.6s\n",
      "[CV 4/5] END max_depth=3, min_samples_leaf=2, min_samples_split=6, n_estimators=100;, score=0.900 total time=  13.8s\n",
      "[CV 2/5] END max_depth=3, min_samples_leaf=2, min_samples_split=6, n_estimators=100;, score=0.891 total time=  14.1s\n",
      "[CV 5/5] END max_depth=3, min_samples_leaf=2, min_samples_split=8, n_estimators=25;, score=0.323 total time=   7.7s\n",
      "[CV 1/5] END max_depth=3, min_samples_leaf=2, min_samples_split=4, n_estimators=25;, score=0.848 total time=   7.5s\n",
      "[CV 5/5] END max_depth=3, min_samples_leaf=2, min_samples_split=6, n_estimators=100;, score=0.299 total time=  14.1s\n",
      "[CV 2/5] END max_depth=3, min_samples_leaf=2, min_samples_split=4, n_estimators=25;, score=0.887 total time=   8.0s\n",
      "[CV 3/5] END max_depth=3, min_samples_leaf=2, min_samples_split=6, n_estimators=100;, score=0.885 total time=  15.3s\n",
      "[CV 1/5] END max_depth=3, min_samples_leaf=2, min_samples_split=10, n_estimators=10;, score=0.847 total time=   6.2s\n",
      "[CV 3/5] END max_depth=3, min_samples_leaf=2, min_samples_split=4, n_estimators=25;, score=0.881 total time=   8.7s\n",
      "[CV 3/5] END max_depth=3, min_samples_leaf=2, min_samples_split=8, n_estimators=50;, score=0.886 total time=   8.2s\n",
      "[CV 5/5] END max_depth=3, min_samples_leaf=2, min_samples_split=10, n_estimators=10;, score=0.667 total time=   6.6s\n",
      "[CV 5/5] END max_depth=3, min_samples_leaf=2, min_samples_split=8, n_estimators=50;, score=0.331 total time=  10.0s\n",
      "[CV 3/5] END max_depth=3, min_samples_leaf=2, min_samples_split=10, n_estimators=10;, score=0.877 total time=   8.1s\n",
      "[CV 2/5] END max_depth=3, min_samples_leaf=2, min_samples_split=10, n_estimators=10;, score=0.882 total time=   9.0s\n",
      "[CV 4/5] END max_depth=3, min_samples_leaf=2, min_samples_split=10, n_estimators=10;, score=0.895 total time=   8.8s\n",
      "[CV 4/5] END max_depth=3, min_samples_leaf=2, min_samples_split=8, n_estimators=50;, score=0.899 total time=  10.9s\n",
      "[CV 2/5] END max_depth=3, min_samples_leaf=2, min_samples_split=8, n_estimators=50;, score=0.889 total time=  11.3s\n",
      "[CV 1/5] END max_depth=3, min_samples_leaf=2, min_samples_split=8, n_estimators=50;, score=0.847 total time=  11.5s\n",
      "[CV 1/5] END max_depth=3, min_samples_leaf=2, min_samples_split=10, n_estimators=25;, score=0.848 total time=   7.6s\n",
      "[CV 2/5] END max_depth=3, min_samples_leaf=2, min_samples_split=8, n_estimators=100;, score=0.891 total time=  12.9s\n",
      "[CV 4/5] END max_depth=3, min_samples_leaf=2, min_samples_split=10, n_estimators=25;, score=0.898 total time=   8.9s\n",
      "[CV 2/5] END max_depth=3, min_samples_leaf=2, min_samples_split=10, n_estimators=25;, score=0.887 total time=   9.6s\n",
      "[CV 5/5] END max_depth=3, min_samples_leaf=2, min_samples_split=10, n_estimators=25;, score=0.323 total time=   8.9s\n",
      "[CV 3/5] END max_depth=3, min_samples_leaf=2, min_samples_split=8, n_estimators=100;, score=0.885 total time=  14.7s\n",
      "[CV 4/5] END max_depth=3, min_samples_leaf=2, min_samples_split=8, n_estimators=100;, score=0.900 total time=  14.7s\n",
      "[CV 1/5] END max_depth=3, min_samples_leaf=2, min_samples_split=8, n_estimators=100;, score=0.850 total time=  15.7s\n",
      "[CV 5/5] END max_depth=3, min_samples_leaf=2, min_samples_split=8, n_estimators=100;, score=0.299 total time=  15.2s\n",
      "[CV 4/5] END max_depth=3, min_samples_leaf=5, min_samples_split=2, n_estimators=10;, score=0.895 total time=   6.0s\n",
      "[CV 1/5] END max_depth=3, min_samples_leaf=5, min_samples_split=2, n_estimators=10;, score=0.847 total time=   7.5s\n",
      "[CV 3/5] END max_depth=3, min_samples_leaf=5, min_samples_split=2, n_estimators=10;, score=0.877 total time=   6.9s\n",
      "[CV 5/5] END max_depth=3, min_samples_leaf=2, min_samples_split=10, n_estimators=50;, score=0.331 total time=  10.0s\n",
      "[CV 2/5] END max_depth=3, min_samples_leaf=2, min_samples_split=10, n_estimators=50;, score=0.889 total time=  10.7s\n",
      "[CV 2/5] END max_depth=3, min_samples_leaf=5, min_samples_split=2, n_estimators=10;, score=0.882 total time=   7.4s\n",
      "[CV 3/5] END max_depth=3, min_samples_leaf=2, min_samples_split=10, n_estimators=50;, score=0.886 total time=  10.6s\n",
      "[CV 1/5] END max_depth=3, min_samples_leaf=2, min_samples_split=10, n_estimators=50;, score=0.847 total time=  11.2s\n",
      "[CV 5/5] END max_depth=3, min_samples_leaf=5, min_samples_split=2, n_estimators=10;, score=0.667 total time=   6.5s\n",
      "[CV 4/5] END max_depth=3, min_samples_leaf=2, min_samples_split=10, n_estimators=50;, score=0.899 total time=  10.8s\n",
      "[CV 1/5] END max_depth=3, min_samples_leaf=5, min_samples_split=2, n_estimators=25;, score=0.848 total time=   7.6s\n",
      "[CV 4/5] END max_depth=3, min_samples_leaf=2, min_samples_split=6, n_estimators=10;, score=0.895 total time=   6.0s\n",
      "[CV 2/5] END max_depth=3, min_samples_leaf=5, min_samples_split=2, n_estimators=25;, score=0.887 total time=   7.9s\n",
      "[CV 3/5] END max_depth=3, min_samples_leaf=5, min_samples_split=2, n_estimators=25;, score=0.881 total time=   8.5s\n",
      "[CV 5/5] END max_depth=3, min_samples_leaf=5, min_samples_split=2, n_estimators=25;, score=0.370 total time=   8.3s\n",
      "[CV 4/5] END max_depth=3, min_samples_leaf=5, min_samples_split=2, n_estimators=25;, score=0.898 total time=  10.4s\n",
      "[CV 2/5] END max_depth=3, min_samples_leaf=2, min_samples_split=10, n_estimators=100;, score=0.891 total time=  14.3s\n",
      "[CV 1/5] END max_depth=3, min_samples_leaf=2, min_samples_split=10, n_estimators=100;, score=0.850 total time=  14.6s\n",
      "[CV 3/5] END max_depth=3, min_samples_leaf=2, min_samples_split=10, n_estimators=100;, score=0.885 total time=  14.5s\n",
      "[CV 1/5] END max_depth=3, min_samples_leaf=5, min_samples_split=4, n_estimators=10;, score=0.847 total time=   5.4s\n",
      "[CV 3/5] END max_depth=3, min_samples_leaf=5, min_samples_split=4, n_estimators=10;, score=0.877 total time=   6.0s\n",
      "[CV 4/5] END max_depth=3, min_samples_leaf=2, min_samples_split=10, n_estimators=100;, score=0.900 total time=  15.5s\n",
      "[CV 5/5] END max_depth=3, min_samples_leaf=2, min_samples_split=10, n_estimators=100;, score=0.299 total time=  15.5s\n",
      "[CV 1/5] END max_depth=3, min_samples_leaf=5, min_samples_split=2, n_estimators=50;, score=0.847 total time=  10.7s\n",
      "[CV 3/5] END max_depth=3, min_samples_leaf=5, min_samples_split=2, n_estimators=50;, score=0.886 total time=   9.8s\n",
      "[CV 5/5] END max_depth=3, min_samples_leaf=5, min_samples_split=4, n_estimators=10;, score=0.667 total time=   7.1s\n",
      "[CV 2/5] END max_depth=3, min_samples_leaf=5, min_samples_split=4, n_estimators=10;, score=0.882 total time=   7.3s\n",
      "[CV 2/5] END max_depth=3, min_samples_leaf=2, min_samples_split=6, n_estimators=50;, score=0.889 total time=  11.8s\n",
      "[CV 3/5] END max_depth=3, min_samples_leaf=5, min_samples_split=4, n_estimators=25;, score=0.881 total time=   7.0s\n",
      "[CV 5/5] END max_depth=3, min_samples_leaf=5, min_samples_split=2, n_estimators=50;, score=0.396 total time=   9.2s\n",
      "[CV 4/5] END max_depth=3, min_samples_leaf=5, min_samples_split=4, n_estimators=10;, score=0.895 total time=   7.4s\n",
      "[CV 2/5] END max_depth=3, min_samples_leaf=5, min_samples_split=2, n_estimators=50;, score=0.889 total time=  10.2s\n",
      "[CV 4/5] END max_depth=3, min_samples_leaf=5, min_samples_split=2, n_estimators=50;, score=0.899 total time=  10.0s\n",
      "[CV 2/5] END max_depth=3, min_samples_leaf=5, min_samples_split=4, n_estimators=25;, score=0.887 total time=   7.7s\n",
      "[CV 1/5] END max_depth=3, min_samples_leaf=5, min_samples_split=4, n_estimators=25;, score=0.848 total time=   8.6s\n",
      "[CV 4/5] END max_depth=3, min_samples_leaf=5, min_samples_split=4, n_estimators=25;, score=0.898 total time=   9.0s\n",
      "[CV 5/5] END max_depth=3, min_samples_leaf=5, min_samples_split=4, n_estimators=25;, score=0.370 total time=   9.2s\n",
      "[CV 1/5] END max_depth=3, min_samples_leaf=5, min_samples_split=2, n_estimators=100;, score=0.850 total time=  14.1s\n",
      "[CV 1/5] END max_depth=3, min_samples_leaf=5, min_samples_split=6, n_estimators=10;, score=0.847 total time=   5.9s\n",
      "[CV 4/5] END max_depth=3, min_samples_leaf=5, min_samples_split=2, n_estimators=100;, score=0.900 total time=  13.7s\n",
      "[CV 2/5] END max_depth=3, min_samples_leaf=5, min_samples_split=4, n_estimators=50;, score=0.889 total time=  10.5s\n",
      "[CV 2/5] END max_depth=3, min_samples_leaf=5, min_samples_split=2, n_estimators=100;, score=0.891 total time=  15.1s\n",
      "[CV 3/5] END max_depth=3, min_samples_leaf=5, min_samples_split=2, n_estimators=100;, score=0.885 total time=  15.7s\n",
      "[CV 3/5] END max_depth=3, min_samples_leaf=5, min_samples_split=6, n_estimators=10;, score=0.877 total time=   7.4s\n",
      "[CV 5/5] END max_depth=3, min_samples_leaf=5, min_samples_split=6, n_estimators=10;, score=0.667 total time=   8.1s\n",
      "[CV 4/5] END max_depth=3, min_samples_leaf=5, min_samples_split=6, n_estimators=10;, score=0.895 total time=   8.6s\n",
      "[CV 5/5] END max_depth=3, min_samples_leaf=5, min_samples_split=4, n_estimators=50;, score=0.396 total time=  10.9s\n",
      "[CV 3/5] END max_depth=3, min_samples_leaf=2, min_samples_split=8, n_estimators=25;, score=0.881 total time=  11.4s\n",
      "[CV 2/5] END max_depth=3, min_samples_leaf=5, min_samples_split=6, n_estimators=10;, score=0.882 total time=   9.1s\n",
      "[CV 1/5] END max_depth=3, min_samples_leaf=5, min_samples_split=4, n_estimators=50;, score=0.847 total time=  14.6s\n",
      "[CV 4/5] END max_depth=3, min_samples_leaf=5, min_samples_split=4, n_estimators=50;, score=0.899 total time=  12.2s\n",
      "[CV 1/5] END max_depth=3, min_samples_leaf=5, min_samples_split=6, n_estimators=25;, score=0.848 total time=   9.3s\n",
      "[CV 2/5] END max_depth=3, min_samples_leaf=5, min_samples_split=6, n_estimators=25;, score=0.887 total time=   9.4s\n",
      "[CV 3/5] END max_depth=3, min_samples_leaf=5, min_samples_split=6, n_estimators=25;, score=0.881 total time=   9.4s\n",
      "[CV 3/5] END max_depth=3, min_samples_leaf=5, min_samples_split=4, n_estimators=50;, score=0.886 total time=  13.8s\n",
      "[CV 5/5] END max_depth=3, min_samples_leaf=5, min_samples_split=2, n_estimators=100;, score=0.465 total time=  17.2s\n",
      "[CV 5/5] END max_depth=3, min_samples_leaf=5, min_samples_split=6, n_estimators=25;, score=0.370 total time=   9.4s\n",
      "[CV 4/5] END max_depth=3, min_samples_leaf=5, min_samples_split=6, n_estimators=25;, score=0.898 total time=   9.5s\n",
      "[CV 3/5] END max_depth=3, min_samples_leaf=2, min_samples_split=10, n_estimators=25;, score=0.881 total time=   8.7s\n",
      "[CV 3/5] END max_depth=3, min_samples_leaf=5, min_samples_split=6, n_estimators=50;, score=0.886 total time=  10.4s\n",
      "[CV 1/5] END max_depth=3, min_samples_leaf=5, min_samples_split=4, n_estimators=100;, score=0.850 total time=  14.5s\n",
      "[CV 5/5] END max_depth=3, min_samples_leaf=5, min_samples_split=4, n_estimators=100;, score=0.465 total time=  13.4s\n",
      "[CV 2/5] END max_depth=3, min_samples_leaf=5, min_samples_split=4, n_estimators=100;, score=0.891 total time=  15.0s\n",
      "[CV 2/5] END max_depth=3, min_samples_leaf=5, min_samples_split=6, n_estimators=50;, score=0.889 total time=  12.5s\n",
      "[CV 4/5] END max_depth=3, min_samples_leaf=5, min_samples_split=8, n_estimators=10;, score=0.895 total time=   4.9s\n",
      "[CV 3/5] END max_depth=3, min_samples_leaf=5, min_samples_split=4, n_estimators=100;, score=0.885 total time=  15.9s\n",
      "[CV 1/5] END max_depth=3, min_samples_leaf=5, min_samples_split=6, n_estimators=50;, score=0.847 total time=  13.8s\n",
      "[CV 3/5] END max_depth=3, min_samples_leaf=5, min_samples_split=8, n_estimators=10;, score=0.877 total time=   7.0s\n",
      "[CV 4/5] END max_depth=3, min_samples_leaf=5, min_samples_split=6, n_estimators=50;, score=0.899 total time=  12.3s\n",
      "[CV 1/5] END max_depth=3, min_samples_leaf=5, min_samples_split=8, n_estimators=10;, score=0.847 total time=   8.6s\n",
      "[CV 2/5] END max_depth=3, min_samples_leaf=5, min_samples_split=8, n_estimators=10;, score=0.882 total time=   8.6s\n",
      "[CV 5/5] END max_depth=3, min_samples_leaf=5, min_samples_split=8, n_estimators=10;, score=0.667 total time=   7.5s\n",
      "[CV 5/5] END max_depth=3, min_samples_leaf=5, min_samples_split=6, n_estimators=50;, score=0.396 total time=  12.6s\n",
      "[CV 1/5] END max_depth=3, min_samples_leaf=5, min_samples_split=8, n_estimators=25;, score=0.848 total time=   7.7s\n",
      "[CV 3/5] END max_depth=3, min_samples_leaf=5, min_samples_split=8, n_estimators=25;, score=0.881 total time=   7.1s\n",
      "[CV 2/5] END max_depth=3, min_samples_leaf=5, min_samples_split=8, n_estimators=25;, score=0.887 total time=   7.7s\n",
      "[CV 4/5] END max_depth=3, min_samples_leaf=5, min_samples_split=4, n_estimators=100;, score=0.900 total time=  18.0s\n",
      "[CV 5/5] END max_depth=3, min_samples_leaf=5, min_samples_split=8, n_estimators=25;, score=0.370 total time=   7.5s\n",
      "[CV 4/5] END max_depth=3, min_samples_leaf=5, min_samples_split=8, n_estimators=25;, score=0.898 total time=   7.7s\n",
      "[CV 1/5] END max_depth=3, min_samples_leaf=5, min_samples_split=6, n_estimators=100;, score=0.850 total time=  13.6s\n",
      "[CV 5/5] END max_depth=3, min_samples_leaf=5, min_samples_split=8, n_estimators=50;, score=0.396 total time=   9.2s\n",
      "[CV 3/5] END max_depth=3, min_samples_leaf=5, min_samples_split=8, n_estimators=50;, score=0.886 total time=   9.7s\n",
      "[CV 2/5] END max_depth=3, min_samples_leaf=5, min_samples_split=10, n_estimators=10;, score=0.882 total time=   6.3s\n",
      "[CV 1/5] END max_depth=3, min_samples_leaf=5, min_samples_split=10, n_estimators=10;, score=0.847 total time=   6.9s\n",
      "[CV 3/5] END max_depth=3, min_samples_leaf=5, min_samples_split=10, n_estimators=10;, score=0.877 total time=   6.5s\n",
      "[CV 4/5] END max_depth=3, min_samples_leaf=5, min_samples_split=6, n_estimators=100;, score=0.900 total time=  15.3s\n",
      "[CV 4/5] END max_depth=3, min_samples_leaf=5, min_samples_split=8, n_estimators=50;, score=0.899 total time=  11.3s\n",
      "[CV 3/5] END max_depth=3, min_samples_leaf=5, min_samples_split=6, n_estimators=100;, score=0.885 total time=  15.9s\n",
      "[CV 4/5] END max_depth=3, min_samples_leaf=5, min_samples_split=10, n_estimators=10;, score=0.895 total time=   6.9s\n",
      "[CV 2/5] END max_depth=3, min_samples_leaf=5, min_samples_split=8, n_estimators=50;, score=0.889 total time=  12.3s\n",
      "[CV 1/5] END max_depth=3, min_samples_leaf=5, min_samples_split=8, n_estimators=50;, score=0.847 total time=  12.3s\n",
      "[CV 5/5] END max_depth=3, min_samples_leaf=5, min_samples_split=10, n_estimators=10;, score=0.667 total time=   6.8s\n",
      "[CV 5/5] END max_depth=3, min_samples_leaf=5, min_samples_split=6, n_estimators=100;, score=0.465 total time=  15.7s\n",
      "[CV 2/5] END max_depth=3, min_samples_leaf=5, min_samples_split=6, n_estimators=100;, score=0.891 total time=  18.2s\n",
      "[CV 4/5] END max_depth=3, min_samples_leaf=5, min_samples_split=10, n_estimators=25;, score=0.898 total time=   7.3s\n",
      "[CV 1/5] END max_depth=3, min_samples_leaf=5, min_samples_split=10, n_estimators=25;, score=0.848 total time=   8.0s\n",
      "[CV 3/5] END max_depth=3, min_samples_leaf=5, min_samples_split=10, n_estimators=25;, score=0.881 total time=   7.8s\n",
      "[CV 2/5] END max_depth=3, min_samples_leaf=5, min_samples_split=10, n_estimators=25;, score=0.887 total time=   8.1s\n",
      "[CV 5/5] END max_depth=3, min_samples_leaf=5, min_samples_split=10, n_estimators=25;, score=0.370 total time=   8.1s\n",
      "[CV 3/5] END max_depth=3, min_samples_leaf=5, min_samples_split=8, n_estimators=100;, score=0.885 total time=  14.4s\n",
      "[CV 2/5] END max_depth=3, min_samples_leaf=5, min_samples_split=8, n_estimators=100;, score=0.891 total time=  15.5s\n",
      "[CV 2/5] END max_depth=3, min_samples_leaf=5, min_samples_split=10, n_estimators=50;, score=0.889 total time=  11.1s\n",
      "[CV 4/5] END max_depth=3, min_samples_leaf=5, min_samples_split=8, n_estimators=100;, score=0.900 total time=  15.5s\n",
      "[CV 3/5] END max_depth=3, min_samples_leaf=5, min_samples_split=10, n_estimators=50;, score=0.886 total time=  11.3s\n",
      "[CV 4/5] END max_depth=3, min_samples_leaf=5, min_samples_split=10, n_estimators=50;, score=0.899 total time=  11.4s\n",
      "[CV 5/5] END max_depth=3, min_samples_leaf=10, min_samples_split=2, n_estimators=10;, score=0.739 total time=   6.8s\n",
      "[CV 2/5] END max_depth=3, min_samples_leaf=10, min_samples_split=2, n_estimators=10;, score=0.882 total time=   7.6s\n",
      "[CV 5/5] END max_depth=3, min_samples_leaf=5, min_samples_split=8, n_estimators=100;, score=0.465 total time=  15.3s\n",
      "[CV 3/5] END max_depth=3, min_samples_leaf=10, min_samples_split=2, n_estimators=10;, score=0.877 total time=   7.4s\n",
      "[CV 1/5] END max_depth=3, min_samples_leaf=10, min_samples_split=2, n_estimators=10;, score=0.847 total time=   8.3s\n",
      "[CV 1/5] END max_depth=3, min_samples_leaf=5, min_samples_split=8, n_estimators=100;, score=0.850 total time=  18.9s\n",
      "[CV 5/5] END max_depth=3, min_samples_leaf=5, min_samples_split=10, n_estimators=50;, score=0.396 total time=  12.7s[CV 1/5] END max_depth=3, min_samples_leaf=5, min_samples_split=10, n_estimators=50;, score=0.847 total time=  13.4s\n",
      "\n",
      "[CV 2/5] END max_depth=3, min_samples_leaf=10, min_samples_split=2, n_estimators=25;, score=0.887 total time=   8.2s\n",
      "[CV 4/5] END max_depth=3, min_samples_leaf=10, min_samples_split=2, n_estimators=25;, score=0.898 total time=   8.4s\n",
      "[CV 5/5] END max_depth=3, min_samples_leaf=10, min_samples_split=2, n_estimators=25;, score=0.737 total time=   8.8s\n",
      "[CV 3/5] END max_depth=3, min_samples_leaf=10, min_samples_split=2, n_estimators=25;, score=0.881 total time=   9.7s\n",
      "[CV 1/5] END max_depth=3, min_samples_leaf=10, min_samples_split=2, n_estimators=25;, score=0.848 total time=  10.5s\n",
      "[CV 4/5] END max_depth=3, min_samples_leaf=10, min_samples_split=2, n_estimators=10;, score=0.895 total time=  11.6s\n",
      "[CV 1/5] END max_depth=3, min_samples_leaf=5, min_samples_split=10, n_estimators=100;, score=0.850 total time=  16.2s\n",
      "[CV 5/5] END max_depth=3, min_samples_leaf=10, min_samples_split=2, n_estimators=50;, score=0.799 total time=   9.6s\n",
      "[CV 2/5] END max_depth=3, min_samples_leaf=10, min_samples_split=2, n_estimators=50;, score=0.890 total time=  10.6s\n",
      "[CV 3/5] END max_depth=3, min_samples_leaf=10, min_samples_split=4, n_estimators=10;, score=0.877 total time=   5.8s\n",
      "[CV 3/5] END max_depth=3, min_samples_leaf=5, min_samples_split=10, n_estimators=100;, score=0.885 total time=  15.2s\n",
      "[CV 4/5] END max_depth=3, min_samples_leaf=10, min_samples_split=2, n_estimators=50;, score=0.899 total time=  10.3s\n",
      "[CV 3/5] END max_depth=3, min_samples_leaf=10, min_samples_split=4, n_estimators=25;, score=0.881 total time=   5.6s\n",
      "[CV 1/5] END max_depth=3, min_samples_leaf=10, min_samples_split=2, n_estimators=50;, score=0.847 total time=  11.0s\n",
      "[CV 2/5] END max_depth=3, min_samples_leaf=10, min_samples_split=4, n_estimators=10;, score=0.882 total time=   6.5s\n",
      "[CV 1/5] END max_depth=3, min_samples_leaf=10, min_samples_split=4, n_estimators=25;, score=0.848 total time=   6.4s\n",
      "[CV 4/5] END max_depth=3, min_samples_leaf=10, min_samples_split=4, n_estimators=10;, score=0.895 total time=   6.8s\n",
      "[CV 4/5] END max_depth=3, min_samples_leaf=5, min_samples_split=10, n_estimators=100;, score=0.900 total time=  15.7s\n",
      "[CV 1/5] END max_depth=3, min_samples_leaf=10, min_samples_split=4, n_estimators=10;, score=0.847 total time=   7.3s\n",
      "[CV 3/5] END max_depth=3, min_samples_leaf=10, min_samples_split=2, n_estimators=50;, score=0.886 total time=  11.9s\n",
      "[CV 2/5] END max_depth=3, min_samples_leaf=5, min_samples_split=10, n_estimators=100;, score=0.891 total time=  16.9s\n",
      "[CV 5/5] END max_depth=3, min_samples_leaf=10, min_samples_split=4, n_estimators=10;, score=0.739 total time=   7.6s\n",
      "[CV 1/5] END max_depth=3, min_samples_leaf=10, min_samples_split=2, n_estimators=100;, score=0.850 total time=  11.7s\n",
      "[CV 5/5] END max_depth=3, min_samples_leaf=5, min_samples_split=10, n_estimators=100;, score=0.465 total time=  17.8s\n",
      "[CV 5/5] END max_depth=3, min_samples_leaf=10, min_samples_split=4, n_estimators=25;, score=0.737 total time=   9.0s\n",
      "[CV 4/5] END max_depth=3, min_samples_leaf=10, min_samples_split=6, n_estimators=10;, score=0.895 total time=   6.3s\n",
      "[CV 4/5] END max_depth=3, min_samples_leaf=10, min_samples_split=4, n_estimators=25;, score=0.898 total time=  11.2s\n",
      "[CV 3/5] END max_depth=3, min_samples_leaf=10, min_samples_split=6, n_estimators=10;, score=0.877 total time=   7.3s\n",
      "[CV 5/5] END max_depth=3, min_samples_leaf=10, min_samples_split=6, n_estimators=10;, score=0.739 total time=   7.3s\n",
      "[CV 1/5] END max_depth=3, min_samples_leaf=10, min_samples_split=6, n_estimators=10;, score=0.847 total time=   7.6s\n",
      "[CV 2/5] END max_depth=3, min_samples_leaf=10, min_samples_split=6, n_estimators=10;, score=0.882 total time=   7.7s\n",
      "[CV 1/5] END max_depth=3, min_samples_leaf=10, min_samples_split=4, n_estimators=50;, score=0.847 total time=  12.2s\n",
      "[CV 4/5] END max_depth=3, min_samples_leaf=10, min_samples_split=2, n_estimators=100;, score=0.900 total time=  14.9s\n",
      "[CV 2/5] END max_depth=3, min_samples_leaf=10, min_samples_split=4, n_estimators=50;, score=0.890 total time=  12.3s\n",
      "[CV 4/5] END max_depth=3, min_samples_leaf=10, min_samples_split=4, n_estimators=50;, score=0.899 total time=  11.6s\n",
      "[CV 2/5] END max_depth=3, min_samples_leaf=10, min_samples_split=6, n_estimators=25;, score=0.887 total time=   8.1s\n",
      "[CV 1/5] END max_depth=3, min_samples_leaf=10, min_samples_split=6, n_estimators=25;, score=0.848 total time=   8.4s\n",
      "[CV 5/5] END max_depth=3, min_samples_leaf=10, min_samples_split=2, n_estimators=100;, score=0.807 total time=  15.3s\n",
      "[CV 3/5] END max_depth=3, min_samples_leaf=10, min_samples_split=4, n_estimators=50;, score=0.886 total time=  12.7s\n",
      "[CV 2/5] END max_depth=3, min_samples_leaf=10, min_samples_split=2, n_estimators=100;, score=0.891 total time=  16.7s\n",
      "[CV 5/5] END max_depth=3, min_samples_leaf=10, min_samples_split=6, n_estimators=25;, score=0.737 total time=   8.2s\n",
      "[CV 4/5] END max_depth=3, min_samples_leaf=10, min_samples_split=6, n_estimators=25;, score=0.898 total time=   8.4s\n",
      "[CV 3/5] END max_depth=3, min_samples_leaf=10, min_samples_split=2, n_estimators=100;, score=0.885 total time=  16.4s\n",
      "[CV 5/5] END max_depth=3, min_samples_leaf=10, min_samples_split=4, n_estimators=50;, score=0.799 total time=  12.0s\n",
      "[CV 3/5] END max_depth=3, min_samples_leaf=10, min_samples_split=6, n_estimators=25;, score=0.881 total time=   8.7s\n",
      "[CV 1/5] END max_depth=3, min_samples_leaf=10, min_samples_split=6, n_estimators=50;, score=0.847 total time=  12.2s\n",
      "[CV 2/5] END max_depth=3, min_samples_leaf=10, min_samples_split=4, n_estimators=100;, score=0.891 total time=  15.0s\n",
      "[CV 3/5] END max_depth=3, min_samples_leaf=10, min_samples_split=4, n_estimators=100;, score=0.885 total time=  14.8s\n",
      "[CV 1/5] END max_depth=3, min_samples_leaf=10, min_samples_split=4, n_estimators=100;, score=0.850 total time=  16.5s\n",
      "[CV 4/5] END max_depth=3, min_samples_leaf=10, min_samples_split=6, n_estimators=50;, score=0.899 total time=  12.3s\n",
      "[CV 2/5] END max_depth=3, min_samples_leaf=10, min_samples_split=6, n_estimators=50;, score=0.890 total time=  13.0s\n",
      "[CV 3/5] END max_depth=3, min_samples_leaf=10, min_samples_split=6, n_estimators=50;, score=0.886 total time=  12.9s[CV 1/5] END max_depth=3, min_samples_leaf=10, min_samples_split=8, n_estimators=10;, score=0.847 total time=   7.1s\n",
      "\n",
      "[CV 2/5] END max_depth=3, min_samples_leaf=10, min_samples_split=8, n_estimators=10;, score=0.882 total time=   7.4s\n",
      "[CV 3/5] END max_depth=3, min_samples_leaf=10, min_samples_split=8, n_estimators=10;, score=0.877 total time=   7.4s\n",
      "[CV 5/5] END max_depth=3, min_samples_leaf=10, min_samples_split=8, n_estimators=10;, score=0.739 total time=   7.3s\n",
      "[CV 4/5] END max_depth=3, min_samples_leaf=10, min_samples_split=8, n_estimators=10;, score=0.895 total time=   7.5s\n",
      "[CV 4/5] END max_depth=3, min_samples_leaf=10, min_samples_split=4, n_estimators=100;, score=0.900 total time=  16.4s\n",
      "[CV 5/5] END max_depth=3, min_samples_leaf=10, min_samples_split=8, n_estimators=25;, score=0.737 total time=   6.9s\n",
      "[CV 1/5] END max_depth=3, min_samples_leaf=10, min_samples_split=8, n_estimators=25;, score=0.848 total time=   7.7s\n",
      "[CV 5/5] END max_depth=3, min_samples_leaf=10, min_samples_split=6, n_estimators=50;, score=0.799 total time=  12.9s\n",
      "[CV 5/5] END max_depth=3, min_samples_leaf=10, min_samples_split=4, n_estimators=100;, score=0.807 total time=  16.9s\n",
      "[CV 4/5] END max_depth=3, min_samples_leaf=10, min_samples_split=8, n_estimators=25;, score=0.898 total time=   7.7s\n",
      "[CV 3/5] END max_depth=3, min_samples_leaf=10, min_samples_split=8, n_estimators=25;, score=0.881 total time=   8.0s\n",
      "[CV 2/5] END max_depth=3, min_samples_leaf=10, min_samples_split=8, n_estimators=25;, score=0.887 total time=   8.4s\n",
      "[CV 1/5] END max_depth=3, min_samples_leaf=10, min_samples_split=8, n_estimators=50;, score=0.847 total time=  10.0s\n",
      "[CV 1/5] END max_depth=3, min_samples_leaf=10, min_samples_split=10, n_estimators=10;, score=0.847 total time=   4.8s\n",
      "[CV 4/5] END max_depth=3, min_samples_leaf=10, min_samples_split=8, n_estimators=50;, score=0.899 total time=   9.9s\n",
      "[CV 1/5] END max_depth=3, min_samples_leaf=10, min_samples_split=6, n_estimators=100;, score=0.850 total time=  16.1s\n",
      "[CV 2/5] END max_depth=3, min_samples_leaf=10, min_samples_split=8, n_estimators=50;, score=0.890 total time=  11.5s\n",
      "[CV 3/5] END max_depth=3, min_samples_leaf=10, min_samples_split=8, n_estimators=50;, score=0.886 total time=  11.4s\n",
      "[CV 4/5] END max_depth=3, min_samples_leaf=10, min_samples_split=10, n_estimators=10;, score=0.895 total time=   6.2s\n",
      "[CV 2/5] END max_depth=3, min_samples_leaf=10, min_samples_split=10, n_estimators=10;, score=0.882 total time=   6.6s\n",
      "[CV 5/5] END max_depth=3, min_samples_leaf=10, min_samples_split=8, n_estimators=50;, score=0.799 total time=  11.7s\n",
      "[CV 3/5] END max_depth=3, min_samples_leaf=10, min_samples_split=10, n_estimators=10;, score=0.877 total time=   6.6s\n",
      "[CV 5/5] END max_depth=3, min_samples_leaf=10, min_samples_split=10, n_estimators=10;, score=0.739 total time=   6.3s\n",
      "[CV 4/5] END max_depth=3, min_samples_leaf=10, min_samples_split=6, n_estimators=100;, score=0.900 total time=  15.2s\n",
      "[CV 3/5] END max_depth=3, min_samples_leaf=10, min_samples_split=6, n_estimators=100;, score=0.885 total time=  16.0s\n",
      "[CV 5/5] END max_depth=3, min_samples_leaf=10, min_samples_split=6, n_estimators=100;, score=0.807 total time=  15.6s\n",
      "[CV 1/5] END max_depth=3, min_samples_leaf=10, min_samples_split=10, n_estimators=25;, score=0.848 total time=   7.8s\n",
      "[CV 2/5] END max_depth=3, min_samples_leaf=10, min_samples_split=6, n_estimators=100;, score=0.891 total time=  16.7s\n",
      "[CV 4/5] END max_depth=3, min_samples_leaf=10, min_samples_split=10, n_estimators=25;, score=0.898 total time=   7.6s\n",
      "[CV 3/5] END max_depth=3, min_samples_leaf=10, min_samples_split=10, n_estimators=25;, score=0.881 total time=   8.1s\n",
      "[CV 1/5] END max_depth=3, min_samples_leaf=10, min_samples_split=10, n_estimators=50;, score=0.847 total time=   7.9s\n",
      "[CV 2/5] END max_depth=3, min_samples_leaf=10, min_samples_split=10, n_estimators=25;, score=0.887 total time=   8.6s\n",
      "[CV 5/5] END max_depth=3, min_samples_leaf=10, min_samples_split=10, n_estimators=25;, score=0.737 total time=   8.5s\n",
      "[CV 1/5] END max_depth=3, min_samples_leaf=10, min_samples_split=8, n_estimators=100;, score=0.850 total time=  15.7s\n",
      "[CV 2/5] END max_depth=3, min_samples_leaf=10, min_samples_split=4, n_estimators=25;, score=0.887 total time=   9.6s\n",
      "[CV 4/5] END max_depth=3, min_samples_leaf=10, min_samples_split=8, n_estimators=100;, score=0.900 total time=  14.3s\n",
      "[CV 2/5] END max_depth=3, min_samples_leaf=10, min_samples_split=10, n_estimators=50;, score=0.890 total time=  12.4s\n",
      "[CV 5/5] END max_depth=3, min_samples_leaf=10, min_samples_split=10, n_estimators=50;, score=0.799 total time=  11.8s\n",
      "[CV 5/5] END max_depth=3, min_samples_leaf=10, min_samples_split=8, n_estimators=100;, score=0.807 total time=  14.8s\n",
      "[CV 2/5] END max_depth=5, min_samples_leaf=1, min_samples_split=2, n_estimators=10;, score=0.892 total time=   8.4s\n",
      "[CV 2/5] END max_depth=3, min_samples_leaf=10, min_samples_split=8, n_estimators=100;, score=0.891 total time=  16.0s\n",
      "[CV 5/5] END max_depth=5, min_samples_leaf=1, min_samples_split=2, n_estimators=10;, score=0.658 total time=   8.2s\n",
      "[CV 4/5] END max_depth=5, min_samples_leaf=1, min_samples_split=2, n_estimators=10;, score=0.909 total time=   8.5s\n",
      "[CV 3/5] END max_depth=3, min_samples_leaf=10, min_samples_split=10, n_estimators=50;, score=0.886 total time=  13.1s\n",
      "[CV 1/5] END max_depth=5, min_samples_leaf=1, min_samples_split=2, n_estimators=10;, score=0.866 total time=   9.1s\n",
      "[CV 3/5] END max_depth=3, min_samples_leaf=10, min_samples_split=8, n_estimators=100;, score=0.885 total time=  16.7s\n",
      "[CV 4/5] END max_depth=3, min_samples_leaf=10, min_samples_split=10, n_estimators=50;, score=0.899 total time=  13.8s\n",
      "[CV 3/5] END max_depth=5, min_samples_leaf=1, min_samples_split=2, n_estimators=10;, score=0.895 total time=   9.8s\n",
      "[CV 1/5] END max_depth=5, min_samples_leaf=1, min_samples_split=2, n_estimators=25;, score=0.871 total time=  10.5s\n",
      "[CV 3/5] END max_depth=5, min_samples_leaf=1, min_samples_split=2, n_estimators=25;, score=0.897 total time=   9.7s\n",
      "[CV 1/5] END max_depth=3, min_samples_leaf=10, min_samples_split=10, n_estimators=100;, score=0.850 total time=  15.2s\n",
      "[CV 2/5] END max_depth=5, min_samples_leaf=1, min_samples_split=2, n_estimators=25;, score=0.897 total time=  13.1s\n",
      "[CV 4/5] END max_depth=5, min_samples_leaf=1, min_samples_split=2, n_estimators=25;, score=0.912 total time=  12.6s\n",
      "[CV 5/5] END max_depth=5, min_samples_leaf=1, min_samples_split=2, n_estimators=25;, score=0.642 total time=  13.1s\n",
      "[CV 3/5] END max_depth=3, min_samples_leaf=10, min_samples_split=10, n_estimators=100;, score=0.885 total time=  18.6s\n",
      "[CV 4/5] END max_depth=3, min_samples_leaf=10, min_samples_split=10, n_estimators=100;, score=0.900 total time=  18.8s\n",
      "[CV 5/5] END max_depth=3, min_samples_leaf=10, min_samples_split=10, n_estimators=100;, score=0.807 total time=  18.0s\n",
      "[CV 2/5] END max_depth=5, min_samples_leaf=1, min_samples_split=4, n_estimators=10;, score=0.891 total time=   9.9s\n",
      "[CV 3/5] END max_depth=5, min_samples_leaf=1, min_samples_split=4, n_estimators=10;, score=0.895 total time=   9.7s\n",
      "[CV 2/5] END max_depth=3, min_samples_leaf=10, min_samples_split=10, n_estimators=100;, score=0.891 total time=  20.0s\n",
      "[CV 4/5] END max_depth=5, min_samples_leaf=1, min_samples_split=4, n_estimators=10;, score=0.908 total time=   9.8s\n",
      "[CV 5/5] END max_depth=5, min_samples_leaf=1, min_samples_split=4, n_estimators=10;, score=0.658 total time=   9.8s\n",
      "[CV 2/5] END max_depth=5, min_samples_leaf=1, min_samples_split=2, n_estimators=50;, score=0.900 total time=  16.3s\n",
      "[CV 1/5] END max_depth=5, min_samples_leaf=1, min_samples_split=2, n_estimators=50;, score=0.870 total time=  17.5s\n",
      "[CV 4/5] END max_depth=5, min_samples_leaf=1, min_samples_split=2, n_estimators=50;, score=0.912 total time=  16.6s\n",
      "[CV 1/5] END max_depth=5, min_samples_leaf=1, min_samples_split=4, n_estimators=10;, score=0.866 total time=  12.5s\n",
      "[CV 5/5] END max_depth=5, min_samples_leaf=1, min_samples_split=2, n_estimators=50;, score=0.557 total time=  18.0s\n",
      "[CV 3/5] END max_depth=5, min_samples_leaf=1, min_samples_split=2, n_estimators=50;, score=0.898 total time=  18.7s\n",
      "[CV 1/5] END max_depth=5, min_samples_leaf=1, min_samples_split=4, n_estimators=25;, score=0.871 total time=  13.0s\n",
      "[CV 3/5] END max_depth=5, min_samples_leaf=1, min_samples_split=4, n_estimators=25;, score=0.897 total time=  12.8s\n",
      "[CV 2/5] END max_depth=5, min_samples_leaf=1, min_samples_split=4, n_estimators=25;, score=0.897 total time=  13.4s\n",
      "[CV 2/5] END max_depth=5, min_samples_leaf=1, min_samples_split=4, n_estimators=50;, score=0.900 total time=  13.5s\n",
      "[CV 4/5] END max_depth=5, min_samples_leaf=1, min_samples_split=4, n_estimators=25;, score=0.912 total time=  14.6s\n",
      "[CV 5/5] END max_depth=5, min_samples_leaf=1, min_samples_split=4, n_estimators=25;, score=0.612 total time=  15.1s\n",
      "[CV 5/5] END max_depth=5, min_samples_leaf=1, min_samples_split=4, n_estimators=50;, score=0.539 total time=  15.4s\n",
      "[CV 2/5] END max_depth=5, min_samples_leaf=1, min_samples_split=6, n_estimators=10;, score=0.891 total time=  10.4s\n",
      "[CV 1/5] END max_depth=5, min_samples_leaf=1, min_samples_split=4, n_estimators=50;, score=0.870 total time=  18.9s\n",
      "[CV 3/5] END max_depth=5, min_samples_leaf=1, min_samples_split=2, n_estimators=100;, score=0.898 total time=  24.0s\n",
      "[CV 1/5] END max_depth=5, min_samples_leaf=1, min_samples_split=6, n_estimators=10;, score=0.866 total time=  10.8s\n",
      "[CV 4/5] END max_depth=5, min_samples_leaf=1, min_samples_split=6, n_estimators=10;, score=0.908 total time=  11.2s\n",
      "[CV 4/5] END max_depth=5, min_samples_leaf=1, min_samples_split=4, n_estimators=50;, score=0.913 total time=  18.2s\n",
      "[CV 2/5] END max_depth=5, min_samples_leaf=1, min_samples_split=2, n_estimators=100;, score=0.901 total time=  26.0s\n",
      "[CV 5/5] END max_depth=5, min_samples_leaf=1, min_samples_split=6, n_estimators=10;, score=0.682 total time=  11.5s\n",
      "[CV 3/5] END max_depth=5, min_samples_leaf=1, min_samples_split=6, n_estimators=10;, score=0.895 total time=  11.8s\n",
      "[CV 1/5] END max_depth=5, min_samples_leaf=1, min_samples_split=6, n_estimators=25;, score=0.870 total time=  11.8s\n",
      "[CV 3/5] END max_depth=5, min_samples_leaf=1, min_samples_split=4, n_estimators=50;, score=0.898 total time=  19.6s\n",
      "[CV 1/5] END max_depth=5, min_samples_leaf=1, min_samples_split=2, n_estimators=100;, score=0.871 total time=  27.4s\n",
      "[CV 2/5] END max_depth=5, min_samples_leaf=1, min_samples_split=6, n_estimators=25;, score=0.896 total time=  12.4s\n",
      "[CV 5/5] END max_depth=5, min_samples_leaf=1, min_samples_split=2, n_estimators=100;, score=0.393 total time=  23.8s\n",
      "[CV 4/5] END max_depth=5, min_samples_leaf=1, min_samples_split=6, n_estimators=25;, score=0.913 total time=  12.0s\n",
      "[CV 4/5] END max_depth=5, min_samples_leaf=1, min_samples_split=2, n_estimators=100;, score=0.913 total time=  24.9s\n",
      "[CV 3/5] END max_depth=5, min_samples_leaf=1, min_samples_split=6, n_estimators=25;, score=0.897 total time=  12.4s\n",
      "[CV 5/5] END max_depth=5, min_samples_leaf=1, min_samples_split=6, n_estimators=25;, score=0.632 total time=  12.2s\n",
      "[CV 1/5] END max_depth=5, min_samples_leaf=1, min_samples_split=6, n_estimators=50;, score=0.870 total time=  16.8s\n",
      "[CV 5/5] END max_depth=5, min_samples_leaf=1, min_samples_split=6, n_estimators=50;, score=0.540 total time=  16.3s\n",
      "[CV 2/5] END max_depth=5, min_samples_leaf=1, min_samples_split=6, n_estimators=50;, score=0.900 total time=  17.1s\n",
      "[CV 4/5] END max_depth=5, min_samples_leaf=1, min_samples_split=6, n_estimators=50;, score=0.913 total time=  16.8s\n",
      "[CV 4/5] END max_depth=5, min_samples_leaf=1, min_samples_split=4, n_estimators=100;, score=0.913 total time=  21.6s\n",
      "[CV 2/5] END max_depth=5, min_samples_leaf=1, min_samples_split=4, n_estimators=100;, score=0.901 total time=  24.6s\n",
      "[CV 3/5] END max_depth=5, min_samples_leaf=1, min_samples_split=4, n_estimators=100;, score=0.898 total time=  24.4s\n",
      "[CV 3/5] END max_depth=5, min_samples_leaf=1, min_samples_split=6, n_estimators=50;, score=0.898 total time=  18.2s\n",
      "[CV 5/5] END max_depth=5, min_samples_leaf=1, min_samples_split=4, n_estimators=100;, score=0.407 total time=  22.7s\n",
      "[CV 2/5] END max_depth=5, min_samples_leaf=1, min_samples_split=8, n_estimators=10;, score=0.891 total time=  11.4s\n",
      "[CV 1/5] END max_depth=5, min_samples_leaf=1, min_samples_split=8, n_estimators=10;, score=0.866 total time=  11.6s\n",
      "[CV 3/5] END max_depth=5, min_samples_leaf=1, min_samples_split=8, n_estimators=10;, score=0.895 total time=  11.8s\n",
      "[CV 4/5] END max_depth=5, min_samples_leaf=1, min_samples_split=8, n_estimators=25;, score=0.913 total time=  11.0s\n",
      "[CV 1/5] END max_depth=5, min_samples_leaf=1, min_samples_split=4, n_estimators=100;, score=0.871 total time=  28.0s\n",
      "[CV 4/5] END max_depth=5, min_samples_leaf=1, min_samples_split=8, n_estimators=10;, score=0.908 total time=  12.5s\n",
      "[CV 2/5] END max_depth=5, min_samples_leaf=1, min_samples_split=8, n_estimators=25;, score=0.896 total time=  12.5s\n",
      "[CV 3/5] END max_depth=5, min_samples_leaf=1, min_samples_split=8, n_estimators=25;, score=0.897 total time=  12.8s\n",
      "[CV 1/5] END max_depth=5, min_samples_leaf=1, min_samples_split=8, n_estimators=25;, score=0.870 total time=  14.1s\n",
      "[CV 5/5] END max_depth=5, min_samples_leaf=1, min_samples_split=8, n_estimators=25;, score=0.604 total time=  14.4s\n",
      "[CV 2/5] END max_depth=5, min_samples_leaf=1, min_samples_split=10, n_estimators=10;, score=0.892 total time=   8.7s\n",
      "[CV 3/5] END max_depth=5, min_samples_leaf=1, min_samples_split=8, n_estimators=50;, score=0.898 total time=  16.5s\n",
      "[CV 5/5] END max_depth=5, min_samples_leaf=1, min_samples_split=8, n_estimators=10;, score=0.626 total time=  19.6s\n",
      "[CV 5/5] END max_depth=5, min_samples_leaf=1, min_samples_split=10, n_estimators=10;, score=0.612 total time=   9.6s\n",
      "[CV 4/5] END max_depth=5, min_samples_leaf=1, min_samples_split=10, n_estimators=10;, score=0.909 total time=  10.0s\n",
      "[CV 3/5] END max_depth=5, min_samples_leaf=1, min_samples_split=10, n_estimators=10;, score=0.896 total time=  11.0s\n",
      "[CV 4/5] END max_depth=5, min_samples_leaf=1, min_samples_split=8, n_estimators=50;, score=0.913 total time=  18.4s\n",
      "[CV 1/5] END max_depth=5, min_samples_leaf=1, min_samples_split=10, n_estimators=10;, score=0.868 total time=  11.7s\n",
      "[CV 1/5] END max_depth=5, min_samples_leaf=1, min_samples_split=8, n_estimators=50;, score=0.870 total time=  20.1s\n",
      "[CV 3/5] END max_depth=5, min_samples_leaf=1, min_samples_split=6, n_estimators=100;, score=0.898 total time=  26.3s\n",
      "[CV 1/5] END max_depth=5, min_samples_leaf=1, min_samples_split=10, n_estimators=25;, score=0.871 total time=  10.8s\n",
      "[CV 3/5] END max_depth=5, min_samples_leaf=1, min_samples_split=10, n_estimators=25;, score=0.897 total time=  10.9s\n",
      "[CV 5/5] END max_depth=5, min_samples_leaf=1, min_samples_split=10, n_estimators=25;, score=0.591 total time=  10.6s\n",
      "[CV 5/5] END max_depth=5, min_samples_leaf=1, min_samples_split=6, n_estimators=100;, score=0.403 total time=  24.8s\n",
      "[CV 1/5] END max_depth=5, min_samples_leaf=1, min_samples_split=6, n_estimators=100;, score=0.871 total time=  30.6s\n",
      "[CV 2/5] END max_depth=5, min_samples_leaf=1, min_samples_split=10, n_estimators=25;, score=0.897 total time=  14.2s\n",
      "[CV 2/5] END max_depth=5, min_samples_leaf=1, min_samples_split=8, n_estimators=50;, score=0.900 total time=  23.4s\n",
      "[CV 5/5] END max_depth=5, min_samples_leaf=1, min_samples_split=8, n_estimators=50;, score=0.501 total time=  22.4s\n",
      "[CV 2/5] END max_depth=5, min_samples_leaf=1, min_samples_split=6, n_estimators=100;, score=0.901 total time=  31.0s\n",
      "[CV 3/5] END max_depth=5, min_samples_leaf=1, min_samples_split=10, n_estimators=50;, score=0.898 total time=  12.4s\n",
      "[CV 4/5] END max_depth=5, min_samples_leaf=1, min_samples_split=10, n_estimators=25;, score=0.913 total time=  14.6s\n",
      "[CV 4/5] END max_depth=5, min_samples_leaf=1, min_samples_split=6, n_estimators=100;, score=0.913 total time=  28.3s\n",
      "[CV 2/5] END max_depth=5, min_samples_leaf=1, min_samples_split=8, n_estimators=100;, score=0.901 total time=  23.3s\n",
      "[CV 1/5] END max_depth=5, min_samples_leaf=1, min_samples_split=10, n_estimators=50;, score=0.870 total time=  14.6s\n",
      "[CV 4/5] END max_depth=5, min_samples_leaf=1, min_samples_split=10, n_estimators=50;, score=0.913 total time=  14.0s\n",
      "[CV 1/5] END max_depth=5, min_samples_leaf=2, min_samples_split=2, n_estimators=10;, score=0.866 total time=   6.9s\n",
      "[CV 2/5] END max_depth=5, min_samples_leaf=1, min_samples_split=10, n_estimators=50;, score=0.900 total time=  15.0s\n",
      "[CV 1/5] END max_depth=5, min_samples_leaf=1, min_samples_split=8, n_estimators=100;, score=0.871 total time=  25.2s\n",
      "[CV 2/5] END max_depth=5, min_samples_leaf=2, min_samples_split=2, n_estimators=10;, score=0.892 total time=   9.6s\n",
      "[CV 4/5] END max_depth=5, min_samples_leaf=2, min_samples_split=2, n_estimators=10;, score=0.909 total time=   9.6s\n",
      "[CV 5/5] END max_depth=5, min_samples_leaf=2, min_samples_split=2, n_estimators=10;, score=0.782 total time=  10.0s\n",
      "[CV 3/5] END max_depth=5, min_samples_leaf=1, min_samples_split=8, n_estimators=100;, score=0.898 total time=  23.2s\n",
      "[CV 3/5] END max_depth=5, min_samples_leaf=2, min_samples_split=2, n_estimators=10;, score=0.895 total time=  11.6s\n",
      "[CV 2/5] END max_depth=5, min_samples_leaf=2, min_samples_split=2, n_estimators=25;, score=0.897 total time=  10.9s\n",
      "[CV 5/5] END max_depth=5, min_samples_leaf=1, min_samples_split=8, n_estimators=100;, score=0.414 total time=  23.6s\n",
      "[CV 4/5] END max_depth=5, min_samples_leaf=1, min_samples_split=8, n_estimators=100;, score=0.913 total time=  24.7s\n",
      "[CV 3/5] END max_depth=5, min_samples_leaf=2, min_samples_split=2, n_estimators=25;, score=0.897 total time=  12.1s\n",
      "[CV 5/5] END max_depth=5, min_samples_leaf=1, min_samples_split=10, n_estimators=50;, score=0.486 total time=  19.9s\n",
      "[CV 1/5] END max_depth=5, min_samples_leaf=2, min_samples_split=2, n_estimators=25;, score=0.871 total time=  14.6s\n",
      "[CV 5/5] END max_depth=5, min_samples_leaf=2, min_samples_split=2, n_estimators=25;, score=0.740 total time=  12.5s\n",
      "[CV 1/5] END max_depth=5, min_samples_leaf=2, min_samples_split=4, n_estimators=10;, score=0.866 total time=  10.7s\n",
      "[CV 2/5] END max_depth=5, min_samples_leaf=2, min_samples_split=4, n_estimators=10;, score=0.892 total time=  10.8s\n",
      "[CV 4/5] END max_depth=5, min_samples_leaf=2, min_samples_split=2, n_estimators=25;, score=0.913 total time=  16.2s\n",
      "[CV 3/5] END max_depth=5, min_samples_leaf=2, min_samples_split=4, n_estimators=10;, score=0.895 total time=  11.7s\n",
      "[CV 4/5] END max_depth=5, min_samples_leaf=2, min_samples_split=4, n_estimators=10;, score=0.909 total time=  12.5s\n",
      "[CV 2/5] END max_depth=5, min_samples_leaf=1, min_samples_split=10, n_estimators=100;, score=0.901 total time=  25.0s[CV 5/5] END max_depth=5, min_samples_leaf=2, min_samples_split=4, n_estimators=10;, score=0.782 total time=  13.0s\n",
      "\n",
      "[CV 5/5] END max_depth=5, min_samples_leaf=2, min_samples_split=2, n_estimators=50;, score=0.712 total time=  17.8s\n",
      "[CV 1/5] END max_depth=5, min_samples_leaf=2, min_samples_split=2, n_estimators=50;, score=0.870 total time=  18.7s\n",
      "[CV 1/5] END max_depth=5, min_samples_leaf=1, min_samples_split=10, n_estimators=100;, score=0.871 total time=  28.7s\n",
      "[CV 4/5] END max_depth=5, min_samples_leaf=1, min_samples_split=10, n_estimators=100;, score=0.913 total time=  24.9s\n",
      "[CV 3/5] END max_depth=5, min_samples_leaf=2, min_samples_split=2, n_estimators=50;, score=0.898 total time=  20.4s\n",
      "[CV 5/5] END max_depth=5, min_samples_leaf=2, min_samples_split=4, n_estimators=25;, score=0.740 total time=  12.9s\n",
      "[CV 3/5] END max_depth=5, min_samples_leaf=1, min_samples_split=10, n_estimators=100;, score=0.898 total time=  27.2s\n",
      "[CV 1/5] END max_depth=5, min_samples_leaf=2, min_samples_split=4, n_estimators=25;, score=0.871 total time=  15.6s\n",
      "[CV 2/5] END max_depth=5, min_samples_leaf=2, min_samples_split=2, n_estimators=50;, score=0.900 total time=  21.3s\n",
      "[CV 5/5] END max_depth=5, min_samples_leaf=1, min_samples_split=10, n_estimators=100;, score=0.410 total time=  26.4s\n",
      "[CV 3/5] END max_depth=5, min_samples_leaf=2, min_samples_split=4, n_estimators=25;, score=0.897 total time=  14.4s\n",
      "[CV 2/5] END max_depth=5, min_samples_leaf=2, min_samples_split=4, n_estimators=25;, score=0.897 total time=  15.2s\n",
      "[CV 4/5] END max_depth=5, min_samples_leaf=2, min_samples_split=2, n_estimators=50;, score=0.913 total time=  21.6s\n",
      "[CV 4/5] END max_depth=5, min_samples_leaf=2, min_samples_split=4, n_estimators=25;, score=0.913 total time=  15.0s\n",
      "[CV 1/5] END max_depth=5, min_samples_leaf=2, min_samples_split=2, n_estimators=100;, score=0.871 total time=  22.7s\n",
      "[CV 1/5] END max_depth=5, min_samples_leaf=2, min_samples_split=4, n_estimators=50;, score=0.870 total time=  15.6s\n",
      "[CV 4/5] END max_depth=5, min_samples_leaf=2, min_samples_split=2, n_estimators=100;, score=0.914 total time=  22.2s\n",
      "[CV 3/5] END max_depth=5, min_samples_leaf=2, min_samples_split=4, n_estimators=50;, score=0.898 total time=  14.9s\n",
      "[CV 4/5] END max_depth=5, min_samples_leaf=2, min_samples_split=4, n_estimators=50;, score=0.913 total time=  15.2s\n",
      "[CV 2/5] END max_depth=5, min_samples_leaf=2, min_samples_split=2, n_estimators=100;, score=0.902 total time=  23.8s\n",
      "[CV 3/5] END max_depth=5, min_samples_leaf=2, min_samples_split=2, n_estimators=100;, score=0.899 total time=  23.8s\n",
      "[CV 1/5] END max_depth=5, min_samples_leaf=2, min_samples_split=6, n_estimators=10;, score=0.866 total time=  11.3s\n",
      "[CV 5/5] END max_depth=5, min_samples_leaf=2, min_samples_split=4, n_estimators=50;, score=0.712 total time=  16.9s\n",
      "[CV 5/5] END max_depth=5, min_samples_leaf=2, min_samples_split=2, n_estimators=100;, score=0.552 total time=  27.5s\n",
      "[CV 4/5] END max_depth=5, min_samples_leaf=2, min_samples_split=6, n_estimators=10;, score=0.908 total time=  11.4s\n",
      "[CV 5/5] END max_depth=5, min_samples_leaf=2, min_samples_split=6, n_estimators=10;, score=0.792 total time=  11.8s\n",
      "[CV 2/5] END max_depth=5, min_samples_leaf=2, min_samples_split=4, n_estimators=50;, score=0.900 total time=  21.2s\n",
      "[CV 1/5] END max_depth=5, min_samples_leaf=2, min_samples_split=6, n_estimators=25;, score=0.870 total time=  11.2s\n",
      "[CV 3/5] END max_depth=5, min_samples_leaf=2, min_samples_split=6, n_estimators=10;, score=0.895 total time=  13.1s[CV 2/5] END max_depth=5, min_samples_leaf=2, min_samples_split=6, n_estimators=10;, score=0.892 total time=  13.2s\n",
      "\n",
      "[CV 2/5] END max_depth=5, min_samples_leaf=2, min_samples_split=6, n_estimators=25;, score=0.897 total time=  12.8s\n",
      "[CV 4/5] END max_depth=5, min_samples_leaf=2, min_samples_split=6, n_estimators=25;, score=0.913 total time=  12.0s\n",
      "[CV 3/5] END max_depth=5, min_samples_leaf=2, min_samples_split=6, n_estimators=25;, score=0.897 total time=  12.6s\n",
      "[CV 5/5] END max_depth=5, min_samples_leaf=2, min_samples_split=6, n_estimators=25;, score=0.751 total time=  12.9s\n",
      "[CV 1/5] END max_depth=5, min_samples_leaf=2, min_samples_split=4, n_estimators=100;, score=0.871 total time=  22.4s\n",
      "[CV 1/5] END max_depth=5, min_samples_leaf=2, min_samples_split=8, n_estimators=10;, score=0.866 total time=  10.7s\n",
      "[CV 2/5] END max_depth=5, min_samples_leaf=2, min_samples_split=4, n_estimators=100;, score=0.902 total time=  22.5s\n",
      "[CV 5/5] END max_depth=5, min_samples_leaf=2, min_samples_split=4, n_estimators=100;, score=0.552 total time=  22.6s\n",
      "[CV 2/5] END max_depth=5, min_samples_leaf=2, min_samples_split=8, n_estimators=10;, score=0.892 total time=  13.1s\n",
      "[CV 3/5] END max_depth=5, min_samples_leaf=2, min_samples_split=4, n_estimators=100;, score=0.899 total time=  24.6s\n",
      "[CV 3/5] END max_depth=5, min_samples_leaf=2, min_samples_split=6, n_estimators=50;, score=0.898 total time=  17.3s\n",
      "[CV 4/5] END max_depth=5, min_samples_leaf=2, min_samples_split=4, n_estimators=100;, score=0.914 total time=  25.0s\n",
      "[CV 4/5] END max_depth=5, min_samples_leaf=2, min_samples_split=6, n_estimators=50;, score=0.913 total time=  20.1s\n",
      "[CV 5/5] END max_depth=5, min_samples_leaf=2, min_samples_split=8, n_estimators=25;, score=0.731 total time=  11.5s\n",
      "[CV 2/5] END max_depth=5, min_samples_leaf=2, min_samples_split=6, n_estimators=50;, score=0.900 total time=  21.6s\n",
      "[CV 4/5] END max_depth=5, min_samples_leaf=2, min_samples_split=8, n_estimators=10;, score=0.908 total time=  18.2s\n",
      "[CV 5/5] END max_depth=5, min_samples_leaf=2, min_samples_split=8, n_estimators=10;, score=0.769 total time=  16.8s\n",
      "[CV 3/5] END max_depth=5, min_samples_leaf=2, min_samples_split=8, n_estimators=10;, score=0.895 total time=  19.8s\n",
      "[CV 1/5] END max_depth=5, min_samples_leaf=2, min_samples_split=8, n_estimators=25;, score=0.871 total time=  16.8s\n",
      "[CV 3/5] END max_depth=5, min_samples_leaf=2, min_samples_split=8, n_estimators=25;, score=0.897 total time=  14.6s\n",
      "[CV 5/5] END max_depth=5, min_samples_leaf=2, min_samples_split=6, n_estimators=50;, score=0.705 total time=  23.3s\n",
      "[CV 2/5] END max_depth=5, min_samples_leaf=2, min_samples_split=8, n_estimators=25;, score=0.897 total time=  14.9s\n",
      "[CV 1/5] END max_depth=5, min_samples_leaf=2, min_samples_split=6, n_estimators=50;, score=0.870 total time=  23.6s\n",
      "[CV 4/5] END max_depth=5, min_samples_leaf=2, min_samples_split=8, n_estimators=25;, score=0.913 total time=  15.2s\n",
      "[CV 2/5] END max_depth=5, min_samples_leaf=2, min_samples_split=6, n_estimators=100;, score=0.901 total time=  22.9s\n",
      "[CV 1/5] END max_depth=5, min_samples_leaf=2, min_samples_split=10, n_estimators=10;, score=0.868 total time=   8.6s\n",
      "[CV 4/5] END max_depth=5, min_samples_leaf=2, min_samples_split=8, n_estimators=50;, score=0.913 total time=  13.3s\n",
      "[CV 1/5] END max_depth=5, min_samples_leaf=2, min_samples_split=6, n_estimators=100;, score=0.871 total time=  24.1s\n",
      "[CV 5/5] END max_depth=5, min_samples_leaf=2, min_samples_split=6, n_estimators=100;, score=0.546 total time=  22.5s\n",
      "[CV 3/5] END max_depth=5, min_samples_leaf=2, min_samples_split=6, n_estimators=100;, score=0.899 total time=  23.0s\n",
      "[CV 1/5] END max_depth=5, min_samples_leaf=2, min_samples_split=8, n_estimators=50;, score=0.870 total time=  15.8s\n",
      "[CV 4/5] END max_depth=5, min_samples_leaf=2, min_samples_split=6, n_estimators=100;, score=0.914 total time=  23.0s\n",
      "[CV 3/5] END max_depth=5, min_samples_leaf=2, min_samples_split=8, n_estimators=50;, score=0.898 total time=  15.0s\n",
      "[CV 2/5] END max_depth=5, min_samples_leaf=2, min_samples_split=8, n_estimators=50;, score=0.900 total time=  15.4s\n",
      "[CV 2/5] END max_depth=5, min_samples_leaf=2, min_samples_split=10, n_estimators=10;, score=0.893 total time=   9.4s\n",
      "[CV 3/5] END max_depth=5, min_samples_leaf=2, min_samples_split=10, n_estimators=10;, score=0.896 total time=   9.1s\n",
      "[CV 5/5] END max_depth=5, min_samples_leaf=2, min_samples_split=8, n_estimators=50;, score=0.670 total time=  16.9s\n",
      "[CV 4/5] END max_depth=5, min_samples_leaf=2, min_samples_split=10, n_estimators=10;, score=0.909 total time=  11.5s\n",
      "[CV 5/5] END max_depth=5, min_samples_leaf=2, min_samples_split=10, n_estimators=10;, score=0.762 total time=  14.3s\n",
      "[CV 1/5] END max_depth=5, min_samples_leaf=2, min_samples_split=10, n_estimators=25;, score=0.871 total time=  11.8s\n",
      "[CV 2/5] END max_depth=5, min_samples_leaf=2, min_samples_split=10, n_estimators=25;, score=0.897 total time=  11.7s\n",
      "[CV 3/5] END max_depth=5, min_samples_leaf=2, min_samples_split=10, n_estimators=25;, score=0.897 total time=  12.1s\n",
      "[CV 5/5] END max_depth=5, min_samples_leaf=2, min_samples_split=10, n_estimators=25;, score=0.713 total time=  11.9s\n",
      "[CV 2/5] END max_depth=5, min_samples_leaf=2, min_samples_split=8, n_estimators=100;, score=0.901 total time=  22.4s\n",
      "[CV 4/5] END max_depth=5, min_samples_leaf=2, min_samples_split=10, n_estimators=25;, score=0.913 total time=  13.3s\n",
      "[CV 1/5] END max_depth=5, min_samples_leaf=2, min_samples_split=8, n_estimators=100;, score=0.871 total time=  23.6s\n",
      "[CV 3/5] END max_depth=5, min_samples_leaf=2, min_samples_split=10, n_estimators=50;, score=0.898 total time=  12.2s\n",
      "[CV 3/5] END max_depth=5, min_samples_leaf=2, min_samples_split=8, n_estimators=100;, score=0.898 total time=  23.2s\n",
      "[CV 5/5] END max_depth=5, min_samples_leaf=5, min_samples_split=2, n_estimators=10;, score=0.780 total time=  10.6s\n",
      "[CV 4/5] END max_depth=5, min_samples_leaf=5, min_samples_split=2, n_estimators=10;, score=0.909 total time=  11.3s\n",
      "[CV 5/5] END max_depth=5, min_samples_leaf=2, min_samples_split=8, n_estimators=100;, score=0.557 total time=  22.9s\n",
      "[CV 2/5] END max_depth=5, min_samples_leaf=5, min_samples_split=2, n_estimators=10;, score=0.894 total time=  12.3s\n",
      "[CV 3/5] END max_depth=5, min_samples_leaf=5, min_samples_split=2, n_estimators=10;, score=0.896 total time=  12.3s\n",
      "[CV 1/5] END max_depth=5, min_samples_leaf=5, min_samples_split=2, n_estimators=10;, score=0.868 total time=  13.2s\n",
      "[CV 1/5] END max_depth=5, min_samples_leaf=5, min_samples_split=2, n_estimators=25;, score=0.871 total time=  13.3s\n",
      "[CV 4/5] END max_depth=5, min_samples_leaf=2, min_samples_split=8, n_estimators=100;, score=0.914 total time=  25.3s\n",
      "[CV 3/5] END max_depth=5, min_samples_leaf=5, min_samples_split=2, n_estimators=25;, score=0.898 total time=  14.6s\n",
      "[CV 1/5] END max_depth=5, min_samples_leaf=2, min_samples_split=10, n_estimators=50;, score=0.870 total time=  17.5s\n",
      "[CV 5/5] END max_depth=5, min_samples_leaf=2, min_samples_split=10, n_estimators=50;, score=0.695 total time=  17.6s\n",
      "[CV 2/5] END max_depth=5, min_samples_leaf=2, min_samples_split=10, n_estimators=50;, score=0.900 total time=  17.9s\n",
      "[CV 4/5] END max_depth=5, min_samples_leaf=2, min_samples_split=10, n_estimators=50;, score=0.913 total time=  17.9s\n",
      "[CV 4/5] END max_depth=5, min_samples_leaf=5, min_samples_split=2, n_estimators=25;, score=0.913 total time=  16.9s\n",
      "[CV 2/5] END max_depth=5, min_samples_leaf=5, min_samples_split=2, n_estimators=25;, score=0.898 total time=  17.6s\n",
      "[CV 2/5] END max_depth=5, min_samples_leaf=5, min_samples_split=4, n_estimators=10;, score=0.894 total time=   9.7s\n",
      "[CV 5/5] END max_depth=5, min_samples_leaf=5, min_samples_split=2, n_estimators=25;, score=0.766 total time=  17.4s\n",
      "[CV 5/5] END max_depth=5, min_samples_leaf=5, min_samples_split=4, n_estimators=10;, score=0.780 total time=   9.2s\n",
      "[CV 1/5] END max_depth=5, min_samples_leaf=5, min_samples_split=4, n_estimators=10;, score=0.868 total time=  11.0s\n",
      "[CV 2/5] END max_depth=5, min_samples_leaf=2, min_samples_split=10, n_estimators=100;, score=0.901 total time=  24.6s\n",
      "[CV 3/5] END max_depth=5, min_samples_leaf=2, min_samples_split=10, n_estimators=100;, score=0.898 total time=  24.6s\n",
      "[CV 3/5] END max_depth=5, min_samples_leaf=5, min_samples_split=4, n_estimators=25;, score=0.898 total time=  11.7s\n",
      "[CV 1/5] END max_depth=5, min_samples_leaf=5, min_samples_split=2, n_estimators=50;, score=0.870 total time=  21.4s\n",
      "[CV 4/5] END max_depth=5, min_samples_leaf=2, min_samples_split=10, n_estimators=100;, score=0.914 total time=  26.2s\n",
      "[CV 1/5] END max_depth=5, min_samples_leaf=2, min_samples_split=10, n_estimators=100;, score=0.871 total time=  27.4s[CV 4/5] END max_depth=5, min_samples_leaf=5, min_samples_split=4, n_estimators=10;, score=0.909 total time=  13.8s\n",
      "[CV 5/5] END max_depth=5, min_samples_leaf=5, min_samples_split=2, n_estimators=50;, score=0.782 total time=  17.0s\n",
      "\n",
      "[CV 4/5] END max_depth=5, min_samples_leaf=5, min_samples_split=2, n_estimators=50;, score=0.913 total time=  20.0s\n",
      "[CV 3/5] END max_depth=5, min_samples_leaf=5, min_samples_split=4, n_estimators=10;, score=0.896 total time=  16.2s\n",
      "[CV 4/5] END max_depth=5, min_samples_leaf=5, min_samples_split=4, n_estimators=25;, score=0.913 total time=  14.7s\n",
      "[CV 3/5] END max_depth=5, min_samples_leaf=5, min_samples_split=2, n_estimators=50;, score=0.898 total time=  21.3s\n",
      "[CV 1/5] END max_depth=5, min_samples_leaf=5, min_samples_split=4, n_estimators=25;, score=0.871 total time=  16.3s\n",
      "[CV 5/5] END max_depth=5, min_samples_leaf=5, min_samples_split=4, n_estimators=25;, score=0.766 total time=  12.8s\n",
      "[CV 2/5] END max_depth=5, min_samples_leaf=5, min_samples_split=4, n_estimators=25;, score=0.898 total time=  16.7s\n",
      "[CV 2/5] END max_depth=5, min_samples_leaf=5, min_samples_split=2, n_estimators=50;, score=0.901 total time=  23.0s\n",
      "[CV 5/5] END max_depth=5, min_samples_leaf=2, min_samples_split=10, n_estimators=100;, score=0.583 total time=  31.6s\n",
      "[CV 4/5] END max_depth=5, min_samples_leaf=5, min_samples_split=2, n_estimators=100;, score=0.914 total time=  21.4s\n",
      "[CV 1/5] END max_depth=5, min_samples_leaf=5, min_samples_split=6, n_estimators=10;, score=0.868 total time=   8.8s\n",
      "[CV 2/5] END max_depth=5, min_samples_leaf=5, min_samples_split=6, n_estimators=10;, score=0.894 total time=  10.5s\n",
      "[CV 3/5] END max_depth=5, min_samples_leaf=5, min_samples_split=2, n_estimators=100;, score=0.899 total time=  24.3s\n",
      "[CV 3/5] END max_depth=5, min_samples_leaf=5, min_samples_split=6, n_estimators=10;, score=0.896 total time=   9.0s\n",
      "[CV 2/5] END max_depth=5, min_samples_leaf=5, min_samples_split=4, n_estimators=50;, score=0.901 total time=  18.3s\n",
      "[CV 1/5] END max_depth=5, min_samples_leaf=5, min_samples_split=4, n_estimators=50;, score=0.870 total time=  18.5s\n",
      "[CV 5/5] END max_depth=5, min_samples_leaf=5, min_samples_split=4, n_estimators=50;, score=0.782 total time=  17.2s\n",
      "[CV 5/5] END max_depth=5, min_samples_leaf=5, min_samples_split=2, n_estimators=100;, score=0.769 total time=  24.6s\n",
      "[CV 4/5] END max_depth=5, min_samples_leaf=5, min_samples_split=4, n_estimators=50;, score=0.913 total time=  19.0s\n",
      "[CV 5/5] END max_depth=5, min_samples_leaf=5, min_samples_split=6, n_estimators=10;, score=0.780 total time=   9.8s\n",
      "[CV 1/5] END max_depth=5, min_samples_leaf=5, min_samples_split=2, n_estimators=100;, score=0.871 total time=  26.2s\n",
      "[CV 3/5] END max_depth=5, min_samples_leaf=5, min_samples_split=4, n_estimators=50;, score=0.898 total time=  19.7s\n",
      "[CV 2/5] END max_depth=5, min_samples_leaf=5, min_samples_split=2, n_estimators=100;, score=0.902 total time=  26.7s\n",
      "[CV 4/5] END max_depth=5, min_samples_leaf=5, min_samples_split=6, n_estimators=10;, score=0.909 total time=  11.5s\n",
      "[CV 3/5] END max_depth=5, min_samples_leaf=5, min_samples_split=6, n_estimators=25;, score=0.898 total time=  11.7s[CV 2/5] END max_depth=5, min_samples_leaf=5, min_samples_split=6, n_estimators=25;, score=0.898 total time=  11.7s\n",
      "\n",
      "[CV 4/5] END max_depth=5, min_samples_leaf=5, min_samples_split=6, n_estimators=25;, score=0.913 total time=  13.4s\n",
      "[CV 1/5] END max_depth=5, min_samples_leaf=5, min_samples_split=6, n_estimators=25;, score=0.871 total time=  14.5s\n",
      "[CV 5/5] END max_depth=5, min_samples_leaf=5, min_samples_split=6, n_estimators=25;, score=0.766 total time=  13.9s\n",
      "[CV 1/5] END max_depth=5, min_samples_leaf=5, min_samples_split=4, n_estimators=100;, score=0.871 total time=  23.6s\n",
      "[CV 3/5] END max_depth=5, min_samples_leaf=5, min_samples_split=4, n_estimators=100;, score=0.899 total time=  23.4s\n",
      "[CV 4/5] END max_depth=5, min_samples_leaf=5, min_samples_split=6, n_estimators=50;, score=0.913 total time=  15.8s\n",
      "[CV 1/5] END max_depth=5, min_samples_leaf=5, min_samples_split=6, n_estimators=50;, score=0.870 total time=  16.2s\n",
      "[CV 4/5] END max_depth=5, min_samples_leaf=5, min_samples_split=4, n_estimators=100;, score=0.914 total time=  23.2s\n",
      "[CV 3/5] END max_depth=5, min_samples_leaf=5, min_samples_split=6, n_estimators=50;, score=0.898 total time=  16.3s\n",
      "[CV 4/5] END max_depth=5, min_samples_leaf=5, min_samples_split=8, n_estimators=10;, score=0.909 total time=  10.5s\n",
      "[CV 3/5] END max_depth=5, min_samples_leaf=5, min_samples_split=8, n_estimators=10;, score=0.896 total time=  11.0s\n",
      "[CV 2/5] END max_depth=5, min_samples_leaf=5, min_samples_split=8, n_estimators=10;, score=0.894 total time=  11.1s\n",
      "[CV 1/5] END max_depth=5, min_samples_leaf=5, min_samples_split=8, n_estimators=10;, score=0.868 total time=  11.2s\n",
      "[CV 5/5] END max_depth=5, min_samples_leaf=5, min_samples_split=4, n_estimators=100;, score=0.769 total time=  24.0s[CV 2/5] END max_depth=5, min_samples_leaf=5, min_samples_split=6, n_estimators=50;, score=0.901 total time=  17.3s\n",
      "\n",
      "[CV 5/5] END max_depth=5, min_samples_leaf=5, min_samples_split=8, n_estimators=10;, score=0.780 total time=  11.0s\n",
      "[CV 2/5] END max_depth=5, min_samples_leaf=5, min_samples_split=4, n_estimators=100;, score=0.902 total time=  26.1s\n",
      "[CV 4/5] END max_depth=5, min_samples_leaf=5, min_samples_split=8, n_estimators=25;, score=0.913 total time=  11.8s\n",
      "[CV 5/5] END max_depth=5, min_samples_leaf=5, min_samples_split=6, n_estimators=50;, score=0.782 total time=  18.0s\n",
      "[CV 2/5] END max_depth=5, min_samples_leaf=5, min_samples_split=8, n_estimators=25;, score=0.898 total time=  12.1s\n",
      "[CV 1/5] END max_depth=5, min_samples_leaf=5, min_samples_split=8, n_estimators=25;, score=0.871 total time=  12.5s\n",
      "[CV 5/5] END max_depth=5, min_samples_leaf=5, min_samples_split=8, n_estimators=25;, score=0.766 total time=  12.5s\n",
      "[CV 3/5] END max_depth=5, min_samples_leaf=5, min_samples_split=8, n_estimators=25;, score=0.898 total time=  13.2s\n",
      "[CV 3/5] END max_depth=5, min_samples_leaf=5, min_samples_split=10, n_estimators=10;, score=0.896 total time=   8.2s\n",
      "[CV 1/5] END max_depth=5, min_samples_leaf=5, min_samples_split=8, n_estimators=50;, score=0.870 total time=  18.7s\n",
      "[CV 1/5] END max_depth=5, min_samples_leaf=5, min_samples_split=10, n_estimators=10;, score=0.868 total time=  10.7s\n",
      "[CV 2/5] END max_depth=5, min_samples_leaf=5, min_samples_split=10, n_estimators=10;, score=0.894 total time=  12.0s\n",
      "[CV 4/5] END max_depth=5, min_samples_leaf=5, min_samples_split=8, n_estimators=50;, score=0.913 total time=  18.7s\n",
      "[CV 2/5] END max_depth=5, min_samples_leaf=5, min_samples_split=8, n_estimators=50;, score=0.901 total time=  19.9s\n",
      "[CV 5/5] END max_depth=5, min_samples_leaf=5, min_samples_split=10, n_estimators=10;, score=0.780 total time=  11.9s\n",
      "[CV 5/5] END max_depth=5, min_samples_leaf=5, min_samples_split=8, n_estimators=50;, score=0.782 total time=  17.7s\n",
      "[CV 4/5] END max_depth=5, min_samples_leaf=5, min_samples_split=10, n_estimators=25;, score=0.913 total time=  12.7s\n",
      "[CV 2/5] END max_depth=5, min_samples_leaf=5, min_samples_split=10, n_estimators=25;, score=0.898 total time=  13.0s\n",
      "[CV 2/5] END max_depth=5, min_samples_leaf=5, min_samples_split=6, n_estimators=100;, score=0.902 total time=  27.6s\n",
      "[CV 3/5] END max_depth=5, min_samples_leaf=5, min_samples_split=10, n_estimators=25;, score=0.898 total time=  13.2s\n",
      "[CV 3/5] END max_depth=5, min_samples_leaf=5, min_samples_split=6, n_estimators=100;, score=0.899 total time=  27.3s\n",
      "[CV 5/5] END max_depth=5, min_samples_leaf=5, min_samples_split=6, n_estimators=100;, score=0.769 total time=  24.8s\n",
      "[CV 4/5] END max_depth=5, min_samples_leaf=5, min_samples_split=10, n_estimators=10;, score=0.909 total time=  13.8s\n",
      "[CV 1/5] END max_depth=5, min_samples_leaf=5, min_samples_split=6, n_estimators=100;, score=0.871 total time=  29.3s\n",
      "[CV 4/5] END max_depth=5, min_samples_leaf=5, min_samples_split=6, n_estimators=100;, score=0.914 total time=  27.5s\n",
      "[CV 3/5] END max_depth=5, min_samples_leaf=5, min_samples_split=8, n_estimators=50;, score=0.898 total time=  22.8s\n",
      "[CV 1/5] END max_depth=5, min_samples_leaf=5, min_samples_split=10, n_estimators=25;, score=0.871 total time=  16.3s\n",
      "[CV 5/5] END max_depth=5, min_samples_leaf=5, min_samples_split=10, n_estimators=25;, score=0.766 total time=  15.9s\n",
      "[CV 1/5] END max_depth=5, min_samples_leaf=5, min_samples_split=10, n_estimators=50;, score=0.870 total time=  19.6s\n",
      "[CV 1/5] END max_depth=5, min_samples_leaf=5, min_samples_split=8, n_estimators=100;, score=0.871 total time=  25.7s\n",
      "[CV 1/5] END max_depth=5, min_samples_leaf=10, min_samples_split=2, n_estimators=10;, score=0.869 total time=  10.6s\n",
      "[CV 4/5] END max_depth=5, min_samples_leaf=5, min_samples_split=10, n_estimators=50;, score=0.913 total time=  20.3s\n",
      "[CV 2/5] END max_depth=5, min_samples_leaf=5, min_samples_split=10, n_estimators=50;, score=0.901 total time=  20.4s\n",
      "[CV 5/5] END max_depth=5, min_samples_leaf=5, min_samples_split=10, n_estimators=50;, score=0.782 total time=  20.9s\n",
      "[CV 2/5] END max_depth=5, min_samples_leaf=5, min_samples_split=8, n_estimators=100;, score=0.902 total time=  27.3s\n",
      "[CV 4/5] END max_depth=5, min_samples_leaf=10, min_samples_split=2, n_estimators=10;, score=0.909 total time=  11.7s\n",
      "[CV 3/5] END max_depth=5, min_samples_leaf=5, min_samples_split=8, n_estimators=100;, score=0.899 total time=  27.5s\n",
      "[CV 5/5] END max_depth=5, min_samples_leaf=10, min_samples_split=2, n_estimators=10;, score=0.797 total time=  12.1s\n",
      "[CV 3/5] END max_depth=5, min_samples_leaf=10, min_samples_split=2, n_estimators=10;, score=0.897 total time=  13.4s\n",
      "[CV 2/5] END max_depth=5, min_samples_leaf=10, min_samples_split=2, n_estimators=10;, score=0.895 total time=  13.7s\n",
      "[CV 1/5] END max_depth=5, min_samples_leaf=10, min_samples_split=2, n_estimators=25;, score=0.872 total time=  12.8s\n",
      "[CV 3/5] END max_depth=5, min_samples_leaf=5, min_samples_split=10, n_estimators=50;, score=0.898 total time=  24.0s\n",
      "[CV 4/5] END max_depth=5, min_samples_leaf=5, min_samples_split=8, n_estimators=100;, score=0.914 total time=  27.7s\n",
      "[CV 5/5] END max_depth=5, min_samples_leaf=5, min_samples_split=8, n_estimators=100;, score=0.769 total time=  28.0s\n",
      "[CV 2/5] END max_depth=5, min_samples_leaf=5, min_samples_split=10, n_estimators=100;, score=0.902 total time=  23.7s\n",
      "[CV 5/5] END max_depth=5, min_samples_leaf=10, min_samples_split=2, n_estimators=25;, score=0.812 total time=  13.4s\n",
      "[CV 1/5] END max_depth=5, min_samples_leaf=10, min_samples_split=2, n_estimators=50;, score=0.871 total time=  14.2s\n",
      "[CV 2/5] END max_depth=5, min_samples_leaf=10, min_samples_split=2, n_estimators=25;, score=0.899 total time=  16.0s\n",
      "[CV 3/5] END max_depth=5, min_samples_leaf=10, min_samples_split=2, n_estimators=25;, score=0.898 total time=  19.0s\n",
      "[CV 1/5] END max_depth=5, min_samples_leaf=10, min_samples_split=4, n_estimators=10;, score=0.869 total time=  10.0s\n",
      "[CV 4/5] END max_depth=5, min_samples_leaf=10, min_samples_split=2, n_estimators=50;, score=0.913 total time=  17.6s\n",
      "[CV 2/5] END max_depth=5, min_samples_leaf=10, min_samples_split=4, n_estimators=10;, score=0.895 total time=  10.1s\n",
      "[CV 5/5] END max_depth=5, min_samples_leaf=10, min_samples_split=2, n_estimators=50;, score=0.833 total time=  18.1s\n",
      "[CV 5/5] END max_depth=5, min_samples_leaf=5, min_samples_split=10, n_estimators=100;, score=0.769 total time=  23.9s\n",
      "[CV 3/5] END max_depth=5, min_samples_leaf=5, min_samples_split=10, n_estimators=100;, score=0.899 total time=  27.5s\n",
      "[CV 1/5] END max_depth=5, min_samples_leaf=5, min_samples_split=10, n_estimators=100;, score=0.871 total time=  32.2s\n",
      "[CV 4/5] END max_depth=5, min_samples_leaf=10, min_samples_split=2, n_estimators=25;, score=0.913 total time=  21.6s\n",
      "[CV 4/5] END max_depth=5, min_samples_leaf=5, min_samples_split=10, n_estimators=100;, score=0.914 total time=  25.7s\n",
      "[CV 3/5] END max_depth=5, min_samples_leaf=10, min_samples_split=4, n_estimators=10;, score=0.897 total time=  11.6s\n",
      "[CV 1/5] END max_depth=5, min_samples_leaf=10, min_samples_split=4, n_estimators=25;, score=0.872 total time=  12.0s\n",
      "[CV 3/5] END max_depth=5, min_samples_leaf=10, min_samples_split=2, n_estimators=50;, score=0.899 total time=  22.0s\n",
      "[CV 5/5] END max_depth=5, min_samples_leaf=10, min_samples_split=4, n_estimators=25;, score=0.812 total time=  10.1s\n",
      "[CV 4/5] END max_depth=5, min_samples_leaf=10, min_samples_split=4, n_estimators=25;, score=0.913 total time=  11.3s\n",
      "[CV 2/5] END max_depth=5, min_samples_leaf=10, min_samples_split=2, n_estimators=50;, score=0.901 total time=  22.9s\n",
      "[CV 4/5] END max_depth=5, min_samples_leaf=10, min_samples_split=4, n_estimators=10;, score=0.909 total time=  13.2s\n",
      "[CV 2/5] END max_depth=5, min_samples_leaf=10, min_samples_split=4, n_estimators=25;, score=0.899 total time=  12.6s\n",
      "[CV 5/5] END max_depth=5, min_samples_leaf=10, min_samples_split=4, n_estimators=10;, score=0.797 total time=  14.0s\n",
      "[CV 3/5] END max_depth=5, min_samples_leaf=10, min_samples_split=4, n_estimators=50;, score=0.899 total time=  11.8s\n",
      "[CV 3/5] END max_depth=5, min_samples_leaf=10, min_samples_split=4, n_estimators=25;, score=0.898 total time=  14.2s\n",
      "[CV 2/5] END max_depth=5, min_samples_leaf=10, min_samples_split=2, n_estimators=100;, score=0.902 total time=  23.1s\n",
      "[CV 1/5] END max_depth=5, min_samples_leaf=10, min_samples_split=6, n_estimators=10;, score=0.869 total time=   9.6s\n",
      "[CV 4/5] END max_depth=5, min_samples_leaf=10, min_samples_split=4, n_estimators=50;, score=0.913 total time=  16.1s\n",
      "[CV 4/5] END max_depth=5, min_samples_leaf=10, min_samples_split=6, n_estimators=10;, score=0.909 total time=   8.4s\n",
      "[CV 3/5] END max_depth=5, min_samples_leaf=10, min_samples_split=6, n_estimators=10;, score=0.897 total time=   9.8s\n",
      "[CV 5/5] END max_depth=5, min_samples_leaf=10, min_samples_split=4, n_estimators=50;, score=0.833 total time=  16.4s\n",
      "[CV 3/5] END max_depth=5, min_samples_leaf=10, min_samples_split=2, n_estimators=100;, score=0.899 total time=  22.9s\n",
      "[CV 1/5] END max_depth=5, min_samples_leaf=10, min_samples_split=2, n_estimators=100;, score=0.871 total time=  27.5s\n",
      "[CV 2/5] END max_depth=5, min_samples_leaf=10, min_samples_split=6, n_estimators=10;, score=0.895 total time=  10.6s\n",
      "[CV 1/5] END max_depth=5, min_samples_leaf=10, min_samples_split=4, n_estimators=50;, score=0.871 total time=  18.2s\n",
      "[CV 5/5] END max_depth=5, min_samples_leaf=10, min_samples_split=2, n_estimators=100;, score=0.830 total time=  22.7s\n",
      "[CV 2/5] END max_depth=5, min_samples_leaf=10, min_samples_split=4, n_estimators=50;, score=0.901 total time=  18.4s\n",
      "[CV 4/5] END max_depth=5, min_samples_leaf=10, min_samples_split=2, n_estimators=100;, score=0.914 total time=  24.0s\n",
      "[CV 4/5] END max_depth=5, min_samples_leaf=10, min_samples_split=6, n_estimators=25;, score=0.913 total time=   9.9s\n",
      "[CV 3/5] END max_depth=5, min_samples_leaf=10, min_samples_split=6, n_estimators=25;, score=0.898 total time=  12.0s\n",
      "[CV 2/5] END max_depth=5, min_samples_leaf=10, min_samples_split=6, n_estimators=25;, score=0.899 total time=  12.3s\n",
      "[CV 1/5] END max_depth=5, min_samples_leaf=10, min_samples_split=6, n_estimators=25;, score=0.872 total time=  16.0s\n",
      "[CV 5/5] END max_depth=5, min_samples_leaf=10, min_samples_split=6, n_estimators=25;, score=0.812 total time=  15.0s\n",
      "[CV 2/5] END max_depth=5, min_samples_leaf=10, min_samples_split=4, n_estimators=100;, score=0.902 total time=  22.3s\n",
      "[CV 5/5] END max_depth=5, min_samples_leaf=10, min_samples_split=6, n_estimators=10;, score=0.797 total time=  18.0s\n",
      "[CV 3/5] END max_depth=5, min_samples_leaf=10, min_samples_split=8, n_estimators=10;, score=0.897 total time=  10.3s\n",
      "[CV 2/5] END max_depth=5, min_samples_leaf=10, min_samples_split=6, n_estimators=50;, score=0.901 total time=  17.9s\n",
      "[CV 1/5] END max_depth=5, min_samples_leaf=10, min_samples_split=6, n_estimators=50;, score=0.871 total time=  18.2s\n",
      "[CV 1/5] END max_depth=5, min_samples_leaf=10, min_samples_split=8, n_estimators=10;, score=0.869 total time=  11.4s\n",
      "[CV 4/5] END max_depth=5, min_samples_leaf=10, min_samples_split=6, n_estimators=50;, score=0.913 total time=  17.7s\n",
      "[CV 3/5] END max_depth=5, min_samples_leaf=10, min_samples_split=6, n_estimators=50;, score=0.899 total time=  18.5s\n",
      "[CV 1/5] END max_depth=5, min_samples_leaf=10, min_samples_split=4, n_estimators=100;, score=0.871 total time=  27.2s\n",
      "[CV 3/5] END max_depth=5, min_samples_leaf=10, min_samples_split=8, n_estimators=25;, score=0.898 total time=  10.9s\n",
      "[CV 5/5] END max_depth=5, min_samples_leaf=10, min_samples_split=8, n_estimators=10;, score=0.797 total time=  11.6s\n",
      "[CV 4/5] END max_depth=5, min_samples_leaf=10, min_samples_split=8, n_estimators=10;, score=0.909 total time=  12.6s\n",
      "[CV 2/5] END max_depth=5, min_samples_leaf=10, min_samples_split=8, n_estimators=10;, score=0.895 total time=  13.1s\n",
      "[CV 1/5] END max_depth=5, min_samples_leaf=10, min_samples_split=8, n_estimators=25;, score=0.872 total time=  13.0s\n",
      "[CV 4/5] END max_depth=5, min_samples_leaf=10, min_samples_split=4, n_estimators=100;, score=0.914 total time=  24.8s\n",
      "[CV 5/5] END max_depth=5, min_samples_leaf=10, min_samples_split=4, n_estimators=100;, score=0.830 total time=  24.8s\n",
      "[CV 4/5] END max_depth=5, min_samples_leaf=10, min_samples_split=8, n_estimators=25;, score=0.913 total time=  12.9s\n",
      "[CV 5/5] END max_depth=5, min_samples_leaf=10, min_samples_split=8, n_estimators=25;, score=0.812 total time=  13.6s\n",
      "[CV 3/5] END max_depth=5, min_samples_leaf=10, min_samples_split=4, n_estimators=100;, score=0.899 total time=  26.8s\n",
      "[CV 2/5] END max_depth=5, min_samples_leaf=10, min_samples_split=8, n_estimators=25;, score=0.899 total time=  15.0s\n",
      "[CV 5/5] END max_depth=5, min_samples_leaf=10, min_samples_split=6, n_estimators=50;, score=0.833 total time=  21.6s\n",
      "[CV 4/5] END max_depth=5, min_samples_leaf=10, min_samples_split=6, n_estimators=100;, score=0.914 total time=  24.4s\n",
      "[CV 3/5] END max_depth=5, min_samples_leaf=10, min_samples_split=8, n_estimators=50;, score=0.899 total time=  16.7s\n",
      "[CV 1/5] END max_depth=5, min_samples_leaf=10, min_samples_split=10, n_estimators=10;, score=0.869 total time=   9.9s\n",
      "[CV 1/5] END max_depth=5, min_samples_leaf=10, min_samples_split=8, n_estimators=50;, score=0.871 total time=  19.1s\n",
      "[CV 1/5] END max_depth=5, min_samples_leaf=10, min_samples_split=6, n_estimators=100;, score=0.871 total time=  26.7s\n",
      "[CV 5/5] END max_depth=5, min_samples_leaf=10, min_samples_split=10, n_estimators=10;, score=0.797 total time=   9.5s\n",
      "[CV 2/5] END max_depth=5, min_samples_leaf=10, min_samples_split=8, n_estimators=50;, score=0.901 total time=  19.0s\n",
      "[CV 3/5] END max_depth=5, min_samples_leaf=10, min_samples_split=10, n_estimators=10;, score=0.897 total time=  10.7s\n",
      "[CV 4/5] END max_depth=5, min_samples_leaf=10, min_samples_split=10, n_estimators=10;, score=0.909 total time=  10.2s\n",
      "[CV 2/5] END max_depth=5, min_samples_leaf=10, min_samples_split=10, n_estimators=10;, score=0.895 total time=  10.8s\n",
      "[CV 3/5] END max_depth=5, min_samples_leaf=10, min_samples_split=6, n_estimators=100;, score=0.899 total time=  26.6s\n",
      "[CV 5/5] END max_depth=5, min_samples_leaf=10, min_samples_split=8, n_estimators=50;, score=0.833 total time=  15.6s\n",
      "[CV 5/5] END max_depth=5, min_samples_leaf=10, min_samples_split=6, n_estimators=100;, score=0.830 total time=  24.5s\n",
      "[CV 2/5] END max_depth=5, min_samples_leaf=10, min_samples_split=10, n_estimators=25;, score=0.899 total time=  11.5s\n",
      "[CV 4/5] END max_depth=5, min_samples_leaf=10, min_samples_split=10, n_estimators=25;, score=0.913 total time=  10.4s\n",
      "[CV 4/5] END max_depth=5, min_samples_leaf=10, min_samples_split=8, n_estimators=50;, score=0.913 total time=  19.5s\n",
      "[CV 2/5] END max_depth=5, min_samples_leaf=10, min_samples_split=6, n_estimators=100;, score=0.902 total time=  28.5s\n",
      "[CV 1/5] END max_depth=5, min_samples_leaf=10, min_samples_split=10, n_estimators=25;, score=0.872 total time=  12.4s\n",
      "[CV 3/5] END max_depth=5, min_samples_leaf=10, min_samples_split=10, n_estimators=25;, score=0.898 total time=  11.5s\n",
      "[CV 5/5] END max_depth=5, min_samples_leaf=10, min_samples_split=10, n_estimators=25;, score=0.812 total time=  11.2s\n",
      "[CV 5/5] END max_depth=7, min_samples_leaf=1, min_samples_split=2, n_estimators=10;, score=0.808 total time=  11.9s\n",
      "[CV 3/5] END max_depth=7, min_samples_leaf=1, min_samples_split=2, n_estimators=10;, score=0.903 total time=  12.6s\n",
      "[CV 2/5] END max_depth=5, min_samples_leaf=10, min_samples_split=10, n_estimators=50;, score=0.901 total time=  20.3s\n",
      "[CV 5/5] END max_depth=5, min_samples_leaf=10, min_samples_split=8, n_estimators=100;, score=0.830 total time=  23.3s\n",
      "[CV 4/5] END max_depth=7, min_samples_leaf=1, min_samples_split=2, n_estimators=10;, score=0.899 total time=  12.7s\n",
      "[CV 5/5] END max_depth=5, min_samples_leaf=10, min_samples_split=10, n_estimators=50;, score=0.833 total time=  18.6s\n",
      "[CV 2/5] END max_depth=7, min_samples_leaf=1, min_samples_split=2, n_estimators=10;, score=0.906 total time=  13.2s\n",
      "[CV 1/5] END max_depth=5, min_samples_leaf=10, min_samples_split=8, n_estimators=100;, score=0.871 total time=  26.8s\n",
      "[CV 4/5] END max_depth=5, min_samples_leaf=10, min_samples_split=8, n_estimators=100;, score=0.914 total time=  24.4s\n",
      "[CV 3/5] END max_depth=5, min_samples_leaf=10, min_samples_split=10, n_estimators=50;, score=0.899 total time=  20.9s\n",
      "[CV 1/5] END max_depth=5, min_samples_leaf=10, min_samples_split=10, n_estimators=50;, score=0.871 total time=  21.2s\n",
      "[CV 4/5] END max_depth=5, min_samples_leaf=10, min_samples_split=10, n_estimators=50;, score=0.913 total time=  20.2s\n",
      "[CV 3/5] END max_depth=5, min_samples_leaf=10, min_samples_split=8, n_estimators=100;, score=0.899 total time=  25.5s\n",
      "[CV 2/5] END max_depth=5, min_samples_leaf=10, min_samples_split=8, n_estimators=100;, score=0.902 total time=  27.3s\n",
      "[CV 1/5] END max_depth=7, min_samples_leaf=1, min_samples_split=2, n_estimators=10;, score=0.878 total time=  15.0s\n",
      "[CV 3/5] END max_depth=7, min_samples_leaf=1, min_samples_split=2, n_estimators=25;, score=0.905 total time=  14.4s\n",
      "[CV 2/5] END max_depth=7, min_samples_leaf=1, min_samples_split=2, n_estimators=25;, score=0.907 total time=  15.1s\n",
      "[CV 1/5] END max_depth=7, min_samples_leaf=1, min_samples_split=2, n_estimators=25;, score=0.880 total time=  15.6s\n",
      "[CV 4/5] END max_depth=7, min_samples_leaf=1, min_samples_split=2, n_estimators=25;, score=0.915 total time=  15.8s\n",
      "[CV 1/5] END max_depth=5, min_samples_leaf=10, min_samples_split=10, n_estimators=100;, score=0.871 total time=  24.7s\n",
      "[CV 5/5] END max_depth=7, min_samples_leaf=1, min_samples_split=2, n_estimators=25;, score=0.688 total time=  17.2s\n",
      "[CV 2/5] END max_depth=5, min_samples_leaf=10, min_samples_split=10, n_estimators=100;, score=0.902 total time=  27.8s\n",
      "[CV 3/5] END max_depth=5, min_samples_leaf=10, min_samples_split=10, n_estimators=100;, score=0.899 total time=  23.5s\n",
      "[CV 3/5] END max_depth=7, min_samples_leaf=1, min_samples_split=4, n_estimators=10;, score=0.906 total time=  11.7s\n",
      "[CV 5/5] END max_depth=7, min_samples_leaf=1, min_samples_split=4, n_estimators=10;, score=0.779 total time=  12.0s\n",
      "[CV 4/5] END max_depth=7, min_samples_leaf=1, min_samples_split=4, n_estimators=10;, score=0.898 total time=  12.2s\n",
      "[CV 1/5] END max_depth=7, min_samples_leaf=1, min_samples_split=2, n_estimators=50;, score=0.882 total time=  24.0s\n",
      "[CV 3/5] END max_depth=7, min_samples_leaf=1, min_samples_split=4, n_estimators=25;, score=0.907 total time=  14.4s\n",
      "[CV 4/5] END max_depth=7, min_samples_leaf=1, min_samples_split=4, n_estimators=25;, score=0.915 total time=  15.4s\n",
      "[CV 1/5] END max_depth=7, min_samples_leaf=1, min_samples_split=4, n_estimators=10;, score=0.878 total time=  16.4s\n",
      "[CV 5/5] END max_depth=5, min_samples_leaf=10, min_samples_split=10, n_estimators=100;, score=0.830 total time=  30.8s\n",
      "[CV 2/5] END max_depth=7, min_samples_leaf=1, min_samples_split=4, n_estimators=10;, score=0.905 total time=  17.7s\n",
      "[CV 3/5] END max_depth=7, min_samples_leaf=1, min_samples_split=2, n_estimators=50;, score=0.895 total time=  28.4s\n",
      "[CV 4/5] END max_depth=7, min_samples_leaf=1, min_samples_split=2, n_estimators=50;, score=0.920 total time=  29.1s\n",
      "[CV 5/5] END max_depth=7, min_samples_leaf=1, min_samples_split=4, n_estimators=25;, score=0.605 total time=  18.6s\n",
      "[CV 2/5] END max_depth=7, min_samples_leaf=1, min_samples_split=4, n_estimators=25;, score=0.906 total time=  19.6s\n",
      "[CV 4/5] END max_depth=5, min_samples_leaf=10, min_samples_split=10, n_estimators=100;, score=0.914 total time=  34.2s\n",
      "[CV 2/5] END max_depth=7, min_samples_leaf=1, min_samples_split=2, n_estimators=50;, score=0.908 total time=  31.3s\n",
      "[CV 5/5] END max_depth=7, min_samples_leaf=1, min_samples_split=2, n_estimators=50;, score=0.723 total time=  31.5s\n",
      "[CV 1/5] END max_depth=7, min_samples_leaf=1, min_samples_split=4, n_estimators=25;, score=0.881 total time=  22.4s\n",
      "[CV 1/5] END max_depth=7, min_samples_leaf=1, min_samples_split=6, n_estimators=10;, score=0.878 total time=  11.2s\n",
      "[CV 2/5] END max_depth=7, min_samples_leaf=1, min_samples_split=6, n_estimators=10;, score=0.905 total time=  10.8s\n",
      "[CV 3/5] END max_depth=7, min_samples_leaf=1, min_samples_split=6, n_estimators=10;, score=0.849 total time=  10.8s\n",
      "[CV 4/5] END max_depth=7, min_samples_leaf=1, min_samples_split=6, n_estimators=10;, score=0.915 total time=  10.6s\n",
      "[CV 1/5] END max_depth=7, min_samples_leaf=1, min_samples_split=4, n_estimators=50;, score=0.882 total time=  23.2s\n",
      "[CV 2/5] END max_depth=7, min_samples_leaf=1, min_samples_split=4, n_estimators=50;, score=0.908 total time=  22.3s\n",
      "[CV 3/5] END max_depth=7, min_samples_leaf=1, min_samples_split=4, n_estimators=50;, score=0.898 total time=  22.3s\n",
      "[CV 4/5] END max_depth=7, min_samples_leaf=1, min_samples_split=4, n_estimators=50;, score=0.919 total time=  24.4s\n",
      "[CV 5/5] END max_depth=7, min_samples_leaf=1, min_samples_split=4, n_estimators=50;, score=0.646 total time=  24.2s\n",
      "[CV 3/5] END max_depth=7, min_samples_leaf=1, min_samples_split=2, n_estimators=100;, score=0.904 total time=  28.6s\n",
      "[CV 1/5] END max_depth=7, min_samples_leaf=1, min_samples_split=2, n_estimators=100;, score=0.883 total time=  38.2s\n",
      "[CV 2/5] END max_depth=7, min_samples_leaf=1, min_samples_split=2, n_estimators=100;, score=0.909 total time=  39.9s\n",
      "[CV 5/5] END max_depth=7, min_samples_leaf=1, min_samples_split=6, n_estimators=10;, score=0.789 total time=  15.3s\n",
      "[CV 5/5] END max_depth=7, min_samples_leaf=1, min_samples_split=6, n_estimators=25;, score=0.638 total time=  12.5s\n",
      "[CV 1/5] END max_depth=7, min_samples_leaf=1, min_samples_split=6, n_estimators=25;, score=0.882 total time=  14.5s\n",
      "[CV 3/5] END max_depth=7, min_samples_leaf=1, min_samples_split=6, n_estimators=25;, score=0.887 total time=  14.0s\n",
      "[CV 4/5] END max_depth=7, min_samples_leaf=1, min_samples_split=2, n_estimators=100;, score=0.921 total time=  31.8s\n",
      "[CV 2/5] END max_depth=7, min_samples_leaf=1, min_samples_split=6, n_estimators=25;, score=0.907 total time=  15.1s\n",
      "[CV 5/5] END max_depth=7, min_samples_leaf=1, min_samples_split=2, n_estimators=100;, score=0.515 total time=  32.4s\n",
      "[CV 1/5] END max_depth=7, min_samples_leaf=1, min_samples_split=4, n_estimators=100;, score=0.884 total time=  29.1s\n",
      "[CV 2/5] END max_depth=7, min_samples_leaf=1, min_samples_split=8, n_estimators=10;, score=0.907 total time=  11.3s\n",
      "[CV 3/5] END max_depth=7, min_samples_leaf=1, min_samples_split=4, n_estimators=100;, score=0.904 total time=  30.3s\n",
      "[CV 4/5] END max_depth=7, min_samples_leaf=1, min_samples_split=6, n_estimators=25;, score=0.919 total time=  19.2s\n",
      "[CV 3/5] END max_depth=7, min_samples_leaf=1, min_samples_split=8, n_estimators=10;, score=0.906 total time=  13.2s\n",
      "[CV 5/5] END max_depth=7, min_samples_leaf=1, min_samples_split=4, n_estimators=100;, score=0.577 total time=  28.4s\n",
      "[CV 2/5] END max_depth=7, min_samples_leaf=1, min_samples_split=4, n_estimators=100;, score=0.909 total time=  31.8s\n",
      "[CV 1/5] END max_depth=7, min_samples_leaf=1, min_samples_split=6, n_estimators=50;, score=0.882 total time=  20.6s\n",
      "[CV 4/5] END max_depth=7, min_samples_leaf=1, min_samples_split=8, n_estimators=10;, score=0.914 total time=  15.0s\n",
      "[CV 2/5] END max_depth=7, min_samples_leaf=1, min_samples_split=6, n_estimators=50;, score=0.909 total time=  21.4s\n",
      "[CV 1/5] END max_depth=7, min_samples_leaf=1, min_samples_split=8, n_estimators=10;, score=0.879 total time=  17.2s\n",
      "[CV 5/5] END max_depth=7, min_samples_leaf=1, min_samples_split=8, n_estimators=10;, score=0.801 total time=  14.4s\n",
      "[CV 4/5] END max_depth=7, min_samples_leaf=1, min_samples_split=4, n_estimators=100;, score=0.921 total time=  32.9s\n",
      "[CV 4/5] END max_depth=7, min_samples_leaf=1, min_samples_split=6, n_estimators=50;, score=0.921 total time=  22.3s\n",
      "[CV 3/5] END max_depth=7, min_samples_leaf=1, min_samples_split=6, n_estimators=50;, score=0.901 total time=  23.5s\n",
      "[CV 1/5] END max_depth=7, min_samples_leaf=1, min_samples_split=8, n_estimators=25;, score=0.882 total time=  16.0s\n",
      "[CV 4/5] END max_depth=7, min_samples_leaf=1, min_samples_split=8, n_estimators=25;, score=0.920 total time=  13.7s\n",
      "[CV 3/5] END max_depth=7, min_samples_leaf=1, min_samples_split=8, n_estimators=25;, score=0.907 total time=  16.9s\n",
      "[CV 5/5] END max_depth=7, min_samples_leaf=1, min_samples_split=8, n_estimators=25;, score=0.659 total time=  15.4s\n",
      "[CV 5/5] END max_depth=7, min_samples_leaf=1, min_samples_split=6, n_estimators=50;, score=0.540 total time=  26.7s\n",
      "[CV 2/5] END max_depth=7, min_samples_leaf=1, min_samples_split=8, n_estimators=25;, score=0.907 total time=  20.8s\n",
      "[CV 3/5] END max_depth=7, min_samples_leaf=1, min_samples_split=8, n_estimators=50;, score=0.907 total time=  18.5s\n",
      "[CV 5/5] END max_depth=7, min_samples_leaf=1, min_samples_split=10, n_estimators=10;, score=0.813 total time=  11.4s\n",
      "[CV 3/5] END max_depth=7, min_samples_leaf=1, min_samples_split=10, n_estimators=10;, score=0.900 total time=  14.9s\n",
      "[CV 2/5] END max_depth=7, min_samples_leaf=1, min_samples_split=10, n_estimators=10;, score=0.907 total time=  16.8s\n",
      "[CV 1/5] END max_depth=7, min_samples_leaf=1, min_samples_split=10, n_estimators=10;, score=0.878 total time=  17.5s\n",
      "[CV 2/5] END max_depth=7, min_samples_leaf=1, min_samples_split=8, n_estimators=50;, score=0.909 total time=  26.1s\n",
      "[CV 3/5] END max_depth=7, min_samples_leaf=1, min_samples_split=6, n_estimators=100;, score=0.905 total time=  33.9s\n",
      "[CV 4/5] END max_depth=7, min_samples_leaf=1, min_samples_split=10, n_estimators=10;, score=0.913 total time=  17.7s\n",
      "[CV 2/5] END max_depth=7, min_samples_leaf=1, min_samples_split=10, n_estimators=25;, score=0.907 total time=  15.9s\n",
      "[CV 2/5] END max_depth=7, min_samples_leaf=1, min_samples_split=6, n_estimators=100;, score=0.910 total time=  34.8s\n",
      "[CV 1/5] END max_depth=7, min_samples_leaf=1, min_samples_split=8, n_estimators=50;, score=0.883 total time=  27.3s\n",
      "[CV 5/5] END max_depth=7, min_samples_leaf=1, min_samples_split=8, n_estimators=50;, score=0.676 total time=  27.0s\n",
      "[CV 1/5] END max_depth=7, min_samples_leaf=1, min_samples_split=10, n_estimators=25;, score=0.881 total time=  18.1s\n",
      "[CV 1/5] END max_depth=7, min_samples_leaf=1, min_samples_split=6, n_estimators=100;, score=0.884 total time=  37.8s\n",
      "[CV 3/5] END max_depth=7, min_samples_leaf=1, min_samples_split=10, n_estimators=25;, score=0.905 total time=  17.5s\n",
      "[CV 4/5] END max_depth=7, min_samples_leaf=1, min_samples_split=8, n_estimators=50;, score=0.922 total time=  28.9s\n",
      "[CV 4/5] END max_depth=7, min_samples_leaf=1, min_samples_split=6, n_estimators=100;, score=0.922 total time=  37.3s\n",
      "[CV 4/5] END max_depth=7, min_samples_leaf=1, min_samples_split=10, n_estimators=25;, score=0.920 total time=  18.4s\n",
      "[CV 5/5] END max_depth=7, min_samples_leaf=1, min_samples_split=6, n_estimators=100;, score=0.512 total time=  40.5s\n",
      "[CV 3/5] END max_depth=7, min_samples_leaf=1, min_samples_split=10, n_estimators=50;, score=0.906 total time=  19.9s\n",
      "[CV 5/5] END max_depth=7, min_samples_leaf=1, min_samples_split=10, n_estimators=25;, score=0.723 total time=  21.5s\n",
      "[CV 4/5] END max_depth=7, min_samples_leaf=1, min_samples_split=10, n_estimators=50;, score=0.922 total time=  19.7s\n",
      "[CV 3/5] END max_depth=7, min_samples_leaf=1, min_samples_split=8, n_estimators=100;, score=0.908 total time=  30.0s\n",
      "[CV 1/5] END max_depth=7, min_samples_leaf=1, min_samples_split=8, n_estimators=100;, score=0.884 total time=  33.8s\n",
      "[CV 2/5] END max_depth=7, min_samples_leaf=2, min_samples_split=2, n_estimators=10;, score=0.875 total time=  11.8s\n",
      "[CV 4/5] END max_depth=7, min_samples_leaf=1, min_samples_split=8, n_estimators=100;, score=0.922 total time=  30.4s\n",
      "[CV 2/5] END max_depth=7, min_samples_leaf=1, min_samples_split=10, n_estimators=50;, score=0.909 total time=  23.7s\n",
      "[CV 5/5] END max_depth=7, min_samples_leaf=1, min_samples_split=10, n_estimators=50;, score=0.760 total time=  21.7s\n",
      "[CV 4/5] END max_depth=7, min_samples_leaf=2, min_samples_split=2, n_estimators=10;, score=0.916 total time=  10.9s\n",
      "[CV 1/5] END max_depth=7, min_samples_leaf=1, min_samples_split=10, n_estimators=50;, score=0.882 total time=  25.1s\n",
      "[CV 1/5] END max_depth=7, min_samples_leaf=2, min_samples_split=2, n_estimators=10;, score=0.877 total time=  13.9s\n",
      "[CV 2/5] END max_depth=7, min_samples_leaf=1, min_samples_split=8, n_estimators=100;, score=0.909 total time=  34.8s\n",
      "[CV 5/5] END max_depth=7, min_samples_leaf=1, min_samples_split=8, n_estimators=100;, score=0.559 total time=  32.8s\n",
      "[CV 3/5] END max_depth=7, min_samples_leaf=2, min_samples_split=2, n_estimators=10;, score=0.902 total time=  13.2s\n",
      "[CV 5/5] END max_depth=7, min_samples_leaf=2, min_samples_split=2, n_estimators=10;, score=0.781 total time=  13.2s\n",
      "[CV 3/5] END max_depth=7, min_samples_leaf=2, min_samples_split=2, n_estimators=25;, score=0.904 total time=  13.5s\n",
      "[CV 1/5] END max_depth=7, min_samples_leaf=2, min_samples_split=2, n_estimators=25;, score=0.880 total time=  14.6s\n",
      "[CV 2/5] END max_depth=7, min_samples_leaf=2, min_samples_split=2, n_estimators=25;, score=0.896 total time=  14.6s\n",
      "[CV 5/5] END max_depth=7, min_samples_leaf=2, min_samples_split=2, n_estimators=25;, score=0.514 total time=  14.5s\n",
      "[CV 4/5] END max_depth=7, min_samples_leaf=2, min_samples_split=2, n_estimators=25;, score=0.919 total time=  15.3s\n",
      "[CV 3/5] END max_depth=7, min_samples_leaf=1, min_samples_split=10, n_estimators=100;, score=0.908 total time=  26.5s\n",
      "[CV 1/5] END max_depth=7, min_samples_leaf=2, min_samples_split=2, n_estimators=50;, score=0.882 total time=  18.1s\n",
      "[CV 1/5] END max_depth=7, min_samples_leaf=1, min_samples_split=10, n_estimators=100;, score=0.884 total time=  30.0s\n",
      "[CV 2/5] END max_depth=7, min_samples_leaf=2, min_samples_split=4, n_estimators=10;, score=0.875 total time=  10.7s\n",
      "[CV 3/5] END max_depth=7, min_samples_leaf=2, min_samples_split=4, n_estimators=10;, score=0.902 total time=  11.7s\n",
      "[CV 1/5] END max_depth=7, min_samples_leaf=2, min_samples_split=4, n_estimators=10;, score=0.877 total time=  13.0s\n",
      "[CV 2/5] END max_depth=7, min_samples_leaf=1, min_samples_split=10, n_estimators=100;, score=0.910 total time=  30.0s\n",
      "[CV 4/5] END max_depth=7, min_samples_leaf=1, min_samples_split=10, n_estimators=100;, score=0.922 total time=  28.3s\n",
      "[CV 4/5] END max_depth=7, min_samples_leaf=2, min_samples_split=2, n_estimators=50;, score=0.921 total time=  20.3s\n",
      "[CV 3/5] END max_depth=7, min_samples_leaf=2, min_samples_split=2, n_estimators=50;, score=0.898 total time=  20.5s\n",
      "[CV 5/5] END max_depth=7, min_samples_leaf=2, min_samples_split=4, n_estimators=10;, score=0.781 total time=  13.1s\n",
      "[CV 4/5] END max_depth=7, min_samples_leaf=2, min_samples_split=4, n_estimators=10;, score=0.916 total time=  13.9s\n",
      "[CV 2/5] END max_depth=7, min_samples_leaf=2, min_samples_split=2, n_estimators=50;, score=0.902 total time=  22.8s\n",
      "[CV 1/5] END max_depth=7, min_samples_leaf=2, min_samples_split=4, n_estimators=25;, score=0.880 total time=  16.0s\n",
      "[CV 4/5] END max_depth=7, min_samples_leaf=2, min_samples_split=4, n_estimators=25;, score=0.919 total time=  15.5s\n",
      "[CV 3/5] END max_depth=7, min_samples_leaf=2, min_samples_split=4, n_estimators=25;, score=0.904 total time=  16.1s\n",
      "[CV 5/5] END max_depth=7, min_samples_leaf=1, min_samples_split=10, n_estimators=100;, score=0.603 total time=  31.8s\n",
      "[CV 5/5] END max_depth=7, min_samples_leaf=2, min_samples_split=4, n_estimators=25;, score=0.514 total time=  17.7s\n",
      "[CV 5/5] END max_depth=7, min_samples_leaf=2, min_samples_split=2, n_estimators=50;, score=0.689 total time=  27.5s[CV 2/5] END max_depth=7, min_samples_leaf=2, min_samples_split=4, n_estimators=25;, score=0.896 total time=  19.7s\n",
      "\n",
      "[CV 1/5] END max_depth=7, min_samples_leaf=2, min_samples_split=6, n_estimators=10;, score=0.879 total time=  13.9s\n",
      "[CV 3/5] END max_depth=7, min_samples_leaf=2, min_samples_split=6, n_estimators=10;, score=0.850 total time=  13.7s\n",
      "[CV 5/5] END max_depth=7, min_samples_leaf=2, min_samples_split=6, n_estimators=10;, score=0.778 total time=  13.1s\n",
      "[CV 2/5] END max_depth=7, min_samples_leaf=2, min_samples_split=6, n_estimators=10;, score=0.877 total time=  14.1s\n",
      "[CV 4/5] END max_depth=7, min_samples_leaf=2, min_samples_split=6, n_estimators=10;, score=0.914 total time=  15.3s\n",
      "[CV 1/5] END max_depth=7, min_samples_leaf=2, min_samples_split=4, n_estimators=50;, score=0.882 total time=  24.6s\n",
      "[CV 5/5] END max_depth=7, min_samples_leaf=2, min_samples_split=4, n_estimators=50;, score=0.689 total time=  23.4s\n",
      "[CV 3/5] END max_depth=7, min_samples_leaf=2, min_samples_split=4, n_estimators=50;, score=0.898 total time=  24.3s\n",
      "[CV 2/5] END max_depth=7, min_samples_leaf=2, min_samples_split=4, n_estimators=50;, score=0.902 total time=  26.0s\n",
      "[CV 1/5] END max_depth=7, min_samples_leaf=2, min_samples_split=6, n_estimators=25;, score=0.881 total time=  15.8s\n",
      "[CV 3/5] END max_depth=7, min_samples_leaf=2, min_samples_split=6, n_estimators=25;, score=0.887 total time=  16.0s\n",
      "[CV 3/5] END max_depth=7, min_samples_leaf=2, min_samples_split=2, n_estimators=100;, score=0.904 total time=  33.9s\n",
      "[CV 4/5] END max_depth=7, min_samples_leaf=2, min_samples_split=4, n_estimators=50;, score=0.921 total time=  26.5s\n",
      "[CV 1/5] END max_depth=7, min_samples_leaf=2, min_samples_split=2, n_estimators=100;, score=0.883 total time=  34.7s\n",
      "[CV 4/5] END max_depth=7, min_samples_leaf=2, min_samples_split=6, n_estimators=25;, score=0.919 total time=  17.3s\n",
      "[CV 2/5] END max_depth=7, min_samples_leaf=2, min_samples_split=6, n_estimators=25;, score=0.896 total time=  18.4s\n",
      "[CV 2/5] END max_depth=7, min_samples_leaf=2, min_samples_split=2, n_estimators=100;, score=0.906 total time=  35.4s\n",
      "[CV 4/5] END max_depth=7, min_samples_leaf=2, min_samples_split=2, n_estimators=100;, score=0.921 total time=  34.2s\n",
      "[CV 5/5] END max_depth=7, min_samples_leaf=2, min_samples_split=6, n_estimators=25;, score=0.551 total time=  17.6s\n",
      "[CV 5/5] END max_depth=7, min_samples_leaf=2, min_samples_split=2, n_estimators=100;, score=0.648 total time=  34.3s\n",
      "[CV 1/5] END max_depth=7, min_samples_leaf=2, min_samples_split=4, n_estimators=100;, score=0.883 total time=  32.4s\n",
      "[CV 2/5] END max_depth=7, min_samples_leaf=2, min_samples_split=8, n_estimators=10;, score=0.877 total time=  11.6s\n",
      "[CV 4/5] END max_depth=7, min_samples_leaf=2, min_samples_split=6, n_estimators=50;, score=0.920 total time=  21.5s\n",
      "[CV 2/5] END max_depth=7, min_samples_leaf=2, min_samples_split=4, n_estimators=100;, score=0.906 total time=  32.9s\n",
      "[CV 3/5] END max_depth=7, min_samples_leaf=2, min_samples_split=4, n_estimators=100;, score=0.904 total time=  31.6s[CV 2/5] END max_depth=7, min_samples_leaf=2, min_samples_split=6, n_estimators=50;, score=0.902 total time=  23.3s\n",
      "\n",
      "[CV 3/5] END max_depth=7, min_samples_leaf=2, min_samples_split=8, n_estimators=10;, score=0.904 total time=  13.5s\n",
      "[CV 1/5] END max_depth=7, min_samples_leaf=2, min_samples_split=8, n_estimators=10;, score=0.878 total time=  15.1s\n",
      "[CV 4/5] END max_depth=7, min_samples_leaf=2, min_samples_split=8, n_estimators=10;, score=0.916 total time=  13.3s\n",
      "[CV 5/5] END max_depth=7, min_samples_leaf=2, min_samples_split=6, n_estimators=50;, score=0.629 total time=  21.8s[CV 4/5] END max_depth=7, min_samples_leaf=2, min_samples_split=4, n_estimators=100;, score=0.921 total time=  32.0s\n",
      "[CV 5/5] END max_depth=7, min_samples_leaf=2, min_samples_split=8, n_estimators=10;, score=0.793 total time=  13.6s\n",
      "\n",
      "[CV 5/5] END max_depth=7, min_samples_leaf=2, min_samples_split=4, n_estimators=100;, score=0.648 total time=  32.3s\n",
      "[CV 1/5] END max_depth=7, min_samples_leaf=2, min_samples_split=6, n_estimators=50;, score=0.882 total time=  26.4s\n",
      "[CV 3/5] END max_depth=7, min_samples_leaf=2, min_samples_split=8, n_estimators=25;, score=0.906 total time=  13.5s\n",
      "[CV 3/5] END max_depth=7, min_samples_leaf=2, min_samples_split=6, n_estimators=50;, score=0.900 total time=  25.0s\n",
      "[CV 2/5] END max_depth=7, min_samples_leaf=2, min_samples_split=8, n_estimators=25;, score=0.897 total time=  19.0s\n",
      "[CV 1/5] END max_depth=7, min_samples_leaf=2, min_samples_split=8, n_estimators=25;, score=0.881 total time=  19.0s\n",
      "[CV 4/5] END max_depth=7, min_samples_leaf=2, min_samples_split=8, n_estimators=25;, score=0.920 total time=  19.1s\n",
      "[CV 5/5] END max_depth=7, min_samples_leaf=2, min_samples_split=8, n_estimators=25;, score=0.678 total time=  19.0s\n",
      "[CV 1/5] END max_depth=7, min_samples_leaf=2, min_samples_split=8, n_estimators=50;, score=0.882 total time=  19.1s\n",
      "[CV 1/5] END max_depth=7, min_samples_leaf=2, min_samples_split=10, n_estimators=10;, score=0.878 total time=  11.3s\n",
      "[CV 3/5] END max_depth=7, min_samples_leaf=2, min_samples_split=10, n_estimators=10;, score=0.898 total time=  11.1s\n",
      "[CV 3/5] END max_depth=7, min_samples_leaf=2, min_samples_split=8, n_estimators=50;, score=0.907 total time=  20.4s\n",
      "[CV 1/5] END max_depth=7, min_samples_leaf=2, min_samples_split=6, n_estimators=100;, score=0.883 total time=  31.8s\n",
      "[CV 2/5] END max_depth=7, min_samples_leaf=2, min_samples_split=8, n_estimators=50;, score=0.903 total time=  22.2s\n",
      "[CV 2/5] END max_depth=7, min_samples_leaf=2, min_samples_split=10, n_estimators=10;, score=0.874 total time=  13.4s\n",
      "[CV 2/5] END max_depth=7, min_samples_leaf=2, min_samples_split=6, n_estimators=100;, score=0.907 total time=  33.2s\n",
      "[CV 5/5] END max_depth=7, min_samples_leaf=2, min_samples_split=10, n_estimators=10;, score=0.788 total time=  13.4s\n",
      "[CV 4/5] END max_depth=7, min_samples_leaf=2, min_samples_split=8, n_estimators=50;, score=0.921 total time=  23.2s\n",
      "[CV 4/5] END max_depth=7, min_samples_leaf=2, min_samples_split=10, n_estimators=10;, score=0.914 total time=  14.5s\n",
      "[CV 5/5] END max_depth=7, min_samples_leaf=2, min_samples_split=6, n_estimators=100;, score=0.665 total time=  29.8s\n",
      "[CV 1/5] END max_depth=7, min_samples_leaf=2, min_samples_split=10, n_estimators=25;, score=0.881 total time=  14.8s\n",
      "[CV 3/5] END max_depth=7, min_samples_leaf=2, min_samples_split=10, n_estimators=25;, score=0.905 total time=  15.0s\n",
      "[CV 4/5] END max_depth=7, min_samples_leaf=2, min_samples_split=10, n_estimators=25;, score=0.920 total time=  15.7s\n",
      "[CV 4/5] END max_depth=7, min_samples_leaf=2, min_samples_split=6, n_estimators=100;, score=0.922 total time=  32.4s\n",
      "[CV 5/5] END max_depth=7, min_samples_leaf=2, min_samples_split=8, n_estimators=50;, score=0.771 total time=  25.8s\n",
      "[CV 3/5] END max_depth=7, min_samples_leaf=2, min_samples_split=6, n_estimators=100;, score=0.905 total time=  33.5s\n",
      "[CV 5/5] END max_depth=7, min_samples_leaf=2, min_samples_split=10, n_estimators=25;, score=0.745 total time=  16.6s\n",
      "[CV 2/5] END max_depth=7, min_samples_leaf=2, min_samples_split=10, n_estimators=25;, score=0.897 total time=  17.9s\n",
      "[CV 2/5] END max_depth=7, min_samples_leaf=2, min_samples_split=8, n_estimators=100;, score=0.906 total time=  30.9s\n",
      "[CV 3/5] END max_depth=7, min_samples_leaf=5, min_samples_split=2, n_estimators=10;, score=0.899 total time=  11.0s\n",
      "[CV 1/5] END max_depth=7, min_samples_leaf=2, min_samples_split=8, n_estimators=100;, score=0.884 total time=  33.0s\n",
      "[CV 2/5] END max_depth=7, min_samples_leaf=2, min_samples_split=10, n_estimators=50;, score=0.903 total time=  22.6s\n",
      "[CV 3/5] END max_depth=7, min_samples_leaf=2, min_samples_split=10, n_estimators=50;, score=0.907 total time=  23.3s\n",
      "[CV 1/5] END max_depth=7, min_samples_leaf=2, min_samples_split=10, n_estimators=50;, score=0.882 total time=  24.8s\n",
      "[CV 1/5] END max_depth=7, min_samples_leaf=5, min_samples_split=2, n_estimators=10;, score=0.878 total time=  16.3s\n",
      "[CV 2/5] END max_depth=7, min_samples_leaf=5, min_samples_split=2, n_estimators=10;, score=0.907 total time=  16.0s\n",
      "[CV 4/5] END max_depth=7, min_samples_leaf=2, min_samples_split=10, n_estimators=50;, score=0.921 total time=  23.8s\n",
      "[CV 4/5] END max_depth=7, min_samples_leaf=5, min_samples_split=2, n_estimators=10;, score=0.908 total time=  17.5s\n",
      "[CV 1/5] END max_depth=7, min_samples_leaf=5, min_samples_split=2, n_estimators=25;, score=0.883 total time=  19.0s\n",
      "[CV 3/5] END max_depth=7, min_samples_leaf=5, min_samples_split=2, n_estimators=25;, score=0.906 total time=  18.4s\n",
      "[CV 5/5] END max_depth=7, min_samples_leaf=5, min_samples_split=2, n_estimators=10;, score=0.821 total time=  19.8s\n",
      "[CV 5/5] END max_depth=7, min_samples_leaf=2, min_samples_split=8, n_estimators=100;, score=0.699 total time=  34.6s\n",
      "[CV 5/5] END max_depth=7, min_samples_leaf=2, min_samples_split=10, n_estimators=50;, score=0.828 total time=  26.3s\n",
      "[CV 2/5] END max_depth=7, min_samples_leaf=5, min_samples_split=2, n_estimators=25;, score=0.907 total time=  19.4s\n",
      "[CV 4/5] END max_depth=7, min_samples_leaf=5, min_samples_split=2, n_estimators=25;, score=0.918 total time=  19.3s\n",
      "[CV 4/5] END max_depth=7, min_samples_leaf=2, min_samples_split=8, n_estimators=100;, score=0.921 total time=  36.3s\n",
      "[CV 5/5] END max_depth=7, min_samples_leaf=5, min_samples_split=2, n_estimators=25;, score=0.811 total time=  18.9s\n",
      "[CV 3/5] END max_depth=7, min_samples_leaf=2, min_samples_split=8, n_estimators=100;, score=0.908 total time=  37.2s\n",
      "[CV 1/5] END max_depth=7, min_samples_leaf=5, min_samples_split=4, n_estimators=10;, score=0.878 total time=  13.0s\n",
      "[CV 1/5] END max_depth=7, min_samples_leaf=5, min_samples_split=2, n_estimators=50;, score=0.884 total time=  23.3s\n",
      "[CV 2/5] END max_depth=7, min_samples_leaf=2, min_samples_split=10, n_estimators=100;, score=0.907 total time=  30.4s\n",
      "[CV 5/5] END max_depth=7, min_samples_leaf=5, min_samples_split=2, n_estimators=50;, score=0.844 total time=  23.4s\n",
      "[CV 5/5] END max_depth=7, min_samples_leaf=5, min_samples_split=4, n_estimators=10;, score=0.821 total time=  12.6s\n",
      "[CV 2/5] END max_depth=7, min_samples_leaf=5, min_samples_split=4, n_estimators=10;, score=0.907 total time=  15.4s\n",
      "[CV 4/5] END max_depth=7, min_samples_leaf=2, min_samples_split=10, n_estimators=100;, score=0.921 total time=  31.1s\n",
      "[CV 3/5] END max_depth=7, min_samples_leaf=5, min_samples_split=4, n_estimators=10;, score=0.899 total time=  14.6s\n",
      "[CV 3/5] END max_depth=7, min_samples_leaf=2, min_samples_split=10, n_estimators=100;, score=0.908 total time=  32.6s\n",
      "[CV 3/5] END max_depth=7, min_samples_leaf=5, min_samples_split=2, n_estimators=50;, score=0.908 total time=  25.2s[CV 2/5] END max_depth=7, min_samples_leaf=5, min_samples_split=2, n_estimators=50;, score=0.909 total time=  25.2s\n",
      "\n",
      "[CV 2/5] END max_depth=7, min_samples_leaf=5, min_samples_split=4, n_estimators=25;, score=0.907 total time=  11.4s\n",
      "[CV 4/5] END max_depth=7, min_samples_leaf=5, min_samples_split=2, n_estimators=50;, score=0.921 total time=  25.5s\n",
      "[CV 1/5] END max_depth=7, min_samples_leaf=2, min_samples_split=10, n_estimators=100;, score=0.884 total time=  34.5s\n",
      "[CV 4/5] END max_depth=7, min_samples_leaf=5, min_samples_split=4, n_estimators=10;, score=0.908 total time=  16.4s\n",
      "[CV 5/5] END max_depth=7, min_samples_leaf=2, min_samples_split=10, n_estimators=100;, score=0.784 total time=  34.7s\n",
      "[CV 1/5] END max_depth=7, min_samples_leaf=5, min_samples_split=4, n_estimators=25;, score=0.883 total time=  15.3s\n",
      "[CV 3/5] END max_depth=7, min_samples_leaf=5, min_samples_split=4, n_estimators=25;, score=0.906 total time=  14.4s\n",
      "[CV 4/5] END max_depth=7, min_samples_leaf=5, min_samples_split=4, n_estimators=25;, score=0.918 total time=  14.6s\n",
      "[CV 5/5] END max_depth=7, min_samples_leaf=5, min_samples_split=4, n_estimators=25;, score=0.811 total time=  14.2s\n",
      "[CV 2/5] END max_depth=7, min_samples_leaf=5, min_samples_split=4, n_estimators=50;, score=0.909 total time=  17.1s\n",
      "[CV 2/5] END max_depth=7, min_samples_leaf=5, min_samples_split=2, n_estimators=100;, score=0.910 total time=  32.2s\n",
      "[CV 1/5] END max_depth=7, min_samples_leaf=5, min_samples_split=2, n_estimators=100;, score=0.885 total time=  33.0s\n",
      "[CV 3/5] END max_depth=7, min_samples_leaf=5, min_samples_split=2, n_estimators=100;, score=0.909 total time=  29.9s\n",
      "[CV 3/5] END max_depth=7, min_samples_leaf=5, min_samples_split=4, n_estimators=50;, score=0.908 total time=  19.1s\n",
      "[CV 5/5] END max_depth=7, min_samples_leaf=5, min_samples_split=2, n_estimators=100;, score=0.839 total time=  28.6s\n",
      "[CV 1/5] END max_depth=7, min_samples_leaf=5, min_samples_split=4, n_estimators=50;, score=0.884 total time=  20.5s\n",
      "[CV 2/5] END max_depth=7, min_samples_leaf=5, min_samples_split=6, n_estimators=10;, score=0.907 total time=  13.4s\n",
      "[CV 1/5] END max_depth=7, min_samples_leaf=5, min_samples_split=6, n_estimators=10;, score=0.878 total time=  13.9s\n",
      "[CV 5/5] END max_depth=7, min_samples_leaf=5, min_samples_split=6, n_estimators=10;, score=0.821 total time=  15.3s\n",
      "[CV 4/5] END max_depth=7, min_samples_leaf=5, min_samples_split=6, n_estimators=10;, score=0.908 total time=  15.6s\n",
      "[CV 3/5] END max_depth=7, min_samples_leaf=5, min_samples_split=6, n_estimators=10;, score=0.899 total time=  16.9s\n",
      "[CV 2/5] END max_depth=7, min_samples_leaf=5, min_samples_split=6, n_estimators=25;, score=0.907 total time=  16.8s\n",
      "[CV 4/5] END max_depth=7, min_samples_leaf=5, min_samples_split=2, n_estimators=100;, score=0.922 total time=  35.0s\n",
      "[CV 4/5] END max_depth=7, min_samples_leaf=5, min_samples_split=4, n_estimators=50;, score=0.921 total time=  25.4s\n",
      "[CV 5/5] END max_depth=7, min_samples_leaf=5, min_samples_split=4, n_estimators=50;, score=0.844 total time=  25.4s\n",
      "[CV 5/5] END max_depth=7, min_samples_leaf=5, min_samples_split=6, n_estimators=25;, score=0.811 total time=  17.8s\n",
      "[CV 3/5] END max_depth=7, min_samples_leaf=5, min_samples_split=6, n_estimators=25;, score=0.906 total time=  18.4s\n",
      "[CV 4/5] END max_depth=7, min_samples_leaf=5, min_samples_split=6, n_estimators=25;, score=0.918 total time=  18.1s\n",
      "[CV 1/5] END max_depth=7, min_samples_leaf=5, min_samples_split=6, n_estimators=25;, score=0.883 total time=  19.5s\n",
      "[CV 1/5] END max_depth=7, min_samples_leaf=5, min_samples_split=6, n_estimators=50;, score=0.884 total time=  22.4s\n",
      "[CV 2/5] END max_depth=7, min_samples_leaf=5, min_samples_split=6, n_estimators=50;, score=0.909 total time=  22.0s\n",
      "[CV 1/5] END max_depth=7, min_samples_leaf=5, min_samples_split=8, n_estimators=10;, score=0.878 total time=  13.7s\n",
      "[CV 2/5] END max_depth=7, min_samples_leaf=5, min_samples_split=8, n_estimators=10;, score=0.907 total time=  14.0s\n",
      "[CV 2/5] END max_depth=7, min_samples_leaf=5, min_samples_split=4, n_estimators=100;, score=0.910 total time=  32.5s\n",
      "[CV 1/5] END max_depth=7, min_samples_leaf=5, min_samples_split=4, n_estimators=100;, score=0.885 total time=  33.5s[CV 5/5] END max_depth=7, min_samples_leaf=5, min_samples_split=8, n_estimators=10;, score=0.821 total time=  13.9s\n",
      "\n",
      "[CV 3/5] END max_depth=7, min_samples_leaf=5, min_samples_split=8, n_estimators=10;, score=0.899 total time=  14.9s\n",
      "[CV 5/5] END max_depth=7, min_samples_leaf=5, min_samples_split=6, n_estimators=50;, score=0.844 total time=  21.3s\n",
      "[CV 4/5] END max_depth=7, min_samples_leaf=5, min_samples_split=6, n_estimators=50;, score=0.921 total time=  22.7s\n",
      "[CV 3/5] END max_depth=7, min_samples_leaf=5, min_samples_split=6, n_estimators=50;, score=0.908 total time=  23.1s\n",
      "[CV 4/5] END max_depth=7, min_samples_leaf=5, min_samples_split=8, n_estimators=10;, score=0.908 total time=  17.8s\n",
      "[CV 4/5] END max_depth=7, min_samples_leaf=5, min_samples_split=4, n_estimators=100;, score=0.922 total time=  32.3s\n",
      "[CV 1/5] END max_depth=7, min_samples_leaf=5, min_samples_split=8, n_estimators=25;, score=0.883 total time=  17.6s\n",
      "[CV 5/5] END max_depth=7, min_samples_leaf=5, min_samples_split=4, n_estimators=100;, score=0.839 total time=  33.0s\n",
      "[CV 3/5] END max_depth=7, min_samples_leaf=5, min_samples_split=8, n_estimators=25;, score=0.906 total time=  15.8s\n",
      "[CV 2/5] END max_depth=7, min_samples_leaf=5, min_samples_split=8, n_estimators=25;, score=0.907 total time=  16.7s\n",
      "[CV 3/5] END max_depth=7, min_samples_leaf=5, min_samples_split=4, n_estimators=100;, score=0.909 total time=  35.8s\n",
      "[CV 4/5] END max_depth=7, min_samples_leaf=5, min_samples_split=8, n_estimators=25;, score=0.918 total time=  17.4s\n",
      "[CV 1/5] END max_depth=7, min_samples_leaf=5, min_samples_split=8, n_estimators=50;, score=0.884 total time=  16.7s\n",
      "[CV 5/5] END max_depth=7, min_samples_leaf=5, min_samples_split=8, n_estimators=25;, score=0.811 total time=  17.2s\n",
      "[CV 2/5] END max_depth=7, min_samples_leaf=5, min_samples_split=6, n_estimators=100;, score=0.910 total time=  30.8s\n",
      "[CV 5/5] END max_depth=7, min_samples_leaf=5, min_samples_split=10, n_estimators=10;, score=0.821 total time=  12.4s\n",
      "[CV 2/5] END max_depth=7, min_samples_leaf=5, min_samples_split=10, n_estimators=10;, score=0.907 total time=  13.6s\n",
      "[CV 5/5] END max_depth=7, min_samples_leaf=5, min_samples_split=8, n_estimators=50;, score=0.844 total time=  21.0s\n",
      "[CV 4/5] END max_depth=7, min_samples_leaf=5, min_samples_split=6, n_estimators=100;, score=0.922 total time=  30.8s\n",
      "[CV 1/5] END max_depth=7, min_samples_leaf=5, min_samples_split=6, n_estimators=100;, score=0.885 total time=  34.5s\n",
      "[CV 4/5] END max_depth=7, min_samples_leaf=5, min_samples_split=10, n_estimators=10;, score=0.908 total time=  14.0s\n",
      "[CV 3/5] END max_depth=7, min_samples_leaf=5, min_samples_split=10, n_estimators=10;, score=0.899 total time=  15.0s\n",
      "[CV 3/5] END max_depth=7, min_samples_leaf=5, min_samples_split=8, n_estimators=50;, score=0.908 total time=  24.9s\n",
      "[CV 1/5] END max_depth=7, min_samples_leaf=5, min_samples_split=10, n_estimators=10;, score=0.878 total time=  18.6s\n",
      "[CV 3/5] END max_depth=7, min_samples_leaf=5, min_samples_split=6, n_estimators=100;, score=0.909 total time=  35.1s\n",
      "[CV 5/5] END max_depth=7, min_samples_leaf=5, min_samples_split=6, n_estimators=100;, score=0.839 total time=  35.3s\n",
      "[CV 3/5] END max_depth=7, min_samples_leaf=5, min_samples_split=10, n_estimators=25;, score=0.906 total time=  17.5s\n",
      "[CV 1/5] END max_depth=7, min_samples_leaf=5, min_samples_split=10, n_estimators=25;, score=0.883 total time=  18.7s\n",
      "[CV 2/5] END max_depth=7, min_samples_leaf=5, min_samples_split=8, n_estimators=50;, score=0.909 total time=  28.3s\n",
      "[CV 4/5] END max_depth=7, min_samples_leaf=5, min_samples_split=8, n_estimators=50;, score=0.921 total time=  27.9s\n",
      "[CV 5/5] END max_depth=7, min_samples_leaf=5, min_samples_split=10, n_estimators=25;, score=0.811 total time=  17.5s\n",
      "[CV 2/5] END max_depth=7, min_samples_leaf=5, min_samples_split=10, n_estimators=25;, score=0.907 total time=  20.7s\n",
      "[CV 4/5] END max_depth=7, min_samples_leaf=5, min_samples_split=10, n_estimators=25;, score=0.918 total time=  20.3s\n",
      "[CV 3/5] END max_depth=7, min_samples_leaf=5, min_samples_split=10, n_estimators=50;, score=0.908 total time=  19.7s\n",
      "[CV 2/5] END max_depth=7, min_samples_leaf=5, min_samples_split=10, n_estimators=50;, score=0.909 total time=  20.0s\n",
      "[CV 3/5] END max_depth=7, min_samples_leaf=10, min_samples_split=2, n_estimators=10;, score=0.902 total time=  11.2s\n",
      "[CV 1/5] END max_depth=7, min_samples_leaf=5, min_samples_split=10, n_estimators=50;, score=0.884 total time=  21.1s\n",
      "[CV 4/5] END max_depth=7, min_samples_leaf=5, min_samples_split=10, n_estimators=50;, score=0.921 total time=  20.2s\n",
      "[CV 5/5] END max_depth=7, min_samples_leaf=5, min_samples_split=10, n_estimators=50;, score=0.844 total time=  20.3s\n",
      "[CV 1/5] END max_depth=7, min_samples_leaf=10, min_samples_split=2, n_estimators=10;, score=0.882 total time=  13.3s\n",
      "[CV 5/5] END max_depth=7, min_samples_leaf=10, min_samples_split=2, n_estimators=10;, score=0.805 total time=  12.5s\n",
      "[CV 1/5] END max_depth=7, min_samples_leaf=5, min_samples_split=8, n_estimators=100;, score=0.885 total time=  34.1s\n",
      "[CV 4/5] END max_depth=7, min_samples_leaf=10, min_samples_split=2, n_estimators=10;, score=0.918 total time=  13.4s\n",
      "[CV 2/5] END max_depth=7, min_samples_leaf=10, min_samples_split=2, n_estimators=10;, score=0.909 total time=  14.0s\n",
      "[CV 2/5] END max_depth=7, min_samples_leaf=5, min_samples_split=8, n_estimators=100;, score=0.910 total time=  34.1s\n",
      "[CV 5/5] END max_depth=7, min_samples_leaf=5, min_samples_split=8, n_estimators=100;, score=0.839 total time=  30.2s\n",
      "[CV 1/5] END max_depth=7, min_samples_leaf=10, min_samples_split=2, n_estimators=25;, score=0.883 total time=  14.2s\n",
      "[CV 3/5] END max_depth=7, min_samples_leaf=5, min_samples_split=8, n_estimators=100;, score=0.909 total time=  32.1s\n",
      "[CV 5/5] END max_depth=7, min_samples_leaf=10, min_samples_split=2, n_estimators=25;, score=0.821 total time=  14.7s\n",
      "[CV 4/5] END max_depth=7, min_samples_leaf=5, min_samples_split=8, n_estimators=100;, score=0.922 total time=  35.5s\n",
      "[CV 2/5] END max_depth=7, min_samples_leaf=10, min_samples_split=2, n_estimators=25;, score=0.909 total time=  17.3s\n",
      "[CV 4/5] END max_depth=7, min_samples_leaf=10, min_samples_split=2, n_estimators=25;, score=0.921 total time=  16.6s\n",
      "[CV 3/5] END max_depth=7, min_samples_leaf=10, min_samples_split=2, n_estimators=25;, score=0.905 total time=  17.0s\n",
      "[CV 1/5] END max_depth=7, min_samples_leaf=5, min_samples_split=10, n_estimators=100;, score=0.885 total time=  29.6s\n",
      "[CV 1/5] END max_depth=7, min_samples_leaf=10, min_samples_split=4, n_estimators=10;, score=0.882 total time=  13.1s\n",
      "[CV 5/5] END max_depth=7, min_samples_leaf=10, min_samples_split=4, n_estimators=10;, score=0.805 total time=  11.8s\n",
      "[CV 2/5] END max_depth=7, min_samples_leaf=10, min_samples_split=4, n_estimators=10;, score=0.909 total time=  13.4s\n",
      "[CV 2/5] END max_depth=7, min_samples_leaf=5, min_samples_split=10, n_estimators=100;, score=0.910 total time=  32.5s\n",
      "[CV 1/5] END max_depth=7, min_samples_leaf=10, min_samples_split=4, n_estimators=25;, score=0.883 total time=  14.2s\n",
      "[CV 1/5] END max_depth=7, min_samples_leaf=10, min_samples_split=2, n_estimators=50;, score=0.883 total time=  22.5s\n",
      "[CV 3/5] END max_depth=7, min_samples_leaf=5, min_samples_split=10, n_estimators=100;, score=0.909 total time=  33.5s\n",
      "[CV 3/5] END max_depth=7, min_samples_leaf=10, min_samples_split=4, n_estimators=10;, score=0.902 total time=  15.6s\n",
      "[CV 3/5] END max_depth=7, min_samples_leaf=10, min_samples_split=2, n_estimators=50;, score=0.907 total time=  23.5s\n",
      "[CV 4/5] END max_depth=7, min_samples_leaf=10, min_samples_split=4, n_estimators=10;, score=0.918 total time=  17.4s\n",
      "[CV 4/5] END max_depth=7, min_samples_leaf=10, min_samples_split=2, n_estimators=50;, score=0.923 total time=  24.7s\n",
      "[CV 2/5] END max_depth=7, min_samples_leaf=10, min_samples_split=2, n_estimators=50;, score=0.911 total time=  26.0s\n",
      "[CV 4/5] END max_depth=7, min_samples_leaf=5, min_samples_split=10, n_estimators=100;, score=0.922 total time=  35.1s\n",
      "[CV 5/5] END max_depth=7, min_samples_leaf=10, min_samples_split=2, n_estimators=50;, score=0.840 total time=  24.6s\n",
      "[CV 2/5] END max_depth=7, min_samples_leaf=10, min_samples_split=4, n_estimators=25;, score=0.909 total time=  19.3s\n",
      "[CV 5/5] END max_depth=7, min_samples_leaf=10, min_samples_split=4, n_estimators=25;, score=0.821 total time=  18.9s\n",
      "[CV 3/5] END max_depth=7, min_samples_leaf=10, min_samples_split=4, n_estimators=25;, score=0.905 total time=  20.3s\n",
      "[CV 4/5] END max_depth=7, min_samples_leaf=10, min_samples_split=4, n_estimators=25;, score=0.921 total time=  20.6s\n",
      "[CV 1/5] END max_depth=7, min_samples_leaf=10, min_samples_split=4, n_estimators=50;, score=0.883 total time=  21.1s\n",
      "[CV 5/5] END max_depth=7, min_samples_leaf=5, min_samples_split=10, n_estimators=100;, score=0.839 total time=  37.9s\n",
      "[CV 1/5] END max_depth=7, min_samples_leaf=10, min_samples_split=6, n_estimators=10;, score=0.882 total time=  12.6s\n",
      "[CV 2/5] END max_depth=7, min_samples_leaf=10, min_samples_split=4, n_estimators=50;, score=0.911 total time=  22.5s\n",
      "[CV 2/5] END max_depth=7, min_samples_leaf=10, min_samples_split=2, n_estimators=100;, score=0.911 total time=  29.7s\n",
      "[CV 3/5] END max_depth=7, min_samples_leaf=10, min_samples_split=6, n_estimators=10;, score=0.902 total time=  13.1s\n",
      "[CV 3/5] END max_depth=7, min_samples_leaf=10, min_samples_split=4, n_estimators=50;, score=0.907 total time=  20.9s\n",
      "[CV 2/5] END max_depth=7, min_samples_leaf=10, min_samples_split=6, n_estimators=10;, score=0.909 total time=  14.9s[CV 4/5] END max_depth=7, min_samples_leaf=10, min_samples_split=4, n_estimators=50;, score=0.923 total time=  21.6s\n",
      "\n",
      "[CV 1/5] END max_depth=7, min_samples_leaf=10, min_samples_split=2, n_estimators=100;, score=0.885 total time=  34.0s\n",
      "[CV 5/5] END max_depth=7, min_samples_leaf=10, min_samples_split=4, n_estimators=50;, score=0.840 total time=  21.9s\n",
      "[CV 4/5] END max_depth=7, min_samples_leaf=10, min_samples_split=6, n_estimators=10;, score=0.918 total time=  18.4s\n",
      "[CV 5/5] END max_depth=7, min_samples_leaf=10, min_samples_split=6, n_estimators=25;, score=0.821 total time=  15.0s\n",
      "[CV 3/5] END max_depth=7, min_samples_leaf=10, min_samples_split=2, n_estimators=100;, score=0.908 total time=  36.1s\n",
      "[CV 2/5] END max_depth=7, min_samples_leaf=10, min_samples_split=6, n_estimators=25;, score=0.909 total time=  17.8s\n",
      "[CV 5/5] END max_depth=7, min_samples_leaf=10, min_samples_split=6, n_estimators=10;, score=0.805 total time=  19.5s\n",
      "[CV 4/5] END max_depth=7, min_samples_leaf=10, min_samples_split=2, n_estimators=100;, score=0.923 total time=  36.4s\n",
      "[CV 4/5] END max_depth=7, min_samples_leaf=10, min_samples_split=6, n_estimators=25;, score=0.921 total time=  16.8s\n",
      "[CV 5/5] END max_depth=7, min_samples_leaf=10, min_samples_split=2, n_estimators=100;, score=0.850 total time=  36.9s\n",
      "[CV 2/5] END max_depth=7, min_samples_leaf=10, min_samples_split=4, n_estimators=100;, score=0.911 total time=  27.4s\n",
      "[CV 1/5] END max_depth=7, min_samples_leaf=10, min_samples_split=6, n_estimators=25;, score=0.883 total time=  21.0s\n",
      "[CV 3/5] END max_depth=7, min_samples_leaf=10, min_samples_split=6, n_estimators=25;, score=0.905 total time=  19.3s\n",
      "[CV 2/5] END max_depth=7, min_samples_leaf=10, min_samples_split=6, n_estimators=50;, score=0.911 total time=  19.5s\n",
      "[CV 1/5] END max_depth=7, min_samples_leaf=10, min_samples_split=4, n_estimators=100;, score=0.885 total time=  31.7s\n",
      "[CV 2/5] END max_depth=7, min_samples_leaf=10, min_samples_split=8, n_estimators=10;, score=0.909 total time=  13.7s\n",
      "[CV 3/5] END max_depth=7, min_samples_leaf=10, min_samples_split=6, n_estimators=50;, score=0.907 total time=  20.9s\n",
      "[CV 5/5] END max_depth=7, min_samples_leaf=10, min_samples_split=8, n_estimators=10;, score=0.805 total time=  12.6s\n",
      "[CV 3/5] END max_depth=7, min_samples_leaf=10, min_samples_split=4, n_estimators=100;, score=0.908 total time=  31.6s\n",
      "[CV 1/5] END max_depth=7, min_samples_leaf=10, min_samples_split=6, n_estimators=50;, score=0.883 total time=  23.8s\n",
      "[CV 3/5] END max_depth=7, min_samples_leaf=10, min_samples_split=8, n_estimators=10;, score=0.902 total time=  15.7s\n",
      "[CV 4/5] END max_depth=7, min_samples_leaf=10, min_samples_split=4, n_estimators=100;, score=0.923 total time=  31.6s\n",
      "[CV 5/5] END max_depth=7, min_samples_leaf=10, min_samples_split=4, n_estimators=100;, score=0.850 total time=  31.9s\n",
      "[CV 4/5] END max_depth=7, min_samples_leaf=10, min_samples_split=8, n_estimators=10;, score=0.918 total time=  15.3s\n",
      "[CV 1/5] END max_depth=7, min_samples_leaf=10, min_samples_split=8, n_estimators=10;, score=0.882 total time=  16.8s\n",
      "[CV 2/5] END max_depth=7, min_samples_leaf=10, min_samples_split=8, n_estimators=25;, score=0.909 total time=  15.4s\n",
      "[CV 3/5] END max_depth=7, min_samples_leaf=10, min_samples_split=8, n_estimators=25;, score=0.905 total time=  12.1s\n",
      "[CV 4/5] END max_depth=7, min_samples_leaf=10, min_samples_split=6, n_estimators=50;, score=0.923 total time=  24.1s\n",
      "[CV 1/5] END max_depth=7, min_samples_leaf=10, min_samples_split=8, n_estimators=25;, score=0.883 total time=  16.9s\n",
      "[CV 5/5] END max_depth=7, min_samples_leaf=10, min_samples_split=6, n_estimators=50;, score=0.840 total time=  25.0s\n",
      "[CV 5/5] END max_depth=7, min_samples_leaf=10, min_samples_split=8, n_estimators=25;, score=0.821 total time=  13.9s\n",
      "[CV 4/5] END max_depth=7, min_samples_leaf=10, min_samples_split=8, n_estimators=25;, score=0.921 total time=  15.0s\n",
      "[CV 2/5] END max_depth=7, min_samples_leaf=10, min_samples_split=8, n_estimators=50;, score=0.911 total time=  18.5s\n",
      "[CV 1/5] END max_depth=7, min_samples_leaf=10, min_samples_split=10, n_estimators=10;, score=0.882 total time=  12.2s\n",
      "[CV 4/5] END max_depth=7, min_samples_leaf=10, min_samples_split=6, n_estimators=100;, score=0.923 total time=  29.2s\n",
      "[CV 2/5] END max_depth=7, min_samples_leaf=10, min_samples_split=6, n_estimators=100;, score=0.911 total time=  31.3s\n",
      "[CV 1/5] END max_depth=7, min_samples_leaf=10, min_samples_split=8, n_estimators=50;, score=0.883 total time=  21.2s\n",
      "[CV 5/5] END max_depth=7, min_samples_leaf=10, min_samples_split=6, n_estimators=100;, score=0.850 total time=  29.7s\n",
      "[CV 2/5] END max_depth=7, min_samples_leaf=10, min_samples_split=10, n_estimators=10;, score=0.909 total time=  15.1s\n",
      "[CV 4/5] END max_depth=7, min_samples_leaf=10, min_samples_split=10, n_estimators=10;, score=0.918 total time=  14.6s\n",
      "[CV 3/5] END max_depth=7, min_samples_leaf=10, min_samples_split=10, n_estimators=10;, score=0.902 total time=  15.2s\n",
      "[CV 5/5] END max_depth=7, min_samples_leaf=10, min_samples_split=10, n_estimators=10;, score=0.805 total time=  14.4s\n",
      "[CV 1/5] END max_depth=7, min_samples_leaf=10, min_samples_split=6, n_estimators=100;, score=0.885 total time=  35.9s\n",
      "[CV 3/5] END max_depth=7, min_samples_leaf=10, min_samples_split=6, n_estimators=100;, score=0.908 total time=  33.9s\n",
      "[CV 3/5] END max_depth=7, min_samples_leaf=10, min_samples_split=8, n_estimators=50;, score=0.907 total time=  23.4s\n",
      "[CV 3/5] END max_depth=7, min_samples_leaf=10, min_samples_split=10, n_estimators=25;, score=0.905 total time=  14.6s\n",
      "[CV 4/5] END max_depth=7, min_samples_leaf=10, min_samples_split=8, n_estimators=50;, score=0.923 total time=  23.9s\n",
      "[CV 1/5] END max_depth=7, min_samples_leaf=10, min_samples_split=10, n_estimators=25;, score=0.883 total time=  15.7s\n",
      "[CV 5/5] END max_depth=7, min_samples_leaf=10, min_samples_split=8, n_estimators=50;, score=0.840 total time=  23.7s\n",
      "[CV 4/5] END max_depth=7, min_samples_leaf=10, min_samples_split=10, n_estimators=25;, score=0.921 total time=  16.2s\n",
      "[CV 5/5] END max_depth=7, min_samples_leaf=10, min_samples_split=10, n_estimators=25;, score=0.821 total time=  17.2s\n",
      "[CV 2/5] END max_depth=7, min_samples_leaf=10, min_samples_split=10, n_estimators=25;, score=0.909 total time=  21.0s\n",
      "[CV 3/5] END max_depth=7, min_samples_leaf=10, min_samples_split=10, n_estimators=50;, score=0.907 total time=  21.0s\n",
      "[CV 4/5] END max_depth=7, min_samples_leaf=10, min_samples_split=10, n_estimators=50;, score=0.923 total time=  20.8s[CV 1/5] END max_depth=7, min_samples_leaf=10, min_samples_split=10, n_estimators=50;, score=0.883 total time=  21.9s\n",
      "\n",
      "[CV 1/5] END max_depth=7, min_samples_leaf=10, min_samples_split=8, n_estimators=100;, score=0.885 total time=  31.8s\n",
      "[CV 2/5] END max_depth=7, min_samples_leaf=10, min_samples_split=8, n_estimators=100;, score=0.911 total time=  31.8s[CV 3/5] END max_depth=7, min_samples_leaf=10, min_samples_split=8, n_estimators=100;, score=0.908 total time=  31.0s[CV 2/5] END max_depth=7, min_samples_leaf=10, min_samples_split=10, n_estimators=50;, score=0.911 total time=  22.9s\n",
      "\n",
      "\n",
      "[CV 4/5] END max_depth=7, min_samples_leaf=10, min_samples_split=8, n_estimators=100;, score=0.923 total time=  31.5s\n",
      "[CV 1/5] END max_depth=9, min_samples_leaf=1, min_samples_split=2, n_estimators=10;, score=0.880 total time=  15.2s\n",
      "[CV 5/5] END max_depth=7, min_samples_leaf=10, min_samples_split=10, n_estimators=50;, score=0.840 total time=  24.4s\n",
      "[CV 3/5] END max_depth=9, min_samples_leaf=1, min_samples_split=2, n_estimators=10;, score=0.905 total time=  15.1s\n",
      "[CV 5/5] END max_depth=7, min_samples_leaf=10, min_samples_split=8, n_estimators=100;, score=0.850 total time=  31.8s\n",
      "[CV 4/5] END max_depth=9, min_samples_leaf=1, min_samples_split=2, n_estimators=10;, score=0.923 total time=  16.5s\n",
      "[CV 5/5] END max_depth=9, min_samples_leaf=1, min_samples_split=2, n_estimators=10;, score=0.688 total time=  18.0s\n",
      "[CV 2/5] END max_depth=9, min_samples_leaf=1, min_samples_split=2, n_estimators=10;, score=0.908 total time=  19.2s\n",
      "[CV 2/5] END max_depth=9, min_samples_leaf=1, min_samples_split=2, n_estimators=25;, score=0.912 total time=  17.8s\n",
      "[CV 4/5] END max_depth=9, min_samples_leaf=1, min_samples_split=2, n_estimators=25;, score=0.925 total time=  17.7s\n",
      "[CV 5/5] END max_depth=9, min_samples_leaf=1, min_samples_split=2, n_estimators=25;, score=0.637 total time=  19.1s\n",
      "[CV 1/5] END max_depth=9, min_samples_leaf=1, min_samples_split=2, n_estimators=25;, score=0.887 total time=  20.6s\n",
      "[CV 3/5] END max_depth=9, min_samples_leaf=1, min_samples_split=2, n_estimators=25;, score=0.909 total time=  19.6s\n",
      "[CV 1/5] END max_depth=9, min_samples_leaf=1, min_samples_split=2, n_estimators=50;, score=0.886 total time=  22.7s\n",
      "[CV 2/5] END max_depth=9, min_samples_leaf=1, min_samples_split=2, n_estimators=50;, score=0.913 total time=  22.0s\n",
      "[CV 2/5] END max_depth=9, min_samples_leaf=1, min_samples_split=4, n_estimators=10;, score=0.909 total time=  13.9s\n",
      "[CV 2/5] END max_depth=7, min_samples_leaf=10, min_samples_split=10, n_estimators=100;, score=0.911 total time=  33.3s\n",
      "[CV 4/5] END max_depth=9, min_samples_leaf=1, min_samples_split=4, n_estimators=10;, score=0.920 total time=  14.0s\n",
      "[CV 1/5] END max_depth=9, min_samples_leaf=1, min_samples_split=4, n_estimators=10;, score=0.882 total time=  15.5s\n",
      "[CV 3/5] END max_depth=9, min_samples_leaf=1, min_samples_split=2, n_estimators=50;, score=0.910 total time=  24.1s\n",
      "[CV 1/5] END max_depth=7, min_samples_leaf=10, min_samples_split=10, n_estimators=100;, score=0.885 total time=  35.7s\n",
      "[CV 3/5] END max_depth=7, min_samples_leaf=10, min_samples_split=10, n_estimators=100;, score=0.908 total time=  31.2s\n",
      "[CV 4/5] END max_depth=9, min_samples_leaf=1, min_samples_split=2, n_estimators=50;, score=0.925 total time=  25.6s\n",
      "[CV 3/5] END max_depth=9, min_samples_leaf=1, min_samples_split=4, n_estimators=10;, score=0.907 total time=  16.8s\n",
      "[CV 5/5] END max_depth=9, min_samples_leaf=1, min_samples_split=2, n_estimators=50;, score=0.654 total time=  24.4s\n",
      "[CV 4/5] END max_depth=7, min_samples_leaf=10, min_samples_split=10, n_estimators=100;, score=0.923 total time=  32.2s\n",
      "[CV 5/5] END max_depth=7, min_samples_leaf=10, min_samples_split=10, n_estimators=100;, score=0.850 total time=  33.0s\n",
      "[CV 5/5] END max_depth=9, min_samples_leaf=1, min_samples_split=4, n_estimators=10;, score=0.668 total time=  17.2s\n",
      "[CV 4/5] END max_depth=9, min_samples_leaf=1, min_samples_split=4, n_estimators=25;, score=0.925 total time=  17.6s\n",
      "[CV 1/5] END max_depth=9, min_samples_leaf=1, min_samples_split=4, n_estimators=25;, score=0.887 total time=  19.4s\n",
      "[CV 2/5] END max_depth=9, min_samples_leaf=1, min_samples_split=4, n_estimators=25;, score=0.912 total time=  21.0s\n",
      "[CV 3/5] END max_depth=9, min_samples_leaf=1, min_samples_split=4, n_estimators=25;, score=0.910 total time=  21.1s\n",
      "[CV 5/5] END max_depth=9, min_samples_leaf=1, min_samples_split=4, n_estimators=25;, score=0.522 total time=  20.8s\n",
      "[CV 1/5] END max_depth=9, min_samples_leaf=1, min_samples_split=6, n_estimators=10;, score=0.882 total time=  15.4s\n",
      "[CV 4/5] END max_depth=9, min_samples_leaf=1, min_samples_split=6, n_estimators=10;, score=0.917 total time=  15.6s\n",
      "[CV 2/5] END max_depth=9, min_samples_leaf=1, min_samples_split=6, n_estimators=10;, score=0.909 total time=  17.7s\n",
      "[CV 2/5] END max_depth=9, min_samples_leaf=1, min_samples_split=2, n_estimators=100;, score=0.914 total time=  35.7s\n",
      "[CV 5/5] END max_depth=9, min_samples_leaf=1, min_samples_split=6, n_estimators=10;, score=0.748 total time=  18.0s\n",
      "[CV 4/5] END max_depth=9, min_samples_leaf=1, min_samples_split=4, n_estimators=50;, score=0.926 total time=  26.7s\n",
      "[CV 1/5] END max_depth=9, min_samples_leaf=1, min_samples_split=2, n_estimators=100;, score=0.890 total time=  41.1s\n",
      "[CV 3/5] END max_depth=9, min_samples_leaf=1, min_samples_split=4, n_estimators=50;, score=0.912 total time=  27.6s\n",
      "[CV 2/5] END max_depth=9, min_samples_leaf=1, min_samples_split=4, n_estimators=50;, score=0.914 total time=  28.7s\n",
      "[CV 1/5] END max_depth=9, min_samples_leaf=1, min_samples_split=4, n_estimators=50;, score=0.889 total time=  29.4s\n",
      "[CV 3/5] END max_depth=9, min_samples_leaf=1, min_samples_split=2, n_estimators=100;, score=0.911 total time=  38.6s\n",
      "[CV 5/5] END max_depth=9, min_samples_leaf=1, min_samples_split=6, n_estimators=25;, score=0.582 total time=  19.7s\n",
      "[CV 2/5] END max_depth=9, min_samples_leaf=1, min_samples_split=6, n_estimators=25;, score=0.911 total time=  20.9s\n",
      "[CV 3/5] END max_depth=9, min_samples_leaf=1, min_samples_split=6, n_estimators=10;, score=0.908 total time=  23.0s\n",
      "[CV 1/5] END max_depth=9, min_samples_leaf=1, min_samples_split=6, n_estimators=25;, score=0.886 total time=  22.1s\n",
      "[CV 4/5] END max_depth=9, min_samples_leaf=1, min_samples_split=6, n_estimators=25;, score=0.923 total time=  22.2s\n",
      "[CV 5/5] END max_depth=9, min_samples_leaf=1, min_samples_split=4, n_estimators=50;, score=0.527 total time=  29.9s\n",
      "[CV 3/5] END max_depth=9, min_samples_leaf=1, min_samples_split=6, n_estimators=25;, score=0.908 total time=  22.6s\n",
      "[CV 4/5] END max_depth=9, min_samples_leaf=1, min_samples_split=2, n_estimators=100;, score=0.926 total time=  41.1s\n",
      "[CV 5/5] END max_depth=9, min_samples_leaf=1, min_samples_split=2, n_estimators=100;, score=0.669 total time=  41.2s\n",
      "[CV 2/5] END max_depth=9, min_samples_leaf=1, min_samples_split=6, n_estimators=50;, score=0.908 total time=  23.2s\n",
      "[CV 1/5] END max_depth=9, min_samples_leaf=1, min_samples_split=6, n_estimators=50;, score=0.888 total time=  25.1s\n",
      "[CV 2/5] END max_depth=9, min_samples_leaf=1, min_samples_split=4, n_estimators=100;, score=0.914 total time=  36.1s\n",
      "[CV 1/5] END max_depth=9, min_samples_leaf=1, min_samples_split=8, n_estimators=10;, score=0.885 total time=  13.3s\n",
      "[CV 5/5] END max_depth=9, min_samples_leaf=1, min_samples_split=6, n_estimators=50;, score=0.581 total time=  24.3s\n",
      "[CV 3/5] END max_depth=9, min_samples_leaf=1, min_samples_split=8, n_estimators=10;, score=0.909 total time=  14.1s\n",
      "[CV 4/5] END max_depth=9, min_samples_leaf=1, min_samples_split=6, n_estimators=50;, score=0.926 total time=  26.6s\n",
      "[CV 2/5] END max_depth=9, min_samples_leaf=1, min_samples_split=8, n_estimators=10;, score=0.910 total time=  15.0s\n",
      "[CV 3/5] END max_depth=9, min_samples_leaf=1, min_samples_split=6, n_estimators=50;, score=0.911 total time=  28.3s\n",
      "[CV 3/5] END max_depth=9, min_samples_leaf=1, min_samples_split=4, n_estimators=100;, score=0.913 total time=  37.4s\n",
      "[CV 5/5] END max_depth=9, min_samples_leaf=1, min_samples_split=8, n_estimators=10;, score=0.558 total time=  15.7s\n",
      "[CV 1/5] END max_depth=9, min_samples_leaf=1, min_samples_split=4, n_estimators=100;, score=0.891 total time=  41.6s\n",
      "[CV 4/5] END max_depth=9, min_samples_leaf=1, min_samples_split=4, n_estimators=100;, score=0.927 total time=  38.9s\n",
      "[CV 4/5] END max_depth=9, min_samples_leaf=1, min_samples_split=8, n_estimators=10;, score=0.919 total time=  17.5s\n",
      "[CV 2/5] END max_depth=9, min_samples_leaf=1, min_samples_split=8, n_estimators=25;, score=0.910 total time=  17.4s\n",
      "[CV 5/5] END max_depth=9, min_samples_leaf=1, min_samples_split=4, n_estimators=100;, score=0.604 total time=  40.1s\n",
      "[CV 5/5] END max_depth=9, min_samples_leaf=1, min_samples_split=8, n_estimators=25;, score=0.519 total time=  18.0s\n",
      "[CV 1/5] END max_depth=9, min_samples_leaf=1, min_samples_split=8, n_estimators=25;, score=0.888 total time=  20.3s\n",
      "[CV 4/5] END max_depth=9, min_samples_leaf=1, min_samples_split=8, n_estimators=25;, score=0.924 total time=  18.3s\n",
      "[CV 3/5] END max_depth=9, min_samples_leaf=1, min_samples_split=8, n_estimators=25;, score=0.908 total time=  19.9s\n",
      "[CV 4/5] END max_depth=9, min_samples_leaf=1, min_samples_split=10, n_estimators=10;, score=0.919 total time=  13.3s\n",
      "[CV 5/5] END max_depth=9, min_samples_leaf=1, min_samples_split=8, n_estimators=50;, score=0.630 total time=  23.2s\n",
      "[CV 2/5] END max_depth=9, min_samples_leaf=1, min_samples_split=6, n_estimators=100;, score=0.911 total time=  37.0s\n",
      "[CV 1/5] END max_depth=9, min_samples_leaf=1, min_samples_split=10, n_estimators=10;, score=0.883 total time=  20.5s\n",
      "[CV 2/5] END max_depth=9, min_samples_leaf=1, min_samples_split=8, n_estimators=50;, score=0.910 total time=  28.2s\n",
      "[CV 5/5] END max_depth=9, min_samples_leaf=1, min_samples_split=10, n_estimators=10;, score=0.382 total time=  18.0s\n",
      "[CV 4/5] END max_depth=9, min_samples_leaf=1, min_samples_split=10, n_estimators=25;, score=0.922 total time=  16.1s\n",
      "[CV 3/5] END max_depth=9, min_samples_leaf=1, min_samples_split=6, n_estimators=100;, score=0.912 total time=  37.8s\n",
      "[CV 1/5] END max_depth=9, min_samples_leaf=1, min_samples_split=6, n_estimators=100;, score=0.890 total time=  42.7s\n",
      "[CV 1/5] END max_depth=9, min_samples_leaf=1, min_samples_split=8, n_estimators=50;, score=0.889 total time=  29.3s\n",
      "[CV 3/5] END max_depth=9, min_samples_leaf=1, min_samples_split=10, n_estimators=10;, score=0.907 total time=  19.7s\n",
      "[CV 2/5] END max_depth=9, min_samples_leaf=1, min_samples_split=10, n_estimators=10;, score=0.909 total time=  20.2s\n",
      "[CV 4/5] END max_depth=9, min_samples_leaf=1, min_samples_split=8, n_estimators=50;, score=0.924 total time=  29.7s\n",
      "[CV 3/5] END max_depth=9, min_samples_leaf=1, min_samples_split=8, n_estimators=50;, score=0.911 total time=  30.5s\n",
      "[CV 1/5] END max_depth=9, min_samples_leaf=1, min_samples_split=10, n_estimators=25;, score=0.887 total time=  21.1s\n",
      "[CV 2/5] END max_depth=9, min_samples_leaf=1, min_samples_split=10, n_estimators=25;, score=0.912 total time=  20.0s\n",
      "[CV 5/5] END max_depth=9, min_samples_leaf=1, min_samples_split=6, n_estimators=100;, score=0.644 total time=  38.9s\n",
      "[CV 3/5] END max_depth=9, min_samples_leaf=1, min_samples_split=10, n_estimators=25;, score=0.909 total time=  20.2s\n",
      "[CV 5/5] END max_depth=9, min_samples_leaf=1, min_samples_split=10, n_estimators=25;, score=0.390 total time=  19.1s\n",
      "[CV 4/5] END max_depth=9, min_samples_leaf=1, min_samples_split=6, n_estimators=100;, score=0.928 total time=  40.3s\n",
      "[CV 3/5] END max_depth=9, min_samples_leaf=2, min_samples_split=2, n_estimators=10;, score=0.908 total time=  12.5s\n",
      "[CV 2/5] END max_depth=9, min_samples_leaf=1, min_samples_split=10, n_estimators=50;, score=0.913 total time=  26.4s\n",
      "[CV 3/5] END max_depth=9, min_samples_leaf=1, min_samples_split=10, n_estimators=50;, score=0.912 total time=  27.2s\n",
      "[CV 5/5] END max_depth=9, min_samples_leaf=1, min_samples_split=10, n_estimators=50;, score=0.515 total time=  25.4s\n",
      "[CV 4/5] END max_depth=9, min_samples_leaf=2, min_samples_split=2, n_estimators=10;, score=0.921 total time=  14.2s\n",
      "[CV 1/5] END max_depth=9, min_samples_leaf=1, min_samples_split=10, n_estimators=50;, score=0.888 total time=  29.3s\n",
      "[CV 1/5] END max_depth=9, min_samples_leaf=2, min_samples_split=2, n_estimators=10;, score=0.881 total time=  15.3s\n",
      "[CV 2/5] END max_depth=9, min_samples_leaf=2, min_samples_split=2, n_estimators=10;, score=0.913 total time=  15.3s\n",
      "[CV 2/5] END max_depth=9, min_samples_leaf=1, min_samples_split=8, n_estimators=100;, score=0.914 total time=  42.3s\n",
      "[CV 3/5] END max_depth=9, min_samples_leaf=1, min_samples_split=8, n_estimators=100;, score=0.912 total time=  40.0s\n",
      "[CV 5/5] END max_depth=9, min_samples_leaf=2, min_samples_split=2, n_estimators=10;, score=0.753 total time=  15.8s\n",
      "[CV 4/5] END max_depth=9, min_samples_leaf=1, min_samples_split=8, n_estimators=100;, score=0.926 total time=  38.6s\n",
      "[CV 4/5] END max_depth=9, min_samples_leaf=1, min_samples_split=10, n_estimators=50;, score=0.925 total time=  27.6s\n",
      "[CV 5/5] END max_depth=9, min_samples_leaf=1, min_samples_split=8, n_estimators=100;, score=0.543 total time=  38.4s\n",
      "[CV 2/5] END max_depth=9, min_samples_leaf=2, min_samples_split=2, n_estimators=25;, score=0.914 total time=  16.7s\n",
      "[CV 1/5] END max_depth=9, min_samples_leaf=1, min_samples_split=8, n_estimators=100;, score=0.890 total time=  44.2s\n",
      "[CV 1/5] END max_depth=9, min_samples_leaf=2, min_samples_split=2, n_estimators=25;, score=0.887 total time=  17.3s\n",
      "[CV 3/5] END max_depth=9, min_samples_leaf=2, min_samples_split=2, n_estimators=25;, score=0.911 total time=  16.7s\n",
      "[CV 4/5] END max_depth=9, min_samples_leaf=2, min_samples_split=2, n_estimators=25;, score=0.924 total time=  17.5s\n",
      "[CV 5/5] END max_depth=9, min_samples_leaf=2, min_samples_split=2, n_estimators=25;, score=0.761 total time=  17.0s\n",
      "[CV 1/5] END max_depth=9, min_samples_leaf=2, min_samples_split=2, n_estimators=50;, score=0.887 total time=  23.7s\n",
      "[CV 2/5] END max_depth=9, min_samples_leaf=1, min_samples_split=10, n_estimators=100;, score=0.910 total time=  37.4s\n",
      "[CV 3/5] END max_depth=9, min_samples_leaf=2, min_samples_split=2, n_estimators=50;, score=0.912 total time=  27.7s\n",
      "[CV 1/5] END max_depth=9, min_samples_leaf=2, min_samples_split=4, n_estimators=10;, score=0.881 total time=  17.2s\n",
      "[CV 2/5] END max_depth=9, min_samples_leaf=2, min_samples_split=2, n_estimators=50;, score=0.914 total time=  28.7s\n",
      "[CV 5/5] END max_depth=9, min_samples_leaf=2, min_samples_split=4, n_estimators=10;, score=0.753 total time=  17.3s\n",
      "[CV 4/5] END max_depth=9, min_samples_leaf=1, min_samples_split=10, n_estimators=100;, score=0.925 total time=  38.7s\n",
      "[CV 3/5] END max_depth=9, min_samples_leaf=2, min_samples_split=4, n_estimators=10;, score=0.908 total time=  21.2s\n",
      "[CV 1/5] END max_depth=9, min_samples_leaf=1, min_samples_split=10, n_estimators=100;, score=0.891 total time=  46.9s[CV 2/5] END max_depth=9, min_samples_leaf=2, min_samples_split=4, n_estimators=10;, score=0.913 total time=  21.5s\n",
      "\n",
      "[CV 4/5] END max_depth=9, min_samples_leaf=2, min_samples_split=2, n_estimators=50;, score=0.926 total time=  32.4s\n",
      "[CV 5/5] END max_depth=9, min_samples_leaf=2, min_samples_split=2, n_estimators=50;, score=0.793 total time=  32.6s\n",
      "[CV 4/5] END max_depth=9, min_samples_leaf=2, min_samples_split=4, n_estimators=10;, score=0.921 total time=  22.5s\n",
      "[CV 3/5] END max_depth=9, min_samples_leaf=1, min_samples_split=10, n_estimators=100;, score=0.913 total time=  42.8s\n",
      "[CV 3/5] END max_depth=9, min_samples_leaf=2, min_samples_split=4, n_estimators=25;, score=0.911 total time=  21.6s\n",
      "[CV 1/5] END max_depth=9, min_samples_leaf=2, min_samples_split=4, n_estimators=25;, score=0.887 total time=  22.5s\n",
      "[CV 5/5] END max_depth=9, min_samples_leaf=2, min_samples_split=4, n_estimators=25;, score=0.761 total time=  22.5s\n",
      "[CV 2/5] END max_depth=9, min_samples_leaf=2, min_samples_split=4, n_estimators=25;, score=0.914 total time=  23.0s\n",
      "[CV 4/5] END max_depth=9, min_samples_leaf=2, min_samples_split=4, n_estimators=25;, score=0.924 total time=  24.3s\n",
      "[CV 5/5] END max_depth=9, min_samples_leaf=1, min_samples_split=10, n_estimators=100;, score=0.519 total time=  45.0s\n",
      "[CV 2/5] END max_depth=9, min_samples_leaf=2, min_samples_split=4, n_estimators=50;, score=0.914 total time=  25.3s\n",
      "[CV 1/5] END max_depth=9, min_samples_leaf=2, min_samples_split=4, n_estimators=50;, score=0.887 total time=  26.4s\n",
      "[CV 5/5] END max_depth=9, min_samples_leaf=2, min_samples_split=4, n_estimators=50;, score=0.793 total time=  25.7s\n",
      "[CV 1/5] END max_depth=9, min_samples_leaf=2, min_samples_split=2, n_estimators=100;, score=0.889 total time=  39.4s\n",
      "[CV 3/5] END max_depth=9, min_samples_leaf=2, min_samples_split=4, n_estimators=50;, score=0.912 total time=  27.0s\n",
      "[CV 2/5] END max_depth=9, min_samples_leaf=2, min_samples_split=2, n_estimators=100;, score=0.914 total time=  41.2s\n",
      "[CV 4/5] END max_depth=9, min_samples_leaf=2, min_samples_split=4, n_estimators=50;, score=0.926 total time=  27.7s\n",
      "[CV 2/5] END max_depth=9, min_samples_leaf=2, min_samples_split=6, n_estimators=10;, score=0.908 total time=  13.8s\n",
      "[CV 1/5] END max_depth=9, min_samples_leaf=2, min_samples_split=6, n_estimators=10;, score=0.879 total time=  15.0s\n",
      "[CV 3/5] END max_depth=9, min_samples_leaf=2, min_samples_split=6, n_estimators=10;, score=0.908 total time=  16.5s\n",
      "[CV 3/5] END max_depth=9, min_samples_leaf=2, min_samples_split=2, n_estimators=100;, score=0.913 total time=  38.1s\n",
      "[CV 5/5] END max_depth=9, min_samples_leaf=2, min_samples_split=6, n_estimators=10;, score=0.457 total time=  15.3s\n",
      "[CV 4/5] END max_depth=9, min_samples_leaf=2, min_samples_split=6, n_estimators=10;, score=0.920 total time=  17.5s\n",
      "[CV 1/5] END max_depth=9, min_samples_leaf=2, min_samples_split=6, n_estimators=25;, score=0.884 total time=  16.4s\n",
      "[CV 5/5] END max_depth=9, min_samples_leaf=2, min_samples_split=6, n_estimators=25;, score=0.473 total time=  16.4s\n",
      "[CV 5/5] END max_depth=9, min_samples_leaf=2, min_samples_split=2, n_estimators=100;, score=0.763 total time=  39.1s\n",
      "[CV 2/5] END max_depth=9, min_samples_leaf=2, min_samples_split=6, n_estimators=25;, score=0.910 total time=  17.8s\n",
      "[CV 4/5] END max_depth=9, min_samples_leaf=2, min_samples_split=2, n_estimators=100;, score=0.927 total time=  41.0s\n",
      "[CV 3/5] END max_depth=9, min_samples_leaf=2, min_samples_split=6, n_estimators=25;, score=0.912 total time=  17.6s\n",
      "[CV 4/5] END max_depth=9, min_samples_leaf=2, min_samples_split=6, n_estimators=25;, score=0.924 total time=  19.2s\n",
      "[CV 1/5] END max_depth=9, min_samples_leaf=2, min_samples_split=4, n_estimators=100;, score=0.889 total time=  37.9s\n",
      "[CV 2/5] END max_depth=9, min_samples_leaf=2, min_samples_split=4, n_estimators=100;, score=0.914 total time=  38.5s\n",
      "[CV 3/5] END max_depth=9, min_samples_leaf=2, min_samples_split=4, n_estimators=100;, score=0.913 total time=  32.7s\n",
      "[CV 2/5] END max_depth=9, min_samples_leaf=2, min_samples_split=8, n_estimators=10;, score=0.908 total time=  16.2s\n",
      "[CV 1/5] END max_depth=9, min_samples_leaf=2, min_samples_split=8, n_estimators=10;, score=0.883 total time=  17.0s\n",
      "[CV 4/5] END max_depth=9, min_samples_leaf=2, min_samples_split=8, n_estimators=10;, score=0.919 total time=  15.7s\n",
      "[CV 3/5] END max_depth=9, min_samples_leaf=2, min_samples_split=8, n_estimators=10;, score=0.909 total time=  16.1s\n",
      "[CV 5/5] END max_depth=9, min_samples_leaf=2, min_samples_split=8, n_estimators=10;, score=0.690 total time=  15.7s\n",
      "[CV 4/5] END max_depth=9, min_samples_leaf=2, min_samples_split=6, n_estimators=50;, score=0.926 total time=  25.0s\n",
      "[CV 4/5] END max_depth=9, min_samples_leaf=2, min_samples_split=4, n_estimators=100;, score=0.927 total time=  37.7s\n",
      "[CV 2/5] END max_depth=9, min_samples_leaf=2, min_samples_split=6, n_estimators=50;, score=0.912 total time=  27.7s\n",
      "[CV 1/5] END max_depth=9, min_samples_leaf=2, min_samples_split=6, n_estimators=50;, score=0.886 total time=  29.0s\n",
      "[CV 5/5] END max_depth=9, min_samples_leaf=2, min_samples_split=6, n_estimators=50;, score=0.690 total time=  27.9s\n",
      "[CV 3/5] END max_depth=9, min_samples_leaf=2, min_samples_split=6, n_estimators=50;, score=0.914 total time=  28.9s\n",
      "[CV 2/5] END max_depth=9, min_samples_leaf=2, min_samples_split=8, n_estimators=25;, score=0.911 total time=  18.9s\n",
      "[CV 1/5] END max_depth=9, min_samples_leaf=2, min_samples_split=8, n_estimators=25;, score=0.889 total time=  21.9s\n",
      "[CV 3/5] END max_depth=9, min_samples_leaf=2, min_samples_split=8, n_estimators=25;, score=0.912 total time=  19.2s\n",
      "[CV 5/5] END max_depth=9, min_samples_leaf=2, min_samples_split=4, n_estimators=100;, score=0.763 total time=  39.8s\n",
      "[CV 4/5] END max_depth=9, min_samples_leaf=2, min_samples_split=8, n_estimators=25;, score=0.924 total time=  21.5s\n",
      "[CV 5/5] END max_depth=9, min_samples_leaf=2, min_samples_split=8, n_estimators=25;, score=0.555 total time=  23.6s\n",
      "[CV 4/5] END max_depth=9, min_samples_leaf=2, min_samples_split=8, n_estimators=50;, score=0.927 total time=  22.8s\n",
      "[CV 2/5] END max_depth=9, min_samples_leaf=2, min_samples_split=8, n_estimators=50;, score=0.911 total time=  23.8s\n",
      "[CV 1/5] END max_depth=9, min_samples_leaf=2, min_samples_split=10, n_estimators=10;, score=0.880 total time=  17.4s\n",
      "[CV 3/5] END max_depth=9, min_samples_leaf=2, min_samples_split=10, n_estimators=10;, score=0.907 total time=  16.6s\n",
      "[CV 5/5] END max_depth=9, min_samples_leaf=2, min_samples_split=10, n_estimators=10;, score=0.685 total time=  16.3s\n",
      "[CV 2/5] END max_depth=9, min_samples_leaf=2, min_samples_split=6, n_estimators=100;, score=0.905 total time=  37.7s\n",
      "[CV 1/5] END max_depth=9, min_samples_leaf=2, min_samples_split=8, n_estimators=50;, score=0.889 total time=  26.4s\n",
      "[CV 2/5] END max_depth=9, min_samples_leaf=2, min_samples_split=10, n_estimators=10;, score=0.908 total time=  18.4s\n",
      "[CV 4/5] END max_depth=9, min_samples_leaf=2, min_samples_split=6, n_estimators=100;, score=0.926 total time=  35.8s\n",
      "[CV 3/5] END max_depth=9, min_samples_leaf=2, min_samples_split=8, n_estimators=50;, score=0.913 total time=  26.0s\n",
      "[CV 4/5] END max_depth=9, min_samples_leaf=2, min_samples_split=10, n_estimators=10;, score=0.919 total time=  18.0s\n",
      "[CV 1/5] END max_depth=9, min_samples_leaf=2, min_samples_split=6, n_estimators=100;, score=0.889 total time=  40.1s\n",
      "[CV 5/5] END max_depth=9, min_samples_leaf=2, min_samples_split=8, n_estimators=50;, score=0.639 total time=  26.8s\n",
      "[CV 1/5] END max_depth=9, min_samples_leaf=2, min_samples_split=10, n_estimators=25;, score=0.885 total time=  17.7s\n",
      "[CV 2/5] END max_depth=9, min_samples_leaf=2, min_samples_split=10, n_estimators=25;, score=0.911 total time=  17.4s\n",
      "[CV 3/5] END max_depth=9, min_samples_leaf=2, min_samples_split=10, n_estimators=25;, score=0.911 total time=  16.7s\n",
      "[CV 5/5] END max_depth=9, min_samples_leaf=2, min_samples_split=6, n_estimators=100;, score=0.670 total time=  40.0s\n",
      "[CV 3/5] END max_depth=9, min_samples_leaf=2, min_samples_split=6, n_estimators=100;, score=0.911 total time=  41.6s\n",
      "[CV 5/5] END max_depth=9, min_samples_leaf=2, min_samples_split=10, n_estimators=25;, score=0.732 total time=  17.5s\n",
      "[CV 4/5] END max_depth=9, min_samples_leaf=2, min_samples_split=10, n_estimators=25;, score=0.923 total time=  18.1s\n",
      "[CV 4/5] END max_depth=9, min_samples_leaf=2, min_samples_split=10, n_estimators=50;, score=0.926 total time=  22.4s\n",
      "[CV 3/5] END max_depth=9, min_samples_leaf=5, min_samples_split=2, n_estimators=10;, score=0.906 total time=  14.3s\n",
      "[CV 2/5] END max_depth=9, min_samples_leaf=5, min_samples_split=2, n_estimators=10;, score=0.912 total time=  14.8s\n",
      "[CV 3/5] END max_depth=9, min_samples_leaf=2, min_samples_split=10, n_estimators=50;, score=0.912 total time=  24.9s\n",
      "[CV 1/5] END max_depth=9, min_samples_leaf=2, min_samples_split=8, n_estimators=100;, score=0.891 total time=  39.6s\n",
      "[CV 2/5] END max_depth=9, min_samples_leaf=2, min_samples_split=10, n_estimators=50;, score=0.909 total time=  25.9s\n",
      "[CV 5/5] END max_depth=9, min_samples_leaf=5, min_samples_split=2, n_estimators=10;, score=0.705 total time=  14.6s\n",
      "[CV 2/5] END max_depth=9, min_samples_leaf=2, min_samples_split=8, n_estimators=100;, score=0.913 total time=  38.7s\n",
      "[CV 1/5] END max_depth=9, min_samples_leaf=5, min_samples_split=2, n_estimators=10;, score=0.882 total time=  16.3s\n",
      "[CV 1/5] END max_depth=9, min_samples_leaf=2, min_samples_split=10, n_estimators=50;, score=0.887 total time=  27.2s\n",
      "[CV 4/5] END max_depth=9, min_samples_leaf=5, min_samples_split=2, n_estimators=10;, score=0.921 total time=  16.0s\n",
      "[CV 3/5] END max_depth=9, min_samples_leaf=2, min_samples_split=8, n_estimators=100;, score=0.913 total time=  38.4s\n",
      "[CV 5/5] END max_depth=9, min_samples_leaf=2, min_samples_split=8, n_estimators=100;, score=0.649 total time=  38.0s\n",
      "[CV 1/5] END max_depth=9, min_samples_leaf=5, min_samples_split=2, n_estimators=25;, score=0.886 total time=  18.2s\n",
      "[CV 4/5] END max_depth=9, min_samples_leaf=2, min_samples_split=8, n_estimators=100;, score=0.925 total time=  40.3s\n",
      "[CV 5/5] END max_depth=9, min_samples_leaf=2, min_samples_split=10, n_estimators=50;, score=0.755 total time=  27.0s\n",
      "[CV 2/5] END max_depth=9, min_samples_leaf=5, min_samples_split=2, n_estimators=25;, score=0.914 total time=  20.4s\n",
      "[CV 4/5] END max_depth=9, min_samples_leaf=5, min_samples_split=2, n_estimators=25;, score=0.924 total time=  21.3s[CV 3/5] END max_depth=9, min_samples_leaf=5, min_samples_split=2, n_estimators=25;, score=0.911 total time=  22.3s\n",
      "\n",
      "[CV 5/5] END max_depth=9, min_samples_leaf=5, min_samples_split=2, n_estimators=25;, score=0.716 total time=  21.7s\n",
      "[CV 5/5] END max_depth=9, min_samples_leaf=5, min_samples_split=4, n_estimators=10;, score=0.705 total time=  15.5s\n",
      "[CV 5/5] END max_depth=9, min_samples_leaf=5, min_samples_split=2, n_estimators=50;, score=0.768 total time=  26.9s\n",
      "[CV 3/5] END max_depth=9, min_samples_leaf=5, min_samples_split=2, n_estimators=50;, score=0.914 total time=  28.8s\n",
      "[CV 1/5] END max_depth=9, min_samples_leaf=5, min_samples_split=4, n_estimators=10;, score=0.882 total time=  18.2s\n",
      "[CV 1/5] END max_depth=9, min_samples_leaf=5, min_samples_split=2, n_estimators=50;, score=0.890 total time=  30.2s[CV 4/5] END max_depth=9, min_samples_leaf=5, min_samples_split=2, n_estimators=50;, score=0.926 total time=  28.3s\n",
      "\n",
      "[CV 4/5] END max_depth=9, min_samples_leaf=5, min_samples_split=4, n_estimators=25;, score=0.924 total time=  16.8s\n",
      "[CV 3/5] END max_depth=9, min_samples_leaf=5, min_samples_split=4, n_estimators=10;, score=0.906 total time=  18.7s\n",
      "[CV 2/5] END max_depth=9, min_samples_leaf=5, min_samples_split=4, n_estimators=10;, score=0.912 total time=  18.8s\n",
      "[CV 4/5] END max_depth=9, min_samples_leaf=5, min_samples_split=4, n_estimators=10;, score=0.921 total time=  19.1s\n",
      "[CV 2/5] END max_depth=9, min_samples_leaf=5, min_samples_split=2, n_estimators=50;, score=0.914 total time=  31.6s\n",
      "[CV 1/5] END max_depth=9, min_samples_leaf=2, min_samples_split=10, n_estimators=100;, score=0.890 total time=  40.8s\n",
      "[CV 2/5] END max_depth=9, min_samples_leaf=2, min_samples_split=10, n_estimators=100;, score=0.910 total time=  38.3s\n",
      "[CV 1/5] END max_depth=9, min_samples_leaf=5, min_samples_split=4, n_estimators=25;, score=0.886 total time=  20.2s\n",
      "[CV 3/5] END max_depth=9, min_samples_leaf=2, min_samples_split=10, n_estimators=100;, score=0.913 total time=  38.3s\n",
      "[CV 3/5] END max_depth=9, min_samples_leaf=5, min_samples_split=4, n_estimators=25;, score=0.911 total time=  20.5s\n",
      "[CV 2/5] END max_depth=9, min_samples_leaf=5, min_samples_split=4, n_estimators=25;, score=0.914 total time=  21.2s\n",
      "[CV 4/5] END max_depth=9, min_samples_leaf=2, min_samples_split=10, n_estimators=100;, score=0.925 total time=  38.7s\n",
      "[CV 5/5] END max_depth=9, min_samples_leaf=2, min_samples_split=10, n_estimators=100;, score=0.739 total time=  40.9s\n",
      "[CV 5/5] END max_depth=9, min_samples_leaf=5, min_samples_split=4, n_estimators=25;, score=0.716 total time=  23.2s\n",
      "[CV 1/5] END max_depth=9, min_samples_leaf=5, min_samples_split=2, n_estimators=100;, score=0.890 total time=  37.8s\n",
      "[CV 2/5] END max_depth=9, min_samples_leaf=5, min_samples_split=2, n_estimators=100;, score=0.915 total time=  39.4s\n",
      "[CV 2/5] END max_depth=9, min_samples_leaf=5, min_samples_split=4, n_estimators=50;, score=0.914 total time=  26.6s\n",
      "[CV 4/5] END max_depth=9, min_samples_leaf=5, min_samples_split=4, n_estimators=50;, score=0.926 total time=  24.9s\n",
      "[CV 5/5] END max_depth=9, min_samples_leaf=5, min_samples_split=4, n_estimators=50;, score=0.768 total time=  24.3s\n",
      "[CV 3/5] END max_depth=9, min_samples_leaf=5, min_samples_split=4, n_estimators=50;, score=0.914 total time=  28.3s\n",
      "[CV 1/5] END max_depth=9, min_samples_leaf=5, min_samples_split=4, n_estimators=50;, score=0.890 total time=  29.0s\n",
      "[CV 3/5] END max_depth=9, min_samples_leaf=5, min_samples_split=6, n_estimators=10;, score=0.906 total time=  16.7s\n",
      "[CV 1/5] END max_depth=9, min_samples_leaf=5, min_samples_split=6, n_estimators=10;, score=0.882 total time=  17.5s\n",
      "[CV 2/5] END max_depth=9, min_samples_leaf=5, min_samples_split=6, n_estimators=10;, score=0.912 total time=  17.4s\n",
      "[CV 4/5] END max_depth=9, min_samples_leaf=5, min_samples_split=6, n_estimators=10;, score=0.921 total time=  17.3s\n",
      "[CV 4/5] END max_depth=9, min_samples_leaf=5, min_samples_split=2, n_estimators=100;, score=0.926 total time=  36.9s\n",
      "[CV 5/5] END max_depth=9, min_samples_leaf=5, min_samples_split=6, n_estimators=10;, score=0.705 total time=  17.3s\n",
      "[CV 2/5] END max_depth=9, min_samples_leaf=5, min_samples_split=6, n_estimators=25;, score=0.914 total time=  17.8s\n",
      "[CV 5/5] END max_depth=9, min_samples_leaf=5, min_samples_split=6, n_estimators=25;, score=0.716 total time=  17.2s\n",
      "[CV 1/5] END max_depth=9, min_samples_leaf=5, min_samples_split=6, n_estimators=25;, score=0.886 total time=  20.2s\n",
      "[CV 4/5] END max_depth=9, min_samples_leaf=5, min_samples_split=6, n_estimators=25;, score=0.924 total time=  19.8s\n",
      "[CV 5/5] END max_depth=9, min_samples_leaf=5, min_samples_split=2, n_estimators=100;, score=0.827 total time=  41.0s\n",
      "[CV 3/5] END max_depth=9, min_samples_leaf=5, min_samples_split=6, n_estimators=25;, score=0.911 total time=  20.6s\n",
      "[CV 3/5] END max_depth=9, min_samples_leaf=5, min_samples_split=2, n_estimators=100;, score=0.915 total time=  42.8s\n",
      "[CV 3/5] END max_depth=9, min_samples_leaf=5, min_samples_split=6, n_estimators=50;, score=0.914 total time=  26.2s\n",
      "[CV 2/5] END max_depth=9, min_samples_leaf=5, min_samples_split=8, n_estimators=10;, score=0.912 total time=  16.2s\n",
      "[CV 2/5] END max_depth=9, min_samples_leaf=5, min_samples_split=6, n_estimators=50;, score=0.914 total time=  28.0s\n",
      "[CV 4/5] END max_depth=9, min_samples_leaf=5, min_samples_split=8, n_estimators=10;, score=0.921 total time=  16.2s\n",
      "[CV 1/5] END max_depth=9, min_samples_leaf=5, min_samples_split=8, n_estimators=10;, score=0.882 total time=  18.0s\n",
      "[CV 1/5] END max_depth=9, min_samples_leaf=5, min_samples_split=4, n_estimators=100;, score=0.890 total time=  41.8s\n",
      "[CV 4/5] END max_depth=9, min_samples_leaf=5, min_samples_split=6, n_estimators=50;, score=0.926 total time=  28.7s\n",
      "[CV 1/5] END max_depth=9, min_samples_leaf=5, min_samples_split=6, n_estimators=50;, score=0.890 total time=  29.9s\n",
      "[CV 3/5] END max_depth=9, min_samples_leaf=5, min_samples_split=8, n_estimators=10;, score=0.906 total time=  18.1s\n",
      "[CV 2/5] END max_depth=9, min_samples_leaf=5, min_samples_split=4, n_estimators=100;, score=0.915 total time=  42.5s\n",
      "[CV 5/5] END max_depth=9, min_samples_leaf=5, min_samples_split=6, n_estimators=50;, score=0.768 total time=  30.0s\n",
      "[CV 5/5] END max_depth=9, min_samples_leaf=5, min_samples_split=8, n_estimators=10;, score=0.705 total time=  17.5s\n",
      "[CV 5/5] END max_depth=9, min_samples_leaf=5, min_samples_split=8, n_estimators=25;, score=0.716 total time=  19.4s\n",
      "[CV 1/5] END max_depth=9, min_samples_leaf=5, min_samples_split=8, n_estimators=25;, score=0.886 total time=  20.3s\n",
      "[CV 3/5] END max_depth=9, min_samples_leaf=5, min_samples_split=8, n_estimators=25;, score=0.911 total time=  21.5s\n",
      "[CV 5/5] END max_depth=9, min_samples_leaf=5, min_samples_split=4, n_estimators=100;, score=0.827 total time=  40.0s\n",
      "[CV 4/5] END max_depth=9, min_samples_leaf=5, min_samples_split=8, n_estimators=25;, score=0.924 total time=  21.4s\n",
      "[CV 4/5] END max_depth=9, min_samples_leaf=5, min_samples_split=4, n_estimators=100;, score=0.926 total time=  40.6s\n",
      "[CV 2/5] END max_depth=9, min_samples_leaf=5, min_samples_split=8, n_estimators=25;, score=0.914 total time=  22.4s\n",
      "[CV 3/5] END max_depth=9, min_samples_leaf=5, min_samples_split=4, n_estimators=100;, score=0.915 total time=  42.6s\n",
      "[CV 2/5] END max_depth=9, min_samples_leaf=5, min_samples_split=6, n_estimators=100;, score=0.915 total time=  35.0s\n",
      "[CV 1/5] END max_depth=9, min_samples_leaf=5, min_samples_split=8, n_estimators=50;, score=0.890 total time=  25.8s\n",
      "[CV 2/5] END max_depth=9, min_samples_leaf=5, min_samples_split=10, n_estimators=10;, score=0.912 total time=  14.7s\n",
      "[CV 3/5] END max_depth=9, min_samples_leaf=5, min_samples_split=10, n_estimators=10;, score=0.906 total time=  14.0s\n",
      "[CV 2/5] END max_depth=9, min_samples_leaf=5, min_samples_split=8, n_estimators=50;, score=0.914 total time=  27.2s\n",
      "[CV 4/5] END max_depth=9, min_samples_leaf=5, min_samples_split=10, n_estimators=10;, score=0.921 total time=  15.5s\n",
      "[CV 1/5] END max_depth=9, min_samples_leaf=5, min_samples_split=10, n_estimators=10;, score=0.882 total time=  16.8s\n",
      "[CV 1/5] END max_depth=9, min_samples_leaf=5, min_samples_split=6, n_estimators=100;, score=0.890 total time=  41.2s\n",
      "[CV 5/5] END max_depth=9, min_samples_leaf=5, min_samples_split=10, n_estimators=10;, score=0.705 total time=  15.6s\n",
      "[CV 3/5] END max_depth=9, min_samples_leaf=5, min_samples_split=8, n_estimators=50;, score=0.914 total time=  27.3s\n",
      "[CV 4/5] END max_depth=9, min_samples_leaf=5, min_samples_split=8, n_estimators=50;, score=0.926 total time=  27.1s\n",
      "[CV 5/5] END max_depth=9, min_samples_leaf=5, min_samples_split=8, n_estimators=50;, score=0.768 total time=  27.8s\n",
      "[CV 3/5] END max_depth=9, min_samples_leaf=5, min_samples_split=10, n_estimators=25;, score=0.911 total time=  16.0s\n",
      "[CV 2/5] END max_depth=9, min_samples_leaf=5, min_samples_split=10, n_estimators=25;, score=0.914 total time=  17.7s\n",
      "[CV 4/5] END max_depth=9, min_samples_leaf=5, min_samples_split=6, n_estimators=100;, score=0.926 total time=  38.9s\n",
      "[CV 5/5] END max_depth=9, min_samples_leaf=5, min_samples_split=6, n_estimators=100;, score=0.827 total time=  38.8s\n",
      "[CV 3/5] END max_depth=9, min_samples_leaf=5, min_samples_split=6, n_estimators=100;, score=0.915 total time=  42.2s\n",
      "[CV 4/5] END max_depth=9, min_samples_leaf=5, min_samples_split=10, n_estimators=25;, score=0.924 total time=  18.7s\n",
      "[CV 1/5] END max_depth=9, min_samples_leaf=5, min_samples_split=10, n_estimators=25;, score=0.886 total time=  20.3s\n",
      "[CV 5/5] END max_depth=9, min_samples_leaf=5, min_samples_split=10, n_estimators=25;, score=0.716 total time=  18.5s\n",
      "[CV 4/5] END max_depth=9, min_samples_leaf=10, min_samples_split=2, n_estimators=10;, score=0.920 total time=  14.4s\n",
      "[CV 2/5] END max_depth=9, min_samples_leaf=5, min_samples_split=8, n_estimators=100;, score=0.915 total time=  39.1s\n",
      "[CV 1/5] END max_depth=9, min_samples_leaf=10, min_samples_split=2, n_estimators=10;, score=0.886 total time=  17.3s\n",
      "[CV 3/5] END max_depth=9, min_samples_leaf=10, min_samples_split=2, n_estimators=10;, score=0.908 total time=  16.2s\n",
      "[CV 5/5] END max_depth=9, min_samples_leaf=10, min_samples_split=2, n_estimators=10;, score=0.817 total time=  16.5s\n",
      "[CV 3/5] END max_depth=9, min_samples_leaf=10, min_samples_split=2, n_estimators=25;, score=0.909 total time=  17.4s\n",
      "[CV 1/5] END max_depth=9, min_samples_leaf=5, min_samples_split=10, n_estimators=50;, score=0.890 total time=  28.8s\n",
      "[CV 2/5] END max_depth=9, min_samples_leaf=10, min_samples_split=2, n_estimators=10;, score=0.906 total time=  20.2s\n",
      "[CV 3/5] END max_depth=9, min_samples_leaf=5, min_samples_split=10, n_estimators=50;, score=0.914 total time=  27.7s\n",
      "[CV 2/5] END max_depth=9, min_samples_leaf=10, min_samples_split=2, n_estimators=25;, score=0.908 total time=  18.9s\n",
      "[CV 1/5] END max_depth=9, min_samples_leaf=10, min_samples_split=2, n_estimators=25;, score=0.890 total time=  19.2s[CV 4/5] END max_depth=9, min_samples_leaf=5, min_samples_split=10, n_estimators=50;, score=0.926 total time=  28.1s[CV 1/5] END max_depth=9, min_samples_leaf=5, min_samples_split=8, n_estimators=100;, score=0.890 total time=  45.2s\n",
      "\n",
      "\n",
      "[CV 2/5] END max_depth=9, min_samples_leaf=5, min_samples_split=10, n_estimators=50;, score=0.914 total time=  28.5s\n",
      "[CV 5/5] END max_depth=9, min_samples_leaf=10, min_samples_split=2, n_estimators=25;, score=0.832 total time=  18.1s\n",
      "[CV 4/5] END max_depth=9, min_samples_leaf=10, min_samples_split=2, n_estimators=25;, score=0.924 total time=  19.4s\n",
      "[CV 3/5] END max_depth=9, min_samples_leaf=5, min_samples_split=8, n_estimators=100;, score=0.915 total time=  39.8s\n",
      "[CV 5/5] END max_depth=9, min_samples_leaf=5, min_samples_split=10, n_estimators=50;, score=0.768 total time=  30.2s\n",
      "[CV 4/5] END max_depth=9, min_samples_leaf=5, min_samples_split=8, n_estimators=100;, score=0.926 total time=  39.6s\n",
      "[CV 5/5] END max_depth=9, min_samples_leaf=5, min_samples_split=8, n_estimators=100;, score=0.827 total time=  41.4s\n",
      "[CV 1/5] END max_depth=9, min_samples_leaf=10, min_samples_split=2, n_estimators=50;, score=0.891 total time=  24.2s\n",
      "[CV 3/5] END max_depth=9, min_samples_leaf=10, min_samples_split=2, n_estimators=50;, score=0.911 total time=  23.9s\n",
      "[CV 2/5] END max_depth=9, min_samples_leaf=5, min_samples_split=10, n_estimators=100;, score=0.915 total time=  35.9s\n",
      "[CV 4/5] END max_depth=9, min_samples_leaf=10, min_samples_split=2, n_estimators=50;, score=0.926 total time=  25.0s\n",
      "[CV 1/5] END max_depth=9, min_samples_leaf=10, min_samples_split=4, n_estimators=10;, score=0.886 total time=  14.5s\n",
      "[CV 2/5] END max_depth=9, min_samples_leaf=10, min_samples_split=2, n_estimators=50;, score=0.912 total time=  27.5s\n",
      "[CV 1/5] END max_depth=9, min_samples_leaf=5, min_samples_split=10, n_estimators=100;, score=0.890 total time=  39.2s\n",
      "[CV 4/5] END max_depth=9, min_samples_leaf=5, min_samples_split=10, n_estimators=100;, score=0.926 total time=  36.3s\n",
      "[CV 5/5] END max_depth=9, min_samples_leaf=10, min_samples_split=4, n_estimators=10;, score=0.817 total time=  14.8s\n",
      "[CV 5/5] END max_depth=9, min_samples_leaf=10, min_samples_split=2, n_estimators=50;, score=0.848 total time=  28.4s\n",
      "[CV 2/5] END max_depth=9, min_samples_leaf=10, min_samples_split=4, n_estimators=10;, score=0.906 total time=  17.3s\n",
      "[CV 1/5] END max_depth=9, min_samples_leaf=10, min_samples_split=4, n_estimators=25;, score=0.890 total time=  16.1s\n",
      "[CV 3/5] END max_depth=9, min_samples_leaf=10, min_samples_split=4, n_estimators=10;, score=0.908 total time=  17.2s\n",
      "[CV 3/5] END max_depth=9, min_samples_leaf=10, min_samples_split=4, n_estimators=25;, score=0.909 total time=  16.1s\n",
      "[CV 5/5] END max_depth=9, min_samples_leaf=5, min_samples_split=10, n_estimators=100;, score=0.827 total time=  37.6s\n",
      "[CV 3/5] END max_depth=9, min_samples_leaf=5, min_samples_split=10, n_estimators=100;, score=0.915 total time=  41.6s\n",
      "[CV 4/5] END max_depth=9, min_samples_leaf=10, min_samples_split=4, n_estimators=10;, score=0.920 total time=  20.1s\n",
      "[CV 4/5] END max_depth=9, min_samples_leaf=10, min_samples_split=4, n_estimators=25;, score=0.924 total time=  20.5s\n",
      "[CV 2/5] END max_depth=9, min_samples_leaf=10, min_samples_split=4, n_estimators=25;, score=0.908 total time=  23.0s\n",
      "[CV 1/5] END max_depth=9, min_samples_leaf=10, min_samples_split=4, n_estimators=50;, score=0.891 total time=  23.0s\n",
      "[CV 2/5] END max_depth=9, min_samples_leaf=10, min_samples_split=2, n_estimators=100;, score=0.914 total time=  36.1s\n",
      "[CV 5/5] END max_depth=9, min_samples_leaf=10, min_samples_split=4, n_estimators=25;, score=0.832 total time=  24.5s\n",
      "[CV 5/5] END max_depth=9, min_samples_leaf=10, min_samples_split=6, n_estimators=10;, score=0.817 total time=  12.4s\n",
      "[CV 2/5] END max_depth=9, min_samples_leaf=10, min_samples_split=6, n_estimators=10;, score=0.906 total time=  14.8s\n",
      "[CV 3/5] END max_depth=9, min_samples_leaf=10, min_samples_split=6, n_estimators=10;, score=0.908 total time=  14.8s\n",
      "[CV 1/5] END max_depth=9, min_samples_leaf=10, min_samples_split=6, n_estimators=10;, score=0.886 total time=  16.9s\n",
      "[CV 5/5] END max_depth=9, min_samples_leaf=10, min_samples_split=4, n_estimators=50;, score=0.848 total time=  24.5s\n",
      "[CV 1/5] END max_depth=9, min_samples_leaf=10, min_samples_split=2, n_estimators=100;, score=0.892 total time=  42.4s\n",
      "[CV 1/5] END max_depth=9, min_samples_leaf=10, min_samples_split=6, n_estimators=25;, score=0.890 total time=  14.3s\n",
      "[CV 2/5] END max_depth=9, min_samples_leaf=10, min_samples_split=6, n_estimators=25;, score=0.908 total time=  14.6s\n",
      "[CV 4/5] END max_depth=9, min_samples_leaf=10, min_samples_split=6, n_estimators=10;, score=0.920 total time=  17.5s\n",
      "[CV 2/5] END max_depth=9, min_samples_leaf=10, min_samples_split=4, n_estimators=50;, score=0.912 total time=  28.3s\n",
      "[CV 3/5] END max_depth=9, min_samples_leaf=10, min_samples_split=4, n_estimators=50;, score=0.911 total time=  29.2s\n",
      "[CV 4/5] END max_depth=9, min_samples_leaf=10, min_samples_split=6, n_estimators=25;, score=0.924 total time=  17.2s\n",
      "[CV 3/5] END max_depth=9, min_samples_leaf=10, min_samples_split=6, n_estimators=25;, score=0.909 total time=  19.0s\n",
      "[CV 4/5] END max_depth=9, min_samples_leaf=10, min_samples_split=4, n_estimators=50;, score=0.926 total time=  31.7s\n",
      "[CV 3/5] END max_depth=9, min_samples_leaf=10, min_samples_split=2, n_estimators=100;, score=0.913 total time=  39.9s\n",
      "[CV 4/5] END max_depth=9, min_samples_leaf=10, min_samples_split=2, n_estimators=100;, score=0.927 total time=  42.0s\n",
      "[CV 5/5] END max_depth=9, min_samples_leaf=10, min_samples_split=6, n_estimators=25;, score=0.832 total time=  22.4s\n",
      "[CV 5/5] END max_depth=9, min_samples_leaf=10, min_samples_split=2, n_estimators=100;, score=0.853 total time=  43.6s\n",
      "[CV 1/5] END max_depth=9, min_samples_leaf=10, min_samples_split=8, n_estimators=10;, score=0.886 total time=  15.6s\n",
      "[CV 2/5] END max_depth=9, min_samples_leaf=10, min_samples_split=8, n_estimators=10;, score=0.906 total time=  16.2s\n",
      "[CV 4/5] END max_depth=9, min_samples_leaf=10, min_samples_split=8, n_estimators=10;, score=0.920 total time=  15.6s\n",
      "[CV 2/5] END max_depth=9, min_samples_leaf=10, min_samples_split=6, n_estimators=50;, score=0.912 total time=  27.5s\n",
      "[CV 1/5] END max_depth=9, min_samples_leaf=10, min_samples_split=6, n_estimators=50;, score=0.891 total time=  27.6s\n",
      "[CV 1/5] END max_depth=9, min_samples_leaf=10, min_samples_split=4, n_estimators=100;, score=0.892 total time=  41.5s\n",
      "[CV 3/5] END max_depth=9, min_samples_leaf=10, min_samples_split=6, n_estimators=50;, score=0.911 total time=  27.1s\n",
      "[CV 5/5] END max_depth=9, min_samples_leaf=10, min_samples_split=4, n_estimators=100;, score=0.853 total time=  35.9s\n",
      "[CV 2/5] END max_depth=9, min_samples_leaf=10, min_samples_split=4, n_estimators=100;, score=0.914 total time=  40.1s\n",
      "[CV 5/5] END max_depth=9, min_samples_leaf=10, min_samples_split=8, n_estimators=10;, score=0.817 total time=  16.9s\n",
      "[CV 3/5] END max_depth=9, min_samples_leaf=10, min_samples_split=8, n_estimators=10;, score=0.908 total time=  18.3s\n",
      "[CV 3/5] END max_depth=9, min_samples_leaf=10, min_samples_split=4, n_estimators=100;, score=0.913 total time=  38.2s\n",
      "[CV 2/5] END max_depth=9, min_samples_leaf=10, min_samples_split=8, n_estimators=25;, score=0.908 total time=  18.3s\n",
      "[CV 1/5] END max_depth=9, min_samples_leaf=10, min_samples_split=8, n_estimators=25;, score=0.890 total time=  18.8s\n",
      "[CV 4/5] END max_depth=9, min_samples_leaf=10, min_samples_split=6, n_estimators=50;, score=0.926 total time=  28.1s\n",
      "[CV 3/5] END max_depth=9, min_samples_leaf=10, min_samples_split=8, n_estimators=25;, score=0.909 total time=  18.7s\n",
      "[CV 4/5] END max_depth=9, min_samples_leaf=10, min_samples_split=8, n_estimators=25;, score=0.924 total time=  18.7s\n",
      "[CV 5/5] END max_depth=9, min_samples_leaf=10, min_samples_split=6, n_estimators=50;, score=0.848 total time=  29.2s\n",
      "[CV 4/5] END max_depth=9, min_samples_leaf=10, min_samples_split=4, n_estimators=100;, score=0.927 total time=  41.8s\n",
      "[CV 5/5] END max_depth=9, min_samples_leaf=10, min_samples_split=8, n_estimators=25;, score=0.832 total time=  25.2s\n",
      "[CV 1/5] END max_depth=9, min_samples_leaf=10, min_samples_split=10, n_estimators=10;, score=0.886 total time=  13.6s\n",
      "[CV 4/5] END max_depth=9, min_samples_leaf=10, min_samples_split=6, n_estimators=100;, score=0.927 total time=  34.0s\n",
      "[CV 4/5] END max_depth=9, min_samples_leaf=10, min_samples_split=8, n_estimators=50;, score=0.926 total time=  26.0s\n",
      "[CV 2/5] END max_depth=9, min_samples_leaf=10, min_samples_split=6, n_estimators=100;, score=0.914 total time=  38.3s\n",
      "[CV 3/5] END max_depth=9, min_samples_leaf=10, min_samples_split=10, n_estimators=10;, score=0.908 total time=  17.3s\n",
      "[CV 2/5] END max_depth=9, min_samples_leaf=10, min_samples_split=10, n_estimators=10;, score=0.906 total time=  18.0s\n",
      "[CV 5/5] END max_depth=9, min_samples_leaf=10, min_samples_split=10, n_estimators=10;, score=0.817 total time=  17.4s\n",
      "[CV 5/5] END max_depth=9, min_samples_leaf=10, min_samples_split=10, n_estimators=25;, score=0.832 total time=  17.0s\n",
      "[CV 3/5] END max_depth=9, min_samples_leaf=10, min_samples_split=8, n_estimators=50;, score=0.911 total time=  30.7s\n",
      "[CV 1/5] END max_depth=9, min_samples_leaf=10, min_samples_split=6, n_estimators=100;, score=0.892 total time=  42.4s\n",
      "[CV 4/5] END max_depth=9, min_samples_leaf=10, min_samples_split=10, n_estimators=10;, score=0.920 total time=  20.7s\n",
      "[CV 3/5] END max_depth=9, min_samples_leaf=10, min_samples_split=10, n_estimators=25;, score=0.909 total time=  20.1s\n",
      "[CV 1/5] END max_depth=9, min_samples_leaf=10, min_samples_split=10, n_estimators=25;, score=0.890 total time=  20.3s\n",
      "[CV 1/5] END max_depth=9, min_samples_leaf=10, min_samples_split=8, n_estimators=50;, score=0.891 total time=  32.6s\n",
      "[CV 3/5] END max_depth=9, min_samples_leaf=10, min_samples_split=6, n_estimators=100;, score=0.913 total time=  41.5s[CV 5/5] END max_depth=9, min_samples_leaf=10, min_samples_split=6, n_estimators=100;, score=0.853 total time=  40.1s\n",
      "\n",
      "[CV 2/5] END max_depth=9, min_samples_leaf=10, min_samples_split=8, n_estimators=50;, score=0.912 total time=  33.2s\n",
      "[CV 5/5] END max_depth=9, min_samples_leaf=10, min_samples_split=8, n_estimators=50;, score=0.848 total time=  30.9s\n",
      "[CV 2/5] END max_depth=9, min_samples_leaf=10, min_samples_split=10, n_estimators=25;, score=0.908 total time=  25.6s\n",
      "[CV 2/5] END max_depth=9, min_samples_leaf=10, min_samples_split=10, n_estimators=50;, score=0.912 total time=  23.8s\n",
      "[CV 4/5] END max_depth=9, min_samples_leaf=10, min_samples_split=10, n_estimators=25;, score=0.924 total time=  25.6s\n",
      "[CV 2/5] END max_depth=9, min_samples_leaf=10, min_samples_split=8, n_estimators=100;, score=0.914 total time=  31.8s\n",
      "[CV 3/5] END max_depth=9, min_samples_leaf=10, min_samples_split=10, n_estimators=50;, score=0.911 total time=  24.4s\n",
      "[CV 1/5] END max_depth=9, min_samples_leaf=10, min_samples_split=10, n_estimators=50;, score=0.891 total time=  25.2s\n",
      "[CV 4/5] END max_depth=9, min_samples_leaf=10, min_samples_split=10, n_estimators=50;, score=0.926 total time=  24.2s\n",
      "[CV 1/5] END max_depth=9, min_samples_leaf=10, min_samples_split=8, n_estimators=100;, score=0.892 total time=  34.9s\n",
      "[CV 5/5] END max_depth=9, min_samples_leaf=10, min_samples_split=10, n_estimators=50;, score=0.848 total time=  24.1s\n",
      "[CV 3/5] END max_depth=9, min_samples_leaf=10, min_samples_split=8, n_estimators=100;, score=0.913 total time=  32.4s\n",
      "[CV 4/5] END max_depth=9, min_samples_leaf=10, min_samples_split=8, n_estimators=100;, score=0.927 total time=  31.9s\n",
      "[CV 5/5] END max_depth=9, min_samples_leaf=10, min_samples_split=8, n_estimators=100;, score=0.853 total time=  31.8s\n",
      "[CV 2/5] END max_depth=9, min_samples_leaf=10, min_samples_split=10, n_estimators=100;, score=0.914 total time=  17.7s\n",
      "[CV 1/5] END max_depth=9, min_samples_leaf=10, min_samples_split=10, n_estimators=100;, score=0.892 total time=  24.6s\n",
      "[CV 4/5] END max_depth=9, min_samples_leaf=10, min_samples_split=10, n_estimators=100;, score=0.927 total time=  15.9s\n",
      "[CV 5/5] END max_depth=9, min_samples_leaf=10, min_samples_split=10, n_estimators=100;, score=0.853 total time=  13.7s\n",
      "[CV 3/5] END max_depth=9, min_samples_leaf=10, min_samples_split=10, n_estimators=100;, score=0.913 total time=  17.6s\n"
     ]
    },
    {
     "data": {
      "text/plain": [
       "GridSearchCV(estimator=RandomForestClassifier(n_jobs=-1, random_state=15),\n",
       "             n_jobs=-1,\n",
       "             param_grid={'max_depth': [3, 5, 7, 9],\n",
       "                         'min_samples_leaf': [1, 2, 5, 10],\n",
       "                         'min_samples_split': [2, 4, 6, 8, 10],\n",
       "                         'n_estimators': [10, 25, 50, 100]},\n",
       "             scoring='roc_auc', verbose=3)"
      ]
     },
     "execution_count": 6,
     "metadata": {},
     "output_type": "execute_result"
    }
   ],
   "source": [
    "rf = RandomForestClassifier(n_jobs=-1, random_state=15)\n",
    "param_grid = {\n",
    "    'n_estimators' : [10, 25, 50, 100],\n",
    "    'max_depth' : [3, 5, 7, 9],\n",
    "    'min_samples_split' : [2, 4, 6, 8, 10],\n",
    "    'min_samples_leaf' : [1, 2, 5, 10]\n",
    "}\n",
    "scoring = {\n",
    "    'MSE': make_scorer(mean_squared_error),\n",
    "    'AUC': 'roc_auc',\n",
    "    'Accuracy': make_scorer(accuracy_score), \n",
    "    'Precision': make_scorer(precision_score)}\n",
    "gs = GridSearchCV(rf, param_grid, verbose=3, n_jobs=-1, scoring=\"roc_auc\")\n",
    "gs.fit(X, y)"
   ]
  },
  {
   "cell_type": "code",
   "execution_count": 7,
   "metadata": {},
   "outputs": [
    {
     "data": {
      "text/plain": [
       "RandomForestClassifier(max_depth=9, min_samples_leaf=10, n_jobs=-1,\n",
       "                       random_state=15)"
      ]
     },
     "execution_count": 7,
     "metadata": {},
     "output_type": "execute_result"
    }
   ],
   "source": [
    "results = gs.cv_results_\n",
    "gs.best_estimator_"
   ]
  },
  {
   "cell_type": "code",
   "execution_count": 10,
   "metadata": {},
   "outputs": [
    {
     "name": "stdout",
     "output_type": "stream",
     "text": [
      "(177149, 10) (59050, 10) (177149,) (59050,)\n",
      "0.9674513124470787\n",
      "1.0\n",
      "0.0015584415584415584\n",
      "0.003112033195020747\n",
      "0.5007792207792208\n"
     ]
    }
   ],
   "source": [
    "rf_gs = gs.best_estimator_\n",
    "\n",
    "from sklearn.model_selection import train_test_split\n",
    "Xtr, Xts, Ytr, Yts = train_test_split(X, y, random_state=15)\n",
    "print(Xtr.shape, Xts.shape, Ytr.shape, Yts.shape)\n",
    "\n",
    "rf_gs.fit(Xtr, Ytr)\n",
    "Ypr = rf_gs.predict(Xts)\n",
    "print(accuracy_score(Yts, Ypr))\n",
    "print(precision_score(Yts, Ypr))\n",
    "print(recall_score(Yts, Ypr))\n",
    "print(f1_score(Yts, Ypr))\n",
    "print(roc_auc_score(Yts, Ypr))"
   ]
  },
  {
   "cell_type": "code",
   "execution_count": 8,
   "metadata": {},
   "outputs": [
    {
     "data": {
      "text/plain": [
       "((177149, 9), (59050, 9), (177149,), (59050,))"
      ]
     },
     "execution_count": 8,
     "metadata": {},
     "output_type": "execute_result"
    }
   ],
   "source": [
    "rf_best = RandomForestClassifier(n_jobs=-1, random_state=15)\n",
    "\n",
    "from sklearn.model_selection import train_test_split\n",
    "Xtr, Xts, Ytr, Yts = train_test_split(X, y, random_state=15)\n",
    "Xtr.shape, Xts.shape, Ytr.shape, Yts.shape"
   ]
  },
  {
   "cell_type": "code",
   "execution_count": 9,
   "metadata": {},
   "outputs": [
    {
     "name": "stdout",
     "output_type": "stream",
     "text": [
      "0.9838950042337002\n",
      "0.9227430555555556\n",
      "0.5522077922077923\n",
      "0.690932726681833\n",
      "0.7753249026684476\n"
     ]
    }
   ],
   "source": [
    "rf_best.fit(Xtr, Ytr)\n",
    "Ypr = rf_best.predict(Xts)\n",
    "print(accuracy_score(Yts, Ypr))\n",
    "print(precision_score(Yts, Ypr))\n",
    "print(recall_score(Yts, Ypr))\n",
    "print(f1_score(Yts, Ypr))\n",
    "print(roc_auc_score(Yts, Ypr))"
   ]
  },
  {
   "cell_type": "code",
   "execution_count": 11,
   "metadata": {},
   "outputs": [
    {
     "data": {
      "image/png": "[encoded data removed]",
      "text/plain": [
       "<Figure size 1008x720 with 1 Axes>"
      ]
     },
     "metadata": {
      "needs_background": "light"
     },
     "output_type": "display_data"
    }
   ],
   "source": [
    "X_np=X.values\n",
    "y_np=y.values\n",
    "cv = KFold(n_splits=5)\n",
    "tprs = []\n",
    "aucs = []\n",
    "mean_fpr = np.linspace(0, 1, 100)\n",
    "\n",
    "fig, ax = plt.subplots(figsize=[14,10])\n",
    "mpl.style.use(\"seaborn-pastel\")\n",
    "for i, (train, test) in enumerate(cv.split(X_np, y_np)):\n",
    "    rf_best.fit(X_np[train], y_np[train])\n",
    "    viz = RocCurveDisplay.from_estimator(\n",
    "        rf_best,\n",
    "        X_np[test],\n",
    "        y_np[test],\n",
    "        name=\"ROC fold {}\".format(i+1),\n",
    "        alpha=0.3,\n",
    "        lw=2,\n",
    "        ax=ax,\n",
    "    )\n",
    "    interp_tpr = np.interp(mean_fpr, viz.fpr, viz.tpr)\n",
    "    interp_tpr[0] = 0.0\n",
    "    tprs.append(interp_tpr)\n",
    "    aucs.append(viz.roc_auc)\n",
    "\n",
    "ax.plot([0, 1], [0, 1], linestyle=\"--\", lw=2, color=\"lightcoral\", label=\"Chance\", alpha=0.8)\n",
    "\n",
    "mean_tpr = np.mean(tprs, axis=0)\n",
    "mean_tpr[-1] = 1.0\n",
    "mean_auc = auc(mean_fpr, mean_tpr)\n",
    "std_auc = np.std(aucs)\n",
    "ax.plot(\n",
    "    mean_fpr,\n",
    "    mean_tpr,\n",
    "    color=\"teal\",\n",
    "    label=r\"Mean ROC (AUC = %0.2f $\\pm$ %0.2f)\" % (mean_auc, std_auc),\n",
    "    lw=4,\n",
    "    alpha=0.8,\n",
    ")\n",
    "\n",
    "std_tpr = np.std(tprs, axis=0)\n",
    "tprs_upper = np.minimum(mean_tpr + std_tpr, 1)\n",
    "tprs_lower = np.maximum(mean_tpr - std_tpr, 0)\n",
    "ax.fill_between(\n",
    "    mean_fpr,\n",
    "    tprs_lower,\n",
    "    tprs_upper,\n",
    "    color=\"grey\",\n",
    "    alpha=0.2,\n",
    "    label=r\"$\\pm$ 1 std. dev.\",\n",
    ")\n",
    "\n",
    "ax.set(\n",
    "    xlim=[-0.05, 1.05],\n",
    "    ylim=[-0.05, 1.05],\n",
    "    title=\"Receiver operating characteristic\",\n",
    "\n",
    ")\n",
    "ax.legend(loc=\"lower right\")\n",
    "plt.show()\n",
    "\n",
    "tprs_export = pd.DataFrame(tprs).transpose()\n",
    "tprs_export.columns = [\"kf_1\", \"kf_2\", \"kf_3\", \"kf_4\", \"kf_5\"]\n",
    "tprs_export\n",
    "\n",
    "roc_curves = pd.concat(\n",
    "    [\n",
    "        tprs_export, \n",
    "        pd.Series(mean_fpr, name=\"mean_fpr\"),\n",
    "        pd.Series(mean_tpr, name=\"mean_tpr\"), \n",
    "        pd.Series(std_tpr, name=\"std_tpr\"), \n",
    "        pd.Series(mean_tpr, name=\"tprs_upper\"),\n",
    "        pd.Series(mean_tpr, name=\"tprs_lower\")\n",
    "    ], \n",
    "    axis=1\n",
    ")\n",
    "\n",
    "aucs_export = pd.DataFrame(aucs).transpose()\n",
    "aucs_export.columns = [\"kf_1\", \"kf_2\", \"kf_3\", \"kf_4\", \"kf_5\"]\n",
    "aucs_export\n",
    "\n",
    "auc_values = pd.concat(\n",
    "    [\n",
    "        aucs_export,\n",
    "        pd.Series(mean_auc, name=\"mean_auc\"),\n",
    "        pd.Series(std_auc, name=\"std_auc\")\n",
    "    ],\n",
    "    axis=1\n",
    ")"
   ]
  },
  {
   "cell_type": "code",
   "execution_count": 10,
   "metadata": {},
   "outputs": [
    {
     "data": {
      "text/plain": [
       "mean_pPcons124    0.150942\n",
       "mean_pcons27      0.132384\n",
       "length            0.117793\n",
       "mean_gc           0.116668\n",
       "mean_remap        0.114404\n",
       "bestTSS           0.112932\n",
       "bestTSS_inside    0.102770\n",
       "cov_tfbs          0.088953\n",
       "cov_pol2          0.063152\n",
       "dtype: float64"
      ]
     },
     "execution_count": 10,
     "metadata": {},
     "output_type": "execute_result"
    }
   ],
   "source": [
    "ft_imp = pd.Series(rf_best.feature_importances_, index=X.columns).sort_values(ascending=False)\n",
    "ft_imp"
   ]
  },
  {
   "cell_type": "code",
   "execution_count": 11,
   "metadata": {},
   "outputs": [],
   "source": [
    "# !pip install seaborn\n",
    "import seaborn as sns"
   ]
  },
  {
   "cell_type": "code",
   "execution_count": 16,
   "metadata": {},
   "outputs": [],
   "source": [
    "features_7500_each = pd.concat([features_clean[features_clean['lncRNA'] == True].sample(n=500), features_clean[features_clean['lncRNA'] == False].sample(n=500)], axis=0)"
   ]
  },
  {
   "cell_type": "code",
   "execution_count": 13,
   "metadata": {},
   "outputs": [
    {
     "data": {
      "text/plain": [
       "65978     6.700731\n",
       "58510     6.175867\n",
       "56771     5.690359\n",
       "158271    4.025352\n",
       "118939    6.672033\n",
       "            ...   \n",
       "168745    6.860664\n",
       "202815    5.631212\n",
       "151278    6.177944\n",
       "231847    6.047372\n",
       "214335    4.890349\n",
       "Name: length, Length: 15000, dtype: float64"
      ]
     },
     "execution_count": 13,
     "metadata": {},
     "output_type": "execute_result"
    }
   ],
   "source": [
    "np.log(features_7500_each['length'])"
   ]
  },
  {
   "cell_type": "code",
   "execution_count": 60,
   "metadata": {},
   "outputs": [
    {
     "data": {
      "text/plain": [
       "<seaborn.axisgrid.JointGrid at 0x7fefd5ba27d0>"
      ]
     },
     "execution_count": 60,
     "metadata": {},
     "output_type": "execute_result"
    },
    {
     "data": {
      "image/png": "[encoded data removed]",
      "text/plain": [
       "<Figure size 432x432 with 3 Axes>"
      ]
     },
     "metadata": {
      "needs_background": "light"
     },
     "output_type": "display_data"
    }
   ],
   "source": [
    "sns.jointplot(x='mean_remap', y='mean_pPcons124', kind='kde', hue='lncRNA', xlim=(-200,900), data=features_7500_each, palette='viridis')"
   ]
  },
  {
   "cell_type": "code",
   "execution_count": 58,
   "metadata": {},
   "outputs": [
    {
     "data": {
      "text/plain": [
       "<seaborn.axisgrid.JointGrid at 0x7fefd61e4790>"
      ]
     },
     "execution_count": 58,
     "metadata": {},
     "output_type": "execute_result"
    },
    {
     "data": {
      "image/png": "[encoded data removed]",
      "text/plain": [
       "<Figure size 432x432 with 3 Axes>"
      ]
     },
     "metadata": {
      "needs_background": "light"
     },
     "output_type": "display_data"
    }
   ],
   "source": [
    "sns.jointplot(x='mean_remap', y='mean_pPcons124', kind='kde', xlim=(-200,900), data=features_7500_each, hue='lncRNA', fill=True, joint_kws={'alpha': 0.7}, palette='viridis')"
   ]
  },
  {
   "cell_type": "code",
   "execution_count": 14,
   "metadata": {},
   "outputs": [],
   "source": [
    "# !pip install plotly\n",
    "import plotly.express as px\n",
    "import plotly.graph_objects as go"
   ]
  },
  {
   "cell_type": "code",
   "execution_count": 124,
   "metadata": {},
   "outputs": [
    {
     "data": {
      "application/vnd.plotly.v1+json": {
       "config": {
        "plotlyServerURL": "https://plot.ly"
       },
       "data": [
        {
         "customdata": [
          [
           "FBtr0308769.1"
          ],
          [
           "FBtr0344328.1"
          ],
          [
           "FBtr0344903.2"
          ],
          [
           "FBtr0340530.3"
          ],
          [
           "FBtr0347539.1"
          ],
          [
           "FBtr0073628"
          ],
          [
           "FBtr0343744"
          ],
          [
           "FBtr0111046.1"
          ],
          [
           "FBtr0334107.1"
          ],
          [
           "FBtr0309038.3"
          ],
          [
           "FBtr0345221.1"
          ],
          [
           "FBtr0334789.1"
          ],
          [
           "FBtr0445673.1"
          ],
          [
           "FBtr0336894.5"
          ],
          [
           "FBtr0309284.2"
          ],
          [
           "FBtr0347128.1"
          ],
          [
           "FBtr0347165"
          ],
          [
           "FBtr0342875.1"
          ],
          [
           "FBtr0340723"
          ],
          [
           "FBtr0340701"
          ],
          [
           "FBtr0344761"
          ],
          [
           "FBtr0342849.1"
          ],
          [
           "FBtr0344484"
          ],
          [
           "FBtr0342862.1"
          ],
          [
           "FBtr0308761"
          ],
          [
           "FBtr0347204"
          ],
          [
           "FBtr0333481.1"
          ],
          [
           "FBtr0344571"
          ],
          [
           "FBtr0333457"
          ],
          [
           "FBtr0339798.2"
          ],
          [
           "FBtr0309199"
          ],
          [
           "FBtr0347042.1"
          ],
          [
           "FBtr0334932"
          ],
          [
           "FBtr0342975"
          ],
          [
           "FBtr0344035.2"
          ],
          [
           "FBtr0345759"
          ],
          [
           "FBtr0303008"
          ],
          [
           "FBtr0346020"
          ],
          [
           "FBtr0344563"
          ],
          [
           "FBtr0433532"
          ],
          [
           "FBtr0346287.1"
          ],
          [
           "FBtr0307113.2"
          ],
          [
           "FBtr0083362.2"
          ],
          [
           "FBtr0308941.2"
          ],
          [
           "FBtr0344829"
          ],
          [
           "FBtr0452182"
          ],
          [
           "FBtr0345484.3"
          ],
          [
           "FBtr0346943"
          ],
          [
           "FBtr0346206"
          ],
          [
           "FBtr0347244"
          ],
          [
           "FBtr0339587"
          ],
          [
           "FBtr0340566.1"
          ],
          [
           "FBtr0347119.4"
          ],
          [
           "FBtr0340584"
          ],
          [
           "FBtr0345310.1"
          ],
          [
           "FBtr0336933.1"
          ],
          [
           "FBtr0344144.1"
          ],
          [
           "FBtr0343901.1"
          ],
          [
           "FBtr0308755.2"
          ],
          [
           "FBtr0347469.3"
          ],
          [
           "FBtr0345082.6"
          ],
          [
           "FBtr0342582"
          ],
          [
           "FBtr0342678"
          ],
          [
           "FBtr0475066.1"
          ],
          [
           "FBtr0344580"
          ],
          [
           "FBtr0347488.3"
          ],
          [
           "FBtr0346352.1"
          ],
          [
           "FBtr0345234.1"
          ],
          [
           "FBtr0347022"
          ],
          [
           "FBtr0475040.4"
          ],
          [
           "FBtr0346556.1"
          ],
          [
           "FBtr0343445"
          ],
          [
           "FBtr0346051"
          ],
          [
           "FBtr0347093.1"
          ],
          [
           "FBtr0343194"
          ],
          [
           "FBtr0347112.1"
          ],
          [
           "FBtr0306320.1"
          ],
          [
           "FBtr0472678.1"
          ],
          [
           "FBtr0344073.4"
          ],
          [
           "FBtr0345125.2"
          ],
          [
           "FBtr0346054"
          ],
          [
           "FBtr0333905.1"
          ],
          [
           "FBtr0332780.4"
          ],
          [
           "FBtr0345569.1"
          ],
          [
           "FBtr0309806.1"
          ],
          [
           "FBtr0346209"
          ],
          [
           "FBtr0342996"
          ],
          [
           "FBtr0479733.1"
          ],
          [
           "FBtr0336931"
          ],
          [
           "FBtr0343709.1"
          ],
          [
           "FBtr0472921.4"
          ],
          [
           "FBtr0340639"
          ],
          [
           "FBtr0306838"
          ],
          [
           "FBtr0344588.1"
          ],
          [
           "FBtr0347177"
          ],
          [
           "FBtr0308775.2"
          ],
          [
           "FBtr0344946"
          ],
          [
           "FBtr0479959"
          ],
          [
           "FBtr0346217.1"
          ],
          [
           "FBtr0347544.1"
          ],
          [
           "FBtr0345394"
          ],
          [
           "FBtr0306340.6"
          ],
          [
           "FBtr0303212"
          ],
          [
           "FBtr0479732"
          ],
          [
           "FBtr0339929.1"
          ],
          [
           "FBtr0347407"
          ],
          [
           "FBtr0308927.2"
          ],
          [
           "FBtr0331291"
          ],
          [
           "FBtr0347019.2"
          ],
          [
           "FBtr0310112"
          ],
          [
           "FBtr0309983.2"
          ],
          [
           "FBtr0343098.1"
          ],
          [
           "FBtr0344313.2"
          ],
          [
           "FBtr0342835"
          ],
          [
           "FBtr0347353"
          ],
          [
           "FBtr0309304"
          ],
          [
           "FBtr0343868"
          ],
          [
           "FBtr0303450.2"
          ],
          [
           "FBtr0070635.2"
          ],
          [
           "FBtr0342697.1"
          ],
          [
           "FBtr0346490"
          ],
          [
           "FBtr0347237.2"
          ],
          [
           "FBtr0346201.1"
          ],
          [
           "FBtr0344884.1"
          ],
          [
           "FBtr0347245.1"
          ],
          [
           "FBtr0339231.2"
          ],
          [
           "FBtr0345531"
          ],
          [
           "FBtr0343654"
          ],
          [
           "FBtr0346226.1"
          ],
          [
           "FBtr0332753.2"
          ],
          [
           "FBtr0332567"
          ],
          [
           "FBtr0343230"
          ],
          [
           "FBtr0342908"
          ],
          [
           "FBtr0344393.1"
          ],
          [
           "FBtr0345767"
          ],
          [
           "FBtr0343797.3"
          ],
          [
           "FBtr0114267.3"
          ],
          [
           "FBtr0309985.2"
          ],
          [
           "FBtr0345769.2"
          ],
          [
           "FBtr0340641.2"
          ],
          [
           "FBtr0336892.6"
          ],
          [
           "FBtr0346439.1"
          ],
          [
           "FBtr0334793"
          ],
          [
           "FBtr0347339"
          ],
          [
           "FBtr0306836"
          ],
          [
           "FBtr0452164"
          ],
          [
           "FBtr0346228.1"
          ],
          [
           "FBtr0345867.1"
          ],
          [
           "FBtr0339927"
          ],
          [
           "FBtr0336890"
          ],
          [
           "FBtr0343746.1"
          ],
          [
           "FBtr0336893.2"
          ],
          [
           "FBtr0309283.1"
          ],
          [
           "FBtr0330688.2"
          ],
          [
           "FBtr0452191"
          ],
          [
           "FBtr0332279.4"
          ],
          [
           "FBtr0344645.1"
          ],
          [
           "FBtr0342699"
          ],
          [
           "FBtr0342912.1"
          ],
          [
           "FBtr0345159.2"
          ],
          [
           "FBtr0344590.1"
          ],
          [
           "FBtr0339810"
          ],
          [
           "FBtr0340648.1"
          ],
          [
           "FBtr0306339.4"
          ],
          [
           "FBtr0336742.5"
          ],
          [
           "FBtr0345003"
          ],
          [
           "FBtr0309993.3"
          ],
          [
           "FBtr0306831.4"
          ],
          [
           "FBtr0472916.2"
          ],
          [
           "FBtr0343985"
          ],
          [
           "FBtr0308923"
          ],
          [
           "FBtr0344393"
          ],
          [
           "FBtr0306733.2"
          ],
          [
           "FBtr0415457.3"
          ],
          [
           "FBtr0308766.3"
          ],
          [
           "FBtr0309513.1"
          ],
          [
           "FBtr0346994"
          ],
          [
           "FBtr0333775"
          ],
          [
           "FBtr0330689.2"
          ],
          [
           "FBtr0345243.1"
          ],
          [
           "FBtr0346988"
          ],
          [
           "FBtr0336889.4"
          ],
          [
           "FBtr0334864.1"
          ],
          [
           "FBtr0345479"
          ],
          [
           "FBtr0309068"
          ],
          [
           "FBtr0342912"
          ],
          [
           "FBtr0344588"
          ],
          [
           "FBtr0308778.2"
          ],
          [
           "FBtr0347237.1"
          ],
          [
           "FBtr0344599.2"
          ],
          [
           "FBtr0340504.1"
          ],
          [
           "FBtr0343679.2"
          ],
          [
           "FBtr0479949.2"
          ],
          [
           "FBtr0344936.1"
          ],
          [
           "FBtr0303300.1"
          ],
          [
           "FBtr0347331.1"
          ],
          [
           "FBtr0306840.1"
          ],
          [
           "FBtr0343889"
          ],
          [
           "FBtr0340685"
          ],
          [
           "FBtr0347476.2"
          ],
          [
           "FBtr0340607.1"
          ],
          [
           "FBtr0344413.1"
          ],
          [
           "FBtr0342867.1"
          ],
          [
           "FBtr0347511.2"
          ],
          [
           "FBtr0346180.1"
          ],
          [
           "FBtr0309291.1"
          ],
          [
           "FBtr0340285.1"
          ],
          [
           "FBtr0329830.2"
          ],
          [
           "FBtr0346489"
          ],
          [
           "FBtr0343176.1"
          ],
          [
           "FBtr0479697.1"
          ],
          [
           "FBtr0340536"
          ],
          [
           "FBtr0346224.1"
          ],
          [
           "FBtr0345082"
          ],
          [
           "FBtr0347407.1"
          ],
          [
           "FBtr0345240.2"
          ],
          [
           "FBtr0321273.1"
          ],
          [
           "FBtr0347226.5"
          ],
          [
           "FBtr0343903.1"
          ],
          [
           "FBtr0347313.1"
          ],
          [
           "FBtr0347253"
          ],
          [
           "FBtr0345401"
          ],
          [
           "FBtr0339404.1"
          ],
          [
           "FBtr0339083.1"
          ],
          [
           "FBtr0334764"
          ],
          [
           "FBtr0475044.2"
          ],
          [
           "FBtr0345055.2"
          ],
          [
           "FBtr0335017.2"
          ],
          [
           "FBtr0346930"
          ],
          [
           "FBtr0347426"
          ],
          [
           "FBtr0309186"
          ],
          [
           "FBtr0344581.3"
          ],
          [
           "FBtr0332280.2"
          ],
          [
           "FBtr0347177.1"
          ],
          [
           "FBtr0347052"
          ],
          [
           "FBtr0332601"
          ],
          [
           "FBtr0344059.1"
          ],
          [
           "FBtr0344307.2"
          ],
          [
           "FBtr0345123.3"
          ],
          [
           "FBtr0347130"
          ],
          [
           "FBtr0346602"
          ],
          [
           "FBtr0345421.1"
          ],
          [
           "FBtr0345958.1"
          ],
          [
           "FBtr0308358"
          ],
          [
           "FBtr0343729"
          ],
          [
           "FBtr0308925"
          ],
          [
           "FBtr0445667"
          ],
          [
           "FBtr0346317.1"
          ],
          [
           "FBtr0301248.1"
          ],
          [
           "FBtr0332019"
          ],
          [
           "FBtr0343153.2"
          ],
          [
           "FBtr0343743"
          ],
          [
           "FBtr0475043.1"
          ],
          [
           "FBtr0344060.1"
          ],
          [
           "FBtr0309994"
          ],
          [
           "FBtr0342634.2"
          ],
          [
           "FBtr0309314"
          ],
          [
           "FBtr0340721"
          ],
          [
           "FBtr0346473.1"
          ],
          [
           "FBtr0334819.3"
          ],
          [
           "FBtr0343259.1"
          ],
          [
           "FBtr0345475.1"
          ],
          [
           "FBtr0346978"
          ],
          [
           "FBtr0337068.1"
          ],
          [
           "FBtr0345885.1"
          ],
          [
           "FBtr0306338.7"
          ],
          [
           "FBtr0345125.3"
          ],
          [
           "FBtr0329833.1"
          ],
          [
           "FBtr0475139.1"
          ],
          [
           "FBtr0308067"
          ],
          [
           "FBtr0342610"
          ],
          [
           "FBtr0479976"
          ],
          [
           "FBtr0346081.1"
          ],
          [
           "FBtr0345199.1"
          ],
          [
           "FBtr0347308.2"
          ],
          [
           "FBtr0344963.3"
          ],
          [
           "FBtr0347254.1"
          ],
          [
           "FBtr0344727.1"
          ],
          [
           "FBtr0343760"
          ],
          [
           "FBtr0306319.1"
          ],
          [
           "FBtr0345855.1"
          ],
          [
           "FBtr0345913.1"
          ],
          [
           "FBtr0345913"
          ],
          [
           "FBtr0300230.8"
          ],
          [
           "FBtr0347312.1"
          ],
          [
           "FBtr0344246.1"
          ],
          [
           "FBtr0345150.2"
          ],
          [
           "FBtr0340075.1"
          ],
          [
           "FBtr0344645"
          ],
          [
           "FBtr0335192.1"
          ],
          [
           "FBtr0083342.1"
          ],
          [
           "FBtr0346045"
          ],
          [
           "FBtr0347507.2"
          ],
          [
           "FBtr0307116.3"
          ],
          [
           "FBtr0346217"
          ],
          [
           "FBtr0342827"
          ],
          [
           "FBtr0343670.1"
          ],
          [
           "FBtr0309897.7"
          ],
          [
           "FBtr0345780.2"
          ],
          [
           "FBtr0309981.1"
          ],
          [
           "FBtr0347234.1"
          ],
          [
           "FBtr0347483.1"
          ],
          [
           "FBtr0332596.3"
          ],
          [
           "FBtr0472956.1"
          ],
          [
           "FBtr0333558.2"
          ],
          [
           "FBtr0344325.1"
          ],
          [
           "FBtr0339620"
          ],
          [
           "FBtr0472592"
          ],
          [
           "FBtr0346826"
          ],
          [
           "FBtr0340264.1"
          ],
          [
           "FBtr0347050"
          ],
          [
           "FBtr0343732"
          ],
          [
           "FBtr0309061.4"
          ],
          [
           "FBtr0345742.1"
          ],
          [
           "FBtr0345454.1"
          ],
          [
           "FBtr0344074.1"
          ],
          [
           "FBtr0415459.3"
          ],
          [
           "FBtr0343914.2"
          ],
          [
           "FBtr0333868"
          ],
          [
           "FBtr0333763.2"
          ],
          [
           "FBtr0347071.1"
          ],
          [
           "FBtr0346291"
          ],
          [
           "FBtr0339323.1"
          ],
          [
           "FBtr0472955"
          ],
          [
           "FBtr0345054.2"
          ],
          [
           "FBtr0340174.1"
          ],
          [
           "FBtr0452187"
          ],
          [
           "FBtr0347223"
          ],
          [
           "FBtr0332550"
          ],
          [
           "FBtr0333615"
          ],
          [
           "FBtr0345538.1"
          ],
          [
           "FBtr0343035"
          ],
          [
           "FBtr0345223"
          ],
          [
           "FBtr0346556"
          ],
          [
           "FBtr0346980"
          ],
          [
           "FBtr0334680.2"
          ],
          [
           "FBtr0344923"
          ],
          [
           "FBtr0308922"
          ],
          [
           "FBtr0474096"
          ],
          [
           "FBtr0479710.1"
          ],
          [
           "FBtr0344144"
          ],
          [
           "FBtr0321273.2"
          ],
          [
           "FBtr0340694"
          ],
          [
           "FBtr0342585.2"
          ],
          [
           "FBtr0091636"
          ],
          [
           "FBtr0344614"
          ],
          [
           "FBtr0345698.2"
          ],
          [
           "FBtr0303426.3"
          ],
          [
           "FBtr0346353"
          ],
          [
           "FBtr0346783.2"
          ],
          [
           "FBtr0334945.1"
          ],
          [
           "FBtr0339470"
          ],
          [
           "FBtr0303211.2"
          ],
          [
           "FBtr0344875.1"
          ],
          [
           "FBtr0342852"
          ],
          [
           "FBtr0304032"
          ],
          [
           "FBtr0345223.2"
          ],
          [
           "FBtr0340181"
          ],
          [
           "FBtr0343390.1"
          ],
          [
           "FBtr0344047.2"
          ],
          [
           "FBtr0345548"
          ],
          [
           "FBtr0346840.1"
          ],
          [
           "FBtr0346233.1"
          ],
          [
           "FBtr0079906.3"
          ],
          [
           "FBtr0306291"
          ],
          [
           "FBtr0309200.2"
          ],
          [
           "FBtr0347328.1"
          ],
          [
           "FBtr0342749.1"
          ],
          [
           "FBtr0343905"
          ],
          [
           "FBtr0344902.2"
          ],
          [
           "FBtr0334816.1"
          ],
          [
           "FBtr0339729"
          ],
          [
           "FBtr0344928.1"
          ],
          [
           "FBtr0340110.1"
          ],
          [
           "FBtr0343516.1"
          ],
          [
           "FBtr0347235"
          ],
          [
           "FBtr0308940.3"
          ],
          [
           "FBtr0346235.1"
          ],
          [
           "FBtr0334665"
          ],
          [
           "FBtr0344927.2"
          ],
          [
           "FBtr0343258.1"
          ],
          [
           "FBtr0345890"
          ],
          [
           "FBtr0345623.2"
          ],
          [
           "FBtr0345054.1"
          ],
          [
           "FBtr0346314"
          ],
          [
           "FBtr0342713.2"
          ],
          [
           "FBtr0472592.2"
          ],
          [
           "FBtr0343219"
          ],
          [
           "FBtr0303919"
          ],
          [
           "FBtr0305611.1"
          ],
          [
           "FBtr0309807.1"
          ],
          [
           "FBtr0340603.1"
          ],
          [
           "FBtr0308846.1"
          ],
          [
           "FBtr0333905.2"
          ],
          [
           "FBtr0344313"
          ],
          [
           "FBtr0344641"
          ],
          [
           "FBtr0332239.1"
          ],
          [
           "FBtr0347044.1"
          ],
          [
           "FBtr0345310"
          ],
          [
           "FBtr0306829.1"
          ],
          [
           "FBtr0339730.1"
          ],
          [
           "FBtr0309187.1"
          ],
          [
           "FBtr0334793.1"
          ],
          [
           "FBtr0346573"
          ],
          [
           "FBtr0091636.1"
          ],
          [
           "FBtr0309818.1"
          ],
          [
           "FBtr0309788.1"
          ],
          [
           "FBtr0088361.1"
          ],
          [
           "FBtr0347520"
          ],
          [
           "FBtr0347529"
          ],
          [
           "FBtr0339989"
          ],
          [
           "FBtr0342647"
          ],
          [
           "FBtr0343500"
          ],
          [
           "FBtr0335496"
          ],
          [
           "FBtr0344562.3"
          ],
          [
           "FBtr0309820"
          ],
          [
           "FBtr0309992"
          ],
          [
           "FBtr0332028.3"
          ],
          [
           "FBtr0300232.5"
          ],
          [
           "FBtr0321299.1"
          ],
          [
           "FBtr0347015.1"
          ],
          [
           "FBtr0346992"
          ],
          [
           "FBtr0347120.1"
          ],
          [
           "FBtr0343005"
          ],
          [
           "FBtr0339989.1"
          ],
          [
           "FBtr0346577"
          ],
          [
           "FBtr0346493"
          ],
          [
           "FBtr0334704"
          ],
          [
           "FBtr0473380"
          ],
          [
           "FBtr0340649"
          ],
          [
           "FBtr0343702"
          ],
          [
           "FBtr0347241.1"
          ],
          [
           "FBtr0344829.2"
          ],
          [
           "FBtr0344931"
          ],
          [
           "FBtr0473388.1"
          ],
          [
           "FBtr0340688"
          ],
          [
           "FBtr0342651.1"
          ],
          [
           "FBtr0343925.4"
          ],
          [
           "FBtr0343975.1"
          ],
          [
           "FBtr0339186.1"
          ],
          [
           "FBtr0344952.2"
          ],
          [
           "FBtr0345247.1"
          ],
          [
           "FBtr0347101"
          ],
          [
           "FBtr0332284.1"
          ],
          [
           "FBtr0335191.3"
          ],
          [
           "FBtr0340723.1"
          ],
          [
           "FBtr0346927"
          ],
          [
           "FBtr0415458.2"
          ],
          [
           "FBtr0472916"
          ],
          [
           "FBtr0332524.2"
          ],
          [
           "FBtr0343843"
          ],
          [
           "FBtr0346178"
          ],
          [
           "FBtr0340688.1"
          ],
          [
           "FBtr0340284.1"
          ],
          [
           "FBtr0347578.2"
          ],
          [
           "FBtr0344812.1"
          ],
          [
           "FBtr0347084.1"
          ],
          [
           "FBtr0347332"
          ],
          [
           "FBtr0343866"
          ],
          [
           "FBtr0346069"
          ],
          [
           "FBtr0340186.1"
          ],
          [
           "FBtr0306918.1"
          ],
          [
           "FBtr0344476.1"
          ],
          [
           "FBtr0346917"
          ],
          [
           "FBtr0300231.12"
          ],
          [
           "FBtr0300233.1"
          ],
          [
           "FBtr0347495.1"
          ],
          [
           "FBtr0334987"
          ],
          [
           "FBtr0308846.3"
          ],
          [
           "FBtr0345833"
          ],
          [
           "FBtr0333763.1"
          ],
          [
           "FBtr0345770"
          ],
          [
           "FBtr0081385"
          ],
          [
           "FBtr0306299"
          ],
          [
           "FBtr0475066"
          ],
          [
           "FBtr0345198"
          ],
          [
           "FBtr0342904"
          ],
          [
           "FBtr0344954.1"
          ],
          [
           "FBtr0475141.1"
          ],
          [
           "FBtr0346363.1"
          ],
          [
           "FBtr0342754"
          ],
          [
           "FBtr0339404"
          ],
          [
           "FBtr0305615.1"
          ],
          [
           "FBtr0340681"
          ],
          [
           "FBtr0346205.1"
          ],
          [
           "FBtr0346260"
          ],
          [
           "FBtr0345565.1"
          ],
          [
           "FBtr0345642.2"
          ],
          [
           "FBtr0344109.1"
          ],
          [
           "FBtr0347335"
          ],
          [
           "FBtr0346391"
          ],
          [
           "FBtr0479701.1"
          ],
          [
           "FBtr0339726"
          ],
          [
           "FBtr0332518.1"
          ],
          [
           "FBtr0339604.2"
          ],
          [
           "FBtr0343670"
          ],
          [
           "FBtr0306710.2"
          ],
          [
           "FBtr0336891.1"
          ],
          [
           "FBtr0336887.7"
          ],
          [
           "FBtr0345960"
          ]
         ],
         "hovertemplate": "lncRNA=True<br>mean_remap=%{x}<br>mean_pPcons124=%{y}<br>bestTSS=%{z}<br>size=%{marker.size}<br>name=%{customdata[0]}<extra></extra>",
         "legendgroup": "True",
         "marker": {
          "color": "#35B779",
          "opacity": 0.6,
          "size": [
           6.827629234502852,
           5.902633333401366,
           6.35088571671474,
           4.990432586778736,
           5.1298987149230735,
           6.9167150203536085,
           6.208590026096629,
           6.466144724237619,
           5.8664680569332965,
           4.820281565605037,
           7.578145472419466,
           6.206575926724928,
           5.726847747587197,
           3.6375861597263857,
           6.680854678790215,
           6.12029741895095,
           6.679599185844383,
           6.401917196727186,
           6.327936783729195,
           5.966146739123692,
           6.1070228877422545,
           5.003946305945459,
           6.771935555839602,
           5.765191102784844,
           6.437751649736401,
           6.186208623900494,
           7.336285660021297,
           6.925595197110468,
           7.079184394609668,
           6.393590753950631,
           7.987184748233473,
           6.059123195581797,
           6.049733455231958,
           9.301825062098361,
           5.030437921392435,
           6.111467339502679,
           9.447702360527948,
           7.500529485395295,
           5.940171252720432,
           5.68697535633982,
           6.826545223556594,
           3.4011973816621555,
           6.851184927493743,
           4.290459441148391,
           7.441906728051625,
           6.595780513961311,
           5.831882477283517,
           6.439350371100098,
           7.612336837167746,
           7.54274354536855,
           6.398594934535208,
           5.998936561946683,
           7.011213987350367,
           6.481577129276431,
           5.2574953720277815,
           4.204692619390966,
           6.699500340161678,
           4.795790545596741,
           6.186208623900494,
           3.4339872044851463,
           5.111987788356544,
           6.393590753950631,
           6.55250788703459,
           6.405228458030842,
           6.2878585601617845,
           6.1779441140506,
           5.945420608606575,
           6.461468176353717,
           7.065613363597717,
           4.174387269895637,
           6.253828811575473,
           6.90875477931522,
           6.082218910376446,
           6.3578422665081,
           6.68586094706836,
           6.470799503782602,
           3.8501476017100584,
           6.974478911025045,
           6.0014148779611505,
           4.30406509320417,
           6.651571873589727,
           3.4011973816621555,
           4.672828834461906,
           7.02108396428914,
           5.796057750765372,
           8.183676582620658,
           8.22389538017882,
           8.843903650835497,
           7.13966033596492,
           6.579251212010101,
           5.8916442118257715,
           6.091309882077698,
           6.272877006546167,
           6.651571873589727,
           6.88653164253051,
           5.793013608384144,
           7.309212365692763,
           6.418364935936212,
           6.416732282512326,
           7.094234845924755,
           6.634633357861686,
           4.700480365792417,
           7.856319571406588,
           10.272980000185475,
           6.327936783729195,
           6.037870919922137,
           4.804021044733257,
           6.677083461247136,
           6.782192056006791,
           7.545389749611823,
           6.364750756851911,
           5.10594547390058,
           6.71174039505618,
           6.111467339502679,
           6.410174881966167,
           6.693323668269949,
           7.091742115095153,
           6.926577033222725,
           8.024534871605695,
           6.2166061010848646,
           6.386879319362645,
           6.656726524178391,
           6.436150368369428,
           5.10594547390058,
           4.2626798770413155,
           4.564348191467836,
           6.144185634125646,
           6.668228248417403,
           6.329720905522696,
           5.37989735354046,
           6.727431724850855,
           6.580639137284949,
           6.897704943128636,
           6.576469569048224,
           6.687108607866515,
           6.4692503167957724,
           5.659482215759621,
           5.407171771460119,
           6.710523109452428,
           5.918893854273146,
           7.149916836132109,
           5.407171771460119,
           6.135564891081739,
           6.799055862058796,
           5.971261839790462,
           6.467698726104354,
           8.146419323098003,
           6.421622267806518,
           6.331501849893691,
           9.775597361230211,
           6.892641641172089,
           6.135564891081739,
           7.610357618312838,
           7.033506484287697,
           6.385194398997726,
           6.159095388491933,
           5.680172609017068,
           5.877735781779639,
           6.569481420414296,
           8.950143756459262,
           5.043425116919247,
           6.154858094016418,
           5.971261839790462,
           3.6375861597263857,
           5.438079308923196,
           6.633318433280377,
           6.212606095751519,
           7.140453043101158,
           6.251903883165888,
           6.927557906278317,
           7.354362330421477,
           6.576469569048224,
           7.4127640174265625,
           6.816735880594968,
           6.920671504248683,
           6.18826412308259,
           6.09807428216624,
           6.729824070489475,
           6.161207321695077,
           6.930494765951626,
           5.429345628954441,
           3.6375861597263857,
           6.80128303447162,
           6.22455842927536,
           6.369900982828227,
           6.569481420414296,
           6.651571873589727,
           8.109224953089955,
           5.749392985908253,
           6.144185634125646,
           6.2166061010848646,
           5.337538079701318,
           9.02653771890043,
           6.62273632394984,
           6.434546518787453,
           5.707110264748875,
           4.997212273764115,
           8.029758520440822,
           7.615791072035833,
           5.872117789475416,
           6.364750756851911,
           6.647688373563329,
           5.8522024797744745,
           7.117205503164344,
           6.052089168924417,
           7.9420068084898565,
           6.398594934535208,
           5.723585101952381,
           5.968707559985366,
           5.214935757608986,
           4.418840607796598,
           5.662960480135946,
           6.597145701886651,
           8.09346227450118,
           6.037870919922137,
           4.867534450455582,
           6.373319789577012,
           6.625392368007956,
           5.602118820879701,
           6.670766320845874,
           6.455198563340122,
           5.958424693029782,
           6.338594078203183,
           6.202535517187923,
           7.267525427828172,
           5.1298987149230735,
           5.081404364984463,
           6.104793232414985,
           6.352629396319567,
           6.3818160174060985,
           6.674561391814426,
           6.049733455231958,
           5.755742213586912,
           6.88653164253051,
           6.20455776256869,
           7.681099001536359,
           4.8283137373023015,
           5.278114659230517,
           5.627621113690637,
           9.953419921284338,
           6.317164686747284,
           6.331501849893691,
           6.135564891081739,
           8.449770515098804,
           6.733401891837359,
           9.086929027060949,
           5.996452088619021,
           6.1092475827643655,
           3.7376696182833684,
           6.591673732008658,
           6.870053411798126,
           6.833031732786201,
           5.484796933490655,
           5.616771097666572,
           7.118826249062078,
           6.688354713946762,
           7.786967002614872,
           6.761572768804055,
           5.44673737166631,
           6.453624998892692,
           6.329720905522696,
           5.996452088619021,
           6.175867270105761,
           6.336825731146441,
           6.816735880594968,
           7.213031659834869,
           5.707110264748875,
           6.338594078203183,
           6.697034247666484,
           6.570882962339584,
           6.244166900663736,
           7.993619994827744,
           6.244166900663736,
           6.478509642208569,
           5.0369526024136295,
           7.3987862754199485,
           6.156978985585555,
           8.500047032581268,
           7.2633296174768365,
           3.8501476017100584,
           6.507277712385012,
           5.808142489980444,
           5.808142489980444,
           4.2626798770413155,
           6.129050210060545,
           6.4425401664681985,
           6.272877006546167,
           6.396929655216146,
           7.280008252884188,
           5.58724865840025,
           5.814130531825066,
           5.631211781821365,
           5.937536205082426,
           6.089044875446846,
           6.416732282512326,
           6.736966958001855,
           4.787491742782046,
           3.1354942159291497,
           6.499787040655854,
           6.240275845170769,
           5.976350909297934,
           7.544861068658458,
           6.966024187106113,
           4.543294782270004,
           4.543294782270004,
           6.814542897259958,
           6.405228458030842,
           7.106606137727303,
           6.7357800142423265,
           6.436150368369428,
           6.208590026096629,
           6.570882962339584,
           7.38025578842646,
           6.4692503167957724,
           8.497398564088058,
           7.150701457592526,
           6.816735880594968,
           5.43372200355424,
           6.163314804034641,
           6.807934943699926,
           6.133398042996649,
           5.749392985908253,
           6.823286122355687,
           7.187657164114956,
           5.375278407684165,
           6.428105272684596,
           7.010311867307229,
           8.74369111054302,
           6.484635235635252,
           6.974478911025045,
           6.450470422144176,
           5.777652323222656,
           6.46302945692067,
           6.253828811575473,
           8.218247926685745,
           6.298949246855942,
           7.684783943522785,
           6.968850378341948,
           4.532599493153256,
           6.293419278846481,
           6.699500340161678,
           4.836281906951478,
           6.647688373563329,
           6.716594773520978,
           3.5553480614894135,
           6.212606095751519,
           6.142037405587356,
           7.0925737159746784,
           6.522092798170152,
           5.7745515455444085,
           4.941642422609304,
           6.208590026096629,
           6.7661917146603505,
           6.056784013228625,
           6.3473892096560105,
           7.2254814727822945,
           6.218600119691729,
           6.635946555686647,
           6.618738983517219,
           5.823045895483019,
           7.052721049232323,
           6.025865973825314,
           6.495265555937008,
           4.2626798770413155,
           6.1903154058531475,
           6.255750041753367,
           6.263398262591624,
           5.857933154483459,
           6.398594934535208,
           7.213768308118642,
           5.484796933490655,
           6.220590170099739,
           6.082218910376446,
           5.66988092298052,
           7.210079628170788,
           6.302618975744905,
           6.647688373563329,
           5.953243334287785,
           6.844815479208263,
           7.060476365999801,
           5.093750200806762,
           6.576469569048224,
           5.950642552587727,
           5.4116460518550396,
           5.883322388488279,
           7.549082710812286,
           5.298317366548036,
           6.212606095751519,
           7.676473646389156,
           5.0689042022202315,
           5.8944028342648505,
           6.1092475827643655,
           4.0943445622221,
           5.3706380281276624,
           7.022868086082641,
           6.448889394146858,
           5.537334267018537,
           6.244166900663736,
           7.170888478512505,
           5.0369526024136295,
           6.55250788703459,
           7.194436851100335,
           6.135564891081739,
           5.43372200355424,
           3.5553480614894135,
           7.097548850614793,
           5.303304908059076,
           4.990432586778736,
           6.318968113746434,
           6.683360945766275,
           6.230481447578482,
           5.4680601411351315,
           7.367077059881012,
           7.266128779556451,
           7.822845290279774,
           7.411556287811163,
           6.673297967767654,
           6.293419278846481,
           4.382026634673881,
           6.270988431858299,
           7.218176838403408,
           7.975564658495202,
           5.7745515455444085,
           5.707110264748875,
           6.230481447578482,
           6.0112671744041615,
           7.1631723908466425,
           5.908082938168931,
           6.148468295917647,
           5.934894195619588,
           6.338594078203183,
           6.54965074223381,
           7.074116816197362,
           7.160845906664299,
           6.280395838960195,
           6.661854740545311,
           6.2878585601617845,
           5.424950017481403,
           6.063785208687608,
           6.152732694704104,
           5.5909869805108565,
           5.831882477283517,
           5.8888779583328805,
           6.363028103540465,
           6.693323668269949,
           6.327936783729195,
           7.048386408721883,
           7.437206366871292,
           8.146709052203319,
           6.634633357861686,
           7.126087273299125,
           5.955837369464831,
           5.313205979041787,
           6.621405651764134,
           6.313548046277095,
           6.093569770045136,
           5.68697535633982,
           6.12029741895095,
           7.3031700512368,
           7.303843225277705,
           5.459585514144159,
           9.64639934516898,
           5.552959584921617,
           6.030685260261263,
           4.564348191467836,
           5.4116460518550396,
           4.859812404361672,
           6.111467339502679,
           2.833213344056216,
           6.259581464064923,
           5.204006687076795,
           7.849323818040561,
           7.182352111885263,
           7.450079569807499,
           6.405228458030842,
           6.040254711277414,
           6.016157159698354,
           5.537334267018537,
           5.777652323222656,
           5.707110264748875,
           6.633318433280377,
           7.496097345175956,
           5.755742213586912,
           6.1903154058531475,
           8.83927669058535,
           6.16541785423142,
           6.0844994130751715,
           6.583409222158765,
           5.736572297479192,
           6.4967749901858625,
           6.756932389247553,
           7.20414929203594,
           7.173958319756794,
           5.996452088619021,
           5.998936561946683,
           6.54965074223381,
           6.212606095751519,
           5.236441962829949,
           7.213031659834869,
           5.58724865840025
          ],
          "sizemode": "area",
          "sizeref": 0.029415292548090374,
          "symbol": "circle"
         },
         "mode": "markers",
         "name": "True",
         "scene": "scene",
         "showlegend": true,
         "type": "scatter3d",
         "x": [
          50.5983,
          178.369,
          14.096,
          252.197,
          265.077,
          7.92765,
          52.7746,
          28.1229,
          60.6714,
          56.1371,
          28.7302,
          17.7863,
          19.7818,
          14.2632,
          10.0347,
          296.457,
          35.2864,
          454.549,
          35.8857,
          29.7359,
          62.1136,
          2.0566,
          70.3425,
          309.777,
          59.76,
          108.255,
          33.1438,
          21.0342,
          6.11992,
          6.91472,
          92.6869,
          17.5958,
          152.84,
          86.0056,
          102.183,
          640.936,
          46.7093,
          56.7474,
          230.305,
          36.6508,
          16.9939,
          4,
          177.371,
          15.5479,
          130.858,
          8.64208,
          5.21114,
          30.9904,
          155.661,
          390.875,
          48.3378,
          20.6034,
          108.828,
          22.8101,
          26.0521,
          33.3582,
          39.069,
          45.6198,
          2.6478,
          415.194,
          39.3133,
          54.7007,
          46.9857,
          24.3785,
          162.318,
          7.68672,
          252.521,
          47.4141,
          640.435,
          7.29231,
          245.127,
          118.958,
          64.8288,
          125.747,
          116.634,
          177.407,
          1,
          584.637,
          27.6287,
          4.86486,
          364.191,
          23.4333,
          11.8598,
          132.764,
          19.1029,
          94.4921,
          39.7638,
          81.1752,
          11.8058,
          4.46604,
          2.03591,
          103.64,
          5.72453,
          209.317,
          7.77356,
          61.6128,
          127.062,
          107.033,
          3.52941,
          25.6453,
          30.2599,
          12.7455,
          14.9759,
          128.943,
          345.648,
          19.0048,
          46.5902,
          137.091,
          40.3288,
          16.3315,
          91.7005,
          2.40336,
          26.0805,
          103.341,
          20.1184,
          155.297,
          33.4883,
          6.13543,
          211.361,
          24.0319,
          77.2896,
          23.3874,
          5.75115,
          1,
          133.958,
          253.667,
          186.721,
          298.072,
          361.428,
          239.29,
          158.61,
          90.57,
          46.103,
          127.279,
          338.693,
          86.7426,
          134.077,
          14.2825,
          96.4714,
          58.3226,
          53.0716,
          6.18834,
          738.569,
          7.61984,
          315.286,
          9.56522,
          7.88498,
          88.0195,
          88.895,
          109.498,
          34.0721,
          735.219,
          95.1323,
          25.1792,
          12.8162,
          264.239,
          107.587,
          21.9804,
          78.4165,
          99.0461,
          64.2645,
          122.658,
          510.276,
          14.2632,
          5.33478,
          102.257,
          4.76553,
          25.5966,
          120.763,
          306.614,
          13.0446,
          127.279,
          49.6702,
          231.697,
          125.31,
          4.15606,
          172.782,
          5.67145,
          11.9451,
          353.673,
          171.899,
          14.2632,
          34.1513,
          116.628,
          76.5936,
          78.4165,
          209.317,
          47.869,
          107.035,
          483.702,
          41.004,
          728.293,
          120.805,
          6.57846,
          2.02869,
          618.073,
          13.9797,
          9.61871,
          33.6335,
          1.91753,
          14.6076,
          54.3567,
          76.2586,
          6.30167,
          60.6871,
          26.5771,
          63.5025,
          25.3922,
          181.724,
          181.804,
          209.145,
          55.8229,
          50.1637,
          25.9638,
          19.0048,
          226.892,
          82.8703,
          55.3382,
          226.863,
          7.20026,
          41.967,
          235.922,
          43.4929,
          2.89271,
          345.989,
          10.7988,
          27.1429,
          165.391,
          75.8415,
          5.31222,
          90.0391,
          4.61484,
          395.12,
          7.77356,
          30.0202,
          27.7121,
          186.872,
          5.13776,
          583.77,
          86.9777,
          482.875,
          276.815,
          5.98052,
          38.3908,
          102.337,
          43.9399,
          346.791,
          16.0956,
          808.452,
          11.8546,
          31.9294,
          9.25163,
          525.598,
          6.29818,
          17.2862,
          511.344,
          135.757,
          124.59,
          41.3664,
          72.7669,
          203.633,
          267.336,
          354.01,
          8.60885,
          3.56241,
          35.0303,
          7.47508,
          149.984,
          66.4272,
          3.02998,
          14.9942,
          331.647,
          2.62136,
          535.189,
          350.455,
          157.452,
          816.004,
          193.179,
          106.182,
          1,
          43.8657,
          36.4294,
          36.4294,
          28.5493,
          9.08501,
          21.5096,
          23.3642,
          10.3433,
          57.4388,
          61.794,
          23.5224,
          28.0126,
          73.1979,
          34.1678,
          3.52941,
          22.3215,
          35.1,
          2.04348,
          23.2958,
          85.5595,
          4.90863,
          256.347,
          27.481,
          7.84043,
          405.287,
          167.021,
          1.26335,
          667.318,
          525.495,
          85.601,
          22.3924,
          291.188,
          98.6258,
          84.8248,
          16.1629,
          112.948,
          231.697,
          4.74236,
          152.528,
          94.9392,
          77.6573,
          163.013,
          9.84852,
          144.887,
          30.7269,
          767.58,
          21.6602,
          86.8713,
          85.655,
          155.431,
          532.592,
          115.087,
          5.89571,
          245.127,
          113.178,
          355.138,
          377.783,
          10.0749,
          8.63441,
          47.8965,
          39.069,
          8.26984,
          169.973,
          193.993,
          665.829,
          47.1944,
          416.176,
          94.8164,
          287.651,
          3.85093,
          416.829,
          60.6419,
          2.00567,
          228.044,
          7.72504,
          111.144,
          4.21143,
          29.3793,
          19.2529,
          84.9083,
          30.6339,
          11.7271,
          13.351,
          162.789,
          39.7111,
          14.405,
          96.9314,
          57.1086,
          165.933,
          148.701,
          27.3112,
          28.1988,
          46.7192,
          228.931,
          426.08,
          216.94,
          19.5409,
          135.608,
          194.666,
          32.7302,
          112.865,
          129.847,
          642.086,
          109.554,
          99.7326,
          176.274,
          299.35,
          115.802,
          339.139,
          13.4277,
          159.017,
          293.853,
          495.45,
          128.791,
          26.7309,
          18.1756,
          1.60236,
          511.441,
          36.5844,
          41.2857,
          73.2625,
          22.2437,
          738.569,
          91.083,
          665.829,
          41.0306,
          506.687,
          306.898,
          9.06126,
          54.4806,
          56.815,
          92.0802,
          228.835,
          100.17,
          55.8696,
          392.575,
          2.71748,
          20.7237,
          11.9375,
          301.233,
          218.821,
          4.82387,
          72.2143,
          356.462,
          56.815,
          2.31402,
          23.0551,
          6.56575,
          58.2799,
          84.455,
          19.9835,
          66.2418,
          75.7018,
          12.9911,
          153.096,
          170.611,
          59.526,
          183.828,
          70.3186,
          227.249,
          420.231,
          570.991,
          65.3047,
          878.805,
          511.762,
          35.8857,
          158.343,
          112.432,
          107.32,
          497.867,
          16.9118,
          69.1762,
          115.143,
          15.8779,
          67.7989,
          54.1084,
          638.166,
          462.275,
          164.101,
          67.9709,
          49.5149,
          225.875,
          620.314,
          25.3269,
          207.052,
          609.201,
          1.4031,
          343.78,
          198.706,
          490.889,
          171.236,
          99.886,
          233.044,
          150.37,
          24.3785,
          166.552,
          93.7659,
          381.417,
          137.656,
          30.7076,
          102.257,
          69.113,
          3.48734,
          321.006,
          64.5134,
          8.66587,
          27.3713,
          6.58506,
          400.023,
          517.137,
          85.8105,
          436.674,
          551.477,
          492.443,
          15.3821,
          64.3705,
          54.3727,
          78.6862,
          35.0303,
          3.62595
         ],
         "y": [
          1.0422,
          1.50199,
          1.04131,
          0.124871,
          0.757621,
          -0.044331,
          1.28343,
          0.217086,
          1.41109,
          1.76956,
          1.38781,
          1.25627,
          1.75398,
          1.12042,
          2.21208,
          1.58335,
          1.37584,
          0.971617,
          1.34736,
          0.732041,
          2.26184,
          -0.207678,
          2.36679,
          1.39836,
          1.08564,
          1.76342,
          7.19801,
          1.34106,
          0.132022,
          -0.0578712,
          1.25132,
          1.87386,
          0.379535,
          0.793644,
          2.36499,
          1.69153,
          1.21249,
          1.15782,
          -0.221487,
          9.20047,
          0.412937,
          0,
          1.39181,
          -0.127808,
          1.3032,
          1.43535,
          7.07029,
          1.38838,
          0.762211,
          1.09811,
          0.9598,
          0.281047,
          2.3248,
          0.893233,
          0.915266,
          0.540478,
          1.03883,
          1.06319,
          4.82882,
          0.102871,
          1.82228,
          1.69416,
          0.871832,
          1.35481,
          0.875442,
          0.987822,
          0.922366,
          2.29463,
          1.08093,
          5.60758,
          2.09416,
          1.44114,
          1.36988,
          1.72397,
          1.14378,
          1.46851,
          -0.043383,
          1.73443,
          1.581,
          1.55846,
          0.524132,
          0.983733,
          3.393,
          1.97223,
          1.33695,
          0.998445,
          1.08026,
          0.222676,
          1.65279,
          1.22152,
          1.52503,
          1.60313,
          0.529651,
          1.20686,
          1.15773,
          0.962448,
          2.43335,
          1.72227,
          1.19214,
          1.88412,
          1.17831,
          1.69859,
          0.924295,
          0.108485,
          1.21027,
          4.42314,
          2.65891,
          0.659296,
          5.65023,
          0.416219,
          1.5123,
          0.451103,
          3.44932,
          1.60583,
          2.11902,
          4.16934,
          1.30735,
          0.636571,
          0.738288,
          1.90531,
          1.22149,
          0.96473,
          1.62094,
          0.606115,
          -0.306437,
          0.41525,
          1.40587,
          0.932114,
          1.2136,
          0.681525,
          1.14021,
          1.57127,
          1.13868,
          1.10405,
          1.47893,
          0.783126,
          0.72876,
          10.7819,
          0.963342,
          1.57596,
          1.83613,
          1.51702,
          0.832535,
          1.96114,
          1.40154,
          1.76216,
          1.83913,
          1.64964,
          1.25728,
          1.16193,
          3.48596,
          1.26242,
          5.9658,
          1.14241,
          1.70891,
          2.58891,
          1.12298,
          1.1672,
          1.79066,
          1.31633,
          0.648123,
          1.43169,
          1.45874,
          1.12042,
          3.72858,
          0.845647,
          1.08055,
          -0.141163,
          0.275171,
          0.698071,
          2.11215,
          1.10405,
          0.794593,
          0.0631073,
          1.20892,
          1.42162,
          3.70591,
          0.399723,
          1.45375,
          1.28272,
          1.34519,
          1.12042,
          6.35705,
          1.1351,
          1.34884,
          1.79066,
          1.20686,
          0.376868,
          0.716261,
          1.61993,
          1.05333,
          1.43642,
          1.21385,
          2.92444,
          2.1868,
          0.821445,
          1.51305,
          0.965463,
          1.3073,
          0.617901,
          1.60409,
          1.67548,
          0.543859,
          0.599424,
          1.3086,
          2.01582,
          1.14216,
          1.52181,
          1.27257,
          -0.136951,
          0.00498795,
          1.16108,
          1.91567,
          7.32883,
          4.42314,
          0.552231,
          1.69768,
          -0.0902162,
          1.47863,
          1.67967,
          1.23551,
          1.17538,
          1.83419,
          1.22899,
          0.285736,
          -0.0101361,
          1.98339,
          7.41902,
          1.52726,
          0.276134,
          2.32105,
          1.06549,
          0.636342,
          1.15773,
          1.84259,
          4.96919,
          1.91426,
          1.84311,
          1.23426,
          1.41192,
          0.719448,
          1.58995,
          2.09188,
          1.11183,
          1.65254,
          1.45781,
          1.21225,
          0.390071,
          2.31579,
          0.817392,
          1.38882,
          1.33855,
          1.25664,
          -0.203258,
          0.973304,
          1.26401,
          0.371749,
          1.11842,
          1.13833,
          1.24168,
          1.33032,
          0.460547,
          0.375121,
          0.955556,
          1.19128,
          0.963719,
          1.74924,
          1.17002,
          0.956327,
          1.49061,
          0.156165,
          4.27454,
          0.798641,
          0.340194,
          1.14442,
          0.894316,
          0.538458,
          1.18963,
          0.488684,
          -0.043383,
          1.00305,
          1.2164,
          1.2164,
          1.80772,
          1.54404,
          1.26124,
          8.72854,
          1.34936,
          0.942668,
          0.189704,
          1.14943,
          1.22696,
          0.974132,
          0.0624671,
          1.19214,
          1.36179,
          0.910192,
          0.416261,
          0.85531,
          1.72652,
          0.0418756,
          0.723093,
          1.78288,
          0.250936,
          0.610979,
          4.98834,
          1.66419,
          0.614351,
          1.32017,
          1.11418,
          0.95828,
          1.90655,
          1.86018,
          1.95667,
          0.436146,
          2.72265,
          0.0631073,
          2.03142,
          1.14838,
          0.787394,
          1.7074,
          0.778261,
          3.33389,
          -0.048415,
          0.0360046,
          2.07956,
          1.57943,
          0.22952,
          2.09599,
          0.627031,
          0.425114,
          1.14323,
          1.8311,
          2.09416,
          1.17566,
          0.6265,
          0.899517,
          1.81246,
          3.42588,
          9.85462,
          1.03883,
          1.97367,
          0.894053,
          0.926069,
          1.29083,
          1.17502,
          0.699095,
          1.42383,
          2.23268,
          1.15561,
          3.06941,
          1.08691,
          0.743349,
          2.41973,
          0.823585,
          2.14257,
          1.73576,
          1.45567,
          1.96166,
          5.50831,
          0.948527,
          0.952324,
          1.4745,
          -0.144775,
          1.40884,
          0.850104,
          1.82753,
          2.04017,
          1.42505,
          2.39831,
          5.52663,
          2.13559,
          3.06282,
          0.405921,
          0.476241,
          1.01471,
          0.594281,
          0.786091,
          2.28756,
          9.96894,
          0.0921963,
          1.30847,
          0.973156,
          0.114116,
          0.94963,
          1.31822,
          0.107975,
          1.39218,
          1.05217,
          4.23992,
          0.855747,
          1.32085,
          0.272483,
          0.388944,
          2.80489,
          1.6342,
          0.348374,
          1.87598,
          1.17758,
          -0.223455,
          1.67118,
          0.984193,
          0.832535,
          1.4906,
          1.29083,
          6.49929,
          1.38039,
          0.908361,
          2.32023,
          1.07999,
          1.03452,
          1.80061,
          0.948069,
          1.01599,
          0.883631,
          0.665179,
          -0.0219254,
          0.830499,
          0.596362,
          1.03927,
          0.940705,
          1.37465,
          2.03708,
          -0.0625083,
          1.03452,
          1.24684,
          1.3515,
          1.92619,
          0.40825,
          1.54137,
          1.15243,
          0.791353,
          1.28154,
          6.56347,
          1.38229,
          1.6204,
          0.543247,
          1.34174,
          5.48732,
          0.644983,
          1.26552,
          1.90767,
          1.39117,
          -0.127324,
          0.907824,
          1.34736,
          6.56513,
          1.1845,
          2.4443,
          2.30914,
          1.62036,
          1.31759,
          1.92815,
          1.57704,
          0.278739,
          1.83973,
          2.76121,
          3.64884,
          0.841307,
          0.41627,
          0.976464,
          1.33929,
          1.23606,
          9.19323,
          0.347781,
          0.236179,
          -0.128147,
          0.111942,
          0.944941,
          1.28227,
          1.22357,
          1.78678,
          0.405623,
          0.206186,
          1.35481,
          0.294733,
          0.0846463,
          0.212492,
          1.00658,
          1.81781,
          0.845647,
          1.71357,
          -0.226297,
          0.465982,
          1.55399,
          1.47687,
          0.856232,
          0.0807635,
          1.23314,
          0.969843,
          1.32895,
          0.215443,
          1.11259,
          1.21652,
          1.01921,
          1.95158,
          1.32315,
          1.33708,
          0.963719,
          1.15337
         ],
         "z": [
          3,
          212,
          4,
          2,
          88,
          20864,
          51,
          11,
          6298,
          377,
          635,
          32,
          879,
          7,
          1,
          5013,
          257,
          6,
          381,
          35,
          404,
          4,
          123,
          4,
          256,
          60,
          17,
          275,
          3802,
          5,
          3234,
          3,
          187,
          12,
          2,
          24,
          3586,
          42,
          27,
          1881,
          21,
          1,
          5,
          39,
          427,
          4,
          8,
          166,
          66,
          1205,
          18,
          3761,
          3,
          38,
          10672,
          710,
          23,
          3017,
          2,
          1,
          135,
          29,
          26,
          14,
          67,
          2,
          104,
          28,
          992,
          153,
          310,
          8,
          2,
          13,
          3,
          27,
          23,
          2,
          3,
          3,
          5429,
          260,
          7,
          162,
          400,
          7,
          208,
          4,
          973,
          8,
          13,
          13,
          243,
          18,
          31,
          220,
          5,
          3,
          56,
          4,
          424,
          8,
          40,
          4,
          30,
          35,
          9,
          12,
          12,
          361,
          8,
          9,
          9,
          25,
          86,
          4,
          1,
          33,
          11619,
          52,
          230,
          1,
          183,
          27255,
          211,
          3,
          3,
          191,
          9,
          12,
          9,
          88,
          31,
          29,
          8,
          2,
          1,
          51,
          108,
          12,
          20,
          5,
          101,
          74,
          550,
          29,
          3,
          83,
          3,
          8840,
          112,
          13,
          4522,
          3,
          4,
          23,
          582,
          44,
          1,
          82,
          527,
          18,
          59,
          7,
          3,
          12,
          7,
          2,
          80,
          37647,
          41,
          29,
          29,
          11,
          10,
          759,
          2153,
          7,
          1,
          498,
          102,
          7,
          38,
          470,
          62,
          1,
          18,
          204,
          176,
          5,
          1,
          20,
          3,
          739,
          311,
          38,
          603,
          7,
          46,
          5,
          4,
          131,
          6,
          4,
          42,
          450,
          289,
          1,
          2,
          1328,
          126,
          344,
          47,
          1891,
          35,
          9,
          553,
          6,
          388,
          47,
          111,
          20,
          7,
          29,
          7,
          3,
          3,
          3,
          44,
          115,
          22,
          7,
          14,
          31,
          56,
          355,
          11,
          12,
          3,
          3840,
          11,
          443,
          4,
          2391,
          18,
          43969,
          47,
          32,
          82656,
          506,
          8,
          22,
          66423,
          3,
          1131,
          3,
          7,
          4,
          27,
          4,
          692,
          23,
          829,
          61,
          92,
          13,
          2,
          4,
          14,
          1022,
          96,
          7845,
          3,
          184,
          12,
          4,
          52,
          2690,
          79,
          23,
          9,
          3,
          3,
          12,
          249,
          9,
          2,
          191,
          582,
          217,
          92738,
          2,
          2,
          30,
          56,
          3,
          12,
          6,
          5,
          25,
          153,
          108,
          3,
          687,
          35,
          35,
          127,
          29,
          179,
          6,
          196,
          8,
          5,
          5,
          3,
          74,
          11,
          1,
          14,
          6,
          159,
          10,
          809,
          24,
          2,
          47925,
          34,
          5814,
          65,
          1407,
          362,
          2,
          11,
          310,
          76,
          28,
          14,
          41,
          609,
          12,
          23,
          1,
          221,
          6,
          63,
          88,
          4,
          29,
          5,
          4,
          1897,
          870,
          12,
          29,
          366,
          4978,
          2,
          222,
          21,
          19,
          9,
          3,
          27,
          41,
          1,
          16,
          74,
          24,
          27,
          964,
          7,
          169,
          21,
          7110,
          55,
          56,
          14,
          1373,
          64,
          7,
          1225,
          30,
          235,
          12,
          2,
          3,
          9,
          120,
          5315,
          6,
          34,
          25,
          37647,
          4,
          19,
          84,
          162,
          809,
          10672,
          144,
          86,
          97,
          101,
          3,
          63,
          154,
          3155,
          523175,
          14,
          695,
          307,
          5,
          352,
          589,
          7,
          103,
          7426,
          4,
          23,
          662,
          15,
          2,
          168,
          2095,
          307,
          7,
          160,
          491,
          649,
          6,
          12,
          34,
          3,
          43,
          17,
          2,
          8,
          6,
          34,
          33,
          2,
          338,
          160,
          1,
          8,
          381,
          5,
          868,
          8320,
          17,
          1726,
          3,
          2,
          414,
          3,
          754,
          1346,
          14,
          4,
          48,
          4,
          74917,
          187,
          22,
          181,
          42106,
          1950,
          3,
          5171,
          302,
          5,
          124,
          67533,
          2516,
          14,
          38,
          22,
          112,
          58,
          24,
          12,
          7,
          3134,
          12,
          522,
          7,
          1,
          5,
          16,
          133,
          47,
          18393,
          407,
          2,
          16,
          12,
          3,
          8840,
          13,
          4
         ]
        },
        {
         "customdata": [
          [
           "FBtr0076385"
          ],
          [
           "FBtr0303671.25"
          ],
          [
           "FBtr0112965.12"
          ],
          [
           "FBtr0075704.4"
          ],
          [
           "FBtr0082813.6"
          ],
          [
           "FBtr0304123.1"
          ],
          [
           "FBti0059691-RA.FlyBase."
          ],
          [
           "FBtr0100263.1"
          ],
          [
           "FBtr0339077.24"
          ],
          [
           "FBtr0073956.3"
          ],
          [
           "FBtr0308314.1"
          ],
          [
           "FBtr0088833.4"
          ],
          [
           "FBtr0088395.1"
          ],
          [
           "FBtr0083141.3"
          ],
          [
           "FBtr0332964.4"
          ],
          [
           "FBtr0085621.6"
          ],
          [
           "FBtr0333876.7"
          ],
          [
           "FBti0060722-RA.1."
          ],
          [
           "FBtr0070404.3"
          ],
          [
           "FBtr0333039.2"
          ],
          [
           "FBtr0345912.3"
          ],
          [
           "FBtr0339077.2"
          ],
          [
           "FBtr0081104"
          ],
          [
           "FBtr0084648"
          ],
          [
           "FBtr0308601.7"
          ],
          [
           "FBtr0306242.12"
          ],
          [
           "FBtr0070272.4"
          ],
          [
           "FBtr0306826.2"
          ],
          [
           "FBtr0080875.6"
          ],
          [
           "FBti0062571-RA.1."
          ],
          [
           "FBtr0308344.25"
          ],
          [
           "FBti0060627-RA.FlyBase."
          ],
          [
           "FBtr0332926.3"
          ],
          [
           "FBtr0339827.3"
          ],
          [
           "FBtr0346808"
          ],
          [
           "FBtr0343779.1"
          ],
          [
           "FBtr0073805.4"
          ],
          [
           "FBtr0346418.7"
          ],
          [
           "FBtr0309796.2"
          ],
          [
           "FBtr0305032.6"
          ],
          [
           "FBtr0332357.4"
          ],
          [
           "FBtr0072022.1"
          ],
          [
           "FBtr0086840.5"
          ],
          [
           "FBtr0342812.16"
          ],
          [
           "FBtr0110939"
          ],
          [
           "FBti0102116-RA.FlyBase."
          ],
          [
           "FBtr0334138.3"
          ],
          [
           "FBtr0346323.3"
          ],
          [
           "FBtr0334400.3"
          ],
          [
           "FBtr0070612"
          ],
          [
           "FBtr0334493.8"
          ],
          [
           "FBtr0301594.10"
          ],
          [
           "FBtr0335276.3"
          ],
          [
           "FBti0063128-RA.1."
          ],
          [
           "FBtr0074370"
          ],
          [
           "FBtr0345489.2"
          ],
          [
           "FBtr0087832.2"
          ],
          [
           "FBtr0082078"
          ],
          [
           "FBtr0111125.4"
          ],
          [
           "FBti0063649-RA.FlyBase."
          ],
          [
           "FBtr0303664.25"
          ],
          [
           "FBtr0089329.3"
          ],
          [
           "FBtr0344988.26"
          ],
          [
           "FBtr0086304.1"
          ],
          [
           "FBtr0333475.2"
          ],
          [
           "FBtr0342890.4"
          ],
          [
           "FBtr0087616.7"
          ],
          [
           "FBtr0079691.22"
          ],
          [
           "FBtr0075825"
          ],
          [
           "FBtr0304113.3"
          ],
          [
           "FBtr0308564.5"
          ],
          [
           "FBtr0087387.1"
          ],
          [
           "FBtr0071179.1"
          ],
          [
           "FBtr0076022.3"
          ],
          [
           "FBtr0301303.3"
          ],
          [
           "FBtr0289982.5"
          ],
          [
           "FBtr0339300.3"
          ],
          [
           "FBtr0074313"
          ],
          [
           "FBtr0308895.3"
          ],
          [
           "FBtr0087848.1"
          ],
          [
           "FBtr0339954"
          ],
          [
           "FBti0020110-RA.1."
          ],
          [
           "FBtr0333963.2"
          ],
          [
           "FBtr0111078.24"
          ],
          [
           "FBtr0073173.1"
          ],
          [
           "FBtr0302308.3"
          ],
          [
           "FBtr0339544"
          ],
          [
           "FBtr0290212"
          ],
          [
           "FBtr0076626"
          ],
          [
           "FBtr0079524.2"
          ],
          [
           "FBtr0085877"
          ],
          [
           "FBtr0077626.5"
          ],
          [
           "FBtr0075162.1"
          ],
          [
           "FBtr0113131.6"
          ],
          [
           "FBtr0332566.2"
          ],
          [
           "FBtr0074657.1"
          ],
          [
           "FBtr0086982.7"
          ],
          [
           "FBtr0332602.7"
          ],
          [
           "FBtr0112612.2"
          ],
          [
           "FBtr0479864"
          ],
          [
           "FBtr0301313.13"
          ],
          [
           "FBtr0340554.7"
          ],
          [
           "FBtr0331561.4"
          ],
          [
           "FBtr0081332.1"
          ],
          [
           "FBtr0340428.5"
          ],
          [
           "FBtr0344016.8"
          ],
          [
           "FBtr0332312"
          ],
          [
           "FBtr0089276"
          ],
          [
           "FBti0060278-RA.FlyBase."
          ],
          [
           "FBti0062477-RA.1."
          ],
          [
           "FBtr0334982.15"
          ],
          [
           "FBtr0305901.3"
          ],
          [
           "FBtr0336812.5"
          ],
          [
           "FBtr0290057.1"
          ],
          [
           "FBtr0086735.2"
          ],
          [
           "RR41347_transposable_element-RA.FlyBase."
          ],
          [
           "FBti0060040-RA.FlyBase."
          ],
          [
           "FBtr0083226.4"
          ],
          [
           "FBtr0339769.3"
          ],
          [
           "FBtr0339925.11"
          ],
          [
           "FBtr0331617.6"
          ],
          [
           "FBtr0334524.5"
          ],
          [
           "FBtr0074838.5"
          ],
          [
           "FBtr0072117"
          ],
          [
           "FBtr0305059.1"
          ],
          [
           "FBtr0085351.4"
          ],
          [
           "FBtr0344894.5"
          ],
          [
           "FBtr0077426.2"
          ],
          [
           "FBtr0479842.1"
          ],
          [
           "FBti0063243-RA.FlyBase."
          ],
          [
           "FBtr0300565.7"
          ],
          [
           "FBtr0112917.1"
          ],
          [
           "FBtr0344794"
          ],
          [
           "FBtr0336941.1"
          ],
          [
           "FBtr0331843.15"
          ],
          [
           "FBtr0339436"
          ],
          [
           "FBtr0078898.5"
          ],
          [
           "FBtr0077957.4"
          ],
          [
           "FBtr0331696.4"
          ],
          [
           "FBtr0085760"
          ],
          [
           "FBtr0089391.4"
          ],
          [
           "FBtr0305214.5"
          ],
          [
           "FBtr0345340.5"
          ],
          [
           "FBtr0344886"
          ],
          [
           "FBtr0330131"
          ],
          [
           "FBtr0334088.3"
          ],
          [
           "FBtr0307322.22"
          ],
          [
           "FBtr0307369.9"
          ],
          [
           "FBtr0073443.4"
          ],
          [
           "FBtr0070366.2"
          ],
          [
           "FBtr0087948"
          ],
          [
           "FBtr0332825.6"
          ],
          [
           "FBtr0078674.2"
          ],
          [
           "FBtr0304742.8"
          ],
          [
           "FBtr0307274.3"
          ],
          [
           "FBtr0330003"
          ],
          [
           "FBtr0075099.1"
          ],
          [
           "FBtr0306351.11"
          ],
          [
           "FBti0060389-RA.1."
          ],
          [
           "FBtr0308646.1"
          ],
          [
           "FBtr0299837.16"
          ],
          [
           "FBtr0073003.5"
          ],
          [
           "FBtr0332790.8"
          ],
          [
           "FBtr0309625.FlyBase."
          ],
          [
           "FBtr0345266.12"
          ],
          [
           "FBtr0074329.3"
          ],
          [
           "FBti0060576-RA.1."
          ],
          [
           "FBtr0087734.5"
          ],
          [
           "FBtr0345874"
          ],
          [
           "FBtr0303375.5"
          ],
          [
           "FBtr0078185.13"
          ],
          [
           "FBtr0334866.1"
          ],
          [
           "FBtr0290231.11"
          ],
          [
           "FBtr0088922.4"
          ],
          [
           "FBtr0330349"
          ],
          [
           "FBti0060345-RA.FlyBase."
          ],
          [
           "FBti0063032-RA.FlyBase."
          ],
          [
           "FBtr0332841.4"
          ],
          [
           "FBtr0345506.3"
          ],
          [
           "FBtr0307512.7"
          ],
          [
           "FBtr0479929.5"
          ],
          [
           "FBtr0111078"
          ],
          [
           "FBtr0110962.1"
          ],
          [
           "FBtr0333013.6"
          ],
          [
           "FBtr0085009.2"
          ],
          [
           "FBtr0088399.3"
          ],
          [
           "FBtr0479850.6"
          ],
          [
           "FBtr0452127.7"
          ],
          [
           "FBtr0071960.3"
          ],
          [
           "FBtr0084359.6"
          ],
          [
           "FBtr0307314.26"
          ],
          [
           "FBtr0080452.4"
          ],
          [
           "FBtr0340655.10"
          ],
          [
           "FBtr0335009.4"
          ],
          [
           "FBtr0075824.2"
          ],
          [
           "FBtr0111285.6"
          ],
          [
           "FBtr0303467.1"
          ],
          [
           "FBtr0075768.3"
          ],
          [
           "FBtr0332904.8"
          ],
          [
           "FBtr0343846.2"
          ],
          [
           "FBtr0342848.4"
          ],
          [
           "FBtr0344387.1"
          ],
          [
           "FBtr0081503.11"
          ],
          [
           "FBti0062021-RA.FlyBase."
          ],
          [
           "FBtr0081353.15"
          ],
          [
           "FBtr0336977.2"
          ],
          [
           "FBtr0100583"
          ],
          [
           "FBtr0346809.3"
          ],
          [
           "FBtr0073581.3"
          ],
          [
           "FBtr0088129"
          ],
          [
           "FBtr0077830.2"
          ],
          [
           "FBtr0347006.3"
          ],
          [
           "FBtr0075417.4"
          ],
          [
           "FBtr0087503.2"
          ],
          [
           "FBtr0301247.4"
          ],
          [
           "FBti0114509-RA.1."
          ],
          [
           "FBtr0302605.5"
          ],
          [
           "FBtr0074615.2"
          ],
          [
           "FBtr0303108.14"
          ],
          [
           "FBti0061796-RA.1."
          ],
          [
           "FBtr0077121.6"
          ],
          [
           "FBtr0305917.2"
          ],
          [
           "FBtr0080897"
          ],
          [
           "FBtr0303689.2"
          ],
          [
           "FBtr0301256.1"
          ],
          [
           "FBtr0332112"
          ],
          [
           "FBtr0073134.10"
          ],
          [
           "FBtr0077958"
          ],
          [
           "FBtr0100323"
          ],
          [
           "FBtr0330380.7"
          ],
          [
           "FBtr0307554.4"
          ],
          [
           "FBtr0079320.2"
          ],
          [
           "FBtr0332675.22"
          ],
          [
           "FBtr0345012.4"
          ],
          [
           "FBtr0332682.19"
          ],
          [
           "FBtr0082142"
          ],
          [
           "FBtr0331423.3"
          ],
          [
           "FBtr0331609.3"
          ],
          [
           "FBtr0330215.4"
          ],
          [
           "FBtr0302091.2"
          ],
          [
           "FBtr0074840.2"
          ],
          [
           "FBtr0304569.24"
          ],
          [
           "FBtr0273248.10"
          ],
          [
           "FBti0062130-RA.1."
          ],
          [
           "FBtr0085732.2"
          ],
          [
           "FBtr0475276.2"
          ],
          [
           "FBtr0077519.3"
          ],
          [
           "FBtr0340141.8"
          ],
          [
           "FBtr0479908.9"
          ],
          [
           "FBtr0083959.4"
          ],
          [
           "FBtr0087019.5"
          ],
          [
           "FBtr0336902.2"
          ],
          [
           "FBtr0077189.1"
          ],
          [
           "FBtr0085351"
          ],
          [
           "FBtr0340447.6"
          ],
          [
           "FBtr0307323.16"
          ],
          [
           "FBtr0071880"
          ],
          [
           "FBtr0070260.5"
          ],
          [
           "FBtr0308649"
          ],
          [
           "FBtr0074259.3"
          ],
          [
           "FBtr0301302.21"
          ],
          [
           "FBtr0307383.3"
          ],
          [
           "FBtr0474126.10"
          ],
          [
           "FBtr0347000.6"
          ],
          [
           "FBtr0345912.10"
          ],
          [
           "FBtr0343375.2"
          ],
          [
           "FBtr0083408"
          ],
          [
           "FBtr0305490.6"
          ],
          [
           "FBtr0329975.5"
          ],
          [
           "FBtr0331816.1"
          ],
          [
           "FBtr0299572.5"
          ],
          [
           "FBtr0076369"
          ],
          [
           "FBtr0343764"
          ],
          [
           "FBtr0345297.6"
          ],
          [
           "FBtr0308255.14"
          ],
          [
           "FBtr0306852.3"
          ],
          [
           "FBtr0343434.5"
          ],
          [
           "FBtr0329887.5"
          ],
          [
           "FBtr0085727.3"
          ],
          [
           "FBtr0081636"
          ],
          [
           "FBtr0273215.12"
          ],
          [
           "FBtr0303832.1"
          ],
          [
           "FBtr0343284.2"
          ],
          [
           "FBtr0078726.1"
          ],
          [
           "FBtr0344631.5"
          ],
          [
           "FBtr0085248.1"
          ],
          [
           "FBtr0111052.23"
          ],
          [
           "FBtr0331574.4"
          ],
          [
           "FBtr0100317.3"
          ],
          [
           "FBtr0306534.2"
          ],
          [
           "FBtr0083000"
          ],
          [
           "FBtr0342821.18"
          ],
          [
           "FBtr0080885.6"
          ],
          [
           "FBtr0305183.4"
          ],
          [
           "FBtr0088624.1"
          ],
          [
           "FBtr0345293.2"
          ],
          [
           "FBtr0081807.3"
          ],
          [
           "FBtr0071868.1"
          ],
          [
           "FBtr0304950.7"
          ],
          [
           "FBtr0340173.24"
          ],
          [
           "FBtr0343358.5"
          ],
          [
           "FBtr0079360.2"
          ],
          [
           "FBtr0079665.5"
          ],
          [
           "FBtr0334281.10"
          ],
          [
           "FBtr0079030.2"
          ],
          [
           "FBtr0113156.3"
          ],
          [
           "FBtr0088206"
          ],
          [
           "FBtr0091678.11"
          ],
          [
           "FBtr0100622.2"
          ],
          [
           "FBtr0344667"
          ],
          [
           "FBtr0080884.1"
          ],
          [
           "FBtr0082097.6"
          ],
          [
           "FBtr0080542"
          ],
          [
           "FBtr0073473.1"
          ],
          [
           "FBtr0339716"
          ],
          [
           "FBtr0085202.4"
          ],
          [
           "FBti0061505-RA.FlyBase."
          ],
          [
           "FBtr0299580.3"
          ],
          [
           "FBtr0335012.3"
          ],
          [
           "FBtr0076237.6"
          ],
          [
           "FBtr0114553.4"
          ],
          [
           "FBtr0075630"
          ],
          [
           "FBtr0086515"
          ],
          [
           "FBti0062451-RA.FlyBase."
          ],
          [
           "FBtr0308236.1"
          ],
          [
           "FBtr0346623.2"
          ],
          [
           "FBtr0308128.9"
          ],
          [
           "FBtr0071276.3"
          ],
          [
           "FBtr0085074.1"
          ],
          [
           "FBtr0290238.2"
          ],
          [
           "FBti0019650-RA.1."
          ],
          [
           "FBtr0087618.12"
          ],
          [
           "FBtr0076023.1"
          ],
          [
           "FBtr0089271.11"
          ],
          [
           "FBtr0112480.1"
          ],
          [
           "FBtr0332908.10"
          ],
          [
           "FBtr0081696"
          ],
          [
           "FBtr0077542.1"
          ],
          [
           "FBtr0079839.3"
          ],
          [
           "FBtr0307317.14"
          ],
          [
           "FBtr0305047.2"
          ],
          [
           "FBtr0329931.22"
          ],
          [
           "FBtr0076794.4"
          ],
          [
           "FBtr0333564"
          ],
          [
           "FBtr0330276.2"
          ],
          [
           "FBtr0085350.2"
          ],
          [
           "FBtr0088151"
          ],
          [
           "FBtr0088384"
          ],
          [
           "FBtr0078277.3"
          ],
          [
           "FBtr0290228"
          ],
          [
           "FBtr0087502.3"
          ],
          [
           "FBtr0306544.7"
          ],
          [
           "FBtr0110906.12"
          ],
          [
           "FBtr0308580.9"
          ],
          [
           "FBtr0088596.3"
          ],
          [
           "FBtr0087425.1"
          ],
          [
           "FBti0019824-RA.FlyBase."
          ],
          [
           "FBtr0074851.2"
          ],
          [
           "FBtr0089577.13"
          ],
          [
           "FBtr0308241.1"
          ],
          [
           "FBtr0332307"
          ],
          [
           "FBtr0333717.5"
          ],
          [
           "FBtr0333891.1"
          ],
          [
           "FBtr0334135"
          ],
          [
           "FBtr0303658.30"
          ],
          [
           "FBtr0080014.5"
          ],
          [
           "FBtr0299872"
          ],
          [
           "FBtr0339520.8"
          ],
          [
           "FBtr0330596.2"
          ],
          [
           "FBtr0304609.17"
          ],
          [
           "FBtr0331601.9"
          ],
          [
           "FBtr0334568.5"
          ],
          [
           "FBtr0074438"
          ],
          [
           "FBtr0087674"
          ],
          [
           "FBtr0333320.3"
          ],
          [
           "FBtr0346864.2"
          ],
          [
           "FBti0062763-RA.1."
          ],
          [
           "FBtr0332808.2"
          ],
          [
           "FBti0061085-RA.FlyBase."
          ],
          [
           "FBtr0072480.1"
          ],
          [
           "FBtr0081210.6"
          ],
          [
           "FBtr0078574.1"
          ],
          [
           "FBtr0085645.5"
          ],
          [
           "FBtr0072532.3"
          ],
          [
           "FBtr0331169.3"
          ],
          [
           "FBtr0087028.2"
          ],
          [
           "FBtr0084684.19"
          ],
          [
           "FBtr0334967"
          ],
          [
           "FBtr0336450.4"
          ],
          [
           "FBtr0076053.1"
          ],
          [
           "FBtr0473604"
          ],
          [
           "FBtr0085587.4"
          ],
          [
           "FBtr0091454.6"
          ],
          [
           "FBtr0084739.5"
          ],
          [
           "FBtr0301772"
          ],
          [
           "FBtr0301495.9"
          ],
          [
           "FBtr0112864.13"
          ],
          [
           "FBtr0336969.9"
          ],
          [
           "FBtr0100420.1"
          ],
          [
           "FBtr0302039.1"
          ],
          [
           "FBtr0080833"
          ],
          [
           "FBtr0304996.1"
          ],
          [
           "FBtr0112860.8"
          ],
          [
           "FBtr0087535.2"
          ],
          [
           "FBtr0076017"
          ],
          [
           "FBtr0306002.3"
          ],
          [
           "FBtr0080242"
          ],
          [
           "FBtr0339959"
          ],
          [
           "FBtr0071112.2"
          ],
          [
           "FBtr0086941.1"
          ],
          [
           "FBtr0332115.2"
          ],
          [
           "FBtr0073411"
          ],
          [
           "FBtr0306767.10"
          ],
          [
           "FBtr0079229.3"
          ],
          [
           "FBtr0305957.1"
          ],
          [
           "FBtr0086184.3"
          ],
          [
           "FBtr0336721.8"
          ],
          [
           "FBtr0329888.7"
          ],
          [
           "FBtr0333895.13"
          ],
          [
           "FBtr0344795.2"
          ],
          [
           "FBtr0346670.4"
          ],
          [
           "FBtr0300677.2"
          ],
          [
           "FBtr0304732.3"
          ],
          [
           "FBtr0073939"
          ],
          [
           "FBtr0334086"
          ],
          [
           "FBtr0339668.1"
          ],
          [
           "FBtr0079745.2"
          ],
          [
           "FBtr0302107.16"
          ],
          [
           "FBtr0088574.4"
          ],
          [
           "FBtr0302246.6"
          ],
          [
           "FBtr0331942.1"
          ],
          [
           "FBtr0301056.5"
          ],
          [
           "FBtr0089303.1"
          ],
          [
           "FBtr0332344.28"
          ],
          [
           "FBtr0335162"
          ],
          [
           "FBtr0073142.2"
          ],
          [
           "FBtr0085015.6"
          ],
          [
           "FBtr0334903.12"
          ],
          [
           "FBtr0076732.4"
          ],
          [
           "FBtr0084073.1"
          ],
          [
           "FBtr0392909.1"
          ],
          [
           "FBtr0075987.3"
          ],
          [
           "FBtr0433494.9"
          ],
          [
           "FBtr0071072"
          ],
          [
           "FBtr0074771.5"
          ],
          [
           "FBtr0309103.4"
          ],
          [
           "FBtr0075538.5"
          ],
          [
           "FBtr0113398.18"
          ],
          [
           "FBtr0342825.29"
          ],
          [
           "FBtr0334286.7"
          ],
          [
           "FBti0018929-RA.1."
          ],
          [
           "FBtr0336684"
          ],
          [
           "FBtr0083393.1"
          ],
          [
           "FBti0061749-RA.FlyBase."
          ],
          [
           "FBtr0299877.4"
          ],
          [
           "FBtr0300675.5"
          ],
          [
           "FBtr0079232"
          ],
          [
           "FBtr0089904.12"
          ],
          [
           "FBtr0083325"
          ],
          [
           "FBtr0345107.5"
          ],
          [
           "FBtr0330004.11"
          ],
          [
           "FBtr0309227.12"
          ],
          [
           "FBtr0077520.2"
          ],
          [
           "FBtr0301423.17"
          ],
          [
           "FBtr0335247.5"
          ],
          [
           "FBtr0114495.1"
          ],
          [
           "FBtr0084030.3"
          ],
          [
           "FBtr0273273.5"
          ],
          [
           "FBtr0081712"
          ],
          [
           "FBtr0346610.10"
          ],
          [
           "FBtr0343016.1"
          ],
          [
           "FBtr0079035.4"
          ],
          [
           "FBtr0303476.3"
          ],
          [
           "FBtr0332023.31"
          ],
          [
           "FBtr0089437.7"
          ],
          [
           "FBtr0081081.1"
          ],
          [
           "FBtr0345262.3"
          ],
          [
           "FBtr0334854.8"
          ],
          [
           "FBtr0076788.1"
          ],
          [
           "FBti0019120-RA.FlyBase."
          ],
          [
           "FBtr0304567"
          ],
          [
           "FBtr0301652.3"
          ],
          [
           "FBtr0081247.4"
          ],
          [
           "FBtr0113316.8"
          ],
          [
           "FBtr0344384.8"
          ],
          [
           "FBtr0301732.6"
          ],
          [
           "FBtr0071219.12"
          ],
          [
           "FBtr0340491.1"
          ],
          [
           "FBtr0273427.5"
          ],
          [
           "FBtr0347065.3"
          ],
          [
           "FBtr0113104.1"
          ],
          [
           "FBtr0340178.6"
          ],
          [
           "FBtr0085359.9"
          ],
          [
           "FBtr0304170.FlyBase."
          ],
          [
           "FBtr0304914.1"
          ],
          [
           "FBtr0346422"
          ],
          [
           "FBti0061738-RA.1."
          ],
          [
           "FBtr0075724.3"
          ],
          [
           "FBti0064100-RA.FlyBase."
          ],
          [
           "FBtr0086660.6"
          ]
         ],
         "hovertemplate": "lncRNA=False<br>mean_remap=%{x}<br>mean_pPcons124=%{y}<br>bestTSS=%{z}<br>size=%{marker.size}<br>name=%{customdata[0]}<extra></extra>",
         "legendgroup": "False",
         "marker": {
          "color": "#541352",
          "opacity": 0.6,
          "size": [
           8.045588280803528,
           4.812184355372417,
           6.246106765481563,
           5.817111159963204,
           5.66988092298052,
           3.8501476017100584,
           9.555843138911664,
           5.3471075307174685,
           4.820281565605037,
           5.062595033026967,
           5.673323267171493,
           6.490723534502507,
           5.5134287461649825,
           6.042632833682381,
           5.303304908059076,
           7.454141078146678,
           7.356279876550748,
           6.202535517187923,
           5.713732805509369,
           6.343880434126331,
           5.049856007249537,
           4.418840607796598,
           8.00836557031292,
           8.927446816256198,
           5.111987788356544,
           4.709530201312334,
           5.402677381872279,
           5.8916442118257715,
           6.246106765481563,
           5.438079308923196,
           7.870165946469845,
           3.258096538021482,
           5.564520407322694,
           5.641907070938114,
           7.07326971745971,
           6.295266001439646,
           7.029087564149662,
           4.700480365792417,
           7.789868559054706,
           5.442417710521793,
           5.117993812416755,
           6.543911845564792,
           7.325807502595773,
           5.958424693029782,
           9.415157006597509,
           2.833213344056216,
           5.673323267171493,
           4.1588830833596715,
           5.87493073085203,
           8.751316246773456,
           7.489412083508719,
           4.787491742782046,
           4.804021044733257,
           7.052721049232323,
           9.299175085676673,
           4.969813299576001,
           6.230481447578482,
           7.617267813628347,
           4.770684624465665,
           4.820281565605037,
           4.812184355372417,
           5.493061443340548,
           7.44600149832412,
           7.325807502595773,
           6.656726524178391,
           5.545177444479562,
           6.81783057145415,
           7.462214939768189,
           7.00033446027523,
           4.736198448394496,
           7.77779262633883,
           6.507277712385012,
           5.5093883366279774,
           6.880384082186005,
           4.820281565605037,
           5.117993812416755,
           4.983606621708336,
           6.934397209928558,
           4.007333185232471,
           6.154858094016418,
           7.366445148327599,
           7.489970898834801,
           5.799092654460526,
           7.099201743553092,
           6.29156913955832,
           6.835184586147301,
           8.695171998776056,
           7.566828479208331,
           8.01862546504575,
           6.129050210060545,
           8.806873266530692,
           6.0330862217988015,
           4.948759890378168,
           6.156978985585555,
           3.6109179126442243,
           3.4965075614664802,
           6.284134161070802,
           6.075346031088684,
           3.6635616461296463,
           10.675561433649873,
           5.214935757608986,
           4.584967478670572,
           4.990432586778736,
           7.3395376954076745,
           7.078341579557671,
           4.795790545596741,
           8.935508711503221,
           10.441850519295206,
           5.3230099791384085,
           7.456454555176209,
           6.366470447731438,
           4.820281565605037,
           5.497168225293202,
           4.290459441148391,
           5.153291594497779,
           8.459352191726387,
           4.812184355372417,
           5.966146739123692,
           5.996452088619021,
           7.438383530044307,
           6.856461984594587,
           6.98933526597456,
           5.537334267018537,
           9.277531621516506,
           7.022868086082641,
           8.339500903005945,
           5.529429087511423,
           6.230481447578482,
           5.135798437050262,
           6.318968113746434,
           4.941642422609304,
           4.634728988229636,
           7.982757702011113,
           6.542471960506805,
           4.8283137373023015,
           8.799058378546453,
           4.890349128221754,
           5.638354669333745,
           4.74493212836325,
           7.334981878871814,
           5.537334267018537,
           5.332718793265369,
           5.796057750765372,
           6.304448802421981,
           10.146943405162217,
           7.601901959875166,
           1.0986122886681098,
           6.863803391452954,
           5.993961427306569,
           6.2285110035911835,
           8.7157161275482,
           4.852030263919617,
           5.159055299214529,
           7.16703787691222,
           5.017279836814924,
           9.952182474074887,
           6.152732694704104,
           4.2626798770413155,
           6.745236349484363,
           5.278114659230517,
           6.466144724237619,
           4.532599493153256,
           4.060443010546419,
           3.091042453358316,
           5.442417710521793,
           6.073044534100405,
           5.918893854273146,
           6.937314081223682,
           6.246106765481563,
           7.241366283322318,
           6.408528791059498,
           6.3818160174060985,
           5.720311776607412,
           5.560681631015528,
           11.76611701923615,
           6.90875477931522,
           4.532599493153256,
           4.718498871295094,
           7.599401333415815,
           7.069023426578259,
           5.817111159963204,
           11.039973493632319,
           5.043425116919247,
           5.303304908059076,
           7.280697195384741,
           5.075173815233827,
           5.4638318050256105,
           6.714170529909472,
           5.641907070938114,
           5.5093883366279774,
           5.342334251964811,
           5.934894195619588,
           5.849324779946859,
           3.871201010907891,
           4.770684624465665,
           5.60947179518496,
           4.718498871295094,
           7.816416983691801,
           5.755742213586912,
           5.049856007249537,
           5.135798437050262,
           5.602118820879701,
           6.324358962381311,
           4.394449154672439,
           5.749392985908253,
           6.583409222158765,
           7.693481640835175,
           5.10594547390058,
           4.276666119016055,
           7.601901959875166,
           3.6375861597263857,
           6.2422232654551655,
           5.8805329864007,
           6.318968113746434,
           6.349138991379798,
           2.9444389791664403,
           5.117993812416755,
           6.546785410760524,
           5.521460917862246,
           6.025865973825314,
           5.420534999272286,
           4.836281906951478,
           10.000296608464188,
           4.48863636973214,
           5.680172609017068,
           7.282073658093465,
           5.19295685089021,
           8.341648618901306,
           8.876125585396185,
           4.543294782270004,
           4.795790545596741,
           4.882801922586371,
           4.110873864173311,
           5.1647859739235145,
           4.653960350157523,
           7.687997166393016,
           5.111987788356544,
           5.877735781779639,
           3.6635616461296463,
           5.796057750765372,
           5.755742213586912,
           4.709530201312334,
           5.2832037287379885,
           5.723585101952381,
           5.786897381366708,
           4.852030263919617,
           7.507690077819904,
           4.5217885770490405,
           5.030437921392435,
           5.488937726156687,
           5.2832037287379885,
           5.262690188904886,
           4.969813299576001,
           9.429315246418172,
           4.962844630259907,
           4.969813299576001,
           7.048386408721883,
           7.71333788887187,
           6.842683282238422,
           5.19295685089021,
           5.278114659230517,
           4.875197323201151,
           4.804021044733257,
           4.0943445622221,
           7.388327859577107,
           4.605170185988092,
           6.670766320845874,
           5.846438775057725,
           4.532599493153256,
           2.833213344056216,
           6.9726062513017535,
           7.372118028337787,
           10.471864846140123,
           7.6586995582682995,
           5.293304824724492,
           5.075173815233827,
           5.594711379601839,
           4.454347296253507,
           5.111987788356544,
           6.950814768442584,
           5.099866427824199,
           5.703782474656201,
           4.804021044733257,
           7.2868764117507,
           5.25227342804663,
           4.59511985013459,
           4.204692619390966,
           4.465908118654584,
           5.805134968916488,
           4.61512051684126,
           7.676473646389156,
           5.225746673713202,
           4.962844630259907,
           6.1675164908883415,
           6.889591308354466,
           4.820281565605037,
           5.0106352940962555,
           6.175867270105761,
           6.0867747269123065,
           7.066466970136958,
           7.289610521451167,
           7.414572881350589,
           6.546785410760524,
           5.697093486505405,
           6.519147287940395,
           6.352629396319567,
           8.24354550792826,
           6.0063531596017325,
           5.82600010738045,
           7.069023426578259,
           5.407171771460119,
           4.941642422609304,
           7.872073979866873,
           3.4011973816621555,
           6.498282149476434,
           6.0844994130751715,
           5.170483995038151,
           7.552237287560802,
           7.794411205726601,
           6.1070228877422545,
           6.035481432524756,
           6.249975242259483,
           6.74993119378857,
           5.823045895483019,
           4.77912349311153,
           6.008813185442595,
           5.153291594497779,
           5.19295685089021,
           5.220355825078324,
           4.852030263919617,
           7.453561871643373,
           4.990432586778736,
           5.5909869805108565,
           5.429345628954441,
           4.2626798770413155,
           4.976733742420574,
           9.750569446111415,
           4.955827057601261,
           4.990432586778736,
           5.817111159963204,
           5.953243334287785,
           8.67965211911394,
           6.507277712385012,
           7.935945103353701,
           4.07753744390572,
           5.2832037287379885,
           7.59337419312129,
           7.86172707782398,
           4.836281906951478,
           6.548219102762372,
           5.752572638825633,
           4.68213122712422,
           5.241747015059643,
           6.352629396319567,
           7.203405521083095,
           4.406719247264253,
           5.855071922202427,
           6.507277712385012,
           5.648974238161206,
           5.6240175061873385,
           8.875985891325971,
           4.762173934797756,
           5.236441962829949,
           11.312631365253663,
           7.081708586105575,
           5.389071729816501,
           6.0063531596017325,
           6.309918278226516,
           6.246106765481563,
           5.049856007249537,
           7.003065458786462,
           6.985641817639208,
           9.983914801648742,
           6.977281341630747,
           7.036148493750536,
           3.6888794541139363,
           3.8066624897703196,
           4.990432586778736,
           6.16541785423142,
           4.820281565605037,
           4.983606621708336,
           5.480638923341991,
           6.415096959171596,
           6.317164686747284,
           5.2574953720277815,
           4.9344739331306915,
           6.230481447578482,
           10.006856085513162,
           6.532334292222349,
           5.697093486505405,
           7.643961949002529,
           7.7039102096163115,
           5.030437921392435,
           4.23410650459726,
           9.847816267665664,
           4.718498871295094,
           4.356708826689592,
           5.918893854273146,
           3.1780538303479458,
           4.653960350157523,
           7.669495251007694,
           5.204006687076795,
           6.767343125265392,
           5.905361848054571,
           8.17244681834278,
           5.093750200806762,
           8.497398564088058,
           7.393263094763838,
           7.86480400332846,
           4.762173934797756,
           6.285998094508865,
           9.570877846729212,
           4.787491742782046,
           6.903747257584598,
           4.204692619390966,
           5.480638923341991,
           4.219507705176107,
           4.844187086458591,
           5.159055299214529,
           5.384495062789089,
           5.081404364984463,
           4.852030263919617,
           4.90527477843843,
           9.01881660441743,
           7.857867559331803,
           5.966146739123692,
           4.672828834461906,
           5.075173815233827,
           5.117993812416755,
           6.124683390894205,
           5.117993812416755,
           5.081404364984463,
           3.6375861597263857,
           5.808142489980444,
           6.942156705699469,
           5.71042701737487,
           4.990432586778736,
           5.308267697401205,
           5.236441962829949,
           4.736198448394496,
           5.262690188904886,
           5.19295685089021,
           4.983606621708336,
           7.350516171833998,
           6.416732282512326,
           4.718498871295094,
           6.919683849847411,
           4.787491742782046,
           5.60947179518496,
           6.670766320845874,
           6.769641976852503,
           7.945909598613133,
           5.87493073085203,
           6.775366090936392,
           4.912654885736052,
           6.906754778648554,
           8.755422380148488,
           5.236441962829949,
           8.037220031133012,
           6.236369590203704,
           5.337538079701318,
           7.160069207596127,
           4.61512051684126,
           5.241747015059643,
           7.948031990637284,
           6.46302945692067,
           5.056245805348308,
           5.43372200355424,
           7.25063551189868,
           5.030437921392435,
           6.695798917058491,
           6.79346613258001,
           6.073044534100405,
           4.875197323201151,
           6.522092798170152,
           6.666956792429207,
           5.5093883366279774,
           3.8066624897703196,
           6.988413181999592,
           8.907070776182689,
           8.341410211461865,
           5.176149732573829,
           7.144407180321139,
           5.934894195619588,
           4.5217885770490405,
           4.762173934797756,
           6.135564891081739,
           4.912654885736052,
           6.028278520230698,
           4.927253685157205,
           6.507277712385012,
           4.820281565605037,
           7.108244139731541,
           3.091042453358316,
           5.602118820879701,
           7.261927092702751,
           6.966024187106113,
           5.902633333401366,
           4.762173934797756,
           5.147494476813453
          ],
          "sizemode": "area",
          "sizeref": 0.029415292548090374,
          "symbol": "diamond"
         },
         "mode": "markers",
         "name": "False",
         "scene": "scene",
         "showlegend": true,
         "type": "scatter3d",
         "x": [
          203.143,
          11.2439,
          18.3178,
          21.9881,
          4.79655,
          0,
          351.327,
          144.638,
          3.66667,
          22.7278,
          2.91753,
          23.1442,
          472.952,
          11.2162,
          21.3035,
          43.3996,
          17.2544,
          210.263,
          10.8185,
          84.7803,
          11.6282,
          43.3373,
          80.9252,
          86.9585,
          4.37349,
          2.2973,
          15.7117,
          4.31034,
          30.7171,
          24.7478,
          33.1474,
          0,
          1,
          31.337,
          2.07998,
          237.474,
          21.3529,
          12.9909,
          8.41304,
          11.4372,
          72.7545,
          6.6833,
          15.7451,
          5.64463,
          152.746,
          23.8235,
          35.5979,
          10.4688,
          8.5927,
          48.5219,
          42.4168,
          23.15,
          12.6393,
          289.559,
          130.401,
          3.85417,
          26.6417,
          62.055,
          432.407,
          1,
          6.42276,
          18.6008,
          59.5669,
          122.414,
          24.1607,
          7.54688,
          66.814,
          37.2661,
          140.565,
          59.2632,
          18.6743,
          739.41,
          322.065,
          25.5406,
          0,
          1.02994,
          9.52055,
          341.074,
          352.582,
          301.987,
          105.639,
          101.262,
          29.7697,
          6.90777,
          247.917,
          26.5817,
          78.7116,
          134.176,
          158.118,
          28.7974,
          98.1777,
          7.69784,
          638.511,
          31.3263,
          2,
          234.879,
          12.0672,
          7.43908,
          22.6923,
          120.324,
          13.1359,
          12.1122,
          5.19728,
          193.05,
          79.8135,
          13.0826,
          6.14873,
          87.8214,
          8.72683,
          56.5839,
          15.7646,
          1,
          19.5492,
          780.411,
          24.185,
          1,
          1,
          6.85897,
          39.7587,
          53.9949,
          10.5253,
          102.998,
          10.5236,
          300.016,
          33.8856,
          31.4749,
          12.7381,
          4.0689,
          387.982,
          212.216,
          0,
          187.951,
          175.196,
          405.67,
          4.872,
          150.924,
          4.21053,
          10.6299,
          1,
          96.9798,
          8.46457,
          10.6039,
          47.7021,
          1.88889,
          121.882,
          14.5888,
          8,
          7.42738,
          32.005,
          29.0473,
          143.043,
          1,
          16.0287,
          15.3651,
          111.45,
          67.1713,
          138.37,
          15.8592,
          26.3696,
          5.79592,
          38.5443,
          7.21505,
          1.36207,
          229,
          8.62771,
          47.9908,
          3.28226,
          11.2097,
          10.2345,
          42.3016,
          18.0214,
          18.4044,
          2.20949,
          20.7423,
          49.1642,
          1,
          119.215,
          137.723,
          62.7116,
          13.2113,
          41.9821,
          63.7025,
          10.2774,
          4.83582,
          9.90073,
          22.2063,
          2,
          89.1966,
          6.80851,
          15.4858,
          72.4306,
          39.2593,
          24.8934,
          0,
          25.6864,
          247.901,
          615.732,
          37.6483,
          29.0728,
          1,
          6.22941,
          61.8118,
          18.3656,
          135.778,
          14.0987,
          39.722,
          273.945,
          11.1152,
          10.5556,
          54.0337,
          225.237,
          4.20233,
          15.1397,
          46.6108,
          12.7727,
          78.9474,
          10.3054,
          45.9799,
          10.652,
          0,
          13.9469,
          9.20635,
          37.1516,
          2.85393,
          287.048,
          151.51,
          377.367,
          207.125,
          210.721,
          3.5,
          5.36364,
          2.32576,
          0,
          109.691,
          50.2667,
          124.694,
          6.53614,
          32.9188,
          2,
          8.07903,
          15.8671,
          6.06306,
          9.47716,
          1.95425,
          9.19939,
          0,
          21.74,
          16.9674,
          8.13725,
          20.1281,
          6.56345,
          24.7565,
          719.931,
          51.8581,
          10.2587,
          22.8611,
          3.60047,
          252.473,
          52.3289,
          30.2667,
          2.19898,
          20.4046,
          20.041,
          2.71667,
          143.833,
          127.51,
          224.161,
          7.93931,
          5.3871,
          226.176,
          26.0396,
          195.919,
          129.661,
          77.2486,
          3.42714,
          12.3875,
          17.7138,
          6.75581,
          4.46386,
          75.1313,
          122.299,
          3.1,
          4.78689,
          18.0268,
          1,
          725.081,
          9.29851,
          11.2529,
          29.4639,
          162.356,
          116.458,
          12.4247,
          57.6573,
          20.1971,
          262.293,
          63.1048,
          17.6,
          559.044,
          11.7955,
          23.2666,
          24.9295,
          22.8505,
          18.3874,
          11.4799,
          89.7876,
          44.6847,
          5.345,
          52.734,
          25.6814,
          67.2827,
          745.955,
          0,
          36.8428,
          9.56667,
          500.351,
          9.71298,
          10.8807,
          47.6342,
          18.6735,
          13.98,
          2.39713,
          4.26786,
          633.424,
          18.8905,
          217.109,
          27.7887,
          13.1503,
          10.0278,
          708.508,
          11.5078,
          0,
          68.5578,
          636.828,
          3.8114,
          19.6479,
          17.7586,
          95.7279,
          126.768,
          17.5578,
          58.1518,
          165.483,
          43.5132,
          26.0433,
          71.8017,
          1,
          127.787,
          7.67586,
          170.431,
          4.95238,
          57.139,
          15.7302,
          18.6574,
          265.153,
          34.8066,
          23.0725,
          117.341,
          1,
          42.0149,
          1.20524,
          9.44404,
          18.169,
          22.0684,
          571.319,
          69.7938,
          20.6651,
          8.10046,
          356.111,
          6.31636,
          542.124,
          3.87821,
          159.95,
          27.773,
          41.6183,
          17.5422,
          16.9519,
          1,
          31.6444,
          240.871,
          4.05252,
          565.774,
          21.137,
          528.862,
          29.6579,
          18.9495,
          6.51562,
          348.05,
          17.4705,
          111.257,
          26.655,
          22.3691,
          27.0847,
          13.2076,
          9.41176,
          2.2029,
          69.8944,
          2,
          48.8077,
          4.4328,
          294.375,
          692.838,
          125.225,
          464.654,
          16.6663,
          198.3,
          91.5358,
          2.33742,
          129.804,
          147.756,
          30.074,
          502.949,
          57.8585,
          122.462,
          8.125,
          18.6767,
          455.03,
          7.8875,
          10.3824,
          5.40945,
          15.0345,
          673.229,
          5.4472,
          2.58594,
          20.0444,
          78.1115,
          254.232,
          35.2333,
          2.08411,
          5.26875,
          5.44311,
          44.5252,
          798.042,
          36.4037,
          366.316,
          6.05706,
          10.1513,
          303.149,
          3.7415,
          11.6584,
          8.97872,
          751.754,
          286.192,
          3.02222,
          33.2603,
          482.335,
          24.3219,
          143.321,
          11.2362,
          20.875,
          11.8901,
          90.0368,
          10.4688,
          68.6454,
          570.888,
          79.2842,
          15.5441,
          78.9109,
          52.7339,
          19.4255,
          157.749,
          18.2016,
          5.38462,
          114.334,
          523.98,
          12.0106,
          18.7548,
          80.585,
          9.24204,
          9.38428,
          322.67,
          3.69281,
          267.743,
          19.0908,
          13.1866,
          10.7328,
          19.9529,
          33.4847,
          15.4858,
          2,
          4.31889,
          323.331,
          96.0379,
          9.40678,
          17.2407,
          14.6455,
          11.0652,
          5.7094,
          20.474,
          209.809,
          11.0048,
          207.464,
          614.327,
          9.45968,
          26.1492,
          14.5,
          678.764,
          75.6362,
          56.2319,
          86.2732,
          23.265,
          20.2558
         ],
         "y": [
          3.00303,
          15.4483,
          3.55582,
          3.55341,
          1.48968,
          0.678255,
          0.00391562,
          1.12741,
          12.2418,
          1.88733,
          2.37156,
          8.22136,
          2.05553,
          5.43438,
          6.49376,
          3.27435,
          6.77076,
          0.362338,
          7.51902,
          5.28868,
          11.055,
          10.6848,
          3.62493,
          4.09329,
          3.50616,
          9.65557,
          8.15343,
          0.525754,
          4.5632,
          0.450052,
          2.59283,
          0,
          10.2149,
          3.38017,
          0.165423,
          4.51435,
          2.32084,
          12.5719,
          1.27922,
          11.6434,
          10.7143,
          6.70793,
          5.34175,
          7.93843,
          2.67063,
          0,
          2.05223,
          5.97906,
          2.65597,
          1.58816,
          1.73075,
          12.0492,
          11.9694,
          0,
          1.6012,
          1.82121,
          4.44489,
          4.39388,
          6.16327,
          -0.219597,
          14.4079,
          12.4694,
          7.90161,
          4.62425,
          0.845591,
          5.05085,
          9.8934,
          3.0913,
          6.09867,
          12.9331,
          2.85911,
          2.20012,
          1.14228,
          11.3242,
          4.70173,
          1.94158,
          11.4179,
          5.62861,
          13.7605,
          1.3923,
          4.97347,
          0.0036095,
          9.52557,
          2.74883,
          4.07338,
          7.79165,
          1.79695,
          2.00254,
          5.80515,
          7.36092,
          2.38743,
          10.3742,
          2.52742,
          7.09428,
          0.819162,
          3.15006,
          3.60115,
          9.16122,
          2.12764,
          1.3208,
          11.1483,
          8.47517,
          2.79702,
          5.24064,
          2.74799,
          1.52112,
          -0.0772255,
          1.76414,
          -0.0413854,
          0.11621,
          4.77866,
          5.8034,
          11.4706,
          0.77811,
          6.00316,
          0,
          0.018626,
          10.7315,
          10.0262,
          3.24327,
          2.24607,
          1.7959,
          11.5991,
          1.11915,
          1.99291,
          3.41102,
          6.26619,
          1.15794,
          1.41989,
          -0.0594108,
          10.4849,
          2.77936,
          0.965318,
          0.958924,
          11.9713,
          1.25106,
          13.044,
          3.4267,
          2.93768,
          3.58031,
          10.4425,
          3.21636,
          9.16763,
          1.36325,
          2.19684,
          5.12259,
          4.33067,
          4.53706,
          10.0501,
          5.44061,
          4.18056,
          8.76048,
          2.52711,
          8.92764,
          5.26648,
          3.81903,
          0.214579,
          6.35779,
          0.0187718,
          1.33414,
          6.61925,
          4.96755,
          13.4641,
          0.954091,
          10.0168,
          1.33188,
          0.0857124,
          9.19569,
          0.417605,
          4.08364,
          3.46208,
          4.06239,
          3.50694,
          4.40491,
          1.895,
          0.527976,
          0.0303011,
          12.0386,
          2.42156,
          3.2228,
          11.1984,
          3.36852,
          0.531465,
          3.6408,
          3.32891,
          9.48343,
          3.77026,
          7.74364,
          6.80682,
          3.54294,
          9.57905,
          3.53946,
          9.36268,
          9.52504,
          2.07328,
          7.0981,
          0.976795,
          2.07621,
          2.01169,
          0.772462,
          9.02259,
          0.872159,
          5.69215,
          0.291642,
          6.68297,
          0.833228,
          3.15262,
          1.41958,
          7.75775,
          2.9364,
          3.97861,
          6.31838,
          4.84787,
          1.26825,
          7.91317,
          0,
          10.9321,
          7.86105,
          8.00853,
          3.40129,
          10.5492,
          -0.0149444,
          5.68625,
          8.0046,
          2.03328,
          5.40309,
          11.5597,
          3.35107,
          2.51513,
          6.71554,
          7.67674,
          1.7475,
          5.97434,
          1.02889,
          8.52938,
          5.95218,
          8.95216,
          6.54895,
          2.66921,
          4.45922,
          11.2822,
          13.2987,
          4.25647,
          0.0266438,
          2.69788,
          9.32364,
          8.26979,
          11.5303,
          5.75726,
          13.3409,
          10.8874,
          3.67126,
          1.76313,
          3.37263,
          11.7273,
          8.90903,
          1.14481,
          0.964764,
          1.00205,
          9.22905,
          7.8295,
          7.30624,
          8.13571,
          6.198,
          7.60079,
          0.93676,
          3.66466,
          1.15149,
          11.1497,
          0.0319412,
          9.52989,
          8.68543,
          1.56666,
          4.6776,
          8.41313,
          7.01473,
          4.72419,
          12.2335,
          8.60696,
          3.23481,
          7.63045,
          1.82087,
          2.1538,
          3.1031,
          9.99548,
          5.08266,
          7.70878,
          6.18662,
          6.38983,
          3.47034,
          6.95992,
          4.67398,
          11.0652,
          1.09612,
          4.33007,
          11.1031,
          7.60627,
          4.31532,
          9.25469,
          4.13732,
          7.07166,
          2.27929,
          3.8064,
          0.959037,
          11.4138,
          1.21458,
          2.89074,
          0.247847,
          12.0343,
          2.47202,
          0.518148,
          10.7673,
          5.35141,
          0.3379,
          1.08398,
          7.30243,
          0.370045,
          3.94314,
          1.16203,
          3.71891,
          4.72239,
          0.505693,
          4.8611,
          -0.072858,
          6.72656,
          4.15353,
          10.9122,
          11.348,
          1.06035,
          -0.317531,
          0.0424965,
          10.8186,
          2.17016,
          6.66669,
          1.37861,
          6.72506,
          1.77087,
          1.32107,
          8.77423,
          10.7978,
          1.74037,
          2.21381,
          4.21924,
          2.25232,
          1.25927,
          8.58581,
          3.30892,
          7.62855,
          10.4505,
          1.03172,
          0.803022,
          11.572,
          6.82051,
          6.14858,
          8.05727,
          14.645,
          0.0159112,
          4.97742,
          2.00335,
          2.89434,
          1.65569,
          12.8598,
          3.09008,
          1.5619,
          7.77601,
          12.4963,
          5.0275,
          5.94928,
          2.58656,
          13.6213,
          3.22817,
          5.28779,
          0.907461,
          1.32005,
          3.24853,
          0.87215,
          0.320622,
          5.24346,
          -0.0530735,
          0.653589,
          6.93368,
          1.62848,
          8.49834,
          3.84502,
          9.17989,
          1.6844,
          13.0423,
          1.65316,
          1.36895,
          0.94299,
          3.30401,
          2.25166,
          11.5782,
          10.4429,
          1.82307,
          4.97089,
          12.5102,
          7.39781,
          0.1905,
          0.602724,
          6.83227,
          1.87323,
          11.7995,
          5.17288,
          2.43418,
          5.35497,
          1.45672,
          6.48604,
          3.33199,
          0.548573,
          2.93031,
          2.17781,
          12.8852,
          5.36465,
          1.48955,
          1.0226,
          4.59463,
          12.1568,
          4.19118,
          2.01307,
          9.02943,
          1.14099,
          12.2822,
          2.11261,
          2.20133,
          4.17065,
          6.64748,
          11.8199,
          8.77522,
          4.94034,
          0.972497,
          11.2059,
          6.94668,
          7.15541,
          1.27851,
          0.885854,
          10.5635,
          10.913,
          2.15074,
          1.17292,
          0.658244,
          7.91776,
          10.4921,
          4.76007,
          4.34425,
          7.62617,
          2.11669,
          8.91329,
          5.77695,
          3.46071,
          0,
          2.35629,
          0.914483,
          0,
          2.51941,
          3.18204,
          6.03678,
          2.06884,
          1.05178,
          4.59336,
          9.79586,
          2.62219,
          6.51651,
          10.6367,
          9.08845,
          8.48417,
          1.37989,
          9.28204,
          4.92504,
          7.54041,
          9.99052,
          7.17019,
          10.7643,
          5.5471,
          11.4961,
          3.29508,
          3.54294,
          2.55751,
          3.35879,
          0.00986078,
          4.87212,
          8.6821,
          7.14463,
          9.7941,
          3.29339,
          9.23486,
          7.96092,
          1.48843,
          6.22108,
          8.47128,
          0.848394,
          7.5944,
          9.54245,
          13.8343,
          0.584399,
          1.0324,
          0.161318,
          3.16946,
          -0.176393,
          8.14249
         ],
         "z": [
          1717,
          3,
          52,
          192,
          8,
          138,
          265,
          17873,
          86,
          26,
          29,
          72,
          49296,
          11,
          34,
          58,
          8,
          6,
          14,
          4,
          12,
          101,
          99999,
          14018,
          1,
          12,
          5,
          11,
          26,
          3,
          5,
          0,
          33,
          405,
          375,
          30916,
          17,
          45,
          5,
          18,
          133,
          10758,
          143,
          36,
          195,
          0,
          3,
          6,
          12,
          99999,
          8,
          79,
          49,
          821,
          24101,
          2,
          140,
          6726,
          963,
          2,
          23,
          148,
          71,
          48285,
          91,
          26,
          11,
          17,
          25194,
          217,
          40,
          64169,
          7493,
          656,
          9,
          4,
          181,
          99999,
          17,
          99,
          6364,
          2,
          7,
          49,
          14078,
          6,
          99999,
          10133,
          99999,
          361,
          37238,
          174,
          8692,
          321,
          7,
          3117920,
          4,
          27,
          12,
          30341,
          5,
          3,
          27,
          99999,
          73,
          16,
          24569,
          3087,
          49,
          2,
          7,
          42,
          12,
          97883,
          771,
          3,
          2,
          15,
          13,
          20,
          10,
          476,
          60,
          12895,
          11822,
          26,
          74,
          11,
          12071,
          5,
          0,
          1749,
          685,
          4004,
          222,
          54599,
          934,
          11,
          103,
          99999,
          9,
          48,
          84,
          916,
          50291,
          34,
          6,
          5,
          79,
          23,
          9,
          318,
          122,
          14,
          24,
          22023,
          6491,
          24,
          4,
          37,
          110,
          45,
          21,
          135,
          98,
          2,
          3,
          22,
          452,
          7,
          9,
          8806,
          50,
          12,
          77505,
          5,
          3,
          10,
          2,
          7,
          45,
          601360,
          3426,
          33,
          153,
          24,
          15,
          141,
          33,
          53,
          9,
          2,
          3,
          19,
          4,
          67,
          67099,
          61,
          10,
          2,
          9,
          1112280,
          10,
          12,
          5,
          175,
          9277,
          4,
          10,
          214,
          72,
          6,
          86,
          4,
          160,
          10,
          20,
          27,
          21,
          3,
          230,
          5,
          99999,
          14,
          54330,
          3702,
          32,
          99999,
          931814,
          14,
          26,
          3,
          8,
          125,
          3,
          3560,
          3,
          22,
          10,
          9,
          361,
          6,
          16,
          4,
          67,
          0,
          6,
          247,
          8,
          143,
          161,
          45,
          99999,
          17545,
          10,
          5,
          587,
          49,
          3328,
          8,
          2,
          14,
          20,
          13,
          6,
          78,
          10410,
          8,
          11,
          99999,
          4,
          14043,
          64515,
          223,
          102,
          10,
          6,
          62,
          4,
          9340,
          35,
          37,
          7,
          243,
          27,
          99999,
          30,
          32,
          8,
          596,
          99999,
          10,
          5614,
          10,
          3987,
          980,
          6,
          23081,
          10,
          21,
          39,
          8402,
          1733,
          37,
          922,
          27,
          42,
          2,
          19,
          10,
          99999,
          0,
          3662,
          18,
          11247,
          9,
          21,
          503,
          50,
          6,
          2,
          5901,
          99999,
          2,
          1306720,
          48,
          95,
          688,
          54955,
          4,
          0,
          20,
          5600,
          58,
          12978,
          42,
          8022,
          58890,
          72,
          166,
          79,
          17,
          103,
          3621,
          21,
          829,
          1728,
          18662,
          13,
          5603,
          22,
          41,
          6,
          76,
          117,
          290,
          2,
          4011,
          5,
          1128,
          925,
          194,
          129544,
          3,
          5,
          441,
          302,
          12,
          360,
          9,
          569,
          75,
          3155,
          627,
          455,
          18,
          7,
          329,
          4,
          8411,
          376,
          127695,
          5,
          79,
          11,
          12,
          5,
          14973,
          70,
          4415,
          1473,
          45,
          5,
          40,
          271,
          45,
          85,
          4,
          11428,
          53829,
          99999,
          99999,
          110,
          349,
          75160,
          4,
          595574,
          10179,
          156,
          468,
          190,
          10699,
          11,
          4,
          2156,
          18,
          10,
          202,
          23,
          5554,
          8,
          6,
          7,
          12385,
          661,
          59,
          777,
          7,
          36,
          3,
          30688,
          13,
          12,
          18,
          86825,
          82,
          64,
          89,
          6,
          953033,
          274,
          843,
          54,
          92054,
          332,
          195565,
          225,
          2,
          34,
          47,
          3,
          17,
          45501,
          2,
          52,
          115,
          7,
          32,
          20135,
          27,
          24,
          9,
          18562,
          9,
          24,
          99553,
          2,
          15,
          12736,
          1,
          219279,
          147,
          8,
          8,
          72,
          3942,
          53,
          17,
          11204,
          2,
          93292,
          8,
          10,
          17,
          3,
          65,
          23,
          1158,
          15,
          2,
          68239,
          6,
          10,
          86,
          10297,
          3641,
          3,
          69,
          2,
          41
         ]
        }
       ],
       "layout": {
        "height": 1000,
        "legend": {
         "itemsizing": "constant",
         "title": {
          "text": "lncRNA"
         },
         "tracegroupgap": 0
        },
        "margin": {
         "b": 1,
         "l": 1,
         "r": 1,
         "t": 1
        },
        "scene": {
         "domain": {
          "x": [
           0,
           1
          ],
          "y": [
           0,
           1
          ]
         },
         "xaxis": {
          "gridcolor": "lightpink",
          "gridwidth": 2,
          "showbackground": false,
          "showgrid": true,
          "showticklabels": false,
          "title": {
           "text": "mean_remap"
          },
          "type": "log"
         },
         "yaxis": {
          "gridcolor": "lightpink",
          "gridwidth": 2,
          "range": [
           -0.5,
           1.5
          ],
          "showbackground": false,
          "showgrid": true,
          "showticklabels": false,
          "title": {
           "text": "mean_pPcons124"
          },
          "type": "log"
         },
         "zaxis": {
          "gridcolor": "lightpink",
          "gridwidth": 2,
          "range": [
           0,
           4
          ],
          "showbackground": false,
          "showgrid": true,
          "showticklabels": false,
          "title": {
           "text": "bestTSS"
          },
          "type": "log"
         }
        },
        "template": {
         "data": {
          "bar": [
           {
            "error_x": {
             "color": "#2a3f5f"
            },
            "error_y": {
             "color": "#2a3f5f"
            },
            "marker": {
             "line": {
              "color": "#E5ECF6",
              "width": 0.5
             },
             "pattern": {
              "fillmode": "overlay",
              "size": 10,
              "solidity": 0.2
             }
            },
            "type": "bar"
           }
          ],
          "barpolar": [
           {
            "marker": {
             "line": {
              "color": "#E5ECF6",
              "width": 0.5
             },
             "pattern": {
              "fillmode": "overlay",
              "size": 10,
              "solidity": 0.2
             }
            },
            "type": "barpolar"
           }
          ],
          "carpet": [
           {
            "aaxis": {
             "endlinecolor": "#2a3f5f",
             "gridcolor": "white",
             "linecolor": "white",
             "minorgridcolor": "white",
             "startlinecolor": "#2a3f5f"
            },
            "baxis": {
             "endlinecolor": "#2a3f5f",
             "gridcolor": "white",
             "linecolor": "white",
             "minorgridcolor": "white",
             "startlinecolor": "#2a3f5f"
            },
            "type": "carpet"
           }
          ],
          "choropleth": [
           {
            "colorbar": {
             "outlinewidth": 0,
             "ticks": ""
            },
            "type": "choropleth"
           }
          ],
          "contour": [
           {
            "colorbar": {
             "outlinewidth": 0,
             "ticks": ""
            },
            "colorscale": [
             [
              0,
              "#0d0887"
             ],
             [
              0.1111111111111111,
              "#46039f"
             ],
             [
              0.2222222222222222,
              "#7201a8"
             ],
             [
              0.3333333333333333,
              "#9c179e"
             ],
             [
              0.4444444444444444,
              "#bd3786"
             ],
             [
              0.5555555555555556,
              "#d8576b"
             ],
             [
              0.6666666666666666,
              "#ed7953"
             ],
             [
              0.7777777777777778,
              "#fb9f3a"
             ],
             [
              0.8888888888888888,
              "#fdca26"
             ],
             [
              1,
              "#f0f921"
             ]
            ],
            "type": "contour"
           }
          ],
          "contourcarpet": [
           {
            "colorbar": {
             "outlinewidth": 0,
             "ticks": ""
            },
            "type": "contourcarpet"
           }
          ],
          "heatmap": [
           {
            "colorbar": {
             "outlinewidth": 0,
             "ticks": ""
            },
            "colorscale": [
             [
              0,
              "#0d0887"
             ],
             [
              0.1111111111111111,
              "#46039f"
             ],
             [
              0.2222222222222222,
              "#7201a8"
             ],
             [
              0.3333333333333333,
              "#9c179e"
             ],
             [
              0.4444444444444444,
              "#bd3786"
             ],
             [
              0.5555555555555556,
              "#d8576b"
             ],
             [
              0.6666666666666666,
              "#ed7953"
             ],
             [
              0.7777777777777778,
              "#fb9f3a"
             ],
             [
              0.8888888888888888,
              "#fdca26"
             ],
             [
              1,
              "#f0f921"
             ]
            ],
            "type": "heatmap"
           }
          ],
          "heatmapgl": [
           {
            "colorbar": {
             "outlinewidth": 0,
             "ticks": ""
            },
            "colorscale": [
             [
              0,
              "#0d0887"
             ],
             [
              0.1111111111111111,
              "#46039f"
             ],
             [
              0.2222222222222222,
              "#7201a8"
             ],
             [
              0.3333333333333333,
              "#9c179e"
             ],
             [
              0.4444444444444444,
              "#bd3786"
             ],
             [
              0.5555555555555556,
              "#d8576b"
             ],
             [
              0.6666666666666666,
              "#ed7953"
             ],
             [
              0.7777777777777778,
              "#fb9f3a"
             ],
             [
              0.8888888888888888,
              "#fdca26"
             ],
             [
              1,
              "#f0f921"
             ]
            ],
            "type": "heatmapgl"
           }
          ],
          "histogram": [
           {
            "marker": {
             "pattern": {
              "fillmode": "overlay",
              "size": 10,
              "solidity": 0.2
             }
            },
            "type": "histogram"
           }
          ],
          "histogram2d": [
           {
            "colorbar": {
             "outlinewidth": 0,
             "ticks": ""
            },
            "colorscale": [
             [
              0,
              "#0d0887"
             ],
             [
              0.1111111111111111,
              "#46039f"
             ],
             [
              0.2222222222222222,
              "#7201a8"
             ],
             [
              0.3333333333333333,
              "#9c179e"
             ],
             [
              0.4444444444444444,
              "#bd3786"
             ],
             [
              0.5555555555555556,
              "#d8576b"
             ],
             [
              0.6666666666666666,
              "#ed7953"
             ],
             [
              0.7777777777777778,
              "#fb9f3a"
             ],
             [
              0.8888888888888888,
              "#fdca26"
             ],
             [
              1,
              "#f0f921"
             ]
            ],
            "type": "histogram2d"
           }
          ],
          "histogram2dcontour": [
           {
            "colorbar": {
             "outlinewidth": 0,
             "ticks": ""
            },
            "colorscale": [
             [
              0,
              "#0d0887"
             ],
             [
              0.1111111111111111,
              "#46039f"
             ],
             [
              0.2222222222222222,
              "#7201a8"
             ],
             [
              0.3333333333333333,
              "#9c179e"
             ],
             [
              0.4444444444444444,
              "#bd3786"
             ],
             [
              0.5555555555555556,
              "#d8576b"
             ],
             [
              0.6666666666666666,
              "#ed7953"
             ],
             [
              0.7777777777777778,
              "#fb9f3a"
             ],
             [
              0.8888888888888888,
              "#fdca26"
             ],
             [
              1,
              "#f0f921"
             ]
            ],
            "type": "histogram2dcontour"
           }
          ],
          "mesh3d": [
           {
            "colorbar": {
             "outlinewidth": 0,
             "ticks": ""
            },
            "type": "mesh3d"
           }
          ],
          "parcoords": [
           {
            "line": {
             "colorbar": {
              "outlinewidth": 0,
              "ticks": ""
             }
            },
            "type": "parcoords"
           }
          ],
          "pie": [
           {
            "automargin": true,
            "type": "pie"
           }
          ],
          "scatter": [
           {
            "fillpattern": {
             "fillmode": "overlay",
             "size": 10,
             "solidity": 0.2
            },
            "type": "scatter"
           }
          ],
          "scatter3d": [
           {
            "line": {
             "colorbar": {
              "outlinewidth": 0,
              "ticks": ""
             }
            },
            "marker": {
             "colorbar": {
              "outlinewidth": 0,
              "ticks": ""
             }
            },
            "type": "scatter3d"
           }
          ],
          "scattercarpet": [
           {
            "marker": {
             "colorbar": {
              "outlinewidth": 0,
              "ticks": ""
             }
            },
            "type": "scattercarpet"
           }
          ],
          "scattergeo": [
           {
            "marker": {
             "colorbar": {
              "outlinewidth": 0,
              "ticks": ""
             }
            },
            "type": "scattergeo"
           }
          ],
          "scattergl": [
           {
            "marker": {
             "colorbar": {
              "outlinewidth": 0,
              "ticks": ""
             }
            },
            "type": "scattergl"
           }
          ],
          "scattermapbox": [
           {
            "marker": {
             "colorbar": {
              "outlinewidth": 0,
              "ticks": ""
             }
            },
            "type": "scattermapbox"
           }
          ],
          "scatterpolar": [
           {
            "marker": {
             "colorbar": {
              "outlinewidth": 0,
              "ticks": ""
             }
            },
            "type": "scatterpolar"
           }
          ],
          "scatterpolargl": [
           {
            "marker": {
             "colorbar": {
              "outlinewidth": 0,
              "ticks": ""
             }
            },
            "type": "scatterpolargl"
           }
          ],
          "scatterternary": [
           {
            "marker": {
             "colorbar": {
              "outlinewidth": 0,
              "ticks": ""
             }
            },
            "type": "scatterternary"
           }
          ],
          "surface": [
           {
            "colorbar": {
             "outlinewidth": 0,
             "ticks": ""
            },
            "colorscale": [
             [
              0,
              "#0d0887"
             ],
             [
              0.1111111111111111,
              "#46039f"
             ],
             [
              0.2222222222222222,
              "#7201a8"
             ],
             [
              0.3333333333333333,
              "#9c179e"
             ],
             [
              0.4444444444444444,
              "#bd3786"
             ],
             [
              0.5555555555555556,
              "#d8576b"
             ],
             [
              0.6666666666666666,
              "#ed7953"
             ],
             [
              0.7777777777777778,
              "#fb9f3a"
             ],
             [
              0.8888888888888888,
              "#fdca26"
             ],
             [
              1,
              "#f0f921"
             ]
            ],
            "type": "surface"
           }
          ],
          "table": [
           {
            "cells": {
             "fill": {
              "color": "#EBF0F8"
             },
             "line": {
              "color": "white"
             }
            },
            "header": {
             "fill": {
              "color": "#C8D4E3"
             },
             "line": {
              "color": "white"
             }
            },
            "type": "table"
           }
          ]
         },
         "layout": {
          "annotationdefaults": {
           "arrowcolor": "#2a3f5f",
           "arrowhead": 0,
           "arrowwidth": 1
          },
          "autotypenumbers": "strict",
          "coloraxis": {
           "colorbar": {
            "outlinewidth": 0,
            "ticks": ""
           }
          },
          "colorscale": {
           "diverging": [
            [
             0,
             "#8e0152"
            ],
            [
             0.1,
             "#c51b7d"
            ],
            [
             0.2,
             "#de77ae"
            ],
            [
             0.3,
             "#f1b6da"
            ],
            [
             0.4,
             "#fde0ef"
            ],
            [
             0.5,
             "#f7f7f7"
            ],
            [
             0.6,
             "#e6f5d0"
            ],
            [
             0.7,
             "#b8e186"
            ],
            [
             0.8,
             "#7fbc41"
            ],
            [
             0.9,
             "#4d9221"
            ],
            [
             1,
             "#276419"
            ]
           ],
           "sequential": [
            [
             0,
             "#0d0887"
            ],
            [
             0.1111111111111111,
             "#46039f"
            ],
            [
             0.2222222222222222,
             "#7201a8"
            ],
            [
             0.3333333333333333,
             "#9c179e"
            ],
            [
             0.4444444444444444,
             "#bd3786"
            ],
            [
             0.5555555555555556,
             "#d8576b"
            ],
            [
             0.6666666666666666,
             "#ed7953"
            ],
            [
             0.7777777777777778,
             "#fb9f3a"
            ],
            [
             0.8888888888888888,
             "#fdca26"
            ],
            [
             1,
             "#f0f921"
            ]
           ],
           "sequentialminus": [
            [
             0,
             "#0d0887"
            ],
            [
             0.1111111111111111,
             "#46039f"
            ],
            [
             0.2222222222222222,
             "#7201a8"
            ],
            [
             0.3333333333333333,
             "#9c179e"
            ],
            [
             0.4444444444444444,
             "#bd3786"
            ],
            [
             0.5555555555555556,
             "#d8576b"
            ],
            [
             0.6666666666666666,
             "#ed7953"
            ],
            [
             0.7777777777777778,
             "#fb9f3a"
            ],
            [
             0.8888888888888888,
             "#fdca26"
            ],
            [
             1,
             "#f0f921"
            ]
           ]
          },
          "colorway": [
           "#636efa",
           "#EF553B",
           "#00cc96",
           "#ab63fa",
           "#FFA15A",
           "#19d3f3",
           "#FF6692",
           "#B6E880",
           "#FF97FF",
           "#FECB52"
          ],
          "font": {
           "color": "#2a3f5f"
          },
          "geo": {
           "bgcolor": "white",
           "lakecolor": "white",
           "landcolor": "#E5ECF6",
           "showlakes": true,
           "showland": true,
           "subunitcolor": "white"
          },
          "hoverlabel": {
           "align": "left"
          },
          "hovermode": "closest",
          "mapbox": {
           "style": "light"
          },
          "paper_bgcolor": "white",
          "plot_bgcolor": "#E5ECF6",
          "polar": {
           "angularaxis": {
            "gridcolor": "white",
            "linecolor": "white",
            "ticks": ""
           },
           "bgcolor": "#E5ECF6",
           "radialaxis": {
            "gridcolor": "white",
            "linecolor": "white",
            "ticks": ""
           }
          },
          "scene": {
           "xaxis": {
            "backgroundcolor": "#E5ECF6",
            "gridcolor": "white",
            "gridwidth": 2,
            "linecolor": "white",
            "showbackground": true,
            "ticks": "",
            "zerolinecolor": "white"
           },
           "yaxis": {
            "backgroundcolor": "#E5ECF6",
            "gridcolor": "white",
            "gridwidth": 2,
            "linecolor": "white",
            "showbackground": true,
            "ticks": "",
            "zerolinecolor": "white"
           },
           "zaxis": {
            "backgroundcolor": "#E5ECF6",
            "gridcolor": "white",
            "gridwidth": 2,
            "linecolor": "white",
            "showbackground": true,
            "ticks": "",
            "zerolinecolor": "white"
           }
          },
          "shapedefaults": {
           "line": {
            "color": "#2a3f5f"
           }
          },
          "ternary": {
           "aaxis": {
            "gridcolor": "white",
            "linecolor": "white",
            "ticks": ""
           },
           "baxis": {
            "gridcolor": "white",
            "linecolor": "white",
            "ticks": ""
           },
           "bgcolor": "#E5ECF6",
           "caxis": {
            "gridcolor": "white",
            "linecolor": "white",
            "ticks": ""
           }
          },
          "title": {
           "x": 0.05
          },
          "xaxis": {
           "automargin": true,
           "gridcolor": "white",
           "linecolor": "white",
           "ticks": "",
           "title": {
            "standoff": 15
           },
           "zerolinecolor": "white",
           "zerolinewidth": 2
          },
          "yaxis": {
           "automargin": true,
           "gridcolor": "white",
           "linecolor": "white",
           "ticks": "",
           "title": {
            "standoff": 15
           },
           "zerolinecolor": "white",
           "zerolinewidth": 2
          }
         }
        },
        "width": 800
       }
      },
      "text/html": [
       "<div>                            <div id=\"2594808a-14ef-48b9-9c76-b32396f6a9d3\" class=\"plotly-graph-div\" style=\"height:1000px; width:800px;\"></div>            <script type=\"text/javascript\">                require([\"plotly\"], function(Plotly) {                    window.PLOTLYENV=window.PLOTLYENV || {};                                    if (document.getElementById(\"2594808a-14ef-48b9-9c76-b32396f6a9d3\")) {                    Plotly.newPlot(                        \"2594808a-14ef-48b9-9c76-b32396f6a9d3\",                        [{\"customdata\":[[\"FBtr0308769.1\"],[\"FBtr0344328.1\"],[\"FBtr0344903.2\"],[\"FBtr0340530.3\"],[\"FBtr0347539.1\"],[\"FBtr0073628\"],[\"FBtr0343744\"],[\"FBtr0111046.1\"],[\"FBtr0334107.1\"],[\"FBtr0309038.3\"],[\"FBtr0345221.1\"],[\"FBtr0334789.1\"],[\"FBtr0445673.1\"],[\"FBtr0336894.5\"],[\"FBtr0309284.2\"],[\"FBtr0347128.1\"],[\"FBtr0347165\"],[\"FBtr0342875.1\"],[\"FBtr0340723\"],[\"FBtr0340701\"],[\"FBtr0344761\"],[\"FBtr0342849.1\"],[\"FBtr0344484\"],[\"FBtr0342862.1\"],[\"FBtr0308761\"],[\"FBtr0347204\"],[\"FBtr0333481.1\"],[\"FBtr0344571\"],[\"FBtr0333457\"],[\"FBtr0339798.2\"],[\"FBtr0309199\"],[\"FBtr0347042.1\"],[\"FBtr0334932\"],[\"FBtr0342975\"],[\"FBtr0344035.2\"],[\"FBtr0345759\"],[\"FBtr0303008\"],[\"FBtr0346020\"],[\"FBtr0344563\"],[\"FBtr0433532\"],[\"FBtr0346287.1\"],[\"FBtr0307113.2\"],[\"FBtr0083362.2\"],[\"FBtr0308941.2\"],[\"FBtr0344829\"],[\"FBtr0452182\"],[\"FBtr0345484.3\"],[\"FBtr0346943\"],[\"FBtr0346206\"],[\"FBtr0347244\"],[\"FBtr0339587\"],[\"FBtr0340566.1\"],[\"FBtr0347119.4\"],[\"FBtr0340584\"],[\"FBtr0345310.1\"],[\"FBtr0336933.1\"],[\"FBtr0344144.1\"],[\"FBtr0343901.1\"],[\"FBtr0308755.2\"],[\"FBtr0347469.3\"],[\"FBtr0345082.6\"],[\"FBtr0342582\"],[\"FBtr0342678\"],[\"FBtr0475066.1\"],[\"FBtr0344580\"],[\"FBtr0347488.3\"],[\"FBtr0346352.1\"],[\"FBtr0345234.1\"],[\"FBtr0347022\"],[\"FBtr0475040.4\"],[\"FBtr0346556.1\"],[\"FBtr0343445\"],[\"FBtr0346051\"],[\"FBtr0347093.1\"],[\"FBtr0343194\"],[\"FBtr0347112.1\"],[\"FBtr0306320.1\"],[\"FBtr0472678.1\"],[\"FBtr0344073.4\"],[\"FBtr0345125.2\"],[\"FBtr0346054\"],[\"FBtr0333905.1\"],[\"FBtr0332780.4\"],[\"FBtr0345569.1\"],[\"FBtr0309806.1\"],[\"FBtr0346209\"],[\"FBtr0342996\"],[\"FBtr0479733.1\"],[\"FBtr0336931\"],[\"FBtr0343709.1\"],[\"FBtr0472921.4\"],[\"FBtr0340639\"],[\"FBtr0306838\"],[\"FBtr0344588.1\"],[\"FBtr0347177\"],[\"FBtr0308775.2\"],[\"FBtr0344946\"],[\"FBtr0479959\"],[\"FBtr0346217.1\"],[\"FBtr0347544.1\"],[\"FBtr0345394\"],[\"FBtr0306340.6\"],[\"FBtr0303212\"],[\"FBtr0479732\"],[\"FBtr0339929.1\"],[\"FBtr0347407\"],[\"FBtr0308927.2\"],[\"FBtr0331291\"],[\"FBtr0347019.2\"],[\"FBtr0310112\"],[\"FBtr0309983.2\"],[\"FBtr0343098.1\"],[\"FBtr0344313.2\"],[\"FBtr0342835\"],[\"FBtr0347353\"],[\"FBtr0309304\"],[\"FBtr0343868\"],[\"FBtr0303450.2\"],[\"FBtr0070635.2\"],[\"FBtr0342697.1\"],[\"FBtr0346490\"],[\"FBtr0347237.2\"],[\"FBtr0346201.1\"],[\"FBtr0344884.1\"],[\"FBtr0347245.1\"],[\"FBtr0339231.2\"],[\"FBtr0345531\"],[\"FBtr0343654\"],[\"FBtr0346226.1\"],[\"FBtr0332753.2\"],[\"FBtr0332567\"],[\"FBtr0343230\"],[\"FBtr0342908\"],[\"FBtr0344393.1\"],[\"FBtr0345767\"],[\"FBtr0343797.3\"],[\"FBtr0114267.3\"],[\"FBtr0309985.2\"],[\"FBtr0345769.2\"],[\"FBtr0340641.2\"],[\"FBtr0336892.6\"],[\"FBtr0346439.1\"],[\"FBtr0334793\"],[\"FBtr0347339\"],[\"FBtr0306836\"],[\"FBtr0452164\"],[\"FBtr0346228.1\"],[\"FBtr0345867.1\"],[\"FBtr0339927\"],[\"FBtr0336890\"],[\"FBtr0343746.1\"],[\"FBtr0336893.2\"],[\"FBtr0309283.1\"],[\"FBtr0330688.2\"],[\"FBtr0452191\"],[\"FBtr0332279.4\"],[\"FBtr0344645.1\"],[\"FBtr0342699\"],[\"FBtr0342912.1\"],[\"FBtr0345159.2\"],[\"FBtr0344590.1\"],[\"FBtr0339810\"],[\"FBtr0340648.1\"],[\"FBtr0306339.4\"],[\"FBtr0336742.5\"],[\"FBtr0345003\"],[\"FBtr0309993.3\"],[\"FBtr0306831.4\"],[\"FBtr0472916.2\"],[\"FBtr0343985\"],[\"FBtr0308923\"],[\"FBtr0344393\"],[\"FBtr0306733.2\"],[\"FBtr0415457.3\"],[\"FBtr0308766.3\"],[\"FBtr0309513.1\"],[\"FBtr0346994\"],[\"FBtr0333775\"],[\"FBtr0330689.2\"],[\"FBtr0345243.1\"],[\"FBtr0346988\"],[\"FBtr0336889.4\"],[\"FBtr0334864.1\"],[\"FBtr0345479\"],[\"FBtr0309068\"],[\"FBtr0342912\"],[\"FBtr0344588\"],[\"FBtr0308778.2\"],[\"FBtr0347237.1\"],[\"FBtr0344599.2\"],[\"FBtr0340504.1\"],[\"FBtr0343679.2\"],[\"FBtr0479949.2\"],[\"FBtr0344936.1\"],[\"FBtr0303300.1\"],[\"FBtr0347331.1\"],[\"FBtr0306840.1\"],[\"FBtr0343889\"],[\"FBtr0340685\"],[\"FBtr0347476.2\"],[\"FBtr0340607.1\"],[\"FBtr0344413.1\"],[\"FBtr0342867.1\"],[\"FBtr0347511.2\"],[\"FBtr0346180.1\"],[\"FBtr0309291.1\"],[\"FBtr0340285.1\"],[\"FBtr0329830.2\"],[\"FBtr0346489\"],[\"FBtr0343176.1\"],[\"FBtr0479697.1\"],[\"FBtr0340536\"],[\"FBtr0346224.1\"],[\"FBtr0345082\"],[\"FBtr0347407.1\"],[\"FBtr0345240.2\"],[\"FBtr0321273.1\"],[\"FBtr0347226.5\"],[\"FBtr0343903.1\"],[\"FBtr0347313.1\"],[\"FBtr0347253\"],[\"FBtr0345401\"],[\"FBtr0339404.1\"],[\"FBtr0339083.1\"],[\"FBtr0334764\"],[\"FBtr0475044.2\"],[\"FBtr0345055.2\"],[\"FBtr0335017.2\"],[\"FBtr0346930\"],[\"FBtr0347426\"],[\"FBtr0309186\"],[\"FBtr0344581.3\"],[\"FBtr0332280.2\"],[\"FBtr0347177.1\"],[\"FBtr0347052\"],[\"FBtr0332601\"],[\"FBtr0344059.1\"],[\"FBtr0344307.2\"],[\"FBtr0345123.3\"],[\"FBtr0347130\"],[\"FBtr0346602\"],[\"FBtr0345421.1\"],[\"FBtr0345958.1\"],[\"FBtr0308358\"],[\"FBtr0343729\"],[\"FBtr0308925\"],[\"FBtr0445667\"],[\"FBtr0346317.1\"],[\"FBtr0301248.1\"],[\"FBtr0332019\"],[\"FBtr0343153.2\"],[\"FBtr0343743\"],[\"FBtr0475043.1\"],[\"FBtr0344060.1\"],[\"FBtr0309994\"],[\"FBtr0342634.2\"],[\"FBtr0309314\"],[\"FBtr0340721\"],[\"FBtr0346473.1\"],[\"FBtr0334819.3\"],[\"FBtr0343259.1\"],[\"FBtr0345475.1\"],[\"FBtr0346978\"],[\"FBtr0337068.1\"],[\"FBtr0345885.1\"],[\"FBtr0306338.7\"],[\"FBtr0345125.3\"],[\"FBtr0329833.1\"],[\"FBtr0475139.1\"],[\"FBtr0308067\"],[\"FBtr0342610\"],[\"FBtr0479976\"],[\"FBtr0346081.1\"],[\"FBtr0345199.1\"],[\"FBtr0347308.2\"],[\"FBtr0344963.3\"],[\"FBtr0347254.1\"],[\"FBtr0344727.1\"],[\"FBtr0343760\"],[\"FBtr0306319.1\"],[\"FBtr0345855.1\"],[\"FBtr0345913.1\"],[\"FBtr0345913\"],[\"FBtr0300230.8\"],[\"FBtr0347312.1\"],[\"FBtr0344246.1\"],[\"FBtr0345150.2\"],[\"FBtr0340075.1\"],[\"FBtr0344645\"],[\"FBtr0335192.1\"],[\"FBtr0083342.1\"],[\"FBtr0346045\"],[\"FBtr0347507.2\"],[\"FBtr0307116.3\"],[\"FBtr0346217\"],[\"FBtr0342827\"],[\"FBtr0343670.1\"],[\"FBtr0309897.7\"],[\"FBtr0345780.2\"],[\"FBtr0309981.1\"],[\"FBtr0347234.1\"],[\"FBtr0347483.1\"],[\"FBtr0332596.3\"],[\"FBtr0472956.1\"],[\"FBtr0333558.2\"],[\"FBtr0344325.1\"],[\"FBtr0339620\"],[\"FBtr0472592\"],[\"FBtr0346826\"],[\"FBtr0340264.1\"],[\"FBtr0347050\"],[\"FBtr0343732\"],[\"FBtr0309061.4\"],[\"FBtr0345742.1\"],[\"FBtr0345454.1\"],[\"FBtr0344074.1\"],[\"FBtr0415459.3\"],[\"FBtr0343914.2\"],[\"FBtr0333868\"],[\"FBtr0333763.2\"],[\"FBtr0347071.1\"],[\"FBtr0346291\"],[\"FBtr0339323.1\"],[\"FBtr0472955\"],[\"FBtr0345054.2\"],[\"FBtr0340174.1\"],[\"FBtr0452187\"],[\"FBtr0347223\"],[\"FBtr0332550\"],[\"FBtr0333615\"],[\"FBtr0345538.1\"],[\"FBtr0343035\"],[\"FBtr0345223\"],[\"FBtr0346556\"],[\"FBtr0346980\"],[\"FBtr0334680.2\"],[\"FBtr0344923\"],[\"FBtr0308922\"],[\"FBtr0474096\"],[\"FBtr0479710.1\"],[\"FBtr0344144\"],[\"FBtr0321273.2\"],[\"FBtr0340694\"],[\"FBtr0342585.2\"],[\"FBtr0091636\"],[\"FBtr0344614\"],[\"FBtr0345698.2\"],[\"FBtr0303426.3\"],[\"FBtr0346353\"],[\"FBtr0346783.2\"],[\"FBtr0334945.1\"],[\"FBtr0339470\"],[\"FBtr0303211.2\"],[\"FBtr0344875.1\"],[\"FBtr0342852\"],[\"FBtr0304032\"],[\"FBtr0345223.2\"],[\"FBtr0340181\"],[\"FBtr0343390.1\"],[\"FBtr0344047.2\"],[\"FBtr0345548\"],[\"FBtr0346840.1\"],[\"FBtr0346233.1\"],[\"FBtr0079906.3\"],[\"FBtr0306291\"],[\"FBtr0309200.2\"],[\"FBtr0347328.1\"],[\"FBtr0342749.1\"],[\"FBtr0343905\"],[\"FBtr0344902.2\"],[\"FBtr0334816.1\"],[\"FBtr0339729\"],[\"FBtr0344928.1\"],[\"FBtr0340110.1\"],[\"FBtr0343516.1\"],[\"FBtr0347235\"],[\"FBtr0308940.3\"],[\"FBtr0346235.1\"],[\"FBtr0334665\"],[\"FBtr0344927.2\"],[\"FBtr0343258.1\"],[\"FBtr0345890\"],[\"FBtr0345623.2\"],[\"FBtr0345054.1\"],[\"FBtr0346314\"],[\"FBtr0342713.2\"],[\"FBtr0472592.2\"],[\"FBtr0343219\"],[\"FBtr0303919\"],[\"FBtr0305611.1\"],[\"FBtr0309807.1\"],[\"FBtr0340603.1\"],[\"FBtr0308846.1\"],[\"FBtr0333905.2\"],[\"FBtr0344313\"],[\"FBtr0344641\"],[\"FBtr0332239.1\"],[\"FBtr0347044.1\"],[\"FBtr0345310\"],[\"FBtr0306829.1\"],[\"FBtr0339730.1\"],[\"FBtr0309187.1\"],[\"FBtr0334793.1\"],[\"FBtr0346573\"],[\"FBtr0091636.1\"],[\"FBtr0309818.1\"],[\"FBtr0309788.1\"],[\"FBtr0088361.1\"],[\"FBtr0347520\"],[\"FBtr0347529\"],[\"FBtr0339989\"],[\"FBtr0342647\"],[\"FBtr0343500\"],[\"FBtr0335496\"],[\"FBtr0344562.3\"],[\"FBtr0309820\"],[\"FBtr0309992\"],[\"FBtr0332028.3\"],[\"FBtr0300232.5\"],[\"FBtr0321299.1\"],[\"FBtr0347015.1\"],[\"FBtr0346992\"],[\"FBtr0347120.1\"],[\"FBtr0343005\"],[\"FBtr0339989.1\"],[\"FBtr0346577\"],[\"FBtr0346493\"],[\"FBtr0334704\"],[\"FBtr0473380\"],[\"FBtr0340649\"],[\"FBtr0343702\"],[\"FBtr0347241.1\"],[\"FBtr0344829.2\"],[\"FBtr0344931\"],[\"FBtr0473388.1\"],[\"FBtr0340688\"],[\"FBtr0342651.1\"],[\"FBtr0343925.4\"],[\"FBtr0343975.1\"],[\"FBtr0339186.1\"],[\"FBtr0344952.2\"],[\"FBtr0345247.1\"],[\"FBtr0347101\"],[\"FBtr0332284.1\"],[\"FBtr0335191.3\"],[\"FBtr0340723.1\"],[\"FBtr0346927\"],[\"FBtr0415458.2\"],[\"FBtr0472916\"],[\"FBtr0332524.2\"],[\"FBtr0343843\"],[\"FBtr0346178\"],[\"FBtr0340688.1\"],[\"FBtr0340284.1\"],[\"FBtr0347578.2\"],[\"FBtr0344812.1\"],[\"FBtr0347084.1\"],[\"FBtr0347332\"],[\"FBtr0343866\"],[\"FBtr0346069\"],[\"FBtr0340186.1\"],[\"FBtr0306918.1\"],[\"FBtr0344476.1\"],[\"FBtr0346917\"],[\"FBtr0300231.12\"],[\"FBtr0300233.1\"],[\"FBtr0347495.1\"],[\"FBtr0334987\"],[\"FBtr0308846.3\"],[\"FBtr0345833\"],[\"FBtr0333763.1\"],[\"FBtr0345770\"],[\"FBtr0081385\"],[\"FBtr0306299\"],[\"FBtr0475066\"],[\"FBtr0345198\"],[\"FBtr0342904\"],[\"FBtr0344954.1\"],[\"FBtr0475141.1\"],[\"FBtr0346363.1\"],[\"FBtr0342754\"],[\"FBtr0339404\"],[\"FBtr0305615.1\"],[\"FBtr0340681\"],[\"FBtr0346205.1\"],[\"FBtr0346260\"],[\"FBtr0345565.1\"],[\"FBtr0345642.2\"],[\"FBtr0344109.1\"],[\"FBtr0347335\"],[\"FBtr0346391\"],[\"FBtr0479701.1\"],[\"FBtr0339726\"],[\"FBtr0332518.1\"],[\"FBtr0339604.2\"],[\"FBtr0343670\"],[\"FBtr0306710.2\"],[\"FBtr0336891.1\"],[\"FBtr0336887.7\"],[\"FBtr0345960\"]],\"hovertemplate\":\"lncRNA=True<br>mean_remap=%{x}<br>mean_pPcons124=%{y}<br>bestTSS=%{z}<br>size=%{marker.size}<br>name=%{customdata[0]}<extra></extra>\",\"legendgroup\":\"True\",\"marker\":{\"color\":\"#35B779\",\"opacity\":0.6,\"size\":[6.827629234502852,5.902633333401366,6.35088571671474,4.990432586778736,5.1298987149230735,6.9167150203536085,6.208590026096629,6.466144724237619,5.8664680569332965,4.820281565605037,7.578145472419466,6.206575926724928,5.726847747587197,3.6375861597263857,6.680854678790215,6.12029741895095,6.679599185844383,6.401917196727186,6.327936783729195,5.966146739123692,6.1070228877422545,5.003946305945459,6.771935555839602,5.765191102784844,6.437751649736401,6.186208623900494,7.336285660021297,6.925595197110468,7.079184394609668,6.393590753950631,7.987184748233473,6.059123195581797,6.049733455231958,9.301825062098361,5.030437921392435,6.111467339502679,9.447702360527948,7.500529485395295,5.940171252720432,5.68697535633982,6.826545223556594,3.4011973816621555,6.851184927493743,4.290459441148391,7.441906728051625,6.595780513961311,5.831882477283517,6.439350371100098,7.612336837167746,7.54274354536855,6.398594934535208,5.998936561946683,7.011213987350367,6.481577129276431,5.2574953720277815,4.204692619390966,6.699500340161678,4.795790545596741,6.186208623900494,3.4339872044851463,5.111987788356544,6.393590753950631,6.55250788703459,6.405228458030842,6.2878585601617845,6.1779441140506,5.945420608606575,6.461468176353717,7.065613363597717,4.174387269895637,6.253828811575473,6.90875477931522,6.082218910376446,6.3578422665081,6.68586094706836,6.470799503782602,3.8501476017100584,6.974478911025045,6.0014148779611505,4.30406509320417,6.651571873589727,3.4011973816621555,4.672828834461906,7.02108396428914,5.796057750765372,8.183676582620658,8.22389538017882,8.843903650835497,7.13966033596492,6.579251212010101,5.8916442118257715,6.091309882077698,6.272877006546167,6.651571873589727,6.88653164253051,5.793013608384144,7.309212365692763,6.418364935936212,6.416732282512326,7.094234845924755,6.634633357861686,4.700480365792417,7.856319571406588,10.272980000185475,6.327936783729195,6.037870919922137,4.804021044733257,6.677083461247136,6.782192056006791,7.545389749611823,6.364750756851911,5.10594547390058,6.71174039505618,6.111467339502679,6.410174881966167,6.693323668269949,7.091742115095153,6.926577033222725,8.024534871605695,6.2166061010848646,6.386879319362645,6.656726524178391,6.436150368369428,5.10594547390058,4.2626798770413155,4.564348191467836,6.144185634125646,6.668228248417403,6.329720905522696,5.37989735354046,6.727431724850855,6.580639137284949,6.897704943128636,6.576469569048224,6.687108607866515,6.4692503167957724,5.659482215759621,5.407171771460119,6.710523109452428,5.918893854273146,7.149916836132109,5.407171771460119,6.135564891081739,6.799055862058796,5.971261839790462,6.467698726104354,8.146419323098003,6.421622267806518,6.331501849893691,9.775597361230211,6.892641641172089,6.135564891081739,7.610357618312838,7.033506484287697,6.385194398997726,6.159095388491933,5.680172609017068,5.877735781779639,6.569481420414296,8.950143756459262,5.043425116919247,6.154858094016418,5.971261839790462,3.6375861597263857,5.438079308923196,6.633318433280377,6.212606095751519,7.140453043101158,6.251903883165888,6.927557906278317,7.354362330421477,6.576469569048224,7.4127640174265625,6.816735880594968,6.920671504248683,6.18826412308259,6.09807428216624,6.729824070489475,6.161207321695077,6.930494765951626,5.429345628954441,3.6375861597263857,6.80128303447162,6.22455842927536,6.369900982828227,6.569481420414296,6.651571873589727,8.109224953089955,5.749392985908253,6.144185634125646,6.2166061010848646,5.337538079701318,9.02653771890043,6.62273632394984,6.434546518787453,5.707110264748875,4.997212273764115,8.029758520440822,7.615791072035833,5.872117789475416,6.364750756851911,6.647688373563329,5.8522024797744745,7.117205503164344,6.052089168924417,7.9420068084898565,6.398594934535208,5.723585101952381,5.968707559985366,5.214935757608986,4.418840607796598,5.662960480135946,6.597145701886651,8.09346227450118,6.037870919922137,4.867534450455582,6.373319789577012,6.625392368007956,5.602118820879701,6.670766320845874,6.455198563340122,5.958424693029782,6.338594078203183,6.202535517187923,7.267525427828172,5.1298987149230735,5.081404364984463,6.104793232414985,6.352629396319567,6.3818160174060985,6.674561391814426,6.049733455231958,5.755742213586912,6.88653164253051,6.20455776256869,7.681099001536359,4.8283137373023015,5.278114659230517,5.627621113690637,9.953419921284338,6.317164686747284,6.331501849893691,6.135564891081739,8.449770515098804,6.733401891837359,9.086929027060949,5.996452088619021,6.1092475827643655,3.7376696182833684,6.591673732008658,6.870053411798126,6.833031732786201,5.484796933490655,5.616771097666572,7.118826249062078,6.688354713946762,7.786967002614872,6.761572768804055,5.44673737166631,6.453624998892692,6.329720905522696,5.996452088619021,6.175867270105761,6.336825731146441,6.816735880594968,7.213031659834869,5.707110264748875,6.338594078203183,6.697034247666484,6.570882962339584,6.244166900663736,7.993619994827744,6.244166900663736,6.478509642208569,5.0369526024136295,7.3987862754199485,6.156978985585555,8.500047032581268,7.2633296174768365,3.8501476017100584,6.507277712385012,5.808142489980444,5.808142489980444,4.2626798770413155,6.129050210060545,6.4425401664681985,6.272877006546167,6.396929655216146,7.280008252884188,5.58724865840025,5.814130531825066,5.631211781821365,5.937536205082426,6.089044875446846,6.416732282512326,6.736966958001855,4.787491742782046,3.1354942159291497,6.499787040655854,6.240275845170769,5.976350909297934,7.544861068658458,6.966024187106113,4.543294782270004,4.543294782270004,6.814542897259958,6.405228458030842,7.106606137727303,6.7357800142423265,6.436150368369428,6.208590026096629,6.570882962339584,7.38025578842646,6.4692503167957724,8.497398564088058,7.150701457592526,6.816735880594968,5.43372200355424,6.163314804034641,6.807934943699926,6.133398042996649,5.749392985908253,6.823286122355687,7.187657164114956,5.375278407684165,6.428105272684596,7.010311867307229,8.74369111054302,6.484635235635252,6.974478911025045,6.450470422144176,5.777652323222656,6.46302945692067,6.253828811575473,8.218247926685745,6.298949246855942,7.684783943522785,6.968850378341948,4.532599493153256,6.293419278846481,6.699500340161678,4.836281906951478,6.647688373563329,6.716594773520978,3.5553480614894135,6.212606095751519,6.142037405587356,7.0925737159746784,6.522092798170152,5.7745515455444085,4.941642422609304,6.208590026096629,6.7661917146603505,6.056784013228625,6.3473892096560105,7.2254814727822945,6.218600119691729,6.635946555686647,6.618738983517219,5.823045895483019,7.052721049232323,6.025865973825314,6.495265555937008,4.2626798770413155,6.1903154058531475,6.255750041753367,6.263398262591624,5.857933154483459,6.398594934535208,7.213768308118642,5.484796933490655,6.220590170099739,6.082218910376446,5.66988092298052,7.210079628170788,6.302618975744905,6.647688373563329,5.953243334287785,6.844815479208263,7.060476365999801,5.093750200806762,6.576469569048224,5.950642552587727,5.4116460518550396,5.883322388488279,7.549082710812286,5.298317366548036,6.212606095751519,7.676473646389156,5.0689042022202315,5.8944028342648505,6.1092475827643655,4.0943445622221,5.3706380281276624,7.022868086082641,6.448889394146858,5.537334267018537,6.244166900663736,7.170888478512505,5.0369526024136295,6.55250788703459,7.194436851100335,6.135564891081739,5.43372200355424,3.5553480614894135,7.097548850614793,5.303304908059076,4.990432586778736,6.318968113746434,6.683360945766275,6.230481447578482,5.4680601411351315,7.367077059881012,7.266128779556451,7.822845290279774,7.411556287811163,6.673297967767654,6.293419278846481,4.382026634673881,6.270988431858299,7.218176838403408,7.975564658495202,5.7745515455444085,5.707110264748875,6.230481447578482,6.0112671744041615,7.1631723908466425,5.908082938168931,6.148468295917647,5.934894195619588,6.338594078203183,6.54965074223381,7.074116816197362,7.160845906664299,6.280395838960195,6.661854740545311,6.2878585601617845,5.424950017481403,6.063785208687608,6.152732694704104,5.5909869805108565,5.831882477283517,5.8888779583328805,6.363028103540465,6.693323668269949,6.327936783729195,7.048386408721883,7.437206366871292,8.146709052203319,6.634633357861686,7.126087273299125,5.955837369464831,5.313205979041787,6.621405651764134,6.313548046277095,6.093569770045136,5.68697535633982,6.12029741895095,7.3031700512368,7.303843225277705,5.459585514144159,9.64639934516898,5.552959584921617,6.030685260261263,4.564348191467836,5.4116460518550396,4.859812404361672,6.111467339502679,2.833213344056216,6.259581464064923,5.204006687076795,7.849323818040561,7.182352111885263,7.450079569807499,6.405228458030842,6.040254711277414,6.016157159698354,5.537334267018537,5.777652323222656,5.707110264748875,6.633318433280377,7.496097345175956,5.755742213586912,6.1903154058531475,8.83927669058535,6.16541785423142,6.0844994130751715,6.583409222158765,5.736572297479192,6.4967749901858625,6.756932389247553,7.20414929203594,7.173958319756794,5.996452088619021,5.998936561946683,6.54965074223381,6.212606095751519,5.236441962829949,7.213031659834869,5.58724865840025],\"sizemode\":\"area\",\"sizeref\":0.029415292548090374,\"symbol\":\"circle\"},\"mode\":\"markers\",\"name\":\"True\",\"scene\":\"scene\",\"showlegend\":true,\"x\":[50.5983,178.369,14.096,252.197,265.077,7.92765,52.7746,28.1229,60.6714,56.1371,28.7302,17.7863,19.7818,14.2632,10.0347,296.457,35.2864,454.549,35.8857,29.7359,62.1136,2.0566,70.3425,309.777,59.76,108.255,33.1438,21.0342,6.11992,6.91472,92.6869,17.5958,152.84,86.0056,102.183,640.936,46.7093,56.7474,230.305,36.6508,16.9939,4.0,177.371,15.5479,130.858,8.64208,5.21114,30.9904,155.661,390.875,48.3378,20.6034,108.828,22.8101,26.0521,33.3582,39.069,45.6198,2.6478,415.194,39.3133,54.7007,46.9857,24.3785,162.318,7.68672,252.521,47.4141,640.435,7.29231,245.127,118.958,64.8288,125.747,116.634,177.407,1.0,584.637,27.6287,4.86486,364.191,23.4333,11.8598,132.764,19.1029,94.4921,39.7638,81.1752,11.8058,4.46604,2.03591,103.64,5.72453,209.317,7.77356,61.6128,127.062,107.033,3.52941,25.6453,30.2599,12.7455,14.9759,128.943,345.648,19.0048,46.5902,137.091,40.3288,16.3315,91.7005,2.40336,26.0805,103.341,20.1184,155.297,33.4883,6.13543,211.361,24.0319,77.2896,23.3874,5.75115,1.0,133.958,253.667,186.721,298.072,361.428,239.29,158.61,90.57,46.103,127.279,338.693,86.7426,134.077,14.2825,96.4714,58.3226,53.0716,6.18834,738.569,7.61984,315.286,9.56522,7.88498,88.0195,88.895,109.498,34.0721,735.219,95.1323,25.1792,12.8162,264.239,107.587,21.9804,78.4165,99.0461,64.2645,122.658,510.276,14.2632,5.33478,102.257,4.76553,25.5966,120.763,306.614,13.0446,127.279,49.6702,231.697,125.31,4.15606,172.782,5.67145,11.9451,353.673,171.899,14.2632,34.1513,116.628,76.5936,78.4165,209.317,47.869,107.035,483.702,41.004,728.293,120.805,6.57846,2.02869,618.073,13.9797,9.61871,33.6335,1.91753,14.6076,54.3567,76.2586,6.30167,60.6871,26.5771,63.5025,25.3922,181.724,181.804,209.145,55.8229,50.1637,25.9638,19.0048,226.892,82.8703,55.3382,226.863,7.20026,41.967,235.922,43.4929,2.89271,345.989,10.7988,27.1429,165.391,75.8415,5.31222,90.0391,4.61484,395.12,7.77356,30.0202,27.7121,186.872,5.13776,583.77,86.9777,482.875,276.815,5.98052,38.3908,102.337,43.9399,346.791,16.0956,808.452,11.8546,31.9294,9.25163,525.598,6.29818,17.2862,511.344,135.757,124.59,41.3664,72.7669,203.633,267.336,354.01,8.60885,3.56241,35.0303,7.47508,149.984,66.4272,3.02998,14.9942,331.647,2.62136,535.189,350.455,157.452,816.004,193.179,106.182,1.0,43.8657,36.4294,36.4294,28.5493,9.08501,21.5096,23.3642,10.3433,57.4388,61.794,23.5224,28.0126,73.1979,34.1678,3.52941,22.3215,35.1,2.04348,23.2958,85.5595,4.90863,256.347,27.481,7.84043,405.287,167.021,1.26335,667.318,525.495,85.601,22.3924,291.188,98.6258,84.8248,16.1629,112.948,231.697,4.74236,152.528,94.9392,77.6573,163.013,9.84852,144.887,30.7269,767.58,21.6602,86.8713,85.655,155.431,532.592,115.087,5.89571,245.127,113.178,355.138,377.783,10.0749,8.63441,47.8965,39.069,8.26984,169.973,193.993,665.829,47.1944,416.176,94.8164,287.651,3.85093,416.829,60.6419,2.00567,228.044,7.72504,111.144,4.21143,29.3793,19.2529,84.9083,30.6339,11.7271,13.351,162.789,39.7111,14.405,96.9314,57.1086,165.933,148.701,27.3112,28.1988,46.7192,228.931,426.08,216.94,19.5409,135.608,194.666,32.7302,112.865,129.847,642.086,109.554,99.7326,176.274,299.35,115.802,339.139,13.4277,159.017,293.853,495.45,128.791,26.7309,18.1756,1.60236,511.441,36.5844,41.2857,73.2625,22.2437,738.569,91.083,665.829,41.0306,506.687,306.898,9.06126,54.4806,56.815,92.0802,228.835,100.17,55.8696,392.575,2.71748,20.7237,11.9375,301.233,218.821,4.82387,72.2143,356.462,56.815,2.31402,23.0551,6.56575,58.2799,84.455,19.9835,66.2418,75.7018,12.9911,153.096,170.611,59.526,183.828,70.3186,227.249,420.231,570.991,65.3047,878.805,511.762,35.8857,158.343,112.432,107.32,497.867,16.9118,69.1762,115.143,15.8779,67.7989,54.1084,638.166,462.275,164.101,67.9709,49.5149,225.875,620.314,25.3269,207.052,609.201,1.4031,343.78,198.706,490.889,171.236,99.886,233.044,150.37,24.3785,166.552,93.7659,381.417,137.656,30.7076,102.257,69.113,3.48734,321.006,64.5134,8.66587,27.3713,6.58506,400.023,517.137,85.8105,436.674,551.477,492.443,15.3821,64.3705,54.3727,78.6862,35.0303,3.62595],\"y\":[1.0422,1.50199,1.04131,0.124871,0.757621,-0.044331,1.28343,0.217086,1.41109,1.76956,1.38781,1.25627,1.75398,1.12042,2.21208,1.58335,1.37584,0.971617,1.34736,0.732041,2.26184,-0.207678,2.36679,1.39836,1.08564,1.76342,7.19801,1.34106,0.132022,-0.0578712,1.25132,1.87386,0.379535,0.793644,2.36499,1.69153,1.21249,1.15782,-0.221487,9.20047,0.412937,0.0,1.39181,-0.127808,1.3032,1.43535,7.07029,1.38838,0.762211,1.09811,0.9598,0.281047,2.3248,0.893233,0.915266,0.540478,1.03883,1.06319,4.82882,0.102871,1.82228,1.69416,0.871832,1.35481,0.875442,0.987822,0.922366,2.29463,1.08093,5.60758,2.09416,1.44114,1.36988,1.72397,1.14378,1.46851,-0.043383,1.73443,1.581,1.55846,0.524132,0.983733,3.393,1.97223,1.33695,0.998445,1.08026,0.222676,1.65279,1.22152,1.52503,1.60313,0.529651,1.20686,1.15773,0.962448,2.43335,1.72227,1.19214,1.88412,1.17831,1.69859,0.924295,0.108485,1.21027,4.42314,2.65891,0.659296,5.65023,0.416219,1.5123,0.451103,3.44932,1.60583,2.11902,4.16934,1.30735,0.636571,0.738288,1.90531,1.22149,0.96473,1.62094,0.606115,-0.306437,0.41525,1.40587,0.932114,1.2136,0.681525,1.14021,1.57127,1.13868,1.10405,1.47893,0.783126,0.72876,10.7819,0.963342,1.57596,1.83613,1.51702,0.832535,1.96114,1.40154,1.76216,1.83913,1.64964,1.25728,1.16193,3.48596,1.26242,5.9658,1.14241,1.70891,2.58891,1.12298,1.1672,1.79066,1.31633,0.648123,1.43169,1.45874,1.12042,3.72858,0.845647,1.08055,-0.141163,0.275171,0.698071,2.11215,1.10405,0.794593,0.0631073,1.20892,1.42162,3.70591,0.399723,1.45375,1.28272,1.34519,1.12042,6.35705,1.1351,1.34884,1.79066,1.20686,0.376868,0.716261,1.61993,1.05333,1.43642,1.21385,2.92444,2.1868,0.821445,1.51305,0.965463,1.3073,0.617901,1.60409,1.67548,0.543859,0.599424,1.3086,2.01582,1.14216,1.52181,1.27257,-0.136951,0.00498795,1.16108,1.91567,7.32883,4.42314,0.552231,1.69768,-0.0902162,1.47863,1.67967,1.23551,1.17538,1.83419,1.22899,0.285736,-0.0101361,1.98339,7.41902,1.52726,0.276134,2.32105,1.06549,0.636342,1.15773,1.84259,4.96919,1.91426,1.84311,1.23426,1.41192,0.719448,1.58995,2.09188,1.11183,1.65254,1.45781,1.21225,0.390071,2.31579,0.817392,1.38882,1.33855,1.25664,-0.203258,0.973304,1.26401,0.371749,1.11842,1.13833,1.24168,1.33032,0.460547,0.375121,0.955556,1.19128,0.963719,1.74924,1.17002,0.956327,1.49061,0.156165,4.27454,0.798641,0.340194,1.14442,0.894316,0.538458,1.18963,0.488684,-0.043383,1.00305,1.2164,1.2164,1.80772,1.54404,1.26124,8.72854,1.34936,0.942668,0.189704,1.14943,1.22696,0.974132,0.0624671,1.19214,1.36179,0.910192,0.416261,0.85531,1.72652,0.0418756,0.723093,1.78288,0.250936,0.610979,4.98834,1.66419,0.614351,1.32017,1.11418,0.95828,1.90655,1.86018,1.95667,0.436146,2.72265,0.0631073,2.03142,1.14838,0.787394,1.7074,0.778261,3.33389,-0.048415,0.0360046,2.07956,1.57943,0.22952,2.09599,0.627031,0.425114,1.14323,1.8311,2.09416,1.17566,0.6265,0.899517,1.81246,3.42588,9.85462,1.03883,1.97367,0.894053,0.926069,1.29083,1.17502,0.699095,1.42383,2.23268,1.15561,3.06941,1.08691,0.743349,2.41973,0.823585,2.14257,1.73576,1.45567,1.96166,5.50831,0.948527,0.952324,1.4745,-0.144775,1.40884,0.850104,1.82753,2.04017,1.42505,2.39831,5.52663,2.13559,3.06282,0.405921,0.476241,1.01471,0.594281,0.786091,2.28756,9.96894,0.0921963,1.30847,0.973156,0.114116,0.94963,1.31822,0.107975,1.39218,1.05217,4.23992,0.855747,1.32085,0.272483,0.388944,2.80489,1.6342,0.348374,1.87598,1.17758,-0.223455,1.67118,0.984193,0.832535,1.4906,1.29083,6.49929,1.38039,0.908361,2.32023,1.07999,1.03452,1.80061,0.948069,1.01599,0.883631,0.665179,-0.0219254,0.830499,0.596362,1.03927,0.940705,1.37465,2.03708,-0.0625083,1.03452,1.24684,1.3515,1.92619,0.40825,1.54137,1.15243,0.791353,1.28154,6.56347,1.38229,1.6204,0.543247,1.34174,5.48732,0.644983,1.26552,1.90767,1.39117,-0.127324,0.907824,1.34736,6.56513,1.1845,2.4443,2.30914,1.62036,1.31759,1.92815,1.57704,0.278739,1.83973,2.76121,3.64884,0.841307,0.41627,0.976464,1.33929,1.23606,9.19323,0.347781,0.236179,-0.128147,0.111942,0.944941,1.28227,1.22357,1.78678,0.405623,0.206186,1.35481,0.294733,0.0846463,0.212492,1.00658,1.81781,0.845647,1.71357,-0.226297,0.465982,1.55399,1.47687,0.856232,0.0807635,1.23314,0.969843,1.32895,0.215443,1.11259,1.21652,1.01921,1.95158,1.32315,1.33708,0.963719,1.15337],\"z\":[3.0,212.0,4.0,2.0,88.0,20864.0,51.0,11.0,6298.0,377.0,635.0,32.0,879.0,7.0,1.0,5013.0,257.0,6.0,381.0,35.0,404.0,4.0,123.0,4.0,256.0,60.0,17.0,275.0,3802.0,5.0,3234.0,3.0,187.0,12.0,2.0,24.0,3586.0,42.0,27.0,1881.0,21.0,1.0,5.0,39.0,427.0,4.0,8.0,166.0,66.0,1205.0,18.0,3761.0,3.0,38.0,10672.0,710.0,23.0,3017.0,2.0,1.0,135.0,29.0,26.0,14.0,67.0,2.0,104.0,28.0,992.0,153.0,310.0,8.0,2.0,13.0,3.0,27.0,23.0,2.0,3.0,3.0,5429.0,260.0,7.0,162.0,400.0,7.0,208.0,4.0,973.0,8.0,13.0,13.0,243.0,18.0,31.0,220.0,5.0,3.0,56.0,4.0,424.0,8.0,40.0,4.0,30.0,35.0,9.0,12.0,12.0,361.0,8.0,9.0,9.0,25.0,86.0,4.0,1.0,33.0,11619.0,52.0,230.0,1.0,183.0,27255.0,211.0,3.0,3.0,191.0,9.0,12.0,9.0,88.0,31.0,29.0,8.0,2.0,1.0,51.0,108.0,12.0,20.0,5.0,101.0,74.0,550.0,29.0,3.0,83.0,3.0,8840.0,112.0,13.0,4522.0,3.0,4.0,23.0,582.0,44.0,1.0,82.0,527.0,18.0,59.0,7.0,3.0,12.0,7.0,2.0,80.0,37647.0,41.0,29.0,29.0,11.0,10.0,759.0,2153.0,7.0,1.0,498.0,102.0,7.0,38.0,470.0,62.0,1.0,18.0,204.0,176.0,5.0,1.0,20.0,3.0,739.0,311.0,38.0,603.0,7.0,46.0,5.0,4.0,131.0,6.0,4.0,42.0,450.0,289.0,1.0,2.0,1328.0,126.0,344.0,47.0,1891.0,35.0,9.0,553.0,6.0,388.0,47.0,111.0,20.0,7.0,29.0,7.0,3.0,3.0,3.0,44.0,115.0,22.0,7.0,14.0,31.0,56.0,355.0,11.0,12.0,3.0,3840.0,11.0,443.0,4.0,2391.0,18.0,43969.0,47.0,32.0,82656.0,506.0,8.0,22.0,66423.0,3.0,1131.0,3.0,7.0,4.0,27.0,4.0,692.0,23.0,829.0,61.0,92.0,13.0,2.0,4.0,14.0,1022.0,96.0,7845.0,3.0,184.0,12.0,4.0,52.0,2690.0,79.0,23.0,9.0,3.0,3.0,12.0,249.0,9.0,2.0,191.0,582.0,217.0,92738.0,2.0,2.0,30.0,56.0,3.0,12.0,6.0,5.0,25.0,153.0,108.0,3.0,687.0,35.0,35.0,127.0,29.0,179.0,6.0,196.0,8.0,5.0,5.0,3.0,74.0,11.0,1.0,14.0,6.0,159.0,10.0,809.0,24.0,2.0,47925.0,34.0,5814.0,65.0,1407.0,362.0,2.0,11.0,310.0,76.0,28.0,14.0,41.0,609.0,12.0,23.0,1.0,221.0,6.0,63.0,88.0,4.0,29.0,5.0,4.0,1897.0,870.0,12.0,29.0,366.0,4978.0,2.0,222.0,21.0,19.0,9.0,3.0,27.0,41.0,1.0,16.0,74.0,24.0,27.0,964.0,7.0,169.0,21.0,7110.0,55.0,56.0,14.0,1373.0,64.0,7.0,1225.0,30.0,235.0,12.0,2.0,3.0,9.0,120.0,5315.0,6.0,34.0,25.0,37647.0,4.0,19.0,84.0,162.0,809.0,10672.0,144.0,86.0,97.0,101.0,3.0,63.0,154.0,3155.0,523175.0,14.0,695.0,307.0,5.0,352.0,589.0,7.0,103.0,7426.0,4.0,23.0,662.0,15.0,2.0,168.0,2095.0,307.0,7.0,160.0,491.0,649.0,6.0,12.0,34.0,3.0,43.0,17.0,2.0,8.0,6.0,34.0,33.0,2.0,338.0,160.0,1.0,8.0,381.0,5.0,868.0,8320.0,17.0,1726.0,3.0,2.0,414.0,3.0,754.0,1346.0,14.0,4.0,48.0,4.0,74917.0,187.0,22.0,181.0,42106.0,1950.0,3.0,5171.0,302.0,5.0,124.0,67533.0,2516.0,14.0,38.0,22.0,112.0,58.0,24.0,12.0,7.0,3134.0,12.0,522.0,7.0,1.0,5.0,16.0,133.0,47.0,18393.0,407.0,2.0,16.0,12.0,3.0,8840.0,13.0,4.0],\"type\":\"scatter3d\"},{\"customdata\":[[\"FBtr0076385\"],[\"FBtr0303671.25\"],[\"FBtr0112965.12\"],[\"FBtr0075704.4\"],[\"FBtr0082813.6\"],[\"FBtr0304123.1\"],[\"FBti0059691-RA.FlyBase.\"],[\"FBtr0100263.1\"],[\"FBtr0339077.24\"],[\"FBtr0073956.3\"],[\"FBtr0308314.1\"],[\"FBtr0088833.4\"],[\"FBtr0088395.1\"],[\"FBtr0083141.3\"],[\"FBtr0332964.4\"],[\"FBtr0085621.6\"],[\"FBtr0333876.7\"],[\"FBti0060722-RA.1.\"],[\"FBtr0070404.3\"],[\"FBtr0333039.2\"],[\"FBtr0345912.3\"],[\"FBtr0339077.2\"],[\"FBtr0081104\"],[\"FBtr0084648\"],[\"FBtr0308601.7\"],[\"FBtr0306242.12\"],[\"FBtr0070272.4\"],[\"FBtr0306826.2\"],[\"FBtr0080875.6\"],[\"FBti0062571-RA.1.\"],[\"FBtr0308344.25\"],[\"FBti0060627-RA.FlyBase.\"],[\"FBtr0332926.3\"],[\"FBtr0339827.3\"],[\"FBtr0346808\"],[\"FBtr0343779.1\"],[\"FBtr0073805.4\"],[\"FBtr0346418.7\"],[\"FBtr0309796.2\"],[\"FBtr0305032.6\"],[\"FBtr0332357.4\"],[\"FBtr0072022.1\"],[\"FBtr0086840.5\"],[\"FBtr0342812.16\"],[\"FBtr0110939\"],[\"FBti0102116-RA.FlyBase.\"],[\"FBtr0334138.3\"],[\"FBtr0346323.3\"],[\"FBtr0334400.3\"],[\"FBtr0070612\"],[\"FBtr0334493.8\"],[\"FBtr0301594.10\"],[\"FBtr0335276.3\"],[\"FBti0063128-RA.1.\"],[\"FBtr0074370\"],[\"FBtr0345489.2\"],[\"FBtr0087832.2\"],[\"FBtr0082078\"],[\"FBtr0111125.4\"],[\"FBti0063649-RA.FlyBase.\"],[\"FBtr0303664.25\"],[\"FBtr0089329.3\"],[\"FBtr0344988.26\"],[\"FBtr0086304.1\"],[\"FBtr0333475.2\"],[\"FBtr0342890.4\"],[\"FBtr0087616.7\"],[\"FBtr0079691.22\"],[\"FBtr0075825\"],[\"FBtr0304113.3\"],[\"FBtr0308564.5\"],[\"FBtr0087387.1\"],[\"FBtr0071179.1\"],[\"FBtr0076022.3\"],[\"FBtr0301303.3\"],[\"FBtr0289982.5\"],[\"FBtr0339300.3\"],[\"FBtr0074313\"],[\"FBtr0308895.3\"],[\"FBtr0087848.1\"],[\"FBtr0339954\"],[\"FBti0020110-RA.1.\"],[\"FBtr0333963.2\"],[\"FBtr0111078.24\"],[\"FBtr0073173.1\"],[\"FBtr0302308.3\"],[\"FBtr0339544\"],[\"FBtr0290212\"],[\"FBtr0076626\"],[\"FBtr0079524.2\"],[\"FBtr0085877\"],[\"FBtr0077626.5\"],[\"FBtr0075162.1\"],[\"FBtr0113131.6\"],[\"FBtr0332566.2\"],[\"FBtr0074657.1\"],[\"FBtr0086982.7\"],[\"FBtr0332602.7\"],[\"FBtr0112612.2\"],[\"FBtr0479864\"],[\"FBtr0301313.13\"],[\"FBtr0340554.7\"],[\"FBtr0331561.4\"],[\"FBtr0081332.1\"],[\"FBtr0340428.5\"],[\"FBtr0344016.8\"],[\"FBtr0332312\"],[\"FBtr0089276\"],[\"FBti0060278-RA.FlyBase.\"],[\"FBti0062477-RA.1.\"],[\"FBtr0334982.15\"],[\"FBtr0305901.3\"],[\"FBtr0336812.5\"],[\"FBtr0290057.1\"],[\"FBtr0086735.2\"],[\"RR41347_transposable_element-RA.FlyBase.\"],[\"FBti0060040-RA.FlyBase.\"],[\"FBtr0083226.4\"],[\"FBtr0339769.3\"],[\"FBtr0339925.11\"],[\"FBtr0331617.6\"],[\"FBtr0334524.5\"],[\"FBtr0074838.5\"],[\"FBtr0072117\"],[\"FBtr0305059.1\"],[\"FBtr0085351.4\"],[\"FBtr0344894.5\"],[\"FBtr0077426.2\"],[\"FBtr0479842.1\"],[\"FBti0063243-RA.FlyBase.\"],[\"FBtr0300565.7\"],[\"FBtr0112917.1\"],[\"FBtr0344794\"],[\"FBtr0336941.1\"],[\"FBtr0331843.15\"],[\"FBtr0339436\"],[\"FBtr0078898.5\"],[\"FBtr0077957.4\"],[\"FBtr0331696.4\"],[\"FBtr0085760\"],[\"FBtr0089391.4\"],[\"FBtr0305214.5\"],[\"FBtr0345340.5\"],[\"FBtr0344886\"],[\"FBtr0330131\"],[\"FBtr0334088.3\"],[\"FBtr0307322.22\"],[\"FBtr0307369.9\"],[\"FBtr0073443.4\"],[\"FBtr0070366.2\"],[\"FBtr0087948\"],[\"FBtr0332825.6\"],[\"FBtr0078674.2\"],[\"FBtr0304742.8\"],[\"FBtr0307274.3\"],[\"FBtr0330003\"],[\"FBtr0075099.1\"],[\"FBtr0306351.11\"],[\"FBti0060389-RA.1.\"],[\"FBtr0308646.1\"],[\"FBtr0299837.16\"],[\"FBtr0073003.5\"],[\"FBtr0332790.8\"],[\"FBtr0309625.FlyBase.\"],[\"FBtr0345266.12\"],[\"FBtr0074329.3\"],[\"FBti0060576-RA.1.\"],[\"FBtr0087734.5\"],[\"FBtr0345874\"],[\"FBtr0303375.5\"],[\"FBtr0078185.13\"],[\"FBtr0334866.1\"],[\"FBtr0290231.11\"],[\"FBtr0088922.4\"],[\"FBtr0330349\"],[\"FBti0060345-RA.FlyBase.\"],[\"FBti0063032-RA.FlyBase.\"],[\"FBtr0332841.4\"],[\"FBtr0345506.3\"],[\"FBtr0307512.7\"],[\"FBtr0479929.5\"],[\"FBtr0111078\"],[\"FBtr0110962.1\"],[\"FBtr0333013.6\"],[\"FBtr0085009.2\"],[\"FBtr0088399.3\"],[\"FBtr0479850.6\"],[\"FBtr0452127.7\"],[\"FBtr0071960.3\"],[\"FBtr0084359.6\"],[\"FBtr0307314.26\"],[\"FBtr0080452.4\"],[\"FBtr0340655.10\"],[\"FBtr0335009.4\"],[\"FBtr0075824.2\"],[\"FBtr0111285.6\"],[\"FBtr0303467.1\"],[\"FBtr0075768.3\"],[\"FBtr0332904.8\"],[\"FBtr0343846.2\"],[\"FBtr0342848.4\"],[\"FBtr0344387.1\"],[\"FBtr0081503.11\"],[\"FBti0062021-RA.FlyBase.\"],[\"FBtr0081353.15\"],[\"FBtr0336977.2\"],[\"FBtr0100583\"],[\"FBtr0346809.3\"],[\"FBtr0073581.3\"],[\"FBtr0088129\"],[\"FBtr0077830.2\"],[\"FBtr0347006.3\"],[\"FBtr0075417.4\"],[\"FBtr0087503.2\"],[\"FBtr0301247.4\"],[\"FBti0114509-RA.1.\"],[\"FBtr0302605.5\"],[\"FBtr0074615.2\"],[\"FBtr0303108.14\"],[\"FBti0061796-RA.1.\"],[\"FBtr0077121.6\"],[\"FBtr0305917.2\"],[\"FBtr0080897\"],[\"FBtr0303689.2\"],[\"FBtr0301256.1\"],[\"FBtr0332112\"],[\"FBtr0073134.10\"],[\"FBtr0077958\"],[\"FBtr0100323\"],[\"FBtr0330380.7\"],[\"FBtr0307554.4\"],[\"FBtr0079320.2\"],[\"FBtr0332675.22\"],[\"FBtr0345012.4\"],[\"FBtr0332682.19\"],[\"FBtr0082142\"],[\"FBtr0331423.3\"],[\"FBtr0331609.3\"],[\"FBtr0330215.4\"],[\"FBtr0302091.2\"],[\"FBtr0074840.2\"],[\"FBtr0304569.24\"],[\"FBtr0273248.10\"],[\"FBti0062130-RA.1.\"],[\"FBtr0085732.2\"],[\"FBtr0475276.2\"],[\"FBtr0077519.3\"],[\"FBtr0340141.8\"],[\"FBtr0479908.9\"],[\"FBtr0083959.4\"],[\"FBtr0087019.5\"],[\"FBtr0336902.2\"],[\"FBtr0077189.1\"],[\"FBtr0085351\"],[\"FBtr0340447.6\"],[\"FBtr0307323.16\"],[\"FBtr0071880\"],[\"FBtr0070260.5\"],[\"FBtr0308649\"],[\"FBtr0074259.3\"],[\"FBtr0301302.21\"],[\"FBtr0307383.3\"],[\"FBtr0474126.10\"],[\"FBtr0347000.6\"],[\"FBtr0345912.10\"],[\"FBtr0343375.2\"],[\"FBtr0083408\"],[\"FBtr0305490.6\"],[\"FBtr0329975.5\"],[\"FBtr0331816.1\"],[\"FBtr0299572.5\"],[\"FBtr0076369\"],[\"FBtr0343764\"],[\"FBtr0345297.6\"],[\"FBtr0308255.14\"],[\"FBtr0306852.3\"],[\"FBtr0343434.5\"],[\"FBtr0329887.5\"],[\"FBtr0085727.3\"],[\"FBtr0081636\"],[\"FBtr0273215.12\"],[\"FBtr0303832.1\"],[\"FBtr0343284.2\"],[\"FBtr0078726.1\"],[\"FBtr0344631.5\"],[\"FBtr0085248.1\"],[\"FBtr0111052.23\"],[\"FBtr0331574.4\"],[\"FBtr0100317.3\"],[\"FBtr0306534.2\"],[\"FBtr0083000\"],[\"FBtr0342821.18\"],[\"FBtr0080885.6\"],[\"FBtr0305183.4\"],[\"FBtr0088624.1\"],[\"FBtr0345293.2\"],[\"FBtr0081807.3\"],[\"FBtr0071868.1\"],[\"FBtr0304950.7\"],[\"FBtr0340173.24\"],[\"FBtr0343358.5\"],[\"FBtr0079360.2\"],[\"FBtr0079665.5\"],[\"FBtr0334281.10\"],[\"FBtr0079030.2\"],[\"FBtr0113156.3\"],[\"FBtr0088206\"],[\"FBtr0091678.11\"],[\"FBtr0100622.2\"],[\"FBtr0344667\"],[\"FBtr0080884.1\"],[\"FBtr0082097.6\"],[\"FBtr0080542\"],[\"FBtr0073473.1\"],[\"FBtr0339716\"],[\"FBtr0085202.4\"],[\"FBti0061505-RA.FlyBase.\"],[\"FBtr0299580.3\"],[\"FBtr0335012.3\"],[\"FBtr0076237.6\"],[\"FBtr0114553.4\"],[\"FBtr0075630\"],[\"FBtr0086515\"],[\"FBti0062451-RA.FlyBase.\"],[\"FBtr0308236.1\"],[\"FBtr0346623.2\"],[\"FBtr0308128.9\"],[\"FBtr0071276.3\"],[\"FBtr0085074.1\"],[\"FBtr0290238.2\"],[\"FBti0019650-RA.1.\"],[\"FBtr0087618.12\"],[\"FBtr0076023.1\"],[\"FBtr0089271.11\"],[\"FBtr0112480.1\"],[\"FBtr0332908.10\"],[\"FBtr0081696\"],[\"FBtr0077542.1\"],[\"FBtr0079839.3\"],[\"FBtr0307317.14\"],[\"FBtr0305047.2\"],[\"FBtr0329931.22\"],[\"FBtr0076794.4\"],[\"FBtr0333564\"],[\"FBtr0330276.2\"],[\"FBtr0085350.2\"],[\"FBtr0088151\"],[\"FBtr0088384\"],[\"FBtr0078277.3\"],[\"FBtr0290228\"],[\"FBtr0087502.3\"],[\"FBtr0306544.7\"],[\"FBtr0110906.12\"],[\"FBtr0308580.9\"],[\"FBtr0088596.3\"],[\"FBtr0087425.1\"],[\"FBti0019824-RA.FlyBase.\"],[\"FBtr0074851.2\"],[\"FBtr0089577.13\"],[\"FBtr0308241.1\"],[\"FBtr0332307\"],[\"FBtr0333717.5\"],[\"FBtr0333891.1\"],[\"FBtr0334135\"],[\"FBtr0303658.30\"],[\"FBtr0080014.5\"],[\"FBtr0299872\"],[\"FBtr0339520.8\"],[\"FBtr0330596.2\"],[\"FBtr0304609.17\"],[\"FBtr0331601.9\"],[\"FBtr0334568.5\"],[\"FBtr0074438\"],[\"FBtr0087674\"],[\"FBtr0333320.3\"],[\"FBtr0346864.2\"],[\"FBti0062763-RA.1.\"],[\"FBtr0332808.2\"],[\"FBti0061085-RA.FlyBase.\"],[\"FBtr0072480.1\"],[\"FBtr0081210.6\"],[\"FBtr0078574.1\"],[\"FBtr0085645.5\"],[\"FBtr0072532.3\"],[\"FBtr0331169.3\"],[\"FBtr0087028.2\"],[\"FBtr0084684.19\"],[\"FBtr0334967\"],[\"FBtr0336450.4\"],[\"FBtr0076053.1\"],[\"FBtr0473604\"],[\"FBtr0085587.4\"],[\"FBtr0091454.6\"],[\"FBtr0084739.5\"],[\"FBtr0301772\"],[\"FBtr0301495.9\"],[\"FBtr0112864.13\"],[\"FBtr0336969.9\"],[\"FBtr0100420.1\"],[\"FBtr0302039.1\"],[\"FBtr0080833\"],[\"FBtr0304996.1\"],[\"FBtr0112860.8\"],[\"FBtr0087535.2\"],[\"FBtr0076017\"],[\"FBtr0306002.3\"],[\"FBtr0080242\"],[\"FBtr0339959\"],[\"FBtr0071112.2\"],[\"FBtr0086941.1\"],[\"FBtr0332115.2\"],[\"FBtr0073411\"],[\"FBtr0306767.10\"],[\"FBtr0079229.3\"],[\"FBtr0305957.1\"],[\"FBtr0086184.3\"],[\"FBtr0336721.8\"],[\"FBtr0329888.7\"],[\"FBtr0333895.13\"],[\"FBtr0344795.2\"],[\"FBtr0346670.4\"],[\"FBtr0300677.2\"],[\"FBtr0304732.3\"],[\"FBtr0073939\"],[\"FBtr0334086\"],[\"FBtr0339668.1\"],[\"FBtr0079745.2\"],[\"FBtr0302107.16\"],[\"FBtr0088574.4\"],[\"FBtr0302246.6\"],[\"FBtr0331942.1\"],[\"FBtr0301056.5\"],[\"FBtr0089303.1\"],[\"FBtr0332344.28\"],[\"FBtr0335162\"],[\"FBtr0073142.2\"],[\"FBtr0085015.6\"],[\"FBtr0334903.12\"],[\"FBtr0076732.4\"],[\"FBtr0084073.1\"],[\"FBtr0392909.1\"],[\"FBtr0075987.3\"],[\"FBtr0433494.9\"],[\"FBtr0071072\"],[\"FBtr0074771.5\"],[\"FBtr0309103.4\"],[\"FBtr0075538.5\"],[\"FBtr0113398.18\"],[\"FBtr0342825.29\"],[\"FBtr0334286.7\"],[\"FBti0018929-RA.1.\"],[\"FBtr0336684\"],[\"FBtr0083393.1\"],[\"FBti0061749-RA.FlyBase.\"],[\"FBtr0299877.4\"],[\"FBtr0300675.5\"],[\"FBtr0079232\"],[\"FBtr0089904.12\"],[\"FBtr0083325\"],[\"FBtr0345107.5\"],[\"FBtr0330004.11\"],[\"FBtr0309227.12\"],[\"FBtr0077520.2\"],[\"FBtr0301423.17\"],[\"FBtr0335247.5\"],[\"FBtr0114495.1\"],[\"FBtr0084030.3\"],[\"FBtr0273273.5\"],[\"FBtr0081712\"],[\"FBtr0346610.10\"],[\"FBtr0343016.1\"],[\"FBtr0079035.4\"],[\"FBtr0303476.3\"],[\"FBtr0332023.31\"],[\"FBtr0089437.7\"],[\"FBtr0081081.1\"],[\"FBtr0345262.3\"],[\"FBtr0334854.8\"],[\"FBtr0076788.1\"],[\"FBti0019120-RA.FlyBase.\"],[\"FBtr0304567\"],[\"FBtr0301652.3\"],[\"FBtr0081247.4\"],[\"FBtr0113316.8\"],[\"FBtr0344384.8\"],[\"FBtr0301732.6\"],[\"FBtr0071219.12\"],[\"FBtr0340491.1\"],[\"FBtr0273427.5\"],[\"FBtr0347065.3\"],[\"FBtr0113104.1\"],[\"FBtr0340178.6\"],[\"FBtr0085359.9\"],[\"FBtr0304170.FlyBase.\"],[\"FBtr0304914.1\"],[\"FBtr0346422\"],[\"FBti0061738-RA.1.\"],[\"FBtr0075724.3\"],[\"FBti0064100-RA.FlyBase.\"],[\"FBtr0086660.6\"]],\"hovertemplate\":\"lncRNA=False<br>mean_remap=%{x}<br>mean_pPcons124=%{y}<br>bestTSS=%{z}<br>size=%{marker.size}<br>name=%{customdata[0]}<extra></extra>\",\"legendgroup\":\"False\",\"marker\":{\"color\":\"#541352\",\"opacity\":0.6,\"size\":[8.045588280803528,4.812184355372417,6.246106765481563,5.817111159963204,5.66988092298052,3.8501476017100584,9.555843138911664,5.3471075307174685,4.820281565605037,5.062595033026967,5.673323267171493,6.490723534502507,5.5134287461649825,6.042632833682381,5.303304908059076,7.454141078146678,7.356279876550748,6.202535517187923,5.713732805509369,6.343880434126331,5.049856007249537,4.418840607796598,8.00836557031292,8.927446816256198,5.111987788356544,4.709530201312334,5.402677381872279,5.8916442118257715,6.246106765481563,5.438079308923196,7.870165946469845,3.258096538021482,5.564520407322694,5.641907070938114,7.07326971745971,6.295266001439646,7.029087564149662,4.700480365792417,7.789868559054706,5.442417710521793,5.117993812416755,6.543911845564792,7.325807502595773,5.958424693029782,9.415157006597509,2.833213344056216,5.673323267171493,4.1588830833596715,5.87493073085203,8.751316246773456,7.489412083508719,4.787491742782046,4.804021044733257,7.052721049232323,9.299175085676673,4.969813299576001,6.230481447578482,7.617267813628347,4.770684624465665,4.820281565605037,4.812184355372417,5.493061443340548,7.44600149832412,7.325807502595773,6.656726524178391,5.545177444479562,6.81783057145415,7.462214939768189,7.00033446027523,4.736198448394496,7.77779262633883,6.507277712385012,5.5093883366279774,6.880384082186005,4.820281565605037,5.117993812416755,4.983606621708336,6.934397209928558,4.007333185232471,6.154858094016418,7.366445148327599,7.489970898834801,5.799092654460526,7.099201743553092,6.29156913955832,6.835184586147301,8.695171998776056,7.566828479208331,8.01862546504575,6.129050210060545,8.806873266530692,6.0330862217988015,4.948759890378168,6.156978985585555,3.6109179126442243,3.4965075614664802,6.284134161070802,6.075346031088684,3.6635616461296463,10.675561433649873,5.214935757608986,4.584967478670572,4.990432586778736,7.3395376954076745,7.078341579557671,4.795790545596741,8.935508711503221,10.441850519295206,5.3230099791384085,7.456454555176209,6.366470447731438,4.820281565605037,5.497168225293202,4.290459441148391,5.153291594497779,8.459352191726387,4.812184355372417,5.966146739123692,5.996452088619021,7.438383530044307,6.856461984594587,6.98933526597456,5.537334267018537,9.277531621516506,7.022868086082641,8.339500903005945,5.529429087511423,6.230481447578482,5.135798437050262,6.318968113746434,4.941642422609304,4.634728988229636,7.982757702011113,6.542471960506805,4.8283137373023015,8.799058378546453,4.890349128221754,5.638354669333745,4.74493212836325,7.334981878871814,5.537334267018537,5.332718793265369,5.796057750765372,6.304448802421981,10.146943405162217,7.601901959875166,1.0986122886681098,6.863803391452954,5.993961427306569,6.2285110035911835,8.7157161275482,4.852030263919617,5.159055299214529,7.16703787691222,5.017279836814924,9.952182474074887,6.152732694704104,4.2626798770413155,6.745236349484363,5.278114659230517,6.466144724237619,4.532599493153256,4.060443010546419,3.091042453358316,5.442417710521793,6.073044534100405,5.918893854273146,6.937314081223682,6.246106765481563,7.241366283322318,6.408528791059498,6.3818160174060985,5.720311776607412,5.560681631015528,11.76611701923615,6.90875477931522,4.532599493153256,4.718498871295094,7.599401333415815,7.069023426578259,5.817111159963204,11.039973493632319,5.043425116919247,5.303304908059076,7.280697195384741,5.075173815233827,5.4638318050256105,6.714170529909472,5.641907070938114,5.5093883366279774,5.342334251964811,5.934894195619588,5.849324779946859,3.871201010907891,4.770684624465665,5.60947179518496,4.718498871295094,7.816416983691801,5.755742213586912,5.049856007249537,5.135798437050262,5.602118820879701,6.324358962381311,4.394449154672439,5.749392985908253,6.583409222158765,7.693481640835175,5.10594547390058,4.276666119016055,7.601901959875166,3.6375861597263857,6.2422232654551655,5.8805329864007,6.318968113746434,6.349138991379798,2.9444389791664403,5.117993812416755,6.546785410760524,5.521460917862246,6.025865973825314,5.420534999272286,4.836281906951478,10.000296608464188,4.48863636973214,5.680172609017068,7.282073658093465,5.19295685089021,8.341648618901306,8.876125585396185,4.543294782270004,4.795790545596741,4.882801922586371,4.110873864173311,5.1647859739235145,4.653960350157523,7.687997166393016,5.111987788356544,5.877735781779639,3.6635616461296463,5.796057750765372,5.755742213586912,4.709530201312334,5.2832037287379885,5.723585101952381,5.786897381366708,4.852030263919617,7.507690077819904,4.5217885770490405,5.030437921392435,5.488937726156687,5.2832037287379885,5.262690188904886,4.969813299576001,9.429315246418172,4.962844630259907,4.969813299576001,7.048386408721883,7.71333788887187,6.842683282238422,5.19295685089021,5.278114659230517,4.875197323201151,4.804021044733257,4.0943445622221,7.388327859577107,4.605170185988092,6.670766320845874,5.846438775057725,4.532599493153256,2.833213344056216,6.9726062513017535,7.372118028337787,10.471864846140123,7.6586995582682995,5.293304824724492,5.075173815233827,5.594711379601839,4.454347296253507,5.111987788356544,6.950814768442584,5.099866427824199,5.703782474656201,4.804021044733257,7.2868764117507,5.25227342804663,4.59511985013459,4.204692619390966,4.465908118654584,5.805134968916488,4.61512051684126,7.676473646389156,5.225746673713202,4.962844630259907,6.1675164908883415,6.889591308354466,4.820281565605037,5.0106352940962555,6.175867270105761,6.0867747269123065,7.066466970136958,7.289610521451167,7.414572881350589,6.546785410760524,5.697093486505405,6.519147287940395,6.352629396319567,8.24354550792826,6.0063531596017325,5.82600010738045,7.069023426578259,5.407171771460119,4.941642422609304,7.872073979866873,3.4011973816621555,6.498282149476434,6.0844994130751715,5.170483995038151,7.552237287560802,7.794411205726601,6.1070228877422545,6.035481432524756,6.249975242259483,6.74993119378857,5.823045895483019,4.77912349311153,6.008813185442595,5.153291594497779,5.19295685089021,5.220355825078324,4.852030263919617,7.453561871643373,4.990432586778736,5.5909869805108565,5.429345628954441,4.2626798770413155,4.976733742420574,9.750569446111415,4.955827057601261,4.990432586778736,5.817111159963204,5.953243334287785,8.67965211911394,6.507277712385012,7.935945103353701,4.07753744390572,5.2832037287379885,7.59337419312129,7.86172707782398,4.836281906951478,6.548219102762372,5.752572638825633,4.68213122712422,5.241747015059643,6.352629396319567,7.203405521083095,4.406719247264253,5.855071922202427,6.507277712385012,5.648974238161206,5.6240175061873385,8.875985891325971,4.762173934797756,5.236441962829949,11.312631365253663,7.081708586105575,5.389071729816501,6.0063531596017325,6.309918278226516,6.246106765481563,5.049856007249537,7.003065458786462,6.985641817639208,9.983914801648742,6.977281341630747,7.036148493750536,3.6888794541139363,3.8066624897703196,4.990432586778736,6.16541785423142,4.820281565605037,4.983606621708336,5.480638923341991,6.415096959171596,6.317164686747284,5.2574953720277815,4.9344739331306915,6.230481447578482,10.006856085513162,6.532334292222349,5.697093486505405,7.643961949002529,7.7039102096163115,5.030437921392435,4.23410650459726,9.847816267665664,4.718498871295094,4.356708826689592,5.918893854273146,3.1780538303479458,4.653960350157523,7.669495251007694,5.204006687076795,6.767343125265392,5.905361848054571,8.17244681834278,5.093750200806762,8.497398564088058,7.393263094763838,7.86480400332846,4.762173934797756,6.285998094508865,9.570877846729212,4.787491742782046,6.903747257584598,4.204692619390966,5.480638923341991,4.219507705176107,4.844187086458591,5.159055299214529,5.384495062789089,5.081404364984463,4.852030263919617,4.90527477843843,9.01881660441743,7.857867559331803,5.966146739123692,4.672828834461906,5.075173815233827,5.117993812416755,6.124683390894205,5.117993812416755,5.081404364984463,3.6375861597263857,5.808142489980444,6.942156705699469,5.71042701737487,4.990432586778736,5.308267697401205,5.236441962829949,4.736198448394496,5.262690188904886,5.19295685089021,4.983606621708336,7.350516171833998,6.416732282512326,4.718498871295094,6.919683849847411,4.787491742782046,5.60947179518496,6.670766320845874,6.769641976852503,7.945909598613133,5.87493073085203,6.775366090936392,4.912654885736052,6.906754778648554,8.755422380148488,5.236441962829949,8.037220031133012,6.236369590203704,5.337538079701318,7.160069207596127,4.61512051684126,5.241747015059643,7.948031990637284,6.46302945692067,5.056245805348308,5.43372200355424,7.25063551189868,5.030437921392435,6.695798917058491,6.79346613258001,6.073044534100405,4.875197323201151,6.522092798170152,6.666956792429207,5.5093883366279774,3.8066624897703196,6.988413181999592,8.907070776182689,8.341410211461865,5.176149732573829,7.144407180321139,5.934894195619588,4.5217885770490405,4.762173934797756,6.135564891081739,4.912654885736052,6.028278520230698,4.927253685157205,6.507277712385012,4.820281565605037,7.108244139731541,3.091042453358316,5.602118820879701,7.261927092702751,6.966024187106113,5.902633333401366,4.762173934797756,5.147494476813453],\"sizemode\":\"area\",\"sizeref\":0.029415292548090374,\"symbol\":\"diamond\"},\"mode\":\"markers\",\"name\":\"False\",\"scene\":\"scene\",\"showlegend\":true,\"x\":[203.143,11.2439,18.3178,21.9881,4.79655,0.0,351.327,144.638,3.66667,22.7278,2.91753,23.1442,472.952,11.2162,21.3035,43.3996,17.2544,210.263,10.8185,84.7803,11.6282,43.3373,80.9252,86.9585,4.37349,2.2973,15.7117,4.31034,30.7171,24.7478,33.1474,0.0,1.0,31.337,2.07998,237.474,21.3529,12.9909,8.41304,11.4372,72.7545,6.6833,15.7451,5.64463,152.746,23.8235,35.5979,10.4688,8.5927,48.5219,42.4168,23.15,12.6393,289.559,130.401,3.85417,26.6417,62.055,432.407,1.0,6.42276,18.6008,59.5669,122.414,24.1607,7.54688,66.814,37.2661,140.565,59.2632,18.6743,739.41,322.065,25.5406,0.0,1.02994,9.52055,341.074,352.582,301.987,105.639,101.262,29.7697,6.90777,247.917,26.5817,78.7116,134.176,158.118,28.7974,98.1777,7.69784,638.511,31.3263,2.0,234.879,12.0672,7.43908,22.6923,120.324,13.1359,12.1122,5.19728,193.05,79.8135,13.0826,6.14873,87.8214,8.72683,56.5839,15.7646,1.0,19.5492,780.411,24.185,1.0,1.0,6.85897,39.7587,53.9949,10.5253,102.998,10.5236,300.016,33.8856,31.4749,12.7381,4.0689,387.982,212.216,0.0,187.951,175.196,405.67,4.872,150.924,4.21053,10.6299,1.0,96.9798,8.46457,10.6039,47.7021,1.88889,121.882,14.5888,8.0,7.42738,32.005,29.0473,143.043,1.0,16.0287,15.3651,111.45,67.1713,138.37,15.8592,26.3696,5.79592,38.5443,7.21505,1.36207,229.0,8.62771,47.9908,3.28226,11.2097,10.2345,42.3016,18.0214,18.4044,2.20949,20.7423,49.1642,1.0,119.215,137.723,62.7116,13.2113,41.9821,63.7025,10.2774,4.83582,9.90073,22.2063,2.0,89.1966,6.80851,15.4858,72.4306,39.2593,24.8934,0.0,25.6864,247.901,615.732,37.6483,29.0728,1.0,6.22941,61.8118,18.3656,135.778,14.0987,39.722,273.945,11.1152,10.5556,54.0337,225.237,4.20233,15.1397,46.6108,12.7727,78.9474,10.3054,45.9799,10.652,0.0,13.9469,9.20635,37.1516,2.85393,287.048,151.51,377.367,207.125,210.721,3.5,5.36364,2.32576,0.0,109.691,50.2667,124.694,6.53614,32.9188,2.0,8.07903,15.8671,6.06306,9.47716,1.95425,9.19939,0.0,21.74,16.9674,8.13725,20.1281,6.56345,24.7565,719.931,51.8581,10.2587,22.8611,3.60047,252.473,52.3289,30.2667,2.19898,20.4046,20.041,2.71667,143.833,127.51,224.161,7.93931,5.3871,226.176,26.0396,195.919,129.661,77.2486,3.42714,12.3875,17.7138,6.75581,4.46386,75.1313,122.299,3.1,4.78689,18.0268,1.0,725.081,9.29851,11.2529,29.4639,162.356,116.458,12.4247,57.6573,20.1971,262.293,63.1048,17.6,559.044,11.7955,23.2666,24.9295,22.8505,18.3874,11.4799,89.7876,44.6847,5.345,52.734,25.6814,67.2827,745.955,0.0,36.8428,9.56667,500.351,9.71298,10.8807,47.6342,18.6735,13.98,2.39713,4.26786,633.424,18.8905,217.109,27.7887,13.1503,10.0278,708.508,11.5078,0.0,68.5578,636.828,3.8114,19.6479,17.7586,95.7279,126.768,17.5578,58.1518,165.483,43.5132,26.0433,71.8017,1.0,127.787,7.67586,170.431,4.95238,57.139,15.7302,18.6574,265.153,34.8066,23.0725,117.341,1.0,42.0149,1.20524,9.44404,18.169,22.0684,571.319,69.7938,20.6651,8.10046,356.111,6.31636,542.124,3.87821,159.95,27.773,41.6183,17.5422,16.9519,1.0,31.6444,240.871,4.05252,565.774,21.137,528.862,29.6579,18.9495,6.51562,348.05,17.4705,111.257,26.655,22.3691,27.0847,13.2076,9.41176,2.2029,69.8944,2.0,48.8077,4.4328,294.375,692.838,125.225,464.654,16.6663,198.3,91.5358,2.33742,129.804,147.756,30.074,502.949,57.8585,122.462,8.125,18.6767,455.03,7.8875,10.3824,5.40945,15.0345,673.229,5.4472,2.58594,20.0444,78.1115,254.232,35.2333,2.08411,5.26875,5.44311,44.5252,798.042,36.4037,366.316,6.05706,10.1513,303.149,3.7415,11.6584,8.97872,751.754,286.192,3.02222,33.2603,482.335,24.3219,143.321,11.2362,20.875,11.8901,90.0368,10.4688,68.6454,570.888,79.2842,15.5441,78.9109,52.7339,19.4255,157.749,18.2016,5.38462,114.334,523.98,12.0106,18.7548,80.585,9.24204,9.38428,322.67,3.69281,267.743,19.0908,13.1866,10.7328,19.9529,33.4847,15.4858,2.0,4.31889,323.331,96.0379,9.40678,17.2407,14.6455,11.0652,5.7094,20.474,209.809,11.0048,207.464,614.327,9.45968,26.1492,14.5,678.764,75.6362,56.2319,86.2732,23.265,20.2558],\"y\":[3.00303,15.4483,3.55582,3.55341,1.48968,0.678255,0.00391562,1.12741,12.2418,1.88733,2.37156,8.22136,2.05553,5.43438,6.49376,3.27435,6.77076,0.362338,7.51902,5.28868,11.055,10.6848,3.62493,4.09329,3.50616,9.65557,8.15343,0.525754,4.5632,0.450052,2.59283,0.0,10.2149,3.38017,0.165423,4.51435,2.32084,12.5719,1.27922,11.6434,10.7143,6.70793,5.34175,7.93843,2.67063,0.0,2.05223,5.97906,2.65597,1.58816,1.73075,12.0492,11.9694,0.0,1.6012,1.82121,4.44489,4.39388,6.16327,-0.219597,14.4079,12.4694,7.90161,4.62425,0.845591,5.05085,9.8934,3.0913,6.09867,12.9331,2.85911,2.20012,1.14228,11.3242,4.70173,1.94158,11.4179,5.62861,13.7605,1.3923,4.97347,0.0036095,9.52557,2.74883,4.07338,7.79165,1.79695,2.00254,5.80515,7.36092,2.38743,10.3742,2.52742,7.09428,0.819162,3.15006,3.60115,9.16122,2.12764,1.3208,11.1483,8.47517,2.79702,5.24064,2.74799,1.52112,-0.0772255,1.76414,-0.0413854,0.11621,4.77866,5.8034,11.4706,0.77811,6.00316,0.0,0.018626,10.7315,10.0262,3.24327,2.24607,1.7959,11.5991,1.11915,1.99291,3.41102,6.26619,1.15794,1.41989,-0.0594108,10.4849,2.77936,0.965318,0.958924,11.9713,1.25106,13.044,3.4267,2.93768,3.58031,10.4425,3.21636,9.16763,1.36325,2.19684,5.12259,4.33067,4.53706,10.0501,5.44061,4.18056,8.76048,2.52711,8.92764,5.26648,3.81903,0.214579,6.35779,0.0187718,1.33414,6.61925,4.96755,13.4641,0.954091,10.0168,1.33188,0.0857124,9.19569,0.417605,4.08364,3.46208,4.06239,3.50694,4.40491,1.895,0.527976,0.0303011,12.0386,2.42156,3.2228,11.1984,3.36852,0.531465,3.6408,3.32891,9.48343,3.77026,7.74364,6.80682,3.54294,9.57905,3.53946,9.36268,9.52504,2.07328,7.0981,0.976795,2.07621,2.01169,0.772462,9.02259,0.872159,5.69215,0.291642,6.68297,0.833228,3.15262,1.41958,7.75775,2.9364,3.97861,6.31838,4.84787,1.26825,7.91317,0.0,10.9321,7.86105,8.00853,3.40129,10.5492,-0.0149444,5.68625,8.0046,2.03328,5.40309,11.5597,3.35107,2.51513,6.71554,7.67674,1.7475,5.97434,1.02889,8.52938,5.95218,8.95216,6.54895,2.66921,4.45922,11.2822,13.2987,4.25647,0.0266438,2.69788,9.32364,8.26979,11.5303,5.75726,13.3409,10.8874,3.67126,1.76313,3.37263,11.7273,8.90903,1.14481,0.964764,1.00205,9.22905,7.8295,7.30624,8.13571,6.198,7.60079,0.93676,3.66466,1.15149,11.1497,0.0319412,9.52989,8.68543,1.56666,4.6776,8.41313,7.01473,4.72419,12.2335,8.60696,3.23481,7.63045,1.82087,2.1538,3.1031,9.99548,5.08266,7.70878,6.18662,6.38983,3.47034,6.95992,4.67398,11.0652,1.09612,4.33007,11.1031,7.60627,4.31532,9.25469,4.13732,7.07166,2.27929,3.8064,0.959037,11.4138,1.21458,2.89074,0.247847,12.0343,2.47202,0.518148,10.7673,5.35141,0.3379,1.08398,7.30243,0.370045,3.94314,1.16203,3.71891,4.72239,0.505693,4.8611,-0.072858,6.72656,4.15353,10.9122,11.348,1.06035,-0.317531,0.0424965,10.8186,2.17016,6.66669,1.37861,6.72506,1.77087,1.32107,8.77423,10.7978,1.74037,2.21381,4.21924,2.25232,1.25927,8.58581,3.30892,7.62855,10.4505,1.03172,0.803022,11.572,6.82051,6.14858,8.05727,14.645,0.0159112,4.97742,2.00335,2.89434,1.65569,12.8598,3.09008,1.5619,7.77601,12.4963,5.0275,5.94928,2.58656,13.6213,3.22817,5.28779,0.907461,1.32005,3.24853,0.87215,0.320622,5.24346,-0.0530735,0.653589,6.93368,1.62848,8.49834,3.84502,9.17989,1.6844,13.0423,1.65316,1.36895,0.94299,3.30401,2.25166,11.5782,10.4429,1.82307,4.97089,12.5102,7.39781,0.1905,0.602724,6.83227,1.87323,11.7995,5.17288,2.43418,5.35497,1.45672,6.48604,3.33199,0.548573,2.93031,2.17781,12.8852,5.36465,1.48955,1.0226,4.59463,12.1568,4.19118,2.01307,9.02943,1.14099,12.2822,2.11261,2.20133,4.17065,6.64748,11.8199,8.77522,4.94034,0.972497,11.2059,6.94668,7.15541,1.27851,0.885854,10.5635,10.913,2.15074,1.17292,0.658244,7.91776,10.4921,4.76007,4.34425,7.62617,2.11669,8.91329,5.77695,3.46071,0.0,2.35629,0.914483,0.0,2.51941,3.18204,6.03678,2.06884,1.05178,4.59336,9.79586,2.62219,6.51651,10.6367,9.08845,8.48417,1.37989,9.28204,4.92504,7.54041,9.99052,7.17019,10.7643,5.5471,11.4961,3.29508,3.54294,2.55751,3.35879,0.00986078,4.87212,8.6821,7.14463,9.7941,3.29339,9.23486,7.96092,1.48843,6.22108,8.47128,0.848394,7.5944,9.54245,13.8343,0.584399,1.0324,0.161318,3.16946,-0.176393,8.14249],\"z\":[1717.0,3.0,52.0,192.0,8.0,138.0,265.0,17873.0,86.0,26.0,29.0,72.0,49296.0,11.0,34.0,58.0,8.0,6.0,14.0,4.0,12.0,101.0,99999.0,14018.0,1.0,12.0,5.0,11.0,26.0,3.0,5.0,0.0,33.0,405.0,375.0,30916.0,17.0,45.0,5.0,18.0,133.0,10758.0,143.0,36.0,195.0,0.0,3.0,6.0,12.0,99999.0,8.0,79.0,49.0,821.0,24101.0,2.0,140.0,6726.0,963.0,2.0,23.0,148.0,71.0,48285.0,91.0,26.0,11.0,17.0,25194.0,217.0,40.0,64169.0,7493.0,656.0,9.0,4.0,181.0,99999.0,17.0,99.0,6364.0,2.0,7.0,49.0,14078.0,6.0,99999.0,10133.0,99999.0,361.0,37238.0,174.0,8692.0,321.0,7.0,3117920.0,4.0,27.0,12.0,30341.0,5.0,3.0,27.0,99999.0,73.0,16.0,24569.0,3087.0,49.0,2.0,7.0,42.0,12.0,97883.0,771.0,3.0,2.0,15.0,13.0,20.0,10.0,476.0,60.0,12895.0,11822.0,26.0,74.0,11.0,12071.0,5.0,0.0,1749.0,685.0,4004.0,222.0,54599.0,934.0,11.0,103.0,99999.0,9.0,48.0,84.0,916.0,50291.0,34.0,6.0,5.0,79.0,23.0,9.0,318.0,122.0,14.0,24.0,22023.0,6491.0,24.0,4.0,37.0,110.0,45.0,21.0,135.0,98.0,2.0,3.0,22.0,452.0,7.0,9.0,8806.0,50.0,12.0,77505.0,5.0,3.0,10.0,2.0,7.0,45.0,601360.0,3426.0,33.0,153.0,24.0,15.0,141.0,33.0,53.0,9.0,2.0,3.0,19.0,4.0,67.0,67099.0,61.0,10.0,2.0,9.0,1112280.0,10.0,12.0,5.0,175.0,9277.0,4.0,10.0,214.0,72.0,6.0,86.0,4.0,160.0,10.0,20.0,27.0,21.0,3.0,230.0,5.0,99999.0,14.0,54330.0,3702.0,32.0,99999.0,931814.0,14.0,26.0,3.0,8.0,125.0,3.0,3560.0,3.0,22.0,10.0,9.0,361.0,6.0,16.0,4.0,67.0,0.0,6.0,247.0,8.0,143.0,161.0,45.0,99999.0,17545.0,10.0,5.0,587.0,49.0,3328.0,8.0,2.0,14.0,20.0,13.0,6.0,78.0,10410.0,8.0,11.0,99999.0,4.0,14043.0,64515.0,223.0,102.0,10.0,6.0,62.0,4.0,9340.0,35.0,37.0,7.0,243.0,27.0,99999.0,30.0,32.0,8.0,596.0,99999.0,10.0,5614.0,10.0,3987.0,980.0,6.0,23081.0,10.0,21.0,39.0,8402.0,1733.0,37.0,922.0,27.0,42.0,2.0,19.0,10.0,99999.0,0.0,3662.0,18.0,11247.0,9.0,21.0,503.0,50.0,6.0,2.0,5901.0,99999.0,2.0,1306720.0,48.0,95.0,688.0,54955.0,4.0,0.0,20.0,5600.0,58.0,12978.0,42.0,8022.0,58890.0,72.0,166.0,79.0,17.0,103.0,3621.0,21.0,829.0,1728.0,18662.0,13.0,5603.0,22.0,41.0,6.0,76.0,117.0,290.0,2.0,4011.0,5.0,1128.0,925.0,194.0,129544.0,3.0,5.0,441.0,302.0,12.0,360.0,9.0,569.0,75.0,3155.0,627.0,455.0,18.0,7.0,329.0,4.0,8411.0,376.0,127695.0,5.0,79.0,11.0,12.0,5.0,14973.0,70.0,4415.0,1473.0,45.0,5.0,40.0,271.0,45.0,85.0,4.0,11428.0,53829.0,99999.0,99999.0,110.0,349.0,75160.0,4.0,595574.0,10179.0,156.0,468.0,190.0,10699.0,11.0,4.0,2156.0,18.0,10.0,202.0,23.0,5554.0,8.0,6.0,7.0,12385.0,661.0,59.0,777.0,7.0,36.0,3.0,30688.0,13.0,12.0,18.0,86825.0,82.0,64.0,89.0,6.0,953033.0,274.0,843.0,54.0,92054.0,332.0,195565.0,225.0,2.0,34.0,47.0,3.0,17.0,45501.0,2.0,52.0,115.0,7.0,32.0,20135.0,27.0,24.0,9.0,18562.0,9.0,24.0,99553.0,2.0,15.0,12736.0,1.0,219279.0,147.0,8.0,8.0,72.0,3942.0,53.0,17.0,11204.0,2.0,93292.0,8.0,10.0,17.0,3.0,65.0,23.0,1158.0,15.0,2.0,68239.0,6.0,10.0,86.0,10297.0,3641.0,3.0,69.0,2.0,41.0],\"type\":\"scatter3d\"}],                        {\"template\":{\"data\":{\"histogram2dcontour\":[{\"type\":\"histogram2dcontour\",\"colorbar\":{\"outlinewidth\":0,\"ticks\":\"\"},\"colorscale\":[[0.0,\"#0d0887\"],[0.1111111111111111,\"#46039f\"],[0.2222222222222222,\"#7201a8\"],[0.3333333333333333,\"#9c179e\"],[0.4444444444444444,\"#bd3786\"],[0.5555555555555556,\"#d8576b\"],[0.6666666666666666,\"#ed7953\"],[0.7777777777777778,\"#fb9f3a\"],[0.8888888888888888,\"#fdca26\"],[1.0,\"#f0f921\"]]}],\"choropleth\":[{\"type\":\"choropleth\",\"colorbar\":{\"outlinewidth\":0,\"ticks\":\"\"}}],\"histogram2d\":[{\"type\":\"histogram2d\",\"colorbar\":{\"outlinewidth\":0,\"ticks\":\"\"},\"colorscale\":[[0.0,\"#0d0887\"],[0.1111111111111111,\"#46039f\"],[0.2222222222222222,\"#7201a8\"],[0.3333333333333333,\"#9c179e\"],[0.4444444444444444,\"#bd3786\"],[0.5555555555555556,\"#d8576b\"],[0.6666666666666666,\"#ed7953\"],[0.7777777777777778,\"#fb9f3a\"],[0.8888888888888888,\"#fdca26\"],[1.0,\"#f0f921\"]]}],\"heatmap\":[{\"type\":\"heatmap\",\"colorbar\":{\"outlinewidth\":0,\"ticks\":\"\"},\"colorscale\":[[0.0,\"#0d0887\"],[0.1111111111111111,\"#46039f\"],[0.2222222222222222,\"#7201a8\"],[0.3333333333333333,\"#9c179e\"],[0.4444444444444444,\"#bd3786\"],[0.5555555555555556,\"#d8576b\"],[0.6666666666666666,\"#ed7953\"],[0.7777777777777778,\"#fb9f3a\"],[0.8888888888888888,\"#fdca26\"],[1.0,\"#f0f921\"]]}],\"heatmapgl\":[{\"type\":\"heatmapgl\",\"colorbar\":{\"outlinewidth\":0,\"ticks\":\"\"},\"colorscale\":[[0.0,\"#0d0887\"],[0.1111111111111111,\"#46039f\"],[0.2222222222222222,\"#7201a8\"],[0.3333333333333333,\"#9c179e\"],[0.4444444444444444,\"#bd3786\"],[0.5555555555555556,\"#d8576b\"],[0.6666666666666666,\"#ed7953\"],[0.7777777777777778,\"#fb9f3a\"],[0.8888888888888888,\"#fdca26\"],[1.0,\"#f0f921\"]]}],\"contourcarpet\":[{\"type\":\"contourcarpet\",\"colorbar\":{\"outlinewidth\":0,\"ticks\":\"\"}}],\"contour\":[{\"type\":\"contour\",\"colorbar\":{\"outlinewidth\":0,\"ticks\":\"\"},\"colorscale\":[[0.0,\"#0d0887\"],[0.1111111111111111,\"#46039f\"],[0.2222222222222222,\"#7201a8\"],[0.3333333333333333,\"#9c179e\"],[0.4444444444444444,\"#bd3786\"],[0.5555555555555556,\"#d8576b\"],[0.6666666666666666,\"#ed7953\"],[0.7777777777777778,\"#fb9f3a\"],[0.8888888888888888,\"#fdca26\"],[1.0,\"#f0f921\"]]}],\"surface\":[{\"type\":\"surface\",\"colorbar\":{\"outlinewidth\":0,\"ticks\":\"\"},\"colorscale\":[[0.0,\"#0d0887\"],[0.1111111111111111,\"#46039f\"],[0.2222222222222222,\"#7201a8\"],[0.3333333333333333,\"#9c179e\"],[0.4444444444444444,\"#bd3786\"],[0.5555555555555556,\"#d8576b\"],[0.6666666666666666,\"#ed7953\"],[0.7777777777777778,\"#fb9f3a\"],[0.8888888888888888,\"#fdca26\"],[1.0,\"#f0f921\"]]}],\"mesh3d\":[{\"type\":\"mesh3d\",\"colorbar\":{\"outlinewidth\":0,\"ticks\":\"\"}}],\"scatter\":[{\"fillpattern\":{\"fillmode\":\"overlay\",\"size\":10,\"solidity\":0.2},\"type\":\"scatter\"}],\"parcoords\":[{\"type\":\"parcoords\",\"line\":{\"colorbar\":{\"outlinewidth\":0,\"ticks\":\"\"}}}],\"scatterpolargl\":[{\"type\":\"scatterpolargl\",\"marker\":{\"colorbar\":{\"outlinewidth\":0,\"ticks\":\"\"}}}],\"bar\":[{\"error_x\":{\"color\":\"#2a3f5f\"},\"error_y\":{\"color\":\"#2a3f5f\"},\"marker\":{\"line\":{\"color\":\"#E5ECF6\",\"width\":0.5},\"pattern\":{\"fillmode\":\"overlay\",\"size\":10,\"solidity\":0.2}},\"type\":\"bar\"}],\"scattergeo\":[{\"type\":\"scattergeo\",\"marker\":{\"colorbar\":{\"outlinewidth\":0,\"ticks\":\"\"}}}],\"scatterpolar\":[{\"type\":\"scatterpolar\",\"marker\":{\"colorbar\":{\"outlinewidth\":0,\"ticks\":\"\"}}}],\"histogram\":[{\"marker\":{\"pattern\":{\"fillmode\":\"overlay\",\"size\":10,\"solidity\":0.2}},\"type\":\"histogram\"}],\"scattergl\":[{\"type\":\"scattergl\",\"marker\":{\"colorbar\":{\"outlinewidth\":0,\"ticks\":\"\"}}}],\"scatter3d\":[{\"type\":\"scatter3d\",\"line\":{\"colorbar\":{\"outlinewidth\":0,\"ticks\":\"\"}},\"marker\":{\"colorbar\":{\"outlinewidth\":0,\"ticks\":\"\"}}}],\"scattermapbox\":[{\"type\":\"scattermapbox\",\"marker\":{\"colorbar\":{\"outlinewidth\":0,\"ticks\":\"\"}}}],\"scatterternary\":[{\"type\":\"scatterternary\",\"marker\":{\"colorbar\":{\"outlinewidth\":0,\"ticks\":\"\"}}}],\"scattercarpet\":[{\"type\":\"scattercarpet\",\"marker\":{\"colorbar\":{\"outlinewidth\":0,\"ticks\":\"\"}}}],\"carpet\":[{\"aaxis\":{\"endlinecolor\":\"#2a3f5f\",\"gridcolor\":\"white\",\"linecolor\":\"white\",\"minorgridcolor\":\"white\",\"startlinecolor\":\"#2a3f5f\"},\"baxis\":{\"endlinecolor\":\"#2a3f5f\",\"gridcolor\":\"white\",\"linecolor\":\"white\",\"minorgridcolor\":\"white\",\"startlinecolor\":\"#2a3f5f\"},\"type\":\"carpet\"}],\"table\":[{\"cells\":{\"fill\":{\"color\":\"#EBF0F8\"},\"line\":{\"color\":\"white\"}},\"header\":{\"fill\":{\"color\":\"#C8D4E3\"},\"line\":{\"color\":\"white\"}},\"type\":\"table\"}],\"barpolar\":[{\"marker\":{\"line\":{\"color\":\"#E5ECF6\",\"width\":0.5},\"pattern\":{\"fillmode\":\"overlay\",\"size\":10,\"solidity\":0.2}},\"type\":\"barpolar\"}],\"pie\":[{\"automargin\":true,\"type\":\"pie\"}]},\"layout\":{\"autotypenumbers\":\"strict\",\"colorway\":[\"#636efa\",\"#EF553B\",\"#00cc96\",\"#ab63fa\",\"#FFA15A\",\"#19d3f3\",\"#FF6692\",\"#B6E880\",\"#FF97FF\",\"#FECB52\"],\"font\":{\"color\":\"#2a3f5f\"},\"hovermode\":\"closest\",\"hoverlabel\":{\"align\":\"left\"},\"paper_bgcolor\":\"white\",\"plot_bgcolor\":\"#E5ECF6\",\"polar\":{\"bgcolor\":\"#E5ECF6\",\"angularaxis\":{\"gridcolor\":\"white\",\"linecolor\":\"white\",\"ticks\":\"\"},\"radialaxis\":{\"gridcolor\":\"white\",\"linecolor\":\"white\",\"ticks\":\"\"}},\"ternary\":{\"bgcolor\":\"#E5ECF6\",\"aaxis\":{\"gridcolor\":\"white\",\"linecolor\":\"white\",\"ticks\":\"\"},\"baxis\":{\"gridcolor\":\"white\",\"linecolor\":\"white\",\"ticks\":\"\"},\"caxis\":{\"gridcolor\":\"white\",\"linecolor\":\"white\",\"ticks\":\"\"}},\"coloraxis\":{\"colorbar\":{\"outlinewidth\":0,\"ticks\":\"\"}},\"colorscale\":{\"sequential\":[[0.0,\"#0d0887\"],[0.1111111111111111,\"#46039f\"],[0.2222222222222222,\"#7201a8\"],[0.3333333333333333,\"#9c179e\"],[0.4444444444444444,\"#bd3786\"],[0.5555555555555556,\"#d8576b\"],[0.6666666666666666,\"#ed7953\"],[0.7777777777777778,\"#fb9f3a\"],[0.8888888888888888,\"#fdca26\"],[1.0,\"#f0f921\"]],\"sequentialminus\":[[0.0,\"#0d0887\"],[0.1111111111111111,\"#46039f\"],[0.2222222222222222,\"#7201a8\"],[0.3333333333333333,\"#9c179e\"],[0.4444444444444444,\"#bd3786\"],[0.5555555555555556,\"#d8576b\"],[0.6666666666666666,\"#ed7953\"],[0.7777777777777778,\"#fb9f3a\"],[0.8888888888888888,\"#fdca26\"],[1.0,\"#f0f921\"]],\"diverging\":[[0,\"#8e0152\"],[0.1,\"#c51b7d\"],[0.2,\"#de77ae\"],[0.3,\"#f1b6da\"],[0.4,\"#fde0ef\"],[0.5,\"#f7f7f7\"],[0.6,\"#e6f5d0\"],[0.7,\"#b8e186\"],[0.8,\"#7fbc41\"],[0.9,\"#4d9221\"],[1,\"#276419\"]]},\"xaxis\":{\"gridcolor\":\"white\",\"linecolor\":\"white\",\"ticks\":\"\",\"title\":{\"standoff\":15},\"zerolinecolor\":\"white\",\"automargin\":true,\"zerolinewidth\":2},\"yaxis\":{\"gridcolor\":\"white\",\"linecolor\":\"white\",\"ticks\":\"\",\"title\":{\"standoff\":15},\"zerolinecolor\":\"white\",\"automargin\":true,\"zerolinewidth\":2},\"scene\":{\"xaxis\":{\"backgroundcolor\":\"#E5ECF6\",\"gridcolor\":\"white\",\"linecolor\":\"white\",\"showbackground\":true,\"ticks\":\"\",\"zerolinecolor\":\"white\",\"gridwidth\":2},\"yaxis\":{\"backgroundcolor\":\"#E5ECF6\",\"gridcolor\":\"white\",\"linecolor\":\"white\",\"showbackground\":true,\"ticks\":\"\",\"zerolinecolor\":\"white\",\"gridwidth\":2},\"zaxis\":{\"backgroundcolor\":\"#E5ECF6\",\"gridcolor\":\"white\",\"linecolor\":\"white\",\"showbackground\":true,\"ticks\":\"\",\"zerolinecolor\":\"white\",\"gridwidth\":2}},\"shapedefaults\":{\"line\":{\"color\":\"#2a3f5f\"}},\"annotationdefaults\":{\"arrowcolor\":\"#2a3f5f\",\"arrowhead\":0,\"arrowwidth\":1},\"geo\":{\"bgcolor\":\"white\",\"landcolor\":\"#E5ECF6\",\"subunitcolor\":\"white\",\"showland\":true,\"showlakes\":true,\"lakecolor\":\"white\"},\"title\":{\"x\":0.05},\"mapbox\":{\"style\":\"light\"}}},\"scene\":{\"domain\":{\"x\":[0.0,1.0],\"y\":[0.0,1.0]},\"xaxis\":{\"title\":{\"text\":\"mean_remap\"},\"type\":\"log\",\"showgrid\":true,\"gridwidth\":2,\"gridcolor\":\"lightpink\",\"showbackground\":false,\"showticklabels\":false},\"yaxis\":{\"title\":{\"text\":\"mean_pPcons124\"},\"type\":\"log\",\"showgrid\":true,\"gridwidth\":2,\"gridcolor\":\"lightpink\",\"showbackground\":false,\"showticklabels\":false,\"range\":[-0.5,1.5]},\"zaxis\":{\"title\":{\"text\":\"bestTSS\"},\"type\":\"log\",\"showgrid\":true,\"gridwidth\":2,\"gridcolor\":\"lightpink\",\"showbackground\":false,\"showticklabels\":false,\"range\":[0,4]}},\"legend\":{\"title\":{\"text\":\"lncRNA\"},\"tracegroupgap\":0,\"itemsizing\":\"constant\"},\"margin\":{\"t\":1,\"r\":1,\"l\":1,\"b\":1},\"height\":1000,\"width\":800},                        {\"responsive\": true}                    ).then(function(){\n",
       "                            \n",
       "var gd = document.getElementById('2594808a-14ef-48b9-9c76-b32396f6a9d3');\n",
       "var x = new MutationObserver(function (mutations, observer) {{\n",
       "        var display = window.getComputedStyle(gd).display;\n",
       "        if (!display || display === 'none') {{\n",
       "            console.log([gd, 'removed!']);\n",
       "            Plotly.purge(gd);\n",
       "            observer.disconnect();\n",
       "        }}\n",
       "}});\n",
       "\n",
       "// Listen for the removal of the full notebook cells\n",
       "var notebookContainer = gd.closest('#notebook-container');\n",
       "if (notebookContainer) {{\n",
       "    x.observe(notebookContainer, {childList: true});\n",
       "}}\n",
       "\n",
       "// Listen for the clearing of the current output cell\n",
       "var outputEl = gd.closest('.output');\n",
       "if (outputEl) {{\n",
       "    x.observe(outputEl, {childList: true});\n",
       "}}\n",
       "\n",
       "                        })                };                });            </script>        </div>"
      ]
     },
     "metadata": {},
     "output_type": "display_data"
    }
   ],
   "source": [
    "fig = px.scatter_3d(\n",
    "    features_7500_each,\n",
    "    x='mean_remap',\n",
    "    y='mean_pPcons124',\n",
    "    z='bestTSS',\n",
    "    size=np.log(features_7500_each['length']),\n",
    "    color='lncRNA',\n",
    "    symbol='lncRNA',\n",
    "    symbol_sequence=['circle', 'diamond'],\n",
    "    hover_data=['name'],\n",
    "    # size_max=20,\n",
    "    color_discrete_sequence=['#35B779', '#541352'],\n",
    "    opacity=0.6,\n",
    "    log_x=True,\n",
    "    log_y=True,\n",
    "    log_z=True,\n",
    "    width=800,\n",
    "    height=1000\n",
    ")\n",
    "fig.update_layout(margin=dict(t=1, r=1, l=1, b=1), scene=dict(\n",
    "    xaxis=dict(showgrid=True, gridwidth=2, gridcolor='lightpink', backgroundcolor=None, showbackground=False, showticklabels=False),\n",
    "    yaxis=dict(showgrid=True, gridwidth=2, gridcolor='lightpink', backgroundcolor=None, showbackground=False, showticklabels=False, range=[-0.5,1.5]),\n",
    "    zaxis=dict(showgrid=True, gridwidth=2, gridcolor='lightpink', backgroundcolor=None, showbackground=False, showticklabels=False, range=[0,4])\n",
    ")\n",
    ")\n",
    "fig.show()"
   ]
  },
  {
   "cell_type": "code",
   "execution_count": 94,
   "metadata": {},
   "outputs": [
    {
     "data": {
      "text/plain": [
       "<AxesSubplot:>"
      ]
     },
     "execution_count": 94,
     "metadata": {},
     "output_type": "execute_result"
    },
    {
     "data": {
      "image/png": "[encoded data removed]",
      "text/plain": [
       "<Figure size 864x720 with 2 Axes>"
      ]
     },
     "metadata": {
      "needs_background": "light"
     },
     "output_type": "display_data"
    }
   ],
   "source": [
    "import matplotlib.pyplot as plt\n",
    "import matplotlib\n",
    "\n",
    "ft_cor = X.corr().round(3)\n",
    "fig, ax = plt.subplots(figsize=(12, 10))\n",
    "\n",
    "font = {'weight' : 'bold',\n",
    "        'size'   : 10}\n",
    "\n",
    "matplotlib.rc('font', **font)\n",
    "\n",
    "mask = np.zeros_like(ft_cor)\n",
    "mask[np.triu_indices_from(mask)] = True\n",
    "\n",
    "sns.heatmap(\n",
    "    ft_cor, \n",
    "    ax=ax, \n",
    "    annot=True, \n",
    "    cmap='viridis',\n",
    "    linewidth=2,\n",
    "    annot_kws={\n",
    "        'fontsize': 'large',\n",
    "        'weight': 'semibold'\n",
    "    },\n",
    "    mask=mask,\n",
    "    center=0\n",
    ")\n"
   ]
  },
  {
   "cell_type": "markdown",
   "metadata": {},
   "source": [
    "## Exported Model without 'cov_me3' and 'pPcons27'\n",
    "pPcons27 & pPcons124 are highly correlated, so I am discarding pPcons27 since I have another algorithm for 27 insect conservation pcons27. Alhtough it is highly correlated with pPcons124, it is less than pPcons27.\n",
    "I am also dropping cov_me3 since it doesn't help in the outcome of the classifier.\n",
    "This was done for simplicity, I have to remember to remove these querys from the get-feature.sh script"
   ]
  },
  {
   "cell_type": "code",
   "execution_count": 19,
   "metadata": {},
   "outputs": [],
   "source": [
    "kf = KFold(n_splits=5, shuffle=True, random_state=15)\n",
    "\n",
    "def score_rf_model(X, y, kf):\n",
    "    accuracy_scores = []\n",
    "    precision_scores = []\n",
    "    recall_scores = []\n",
    "    f1_scores = []\n",
    "    for train_index, test_index in kf.split(X):\n",
    "        X_train, X_test = X.iloc[train_index], X.iloc[test_index]\n",
    "        y_train, y_test = y.iloc[train_index], y.iloc[test_index]\n",
    "        rf.fit(X_train, y_train)\n",
    "        y_pred = rf.predict(X_test)\n",
    "\n",
    "        accuracy_scores.append(accuracy_score(y_test, y_pred))\n",
    "        precision_scores.append(precision_score(y_test, y_pred))\n",
    "        recall_scores.append(recall_score(y_test, y_pred))\n",
    "        f1_scores.append(f1_score(y_test, y_pred))\n",
    "\n",
    "    print(\"accuracy:\", np.mean(accuracy_scores))\n",
    "    print(\"precision:\", np.mean(precision_scores))\n",
    "    print(\"recall:\", np.mean(recall_scores))\n",
    "    print(\"f1:\", np.mean(f1_scores))"
   ]
  },
  {
   "cell_type": "code",
   "execution_count": 20,
   "metadata": {},
   "outputs": [
    {
     "name": "stdout",
     "output_type": "stream",
     "text": [
      "accuracy: 0.9847078091680694\n",
      "precision: 0.9288440932947596\n",
      "recall: 0.572376514934079\n",
      "f1: 0.7082048955689554\n"
     ]
    }
   ],
   "source": [
    "X_best_ft = features_clean[[\"length\", \"bestTSS\", \"bestTSS_inside\", \"mean_gc\", \"mean_remap\", \"cov_tfbs\", \"cov_pol2\", \"mean_pcons27\", \"mean_pPcons124\"]]\n",
    "rf = RandomForestClassifier(n_jobs=-1)\n",
    "rf.fit(X_best_ft, y)\n",
    "score_rf_model(X_best_ft, y, kf)"
   ]
  },
  {
   "cell_type": "code",
   "execution_count": 22,
   "metadata": {},
   "outputs": [
    {
     "name": "stdout",
     "output_type": "stream",
     "text": [
      "accuracy: 0.9845638623735798\n",
      "precision: 0.9237849164408882\n",
      "recall: 0.5711834946606069\n",
      "f1: 0.7058371391535179\n"
     ]
    }
   ],
   "source": [
    "rf_final = RandomForestClassifier(n_jobs=-1, random_state=15)\n",
    "rf_final.fit(X, y)\n",
    "score_rf_model(X, y, kf)"
   ]
  },
  {
   "cell_type": "markdown",
   "metadata": {},
   "source": [
    "### Final shape of X features:"
   ]
  },
  {
   "cell_type": "code",
   "execution_count": 23,
   "metadata": {},
   "outputs": [
    {
     "data": {
      "text/plain": [
       "Index(['length', 'bestTSS', 'bestTSS_inside', 'mean_gc', 'mean_remap',\n",
       "       'cov_tfbs', 'cov_pol2', 'mean_pcons27', 'mean_pPcons124'],\n",
       "      dtype='object')"
      ]
     },
     "execution_count": 23,
     "metadata": {},
     "output_type": "execute_result"
    }
   ],
   "source": [
    "X.columns"
   ]
  },
  {
   "cell_type": "markdown",
   "metadata": {},
   "source": [
    "### Final model metrics"
   ]
  },
  {
   "cell_type": "code",
   "execution_count": 24,
   "metadata": {},
   "outputs": [],
   "source": [
    "def score_model(X, y, model, splits):\n",
    "    kf = KFold(n_splits=splits, shuffle=True, random_state=15)\n",
    "    accuracy_scores = []\n",
    "    precision_scores = []\n",
    "    recall_scores = []\n",
    "    f1_scores = []\n",
    "    tn = []\n",
    "    fp = []\n",
    "    fn = []\n",
    "    tp = []\n",
    "    cm_y_true = []\n",
    "    cm_y_pred = []\n",
    "\n",
    "    for train_index, test_index in kf.split(X):\n",
    "        X_train, X_test = X.iloc[train_index], X.iloc[test_index]\n",
    "        y_train, y_test = y.iloc[train_index], y.iloc[test_index]\n",
    "        model.fit(X_train, y_train)\n",
    "        y_pred = model.predict(X_test)\n",
    "        y_pred_prob = model.predict_proba(X_test)\n",
    "\n",
    "        # Compute standard scores and append\n",
    "        accuracy_scores.append(accuracy_score(y_test, y_pred))\n",
    "        precision_scores.append(precision_score(y_test, y_pred))\n",
    "        recall_scores.append(recall_score(y_test, y_pred))\n",
    "        f1_scores.append(f1_score(y_test, y_pred))\n",
    "        \n",
    "        # Compute confusion matrix and append\n",
    "        cm = confusion_matrix(y_test, y_pred, normalize='true')\n",
    "        tn.append(cm.ravel()[0]) \n",
    "        fp.append(cm.ravel()[1])\n",
    "        fn.append(cm.ravel()[2])\n",
    "        tp.append(cm.ravel()[3])\n",
    "\n",
    "        cm_y_true.append(y_test)\n",
    "        cm_y_pred.append(y_pred)\n",
    "\n",
    "    # Average standard metrics\n",
    "    avg_accuracy = np.mean(accuracy_scores)\n",
    "    avg_precision = np.mean(precision_scores)\n",
    "    avg_recall = np.mean(recall_scores)\n",
    "    avg_f1 = np.mean(f1_scores)\n",
    "    \n",
    "    print(\"accuracy:\", round(avg_accuracy, ndigits=3))\n",
    "    print(\"precision:\", round(avg_precision, ndigits=3))\n",
    "    print(\"recall:\", round(avg_recall, ndigits=3))\n",
    "    print(\"f1:\", round(avg_f1, ndigits=3))\n",
    "\n",
    "    sc = {\n",
    "        'accuracy' : accuracy_scores,\n",
    "        'precision' : precision_scores,\n",
    "        'recall' : recall_scores,\n",
    "        'f1' : f1_scores,\n",
    "    }\n",
    "\n",
    "    scores = pd.DataFrame(data=sc)\n",
    "    \n",
    "    plt.boxplot(scores, labels=scores.columns)\n",
    "    \n",
    "    # Average confusion matrix\n",
    "    cm_y_true = np.concatenate(cm_y_true)\n",
    "    cm_y_pred = np.concatenate(cm_y_pred)\n",
    "\n",
    "    skplt.metrics.plot_confusion_matrix(cm_y_true, cm_y_pred, normalize='true')\n",
    "    plt.show()\n",
    "    # avg_cm = np.array([[np.mean(tn), np.mean(fp)], [np.mean(fn), np.mean(tp)]], dtype=int)\n",
    "    # ConfusionMatrixDisplay(avg_cm).plot()\n",
    "    \n",
    "    return scores, cm"
   ]
  },
  {
   "cell_type": "code",
   "execution_count": 25,
   "metadata": {},
   "outputs": [
    {
     "name": "stdout",
     "output_type": "stream",
     "text": [
      "accuracy: 0.985\n",
      "precision: 0.928\n",
      "recall: 0.572\n",
      "f1: 0.708\n"
     ]
    },
    {
     "data": {
      "image/png": "[encoded data removed]",
      "text/plain": [
       "<Figure size 432x288 with 1 Axes>"
      ]
     },
     "metadata": {
      "needs_background": "light"
     },
     "output_type": "display_data"
    },
    {
     "name": "stderr",
     "output_type": "stream",
     "text": [
      "findfont: Font family ['normal'] not found. Falling back to DejaVu Sans.\n",
      "findfont: Font family ['normal'] not found. Falling back to DejaVu Sans.\n"
     ]
    },
    {
     "data": {
      "image/png": "[encoded data removed]",
      "text/plain": [
       "<Figure size 432x288 with 2 Axes>"
      ]
     },
     "metadata": {
      "needs_background": "light"
     },
     "output_type": "display_data"
    }
   ],
   "source": [
    "metrics, cm = score_model(X, y, rf_final, 5)"
   ]
  },
  {
   "cell_type": "code",
   "execution_count": 26,
   "metadata": {},
   "outputs": [
    {
     "data": {
      "text/html": [
       "<div>\n",
       "<style scoped>\n",
       "    .dataframe tbody tr th:only-of-type {\n",
       "        vertical-align: middle;\n",
       "    }\n",
       "\n",
       "    .dataframe tbody tr th {\n",
       "        vertical-align: top;\n",
       "    }\n",
       "\n",
       "    .dataframe thead th {\n",
       "        text-align: right;\n",
       "    }\n",
       "</style>\n",
       "<table border=\"1\" class=\"dataframe\">\n",
       "  <thead>\n",
       "    <tr style=\"text-align: right;\">\n",
       "      <th></th>\n",
       "      <th>accuracy</th>\n",
       "      <th>precision</th>\n",
       "      <th>recall</th>\n",
       "      <th>f1</th>\n",
       "    </tr>\n",
       "  </thead>\n",
       "  <tbody>\n",
       "    <tr>\n",
       "      <th>0</th>\n",
       "      <td>0.984843</td>\n",
       "      <td>0.935743</td>\n",
       "      <td>0.588384</td>\n",
       "      <td>0.722481</td>\n",
       "    </tr>\n",
       "    <tr>\n",
       "      <th>1</th>\n",
       "      <td>0.984928</td>\n",
       "      <td>0.916122</td>\n",
       "      <td>0.569783</td>\n",
       "      <td>0.702590</td>\n",
       "    </tr>\n",
       "    <tr>\n",
       "      <th>2</th>\n",
       "      <td>0.985288</td>\n",
       "      <td>0.930683</td>\n",
       "      <td>0.592857</td>\n",
       "      <td>0.724316</td>\n",
       "    </tr>\n",
       "    <tr>\n",
       "      <th>3</th>\n",
       "      <td>0.984018</td>\n",
       "      <td>0.921218</td>\n",
       "      <td>0.563263</td>\n",
       "      <td>0.699083</td>\n",
       "    </tr>\n",
       "    <tr>\n",
       "      <th>4</th>\n",
       "      <td>0.984420</td>\n",
       "      <td>0.938567</td>\n",
       "      <td>0.547445</td>\n",
       "      <td>0.691534</td>\n",
       "    </tr>\n",
       "  </tbody>\n",
       "</table>\n",
       "</div>"
      ],
      "text/plain": [
       "   accuracy  precision    recall        f1\n",
       "0  0.984843   0.935743  0.588384  0.722481\n",
       "1  0.984928   0.916122  0.569783  0.702590\n",
       "2  0.985288   0.930683  0.592857  0.724316\n",
       "3  0.984018   0.921218  0.563263  0.699083\n",
       "4  0.984420   0.938567  0.547445  0.691534"
      ]
     },
     "execution_count": 26,
     "metadata": {},
     "output_type": "execute_result"
    }
   ],
   "source": [
    "metrics"
   ]
  },
  {
   "cell_type": "code",
   "execution_count": 100,
   "metadata": {},
   "outputs": [],
   "source": [
    "pd.DataFrame(cm).to_csv('rf_norm_conf_matrix.csv')\n",
    "metrics.transpose().to_csv('rf_metrics.csv', header=True)"
   ]
  },
  {
   "cell_type": "markdown",
   "metadata": {},
   "source": [
    "### Curve functions:"
   ]
  },
  {
   "cell_type": "code",
   "execution_count": 19,
   "metadata": {},
   "outputs": [],
   "source": [
    "def draw_cv_roc_curve(classifier, cv, X, y, title='ROC Curve'):\n",
    "    \"\"\"\n",
    "    Draw a Cross Validated ROC Curve.\n",
    "    Args:\n",
    "        classifier: Classifier Object\n",
    "        cv: StratifiedKFold Object: (https://stats.stackexchange.com/questions/49540/understanding-stratified-cross-validation)\n",
    "        X: Feature Pandas DataFrame\n",
    "        y: Response Pandas Series\n",
    "    Example largely taken from http://scikit-learn.org/stable/auto_examples/model_selection/plot_roc_crossval.html#sphx-glr-auto-examples-model-selection-plot-roc-crossval-py\n",
    "    \"\"\"\n",
    "    # Creating ROC Curve with Cross Validation\n",
    "    tprs = []\n",
    "    aucs = []\n",
    "    mean_fpr = np.linspace(0, 1, 100)\n",
    "\n",
    "    i = 0\n",
    "    for train, test in cv.split(X, y):\n",
    "        probas_ = classifier.fit(X.iloc[train], y.iloc[train]).predict_proba(X.iloc[test])\n",
    "        # Compute ROC curve and area the curve\n",
    "        fpr, tpr, thresholds = roc_curve(y.iloc[test], probas_[:, 1])\n",
    "        tprs.append(interp(mean_fpr, fpr, tpr))\n",
    "        tprs[-1][0] = 0.0\n",
    "        roc_auc = auc(fpr, tpr)\n",
    "        aucs.append(roc_auc)\n",
    "        plt.plot(fpr, tpr, lw=1, alpha=0.3,\n",
    "                label='ROC fold %d (AUC = %0.2f)' % (i+1, roc_auc))\n",
    "\n",
    "        i += 1\n",
    "    plt.plot([0, 1], [0, 1], linestyle='--', lw=2, color='r',\n",
    "            label='Chance', alpha=.8)\n",
    "    \n",
    "    mean_tpr = np.mean(tprs, axis=0)\n",
    "    mean_tpr[-1] = 1.0\n",
    "    mean_auc = auc(mean_fpr, mean_tpr)\n",
    "    std_auc = np.std(aucs)\n",
    "    plt.plot(mean_fpr, mean_tpr, color='b',\n",
    "            label=r'Mean ROC (AUC = %0.2f $\\pm$ %0.2f)' % (mean_auc, std_auc),\n",
    "            lw=2, alpha=.8)\n",
    "\n",
    "    std_tpr = np.std(tprs, axis=0)\n",
    "    tprs_upper = np.minimum(mean_tpr + std_tpr, 1)\n",
    "    tprs_lower = np.maximum(mean_tpr - std_tpr, 0)\n",
    "    plt.fill_between(mean_fpr, tprs_lower, tprs_upper, color='grey', alpha=.2,\n",
    "                    label=r'$\\pm$ 1 std. dev.')\n",
    "\n",
    "    plt.xlim([-0.05, 1.05])\n",
    "    plt.ylim([-0.05, 1.05])\n",
    "    plt.xlabel('False Positive Rate')\n",
    "    plt.ylabel('True Positive Rate')\n",
    "    plt.title(title)\n",
    "    plt.legend(loc=\"lower right\")\n",
    "    plt.show()\n",
    "    \n",
    "    ## Added this code so the function would export the values to two pandas dataframes:\n",
    "    # roc_curves\n",
    "    # auc_values\n",
    "    tprs_export = pd.DataFrame(tprs).transpose()\n",
    "    tprs_export.columns = [\"kf_1\", \"kf_2\", \"kf_3\", \"kf_4\", \"kf_5\"]\n",
    "    tprs_export\n",
    "\n",
    "    roc_curves = pd.concat(\n",
    "        [\n",
    "            tprs_export, \n",
    "            pd.Series(mean_fpr, name=\"mean_fpr\"),\n",
    "            pd.Series(mean_tpr, name=\"mean_tpr\"), \n",
    "            pd.Series(std_tpr, name=\"std_tpr\"), \n",
    "            pd.Series(tprs_upper, name=\"tprs_upper\"),\n",
    "            pd.Series(tprs_lower, name=\"tprs_lower\")\n",
    "        ], \n",
    "        axis=1\n",
    "    )\n",
    "\n",
    "    aucs_export = pd.DataFrame(aucs).transpose()\n",
    "    aucs_export.columns = [\"kf_1\", \"kf_2\", \"kf_3\", \"kf_4\", \"kf_5\"]\n",
    "    aucs_export\n",
    "\n",
    "    auc_values = pd.concat(\n",
    "        [\n",
    "            aucs_export,\n",
    "            pd.Series(mean_auc, name=\"mean_auc\"),\n",
    "            pd.Series(std_auc, name=\"std_auc\")\n",
    "        ],\n",
    "        axis=1\n",
    "    )\n",
    "\n",
    "    return roc_curves, auc_values\n",
    "\n",
    "\n",
    "\n",
    "\n",
    "def draw_cv_pr_curve(classifier, cv, X, y, title='PR Curve'):\n",
    "    \"\"\"\n",
    "    Draw a Cross Validated PR Curve.\n",
    "    Keyword Args:\n",
    "        classifier: Classifier Object\n",
    "        cv: StratifiedKFold Object: (https://stats.stackexchange.com/questions/49540/understanding-stratified-cross-validation)\n",
    "        X: Feature Pandas DataFrame\n",
    "        y: Response Pandas Series\n",
    "        \n",
    "    Largely taken from: https://stackoverflow.com/questions/29656550/how-to-plot-pr-curve-over-10-folds-of-cross-validation-in-scikit-learn\n",
    "    \"\"\"\n",
    "    y_real = []\n",
    "    y_proba = []\n",
    "    aucs = []\n",
    "    precs = []\n",
    "    recs = []\n",
    "\n",
    "    i = 0\n",
    "    for train, test in cv.split(X, y):\n",
    "        probas_ = classifier.fit(X.iloc[train], y.iloc[train]).predict_proba(X.iloc[test])\n",
    "        # Compute PR curve and area the curve\n",
    "        precision, recall, _ = precision_recall_curve(y.iloc[test], probas_[:, 1])\n",
    "\n",
    "        # Plotting each individual PR Curve\n",
    "        plt.plot(recall, precision, lw=1, alpha=0.3,\n",
    "                label='PR fold %d (AUC = %0.2f)' % (i+1, average_precision_score(y.iloc[test], probas_[:, 1])))\n",
    "        \n",
    "        y_real.append(y.iloc[test])\n",
    "        y_proba.append(probas_[:, 1])\n",
    "\n",
    "        aucs.append(average_precision_score(y.iloc[test], probas_[:, 1]))\n",
    "\n",
    "        precs.append(precision)\n",
    "        recs.append(recall)\n",
    "\n",
    "        i += 1\n",
    "\n",
    "\n",
    "    y_real = np.concatenate(y_real)\n",
    "    y_proba = np.concatenate(y_proba)\n",
    "    \n",
    "    precision, recall, _ = precision_recall_curve(y_real, y_proba)\n",
    "    \n",
    "    plt.plot(recall, precision, color='b',\n",
    "            label=r'Precision-Recall (AUC = %0.2f)' % (average_precision_score(y_real, y_proba)),\n",
    "            lw=2, alpha=.8)\n",
    "\n",
    "    prec_export = pd.DataFrame(precs).transpose()\n",
    "    rec_export = pd.DataFrame(recs).transpose()\n",
    "    prec_export.columns = [\"prec_kf_1\", \"prec_kf_2\", \"prec_kf_3\", \"prec_kf_4\", \"prec_kf_5\"]\n",
    "    rec_export.columns = [\"rec_kf_1\", \"rec_kf_2\", \"rec_kf_3\", \"rec_kf_4\", \"rec_kf_5\"]\n",
    "\n",
    "    pr_curves = pd.concat(\n",
    "        [\n",
    "            prec_export,\n",
    "            pd.Series(precision, name = 'mean_precision'),\n",
    "            rec_export,\n",
    "            pd.Series(recall, name = 'mean_recall')\n",
    "        ], \n",
    "        axis=1\n",
    "    )\n",
    "\n",
    "    aucs_export = pd.DataFrame(aucs).transpose()\n",
    "    aucs_export.columns = [\"kf_1\", \"kf_2\", \"kf_3\", \"kf_4\", \"kf_5\"]\n",
    "    aucs_export\n",
    "\n",
    "    mean_auc = np.mean(aucs, axis=0)\n",
    "    std_auc = np.std(aucs, axis=0)\n",
    "\n",
    "    auc_values = pd.concat(\n",
    "        [\n",
    "            aucs_export,\n",
    "            pd.Series(mean_auc, name=\"mean_auc\"),\n",
    "            pd.Series(std_auc, name=\"std_auc\")\n",
    "        ],\n",
    "        axis=1\n",
    "    )\n",
    "\n",
    "    plt.xlim([-0.05, 1.05])\n",
    "    plt.ylim([-0.05, 1.05])\n",
    "    plt.xlabel('Recall')\n",
    "    plt.ylabel('Precision')\n",
    "    plt.title(title)\n",
    "    plt.legend(loc=\"lower right\")\n",
    "    plt.show()\n",
    "\n",
    "    return pr_curves, auc_values"
   ]
  },
  {
   "cell_type": "code",
   "execution_count": 21,
   "metadata": {},
   "outputs": [
    {
     "data": {
      "image/png": "[encoded data removed]",
      "text/plain": [
       "<Figure size 432x288 with 1 Axes>"
      ]
     },
     "metadata": {
      "needs_background": "light"
     },
     "output_type": "display_data"
    }
   ],
   "source": [
    "cv = KFold(n_splits=5, shuffle=True, random_state=15)\n",
    "roc_curves, roc_auc_values = draw_cv_roc_curve(rf_gs, cv, X, y)"
   ]
  },
  {
   "cell_type": "code",
   "execution_count": 22,
   "metadata": {},
   "outputs": [
    {
     "data": {
      "image/png": "[encoded data removed]",
      "text/plain": [
       "<Figure size 432x288 with 1 Axes>"
      ]
     },
     "metadata": {
      "needs_background": "light"
     },
     "output_type": "display_data"
    }
   ],
   "source": [
    "cv = KFold(n_splits=5, shuffle=True, random_state=15)\n",
    "pr_curves, pr_auc_values = draw_cv_pr_curve(rf_gs, cv, X, y)"
   ]
  },
  {
   "cell_type": "code",
   "execution_count": 72,
   "metadata": {},
   "outputs": [],
   "source": [
    "roc_curves.round(5).to_csv('rf_roc_curves.csv')\n",
    "auc_values.round(5).to_csv('rf_auc_values.csv')\n",
    "pr_curves.round(5).to_csv('rf_pr_curves.csv')\n",
    "pr_auc_values.round(5).to_csv('rf_pr_auc_values.csv')"
   ]
  },
  {
   "cell_type": "code",
   "execution_count": null,
   "metadata": {},
   "outputs": [],
   "source": [
    "modelname = 'rf_dm6_lncrna_classifier.model'\n",
    "pickle.dump(rf_final, open(modelname, 'wb'))"
   ]
  }
 ],
 "metadata": {
  "kernelspec": {
   "display_name": "Python 3.10.4 ('predictMod')",
   "language": "python",
   "name": "python3"
  },
  "language_info": {
   "codemirror_mode": {
    "name": "ipython",
    "version": 3
   },
   "file_extension": ".py",
   "mimetype": "text/x-python",
   "name": "python",
   "nbconvert_exporter": "python",
   "pygments_lexer": "ipython3",
   "version": "3.10.4"
  },
  "orig_nbformat": 4,
  "vscode": {
   "interpreter": {
    "hash": "181ba91507bce6e291dd820af5b5d317e807931d223572141da24938c13eedd5"
   }
  }
 },
 "nbformat": 4,
 "nbformat_minor": 2
}
