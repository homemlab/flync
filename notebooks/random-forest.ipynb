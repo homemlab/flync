{
 "cells": [
  {
   "cell_type": "code",
   "execution_count": null,
   "source": [
    "from sklearn.ensemble import RandomForestClassifier, ExtraTreesClassifier\n",
    "from sklearn.model_selection import KFold, GridSearchCV\n",
    "from sklearn.metrics import accuracy_score, precision_score, recall_score, f1_score\n",
    "import pandas as pd\n",
    "import numpy as np"
   ],
   "outputs": [],
   "metadata": {}
  },
  {
   "cell_type": "code",
   "execution_count": null,
   "source": [
    "lncrna=pd.read_csv('/bin/app/model/X_train_lncrna.csv')\n",
    "lncrna[\"lncRNA\"] = True\n",
    "not_lncrna=pd.read_csv('/bin/app/model/X_train_not_lncrna.csv')\n",
    "not_lncrna[\"lncRNA\"] = False\n",
    "lncrna.drop([\"mfe\"], axis=1, inplace=True)\n",
    "not_lncrna.drop([\"none\"], axis=1, inplace=True)\n",
    "features = pd.DataFrame({})\n",
    "features = pd.concat([lncrna, not_lncrna], ignore_index=True)\n",
    "features.sort_values(ascending=True, by=[\"start\", \"end\", \"name\"], inplace=True)\n",
    "features_clean = features.dropna(axis=0, how=\"any\")\n",
    "dropped = 1 - len(features_clean) / len(features)\n",
    "print('Dropped ' + str(round(dropped, 3) * 100) + '% of rows from the original dataset due to NA values')\n",
    "X = features_clean.iloc[:,3:14].values\n",
    "y = features_clean.iloc[:,14].values"
   ],
   "outputs": [],
   "metadata": {}
  },
  {
   "cell_type": "code",
   "execution_count": null,
   "source": [
    "rf = RandomForestClassifier()\n",
    "estimators = list(range(1,11))\n",
    "param_grid = {\n",
    "    'n_estimators' : estimators,\n",
    "    'max_depth' : [3, 4, 5, 6, 7, 8, 9],\n",
    "    'min_samples_split' : [2, 4, 6, 8, 10],\n",
    "    'min_samples_leaf' : [1, 2, 5, 10]\n",
    "}\n",
    "gs = GridSearchCV(rf, param_grid, scoring='precision', verbose=2, n_jobs=4)\n",
    "gs.fit(X, y)"
   ],
   "outputs": [],
   "metadata": {}
  },
  {
   "cell_type": "code",
   "execution_count": 17,
   "source": [
    "gs.best_params_\n"
   ],
   "outputs": [
    {
     "output_type": "execute_result",
     "data": {
      "text/plain": [
       "{'max_depth': 8,\n",
       " 'min_samples_leaf': 5,\n",
       " 'min_samples_split': 10,\n",
       " 'n_estimators': 10}"
      ]
     },
     "metadata": {},
     "execution_count": 17
    }
   ],
   "metadata": {}
  },
  {
   "cell_type": "code",
   "execution_count": 19,
   "source": [
    "rf_best = RandomForestClassifier(n_estimators=10, max_depth=8, min_samples_leaf=5, min_samples_split=10)\n",
    "\n",
    "from sklearn.model_selection import train_test_split\n",
    "Xtr, Xts, Ytr, Yts = train_test_split(X, y, random_state=15)\n",
    "Xtr.shape, Xts.shape, Ytr.shape, Yts.shape"
   ],
   "outputs": [
    {
     "output_type": "execute_result",
     "data": {
      "text/plain": [
       "((172749, 11), (57584, 11), (172749,), (57584,))"
      ]
     },
     "metadata": {},
     "execution_count": 19
    }
   ],
   "metadata": {}
  },
  {
   "cell_type": "code",
   "execution_count": 22,
   "source": [
    "rf_best.fit(Xtr, Ytr)\n",
    "Ypr = rf_best.predict(Xts)\n",
    "accuracy_score(Yts, Ypr)"
   ],
   "outputs": [
    {
     "output_type": "execute_result",
     "data": {
      "text/plain": [
       "0.9670568213392609"
      ]
     },
     "metadata": {},
     "execution_count": 22
    }
   ],
   "metadata": {}
  }
 ],
 "metadata": {
  "orig_nbformat": 4,
  "language_info": {
   "name": "python",
   "version": "3.8.10",
   "mimetype": "text/x-python",
   "codemirror_mode": {
    "name": "ipython",
    "version": 3
   },
   "pygments_lexer": "ipython3",
   "nbconvert_exporter": "python",
   "file_extension": ".py"
  },
  "kernelspec": {
   "name": "python3",
   "display_name": "Python 3.8.10 64-bit"
  },
  "interpreter": {
   "hash": "916dbcbb3f70747c44a77c7bcd40155683ae19c65e1c03b4aa3499c5328201f1"
  }
 },
 "nbformat": 4,
 "nbformat_minor": 2
}