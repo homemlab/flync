{
 "cells": [
  {
   "cell_type": "code",
   "execution_count": 67,
   "metadata": {},
   "outputs": [],
   "source": [
    "from sklearn.ensemble import RandomForestClassifier\n",
    "from sklearn.model_selection import KFold, GridSearchCV\n",
    "from sklearn.metrics import accuracy_score, precision_score, recall_score, f1_score, roc_auc_score, RocCurveDisplay, make_scorer, mean_squared_error, auc, confusion_matrix, ConfusionMatrixDisplay, precision_recall_curve, PrecisionRecallDisplay, roc_curve, average_precision_score\n",
    "import matplotlib.pyplot as plt\n",
    "import pandas as pd\n",
    "import numpy as np\n",
    "from numpy import interp\n",
    "import pickle\n",
    "from pathlib import Path\n",
    "import scikitplot as skplt\n",
    "%matplotlib inline"
   ]
  },
  {
   "cell_type": "code",
   "execution_count": 2,
   "metadata": {},
   "outputs": [],
   "source": [
    "# Be sure that final script is absolutely one level down repo root directory (e.g. /scripts/)\n",
    "cwd = Path.cwd()\n",
    "appdir = cwd.parents[0]\n",
    "model_path = appdir/\"model\"\n",
    "lncrna_path = appdir/\"lncrna\"\n",
    "not_lncrna_path = appdir/\"not_lncrna\""
   ]
  },
  {
   "cell_type": "code",
   "execution_count": 15,
   "metadata": {},
   "outputs": [],
   "source": [
    "lncrna=pd.read_csv(model_path/'X_train_lncrna.csv')\n",
    "lncrna[\"lncRNA\"] = True\n",
    "not_lncrna=pd.read_csv(model_path/'X_train_not_lncrna.csv')\n",
    "not_lncrna[\"lncRNA\"] = False\n",
    "lncrna.drop([\"mfe\"], axis=1, inplace=True)\n",
    "not_lncrna.drop([\"none\"], axis=1, inplace=True)\n",
    "features = pd.DataFrame({})\n",
    "features = pd.concat([lncrna, not_lncrna], ignore_index=True)\n",
    "features.sort_values(ascending=True, by=[\"start\", \"end\", \"name\"], inplace=True)\n",
    "\n",
    "# I previously thought that droping NaN values was bust, but it doesn't seem right.\n",
    "# Where there is no record for any of the UCSC tracks we will substitute NaN to 0.0\n",
    "# The following code was removed\n",
    "# features_clean = features.dropna(axis=0, how='any')\n",
    "# dropped = 1 - len(features_clean) / len(features)\n",
    "# print('Dropped ' + str(round(dropped, 3) * 100) + '% of rows from the original dataset due to NA values')\n",
    "\n",
    "\n",
    "features_clean = features.fillna(0)\n",
    "\n",
    "X = features_clean.iloc[:,3:14]\n",
    "y = features_clean.iloc[:,-1]"
   ]
  },
  {
   "cell_type": "code",
   "execution_count": 4,
   "metadata": {},
   "outputs": [
    {
     "data": {
      "text/html": [
       "<div>\n",
       "<style scoped>\n",
       "    .dataframe tbody tr th:only-of-type {\n",
       "        vertical-align: middle;\n",
       "    }\n",
       "\n",
       "    .dataframe tbody tr th {\n",
       "        vertical-align: top;\n",
       "    }\n",
       "\n",
       "    .dataframe thead th {\n",
       "        text-align: right;\n",
       "    }\n",
       "</style>\n",
       "<table border=\"1\" class=\"dataframe\">\n",
       "  <thead>\n",
       "    <tr style=\"text-align: right;\">\n",
       "      <th></th>\n",
       "      <th>name</th>\n",
       "      <th>start</th>\n",
       "      <th>end</th>\n",
       "      <th>length</th>\n",
       "      <th>bestTSS</th>\n",
       "      <th>bestTSS_inside</th>\n",
       "      <th>mean_gc</th>\n",
       "      <th>mean_remap</th>\n",
       "      <th>cov_me3</th>\n",
       "      <th>cov_tfbs</th>\n",
       "      <th>cov_pol2</th>\n",
       "      <th>mean_pcons27</th>\n",
       "      <th>mean_pPcons27</th>\n",
       "      <th>mean_pPcons124</th>\n",
       "      <th>lncRNA</th>\n",
       "    </tr>\n",
       "  </thead>\n",
       "  <tbody>\n",
       "    <tr>\n",
       "      <th>236199</th>\n",
       "      <td>FBtr0100854</td>\n",
       "      <td>0</td>\n",
       "      <td>65</td>\n",
       "      <td>65</td>\n",
       "      <td>0.0</td>\n",
       "      <td>0.0</td>\n",
       "      <td>0.0000</td>\n",
       "      <td>0.0</td>\n",
       "      <td>0.0</td>\n",
       "      <td>0.000000</td>\n",
       "      <td>0.0</td>\n",
       "      <td>0.0</td>\n",
       "      <td>0.0</td>\n",
       "      <td>0.0</td>\n",
       "      <td>False</td>\n",
       "    </tr>\n",
       "    <tr>\n",
       "      <th>236200</th>\n",
       "      <td>FBtr0100854.1</td>\n",
       "      <td>0</td>\n",
       "      <td>65</td>\n",
       "      <td>65</td>\n",
       "      <td>0.0</td>\n",
       "      <td>0.0</td>\n",
       "      <td>0.0000</td>\n",
       "      <td>0.0</td>\n",
       "      <td>0.0</td>\n",
       "      <td>0.000000</td>\n",
       "      <td>0.0</td>\n",
       "      <td>0.0</td>\n",
       "      <td>0.0</td>\n",
       "      <td>0.0</td>\n",
       "      <td>False</td>\n",
       "    </tr>\n",
       "    <tr>\n",
       "      <th>236201</th>\n",
       "      <td>FBtr0100855</td>\n",
       "      <td>96</td>\n",
       "      <td>165</td>\n",
       "      <td>69</td>\n",
       "      <td>0.0</td>\n",
       "      <td>0.0</td>\n",
       "      <td>0.0000</td>\n",
       "      <td>0.0</td>\n",
       "      <td>0.0</td>\n",
       "      <td>0.000000</td>\n",
       "      <td>0.0</td>\n",
       "      <td>0.0</td>\n",
       "      <td>0.0</td>\n",
       "      <td>0.0</td>\n",
       "      <td>False</td>\n",
       "    </tr>\n",
       "    <tr>\n",
       "      <th>236202</th>\n",
       "      <td>FBtr0100855.1</td>\n",
       "      <td>96</td>\n",
       "      <td>165</td>\n",
       "      <td>69</td>\n",
       "      <td>0.0</td>\n",
       "      <td>0.0</td>\n",
       "      <td>0.0000</td>\n",
       "      <td>0.0</td>\n",
       "      <td>0.0</td>\n",
       "      <td>0.000000</td>\n",
       "      <td>0.0</td>\n",
       "      <td>0.0</td>\n",
       "      <td>0.0</td>\n",
       "      <td>0.0</td>\n",
       "      <td>False</td>\n",
       "    </tr>\n",
       "    <tr>\n",
       "      <th>236203</th>\n",
       "      <td>FBtr0100856</td>\n",
       "      <td>170</td>\n",
       "      <td>239</td>\n",
       "      <td>69</td>\n",
       "      <td>0.0</td>\n",
       "      <td>0.0</td>\n",
       "      <td>0.0000</td>\n",
       "      <td>0.0</td>\n",
       "      <td>0.0</td>\n",
       "      <td>0.000000</td>\n",
       "      <td>0.0</td>\n",
       "      <td>0.0</td>\n",
       "      <td>0.0</td>\n",
       "      <td>0.0</td>\n",
       "      <td>False</td>\n",
       "    </tr>\n",
       "    <tr>\n",
       "      <th>...</th>\n",
       "      <td>...</td>\n",
       "      <td>...</td>\n",
       "      <td>...</td>\n",
       "      <td>...</td>\n",
       "      <td>...</td>\n",
       "      <td>...</td>\n",
       "      <td>...</td>\n",
       "      <td>...</td>\n",
       "      <td>...</td>\n",
       "      <td>...</td>\n",
       "      <td>...</td>\n",
       "      <td>...</td>\n",
       "      <td>...</td>\n",
       "      <td>...</td>\n",
       "      <td>...</td>\n",
       "    </tr>\n",
       "    <tr>\n",
       "      <th>189824</th>\n",
       "      <td>FBti0062173-RA.FlyBase.</td>\n",
       "      <td>32078313</td>\n",
       "      <td>32078882</td>\n",
       "      <td>569</td>\n",
       "      <td>0.0</td>\n",
       "      <td>0.0</td>\n",
       "      <td>46.1160</td>\n",
       "      <td>0.0</td>\n",
       "      <td>0.0</td>\n",
       "      <td>0.949033</td>\n",
       "      <td>0.0</td>\n",
       "      <td>0.0</td>\n",
       "      <td>0.0</td>\n",
       "      <td>0.0</td>\n",
       "      <td>False</td>\n",
       "    </tr>\n",
       "    <tr>\n",
       "      <th>189825</th>\n",
       "      <td>FBti0062189-RA.1.</td>\n",
       "      <td>32078568</td>\n",
       "      <td>32078658</td>\n",
       "      <td>90</td>\n",
       "      <td>0.0</td>\n",
       "      <td>0.0</td>\n",
       "      <td>56.6667</td>\n",
       "      <td>0.0</td>\n",
       "      <td>0.0</td>\n",
       "      <td>0.966667</td>\n",
       "      <td>0.0</td>\n",
       "      <td>0.0</td>\n",
       "      <td>0.0</td>\n",
       "      <td>0.0</td>\n",
       "      <td>False</td>\n",
       "    </tr>\n",
       "    <tr>\n",
       "      <th>189826</th>\n",
       "      <td>FBti0062189-RA.FlyBase.</td>\n",
       "      <td>32078568</td>\n",
       "      <td>32078658</td>\n",
       "      <td>90</td>\n",
       "      <td>0.0</td>\n",
       "      <td>0.0</td>\n",
       "      <td>56.6667</td>\n",
       "      <td>0.0</td>\n",
       "      <td>0.0</td>\n",
       "      <td>0.966667</td>\n",
       "      <td>0.0</td>\n",
       "      <td>0.0</td>\n",
       "      <td>0.0</td>\n",
       "      <td>0.0</td>\n",
       "      <td>False</td>\n",
       "    </tr>\n",
       "    <tr>\n",
       "      <th>189827</th>\n",
       "      <td>FBti0062191-RA.1.</td>\n",
       "      <td>32078882</td>\n",
       "      <td>32078912</td>\n",
       "      <td>30</td>\n",
       "      <td>0.0</td>\n",
       "      <td>0.0</td>\n",
       "      <td>29.3333</td>\n",
       "      <td>0.0</td>\n",
       "      <td>0.0</td>\n",
       "      <td>1.000000</td>\n",
       "      <td>0.0</td>\n",
       "      <td>0.0</td>\n",
       "      <td>0.0</td>\n",
       "      <td>0.0</td>\n",
       "      <td>False</td>\n",
       "    </tr>\n",
       "    <tr>\n",
       "      <th>189828</th>\n",
       "      <td>FBti0062191-RA.FlyBase.</td>\n",
       "      <td>32078882</td>\n",
       "      <td>32078912</td>\n",
       "      <td>30</td>\n",
       "      <td>0.0</td>\n",
       "      <td>0.0</td>\n",
       "      <td>29.3333</td>\n",
       "      <td>0.0</td>\n",
       "      <td>0.0</td>\n",
       "      <td>1.000000</td>\n",
       "      <td>0.0</td>\n",
       "      <td>0.0</td>\n",
       "      <td>0.0</td>\n",
       "      <td>0.0</td>\n",
       "      <td>False</td>\n",
       "    </tr>\n",
       "  </tbody>\n",
       "</table>\n",
       "<p>236275 rows × 15 columns</p>\n",
       "</div>"
      ],
      "text/plain": [
       "                           name     start       end  length  bestTSS  \\\n",
       "236199              FBtr0100854         0        65      65      0.0   \n",
       "236200            FBtr0100854.1         0        65      65      0.0   \n",
       "236201              FBtr0100855        96       165      69      0.0   \n",
       "236202            FBtr0100855.1        96       165      69      0.0   \n",
       "236203              FBtr0100856       170       239      69      0.0   \n",
       "...                         ...       ...       ...     ...      ...   \n",
       "189824  FBti0062173-RA.FlyBase.  32078313  32078882     569      0.0   \n",
       "189825        FBti0062189-RA.1.  32078568  32078658      90      0.0   \n",
       "189826  FBti0062189-RA.FlyBase.  32078568  32078658      90      0.0   \n",
       "189827        FBti0062191-RA.1.  32078882  32078912      30      0.0   \n",
       "189828  FBti0062191-RA.FlyBase.  32078882  32078912      30      0.0   \n",
       "\n",
       "        bestTSS_inside  mean_gc  mean_remap  cov_me3  cov_tfbs  cov_pol2  \\\n",
       "236199             0.0   0.0000         0.0      0.0  0.000000       0.0   \n",
       "236200             0.0   0.0000         0.0      0.0  0.000000       0.0   \n",
       "236201             0.0   0.0000         0.0      0.0  0.000000       0.0   \n",
       "236202             0.0   0.0000         0.0      0.0  0.000000       0.0   \n",
       "236203             0.0   0.0000         0.0      0.0  0.000000       0.0   \n",
       "...                ...      ...         ...      ...       ...       ...   \n",
       "189824             0.0  46.1160         0.0      0.0  0.949033       0.0   \n",
       "189825             0.0  56.6667         0.0      0.0  0.966667       0.0   \n",
       "189826             0.0  56.6667         0.0      0.0  0.966667       0.0   \n",
       "189827             0.0  29.3333         0.0      0.0  1.000000       0.0   \n",
       "189828             0.0  29.3333         0.0      0.0  1.000000       0.0   \n",
       "\n",
       "        mean_pcons27  mean_pPcons27  mean_pPcons124  lncRNA  \n",
       "236199           0.0            0.0             0.0   False  \n",
       "236200           0.0            0.0             0.0   False  \n",
       "236201           0.0            0.0             0.0   False  \n",
       "236202           0.0            0.0             0.0   False  \n",
       "236203           0.0            0.0             0.0   False  \n",
       "...              ...            ...             ...     ...  \n",
       "189824           0.0            0.0             0.0   False  \n",
       "189825           0.0            0.0             0.0   False  \n",
       "189826           0.0            0.0             0.0   False  \n",
       "189827           0.0            0.0             0.0   False  \n",
       "189828           0.0            0.0             0.0   False  \n",
       "\n",
       "[236275 rows x 15 columns]"
      ]
     },
     "execution_count": 4,
     "metadata": {},
     "output_type": "execute_result"
    }
   ],
   "source": [
    "features_clean"
   ]
  },
  {
   "cell_type": "markdown",
   "metadata": {},
   "source": [
    "## Finding best parameters for the Random Forest Classifier"
   ]
  },
  {
   "cell_type": "code",
   "execution_count": null,
   "metadata": {},
   "outputs": [],
   "source": [
    "rf = RandomForestClassifier(random_state=15)\n",
    "param_grid = {\n",
    "    'n_estimators' : [10, 25, 50, 100],\n",
    "    'max_depth' : [3, 5, 7, 9],\n",
    "    'min_samples_split' : [2, 4, 6, 8, 10],\n",
    "    'min_samples_leaf' : [1, 2, 5, 10]\n",
    "}\n",
    "scoring = {\n",
    "    'MSE': make_scorer(mean_squared_error),\n",
    "    'AUC': 'roc_auc',\n",
    "    'Accuracy': make_scorer(accuracy_score), \n",
    "    'Precision': make_scorer(precision_score)}\n",
    "gs = GridSearchCV(rf, param_grid, verbose=3, n_jobs=-1, scoring=\"precision_macro\")\n",
    "gs.fit(X, y)"
   ]
  },
  {
   "cell_type": "code",
   "execution_count": null,
   "metadata": {},
   "outputs": [],
   "source": [
    "results = gs.cv_results_\n",
    "gs.best_estimator_"
   ]
  },
  {
   "cell_type": "code",
   "execution_count": 5,
   "metadata": {},
   "outputs": [
    {
     "data": {
      "text/plain": [
       "((177206, 11), (59069, 11), (177206,), (59069,))"
      ]
     },
     "execution_count": 5,
     "metadata": {},
     "output_type": "execute_result"
    }
   ],
   "source": [
    "rf_best = RandomForestClassifier(n_jobs=-1)\n",
    "\n",
    "from sklearn.model_selection import train_test_split\n",
    "Xtr, Xts, Ytr, Yts = train_test_split(X, y, random_state=15)\n",
    "Xtr.shape, Xts.shape, Ytr.shape, Yts.shape"
   ]
  },
  {
   "cell_type": "code",
   "execution_count": 6,
   "metadata": {},
   "outputs": [
    {
     "name": "stdout",
     "output_type": "stream",
     "text": [
      "0.9833076571467267\n",
      "0.9261744966442953\n",
      "0.5514485514485514\n",
      "0.691296180338134\n",
      "0.7749532521905347\n"
     ]
    }
   ],
   "source": [
    "rf_best.fit(Xtr, Ytr)\n",
    "Ypr = rf_best.predict(Xts)\n",
    "print(accuracy_score(Yts, Ypr))\n",
    "print(precision_score(Yts, Ypr))\n",
    "print(recall_score(Yts, Ypr))\n",
    "print(f1_score(Yts, Ypr))\n",
    "print(roc_auc_score(Yts, Ypr))"
   ]
  },
  {
   "cell_type": "code",
   "execution_count": 16,
   "metadata": {},
   "outputs": [
    {
     "data": {
      "image/png": "[encoded data removed]",
      "text/plain": [
       "<Figure size 432x288 with 1 Axes>"
      ]
     },
     "metadata": {
      "needs_background": "light"
     },
     "output_type": "display_data"
    }
   ],
   "source": [
    "X=X.values\n",
    "y=y.values\n",
    "cv = KFold(n_splits=5)\n",
    "tprs = []\n",
    "aucs = []\n",
    "mean_fpr = np.linspace(0, 1, 100)\n",
    "\n",
    "fig, ax = plt.subplots()\n",
    "for i, (train, test) in enumerate(cv.split(X, y)):\n",
    "    rf_best.fit(X[train], y[train])\n",
    "    viz = RocCurveDisplay.from_estimator(\n",
    "        rf_best,\n",
    "        X[test],\n",
    "        y[test],\n",
    "        name=\"ROC fold {}\".format(i),\n",
    "        alpha=0.3,\n",
    "        lw=1,\n",
    "        ax=ax,\n",
    "    )\n",
    "    interp_tpr = np.interp(mean_fpr, viz.fpr, viz.tpr)\n",
    "    interp_tpr[0] = 0.0\n",
    "    tprs.append(interp_tpr)\n",
    "    aucs.append(viz.roc_auc)\n",
    "\n",
    "ax.plot([0, 1], [0, 1], linestyle=\"--\", lw=2, color=\"r\", label=\"Chance\", alpha=0.8)\n",
    "\n",
    "mean_tpr = np.mean(tprs, axis=0)\n",
    "mean_tpr[-1] = 1.0\n",
    "mean_auc = auc(mean_fpr, mean_tpr)\n",
    "std_auc = np.std(aucs)\n",
    "ax.plot(\n",
    "    mean_fpr,\n",
    "    mean_tpr,\n",
    "    color=\"b\",\n",
    "    label=r\"Mean ROC (AUC = %0.2f $\\pm$ %0.2f)\" % (mean_auc, std_auc),\n",
    "    lw=2,\n",
    "    alpha=0.8,\n",
    ")\n",
    "\n",
    "std_tpr = np.std(tprs, axis=0)\n",
    "tprs_upper = np.minimum(mean_tpr + std_tpr, 1)\n",
    "tprs_lower = np.maximum(mean_tpr - std_tpr, 0)\n",
    "ax.fill_between(\n",
    "    mean_fpr,\n",
    "    tprs_lower,\n",
    "    tprs_upper,\n",
    "    color=\"grey\",\n",
    "    alpha=0.2,\n",
    "    label=r\"$\\pm$ 1 std. dev.\",\n",
    ")\n",
    "\n",
    "ax.set(\n",
    "    xlim=[-0.05, 1.05],\n",
    "    ylim=[-0.05, 1.05],\n",
    "    title=\"Receiver operating characteristic\",\n",
    ")\n",
    "ax.legend(loc=\"lower right\")\n",
    "plt.show()"
   ]
  },
  {
   "cell_type": "code",
   "execution_count": 17,
   "metadata": {},
   "outputs": [
    {
     "data": {
      "text/plain": [
       "mean_pPcons124    0.138659\n",
       "mean_pPcons27     0.120070\n",
       "mean_pcons27      0.106028\n",
       "length            0.102929\n",
       "bestTSS           0.100222\n",
       "mean_remap        0.098490\n",
       "mean_gc           0.097032\n",
       "bestTSS_inside    0.091886\n",
       "cov_tfbs          0.074771\n",
       "cov_pol2          0.054885\n",
       "cov_me3           0.015028\n",
       "dtype: float64"
      ]
     },
     "execution_count": 17,
     "metadata": {},
     "output_type": "execute_result"
    }
   ],
   "source": [
    "X = features_clean.iloc[:,3:14]\n",
    "y = features_clean.iloc[:,-1]\n",
    "ft_imp = pd.Series(rf_best.feature_importances_, index=features_clean.iloc[:,3:14].columns).sort_values(ascending=False)\n",
    "ft_imp"
   ]
  },
  {
   "cell_type": "markdown",
   "metadata": {},
   "source": [
    "## Exported Model without 'cov_me3' and 'pPcons27'\n",
    "pPcons27 & pPcons124 are highly correlated, so I am discarding pPcons27 since I have another algorythm for 27 insect conservation pcons27. Alhtough it is highly correlated with pPcons124, it is less than pPcons27.\n",
    "I am also dropping cov_me3 since it doesn't help in the outcome of the classifier.\n",
    "This was done for simplicity, I have to remember to remove these querys from the get-feature.sh script"
   ]
  },
  {
   "cell_type": "code",
   "execution_count": 22,
   "metadata": {},
   "outputs": [],
   "source": [
    "kf = KFold(n_splits=5, shuffle=True, random_state=15)\n",
    "\n",
    "def score_rf_model(X, y, kf):\n",
    "    accuracy_scores = []\n",
    "    precision_scores = []\n",
    "    recall_scores = []\n",
    "    f1_scores = []\n",
    "    for train_index, test_index in kf.split(X):\n",
    "        X_train, X_test = X.iloc[train_index], X.iloc[test_index]\n",
    "        y_train, y_test = y.iloc[train_index], y.iloc[test_index]\n",
    "        rf.fit(X_train, y_train)\n",
    "        y_pred = rf.predict(X_test)\n",
    "\n",
    "        accuracy_scores.append(accuracy_score(y_test, y_pred))\n",
    "        precision_scores.append(precision_score(y_test, y_pred))\n",
    "        recall_scores.append(recall_score(y_test, y_pred))\n",
    "        f1_scores.append(f1_score(y_test, y_pred))\n",
    "\n",
    "    print(\"accuracy:\", np.mean(accuracy_scores))\n",
    "    print(\"precision:\", np.mean(precision_scores))\n",
    "    print(\"recall:\", np.mean(recall_scores))\n",
    "    print(\"f1:\", np.mean(f1_scores))"
   ]
  },
  {
   "cell_type": "code",
   "execution_count": 23,
   "metadata": {},
   "outputs": [
    {
     "name": "stdout",
     "output_type": "stream",
     "text": [
      "accuracy: 0.9846534758226643\n",
      "precision: 0.925872066256367\n",
      "recall: 0.5729845397299758\n",
      "f1: 0.7078655445994502\n"
     ]
    }
   ],
   "source": [
    "X_best_ft = features_clean[[\"length\", \"bestTSS\", \"bestTSS_inside\", \"mean_gc\", \"mean_remap\", \"cov_tfbs\", \"cov_pol2\", \"mean_pcons27\", \"mean_pPcons124\"]]\n",
    "rf = RandomForestClassifier(n_jobs=-1)\n",
    "rf.fit(X_best_ft, y)\n",
    "score_rf_model(X_best_ft, y, kf)"
   ]
  },
  {
   "cell_type": "code",
   "execution_count": null,
   "metadata": {},
   "outputs": [
    {
     "name": "stdout",
     "output_type": "stream",
     "text": [
      "accuracy: 0.9845857581208337\n",
      "precision: 0.9252760291171345\n",
      "recall: 0.5711319770350751\n",
      "f1: 0.7062841669087565\n"
     ]
    }
   ],
   "source": [
    "X_best_ft_arr = features_clean[[\"length\", \"bestTSS\", \"bestTSS_inside\", \"mean_gc\", \"mean_remap\", \"cov_tfbs\", \"cov_pol2\", \"mean_pcons27\", \"mean_pPcons124\"]].values\n",
    "y_arr=y.values\n",
    "\n",
    "rf = RandomForestClassifier(n_jobs=-1)\n",
    "rf.fit(X_best_ft_arr, y_arr)\n",
    "score_rf_model(X_best_ft_arr, y_arr, kf)"
   ]
  },
  {
   "cell_type": "markdown",
   "metadata": {},
   "source": [
    "### The previous cells show that there is no difference in using .values or pandas df \n",
    "(Probably because of the update to v1.X.X of sklearn. I was using version 0.24 before)"
   ]
  },
  {
   "cell_type": "code",
   "execution_count": 28,
   "metadata": {},
   "outputs": [
    {
     "name": "stdout",
     "output_type": "stream",
     "text": [
      "accuracy: 0.984556131626283\n",
      "precision: 0.9251714011747614\n",
      "recall: 0.5701704287028233\n",
      "f1: 0.7055170123102581\n"
     ]
    }
   ],
   "source": [
    "rf_final = RandomForestClassifier(n_jobs=-1)\n",
    "rf_final.fit(X_best_ft, y)\n",
    "score_rf_model(X_best_ft, y, kf)"
   ]
  },
  {
   "cell_type": "markdown",
   "metadata": {},
   "source": [
    "### Final shape of X features:"
   ]
  },
  {
   "cell_type": "code",
   "execution_count": 29,
   "metadata": {},
   "outputs": [
    {
     "data": {
      "text/plain": [
       "Index(['length', 'bestTSS', 'bestTSS_inside', 'mean_gc', 'mean_remap',\n",
       "       'cov_tfbs', 'cov_pol2', 'mean_pcons27', 'mean_pPcons124'],\n",
       "      dtype='object')"
      ]
     },
     "execution_count": 29,
     "metadata": {},
     "output_type": "execute_result"
    }
   ],
   "source": [
    "X_best_ft.columns"
   ]
  },
  {
   "cell_type": "markdown",
   "metadata": {},
   "source": [
    "### Final model metrics"
   ]
  },
  {
   "cell_type": "code",
   "execution_count": 72,
   "metadata": {},
   "outputs": [],
   "source": [
    "def score_model(X, y, model, splits):\n",
    "    kf = KFold(n_splits=splits, shuffle=True, random_state=15)\n",
    "    accuracy_scores = []\n",
    "    precision_scores = []\n",
    "    recall_scores = []\n",
    "    f1_scores = []\n",
    "    tn = []\n",
    "    fp = []\n",
    "    fn = []\n",
    "    tp = []\n",
    "\n",
    "    for train_index, test_index in kf.split(X):\n",
    "        X_train, X_test = X.iloc[train_index], X.iloc[test_index]\n",
    "        y_train, y_test = y.iloc[train_index], y.iloc[test_index]\n",
    "        model.fit(X_train, y_train)\n",
    "        y_pred = model.predict(X_test)\n",
    "        y_pred_prob = model.predict_proba(X_test)\n",
    "\n",
    "        # Compute standard scores and append\n",
    "        accuracy_scores.append(accuracy_score(y_test, y_pred))\n",
    "        precision_scores.append(precision_score(y_test, y_pred))\n",
    "        recall_scores.append(recall_score(y_test, y_pred))\n",
    "        f1_scores.append(f1_score(y_test, y_pred))\n",
    "        \n",
    "        # Compute confusion matrix and append\n",
    "        cm = confusion_matrix(y_test, y_pred)\n",
    "        tn.append(cm.ravel()[0]) \n",
    "        fp.append(cm.ravel()[1])\n",
    "        fn.append(cm.ravel()[2])\n",
    "        tp.append(cm.ravel()[3])\n",
    "\n",
    "    # Average standard metrics\n",
    "    avg_accuracy = np.mean(accuracy_scores)\n",
    "    avg_precision = np.mean(precision_scores)\n",
    "    avg_recall = np.mean(recall_scores)\n",
    "    avg_f1 = np.mean(f1_scores)\n",
    "    \n",
    "    print(\"accuracy:\", round(avg_accuracy, ndigits=3))\n",
    "    print(\"precision:\", round(avg_precision, ndigits=3))\n",
    "    print(\"recall:\", round(avg_recall, ndigits=3))\n",
    "    print(\"f1:\", round(avg_f1, ndigits=3))\n",
    "\n",
    "    sc = {\n",
    "        'accuracy' : accuracy_scores,\n",
    "        'precision' : precision_scores,\n",
    "        'recall' : recall_scores,\n",
    "        'f1' : f1_scores,\n",
    "    }\n",
    "\n",
    "    scores = pd.DataFrame(data=sc)\n",
    "    \n",
    "    plt.boxplot(scores, labels=scores.columns)\n",
    "    \n",
    "    # Average confusion matrix\n",
    "    avg_cm = np.array([[np.mean(tn), np.mean(fp)], [np.mean(fn), np.mean(tp)]], dtype=int)\n",
    "    ConfusionMatrixDisplay(avg_cm).plot()\n",
    "\n",
    "    return(y_pred, y_pred_prob)"
   ]
  },
  {
   "cell_type": "code",
   "execution_count": 57,
   "metadata": {},
   "outputs": [
    {
     "data": {
      "text/plain": [
       "RandomForestClassifier(n_jobs=-1)"
      ]
     },
     "execution_count": 57,
     "metadata": {},
     "output_type": "execute_result"
    }
   ],
   "source": [
    "rf_final = RandomForestClassifier(n_jobs=-1)\n",
    "rf_final.fit(X_best_ft, y)"
   ]
  },
  {
   "cell_type": "code",
   "execution_count": 73,
   "metadata": {},
   "outputs": [
    {
     "name": "stdout",
     "output_type": "stream",
     "text": [
      "accuracy: 0.985\n",
      "precision: 0.922\n",
      "recall: 0.571\n",
      "f1: 0.706\n"
     ]
    },
    {
     "data": {
      "text/plain": [
       "(array([False, False, False, ..., False, False, False]),\n",
       " array([[1.  , 0.  ],\n",
       "        [0.93, 0.07],\n",
       "        [1.  , 0.  ],\n",
       "        ...,\n",
       "        [1.  , 0.  ],\n",
       "        [1.  , 0.  ],\n",
       "        [1.  , 0.  ]]))"
      ]
     },
     "execution_count": 73,
     "metadata": {},
     "output_type": "execute_result"
    },
    {
     "data": {
      "image/png": "[encoded data removed]",
      "text/plain": [
       "<Figure size 432x288 with 1 Axes>"
      ]
     },
     "metadata": {
      "needs_background": "light"
     },
     "output_type": "display_data"
    },
    {
     "data": {
      "image/png": "[encoded data removed]",
      "text/plain": [
       "<Figure size 432x288 with 2 Axes>"
      ]
     },
     "metadata": {
      "needs_background": "light"
     },
     "output_type": "display_data"
    }
   ],
   "source": [
    "score_model(X_best_ft, y, rf_final, 5)"
   ]
  },
  {
   "cell_type": "markdown",
   "metadata": {},
   "source": [
    "### Curve functions:"
   ]
  },
  {
   "cell_type": "code",
   "execution_count": 59,
   "metadata": {},
   "outputs": [],
   "source": [
    "def draw_cv_roc_curve(classifier, cv, X, y, title='ROC Curve'):\n",
    "    \"\"\"\n",
    "    Draw a Cross Validated ROC Curve.\n",
    "    Args:\n",
    "        classifier: Classifier Object\n",
    "        cv: StratifiedKFold Object: (https://stats.stackexchange.com/questions/49540/understanding-stratified-cross-validation)\n",
    "        X: Feature Pandas DataFrame\n",
    "        y: Response Pandas Series\n",
    "    Example largely taken from http://scikit-learn.org/stable/auto_examples/model_selection/plot_roc_crossval.html#sphx-glr-auto-examples-model-selection-plot-roc-crossval-py\n",
    "    \"\"\"\n",
    "    # Creating ROC Curve with Cross Validation\n",
    "    tprs = []\n",
    "    aucs = []\n",
    "    mean_fpr = np.linspace(0, 1, 100)\n",
    "\n",
    "    i = 0\n",
    "    for train, test in cv.split(X, y):\n",
    "        probas_ = classifier.fit(X.iloc[train], y.iloc[train]).predict_proba(X.iloc[test])\n",
    "        # Compute ROC curve and area the curve\n",
    "        fpr, tpr, thresholds = roc_curve(y.iloc[test], probas_[:, 1])\n",
    "        tprs.append(interp(mean_fpr, fpr, tpr))\n",
    "        \n",
    "        tprs[-1][0] = 0.0\n",
    "        roc_auc = auc(fpr, tpr)\n",
    "        aucs.append(roc_auc)\n",
    "        plt.plot(fpr, tpr, lw=1, alpha=0.3,\n",
    "                 label='ROC fold %d (AUC = %0.2f)' % (i, roc_auc))\n",
    "\n",
    "        i += 1\n",
    "    plt.plot([0, 1], [0, 1], linestyle='--', lw=2, color='r',\n",
    "             label='Luck', alpha=.8)\n",
    "    \n",
    "    mean_tpr = np.mean(tprs, axis=0)\n",
    "    mean_tpr[-1] = 1.0\n",
    "    mean_auc = auc(mean_fpr, mean_tpr)\n",
    "    std_auc = np.std(aucs)\n",
    "    plt.plot(mean_fpr, mean_tpr, color='b',\n",
    "             label=r'Mean ROC (AUC = %0.2f $\\pm$ %0.2f)' % (mean_auc, std_auc),\n",
    "             lw=2, alpha=.8)\n",
    "\n",
    "    std_tpr = np.std(tprs, axis=0)\n",
    "    tprs_upper = np.minimum(mean_tpr + std_tpr, 1)\n",
    "    tprs_lower = np.maximum(mean_tpr - std_tpr, 0)\n",
    "    plt.fill_between(mean_fpr, tprs_lower, tprs_upper, color='grey', alpha=.2,\n",
    "                     label=r'$\\pm$ 1 std. dev.')\n",
    "\n",
    "    plt.xlim([-0.05, 1.05])\n",
    "    plt.ylim([-0.05, 1.05])\n",
    "    plt.xlabel('False Positive Rate')\n",
    "    plt.ylabel('True Positive Rate')\n",
    "    plt.title(title)\n",
    "    plt.legend(loc=\"lower right\")\n",
    "    plt.show()\n",
    "\n",
    "\n",
    "def draw_cv_pr_curve(classifier, cv, X, y, title='PR Curve'):\n",
    "    \"\"\"\n",
    "    Draw a Cross Validated PR Curve.\n",
    "    Keyword Args:\n",
    "        classifier: Classifier Object\n",
    "        cv: StratifiedKFold Object: (https://stats.stackexchange.com/questions/49540/understanding-stratified-cross-validation)\n",
    "        X: Feature Pandas DataFrame\n",
    "        y: Response Pandas Series\n",
    "        \n",
    "    Largely taken from: https://stackoverflow.com/questions/29656550/how-to-plot-pr-curve-over-10-folds-of-cross-validation-in-scikit-learn\n",
    "    \"\"\"\n",
    "    y_real = []\n",
    "    y_proba = []\n",
    "\n",
    "    i = 0\n",
    "    for train, test in cv.split(X, y):\n",
    "        probas_ = classifier.fit(X.iloc[train], y.iloc[train]).predict_proba(X.iloc[test])\n",
    "        # Compute ROC curve and area the curve\n",
    "        precision, recall, _ = precision_recall_curve(y.iloc[test], probas_[:, 1])\n",
    "        \n",
    "        # Plotting each individual PR Curve\n",
    "        plt.plot(recall, precision, lw=1, alpha=0.3,\n",
    "                 label='PR fold %d (AUC = %0.2f)' % (i, average_precision_score(y.iloc[test], probas_[:, 1])))\n",
    "        \n",
    "        y_real.append(y.iloc[test])\n",
    "        y_proba.append(probas_[:, 1])\n",
    "\n",
    "        i += 1\n",
    "    \n",
    "    y_real = np.concatenate(y_real)\n",
    "    y_proba = np.concatenate(y_proba)\n",
    "    \n",
    "    precision, recall, _ = precision_recall_curve(y_real, y_proba)\n",
    "\n",
    "    plt.plot(recall, precision, color='b',\n",
    "             label=r'Precision-Recall (AUC = %0.2f)' % (average_precision_score(y_real, y_proba)),\n",
    "             lw=2, alpha=.8)\n",
    "\n",
    "    plt.xlim([-0.05, 1.05])\n",
    "    plt.ylim([-0.05, 1.05])\n",
    "    plt.xlabel('Recall')\n",
    "    plt.ylabel('Precision')\n",
    "    plt.title(title)\n",
    "    plt.legend(loc=\"lower right\")\n",
    "    plt.show()"
   ]
  },
  {
   "cell_type": "code",
   "execution_count": 68,
   "metadata": {},
   "outputs": [
    {
     "data": {
      "image/png": "[encoded data removed]",
      "text/plain": [
       "<Figure size 432x288 with 1 Axes>"
      ]
     },
     "metadata": {
      "needs_background": "light"
     },
     "output_type": "display_data"
    }
   ],
   "source": [
    "cv = KFold(n_splits=5, shuffle=True, random_state=15)\n",
    "draw_cv_roc_curve(rf_final, cv, X_best_ft, y)"
   ]
  },
  {
   "cell_type": "code",
   "execution_count": 69,
   "metadata": {},
   "outputs": [
    {
     "data": {
      "image/png": "[encoded data removed]",
      "text/plain": [
       "<Figure size 432x288 with 1 Axes>"
      ]
     },
     "metadata": {
      "needs_background": "light"
     },
     "output_type": "display_data"
    }
   ],
   "source": [
    "cv = KFold(n_splits=5, shuffle=True, random_state=15)\n",
    "draw_cv_pr_curve(rf_final, cv, X_best_ft, y)"
   ]
  },
  {
   "cell_type": "code",
   "execution_count": 74,
   "metadata": {},
   "outputs": [],
   "source": [
    "modelname = 'rf_dm6_lncrna_classifier.sav'\n",
    "pickle.dump(rf_final, open(modelname, 'wb'))"
   ]
  }
 ],
 "metadata": {
  "interpreter": {
   "hash": "916dbcbb3f70747c44a77c7bcd40155683ae19c65e1c03b4aa3499c5328201f1"
  },
  "kernelspec": {
   "display_name": "Python 3.8.10 64-bit",
   "name": "python3"
  },
  "language_info": {
   "codemirror_mode": {
    "name": "ipython",
    "version": 3
   },
   "file_extension": ".py",
   "mimetype": "text/x-python",
   "name": "python",
   "nbconvert_exporter": "python",
   "pygments_lexer": "ipython3",
   "version": "3.10.4"
  },
  "orig_nbformat": 4
 },
 "nbformat": 4,
 "nbformat_minor": 2
}
